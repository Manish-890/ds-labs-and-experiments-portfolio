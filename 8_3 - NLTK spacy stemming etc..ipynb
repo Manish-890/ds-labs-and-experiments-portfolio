{
 "cells": [
  {
   "cell_type": "markdown",
   "metadata": {
    "id": "XXUiceLiLNOv"
   },
   "source": [
    "<div>\n",
    "<img src=https://www.institutedata.com/wp-content/uploads/2019/10/iod_h_tp_primary_c.svg width=\"300\">\n",
    "</div>"
   ]
  },
  {
   "cell_type": "markdown",
   "metadata": {
    "id": "SmJwFqq5LNOx"
   },
   "source": [
    "#  8.3: Working with Text\n",
    "- Using [NLTK](http://www.nltk.org) (Natural Language Toolkit)\n",
    "- Using [spaCy](https://spacy.io)\n",
    "\n",
    "INSTRUCTIONS:\n",
    "- Run the cells\n",
    "- Observe and understand the results\n",
    "- Answer the questions"
   ]
  },
  {
   "cell_type": "markdown",
   "metadata": {
    "id": "I83eiiJqLNO0"
   },
   "source": [
    "## Import libraries"
   ]
  },
  {
   "cell_type": "code",
   "execution_count": 22,
   "metadata": {
    "ExecuteTime": {
     "end_time": "2019-06-17T01:17:23.125143Z",
     "start_time": "2019-06-17T01:17:20.625946Z"
    },
    "id": "-ecJn_1MLNO4"
   },
   "outputs": [],
   "source": [
    "## Import Libraries\n",
    "%matplotlib inline\n",
    "import matplotlib.pyplot as plt\n",
    "from collections import Counter\n",
    "\n",
    "import regex as re\n",
    "import spacy\n",
    "\n",
    "import nltk"
   ]
  },
  {
   "cell_type": "markdown",
   "metadata": {
    "id": "OsSgzr8MLNO9"
   },
   "source": [
    "## Load data"
   ]
  },
  {
   "cell_type": "code",
   "execution_count": 5,
   "metadata": {
    "ExecuteTime": {
     "end_time": "2019-06-17T01:17:24.800475Z",
     "start_time": "2019-06-17T01:17:24.784516Z"
    },
    "id": "HvyU9ZbtLNPA"
   },
   "outputs": [],
   "source": [
    "## Loading the data\n",
    "\n",
    "input_file = 'ncc-1701-D.txt'\n",
    "\n",
    "with open(input_file, 'r') as f:\n",
    "    text = f.read()"
   ]
  },
  {
   "cell_type": "markdown",
   "metadata": {
    "id": "KF9gBdpALNPE"
   },
   "source": [
    "## Inspect the data"
   ]
  },
  {
   "cell_type": "code",
   "execution_count": 6,
   "metadata": {
    "ExecuteTime": {
     "end_time": "2019-06-17T01:17:28.662206Z",
     "start_time": "2019-06-17T01:17:28.656190Z"
    },
    "id": "-JImxUzrLNPG",
    "outputId": "13ce31ea-531e-4abd-8f21-c726df89bb21",
    "scrolled": true
   },
   "outputs": [
    {
     "name": "stdout",
     "output_type": "stream",
     "text": [
      "USS Enterprise (NCC-1701-D)\n",
      "\n",
      "\"For five hundred years, every ship that has borne the name of the Enterprise has become a legend. This one is no different.\"\n",
      "\n",
      "The USS Enterprise (NCC-1701-D) was a 24th century United Federation of Planets Galaxy Class starship operated by Starfleet, and the fifth Federation ship to bear the name Enterprise. During her career, the Enterprise served as the Federation flagship. The Enterprise was destroyed during the Battle of Veridian III in 2371.\n",
      "\n",
      "==History==\n",
      "===Construction and launch===\n",
      "The Enterprise was built at Utopia Planitia Fleet Yards orbiting Mars in the Solar system. The construction was a massive undertaking, involving thousands of people across disciplines. Construction was supervised by Commander Orfil Quinteros. Dr. Leah Brahms was responsible for much of the Enterprise's warp propulsion system design. Some of the Enterprise's components were derived from technology originally developed on the USS Pegasus.\n",
      "\n",
      "One of the ship's nacelle tube was\n"
     ]
    }
   ],
   "source": [
    "print(text[:1000])"
   ]
  },
  {
   "cell_type": "markdown",
   "metadata": {
    "id": "H5ePf_5bLNPK"
   },
   "source": [
    "## Work the data\n",
    "- if necessary or desired\n",
    "    - remove text or content, e.g. quotes (\") or metadata (===)\n",
    "    - add content or markers, e.g. (#FLAG, --NAME--)\n",
    "    - remove or convert special symbols, e.g. \"é\" to \"e\"\n",
    "    - remove or convert emoticons"
   ]
  },
  {
   "cell_type": "code",
   "execution_count": 7,
   "metadata": {
    "ExecuteTime": {
     "end_time": "2019-06-17T01:18:07.223561Z",
     "start_time": "2019-06-17T01:18:07.219572Z"
    },
    "id": "BRq7VfoOLNPM"
   },
   "outputs": [
    {
     "name": "stdout",
     "output_type": "stream",
     "text": [
      "USS Enterprise (NCC-1701-D)\n",
      "\n",
      "The USS Enterprise (NCC-1701-D) was a 24th century United Federation of Planets Galaxy Class starship operated by Starfleet, and the fifth Federation ship to bear the name Enterprise. During her career, the Enterprise served as the Federation flagship. The Enterprise was destroyed during the Battle of Veridian III in 2371.\n",
      "\n",
      "==History==\n",
      "Construction and launch\n",
      "The Enterprise was built at Utopia Planitia Fleet Yards orbiting Mars in the Solar system. The construction was a massive undertaking, involving thousands of people across disciplines. Construction was supervised by Commander Orfil Quinteros. Dr. Leah Brahms was responsible for much of the Enterprise's warp propulsion system design. Some of the Enterprise's components were derived from technology originally developed on the USS Pegasus.\n",
      "\n",
      "One of the ship's nacelle tube was the site of a multiple murder-suicide while she was still under construction at Utopia Planitia. A member of the construction team, Walter Pierce, became jealous of a former lover's new relationship. He killed the two officers, Marla Finn and William Hodges, then disposed of their bodies in the plasma stream. Pierce committed suicide in the same manner, leaving a telepathic imprint in a bulkhead that was not discovered until 2370.\n",
      "\n",
      "On stardate 40759.5, in the year 2363, the Enterprise was launched from Mars. On stardate 41025.5, the Enterprise was commissioned.\n",
      "\n",
      "These stardates weren't mentioned in dialog; they were from the Enterprise dedication plaque.\n",
      "\n",
      "Final systems completion and shakedown was conducted at Earth Station McKinley. Captain Jean-Luc Picard took command of the ship on stardate 41148 at the order of Rear Admiral Norah Satie.\n",
      "\n",
      "Legacy\n",
      "Commander Riker was upset over the loss of the Enterprise. Having hoped he would one day command the ship, he was disappointed that he never got that opportunity. However, Picard expressed doubt that the Enterprise-D would be the last vessel to carry the name.\n",
      "\n",
      "The Enterprise was so dear to Worf that, shortly after being reassigned to Deep Space 9 in 2372, he briefly considered resigning from Starfleet. Station commander Captain Benjamin Sisko expressed regret on the loss of the Enterprise and offered his condolences over the destruction of the ship to Worf, saying the Enterprise \n",
      "\n",
      "Captain Picard's belief that the Enterprise-D would not be the final ship to bear the name was borne out with the christening of the Class Sovereign USS Enterprise NCC-1701-E, later the same year. In that instance, the legacy of the Enterprise continued with Picard reprising his role as CO and selecting most of the former crew from the Enterprise-D, with the notable exception of Worf due to his most recent assignment to DS9 (though he temporarily joined the Enterprise-E crew on several of their more notable missions).\n"
     ]
    }
   ],
   "source": [
    "# ANSWER\n",
    "# Remove quotes (\")\n",
    "text = re.sub(r'\"(.*?)\"', '', text)\n",
    "\n",
    "# Remove metadata (===)\n",
    "text = re.sub(r'===', '', text)\n",
    "\n",
    "# Remove special symbols (é)\n",
    "text = re.sub(r'é', 'e', text)\n",
    "\n",
    "# Remove emoticons\n",
    "text = re.sub(r'\\([^\\w\\s]\\)', '', text)\n",
    "\n",
    "# Remove extra blank lines\n",
    "text = re.sub(r'\\n\\n+', '\\n\\n', text)\n",
    "\n",
    "print(text)"
   ]
  },
  {
   "cell_type": "markdown",
   "metadata": {
    "id": "xMG9Yim0LNPP"
   },
   "source": [
    "## Helper method"
   ]
  },
  {
   "cell_type": "code",
   "execution_count": 8,
   "metadata": {
    "ExecuteTime": {
     "end_time": "2019-06-17T01:18:44.351070Z",
     "start_time": "2019-06-17T01:18:44.330126Z"
    },
    "id": "3oIPRH3gLNPQ"
   },
   "outputs": [],
   "source": [
    "# create a bar chart of the frequency of the words in the text\n",
    "def plot_words(tokens, top = 30):\n",
    "    tokens_counter = Counter(tokens)\n",
    "    tok = [t for (t, _) in tokens_counter.most_common()]\n",
    "    val = [v for (_, v) in tokens_counter.most_common()]\n",
    "\n",
    "    plt.figure(figsize = (16, 6))\n",
    "    plt.bar(tok[:top], val[:top])\n",
    "    plt.title('Number of terms: %d' % len(tokens_counter))\n",
    "    plt.xticks(rotation = 90)\n",
    "\n",
    "    plt.show()"
   ]
  },
  {
   "cell_type": "markdown",
   "metadata": {
    "id": "U1FsFC6yLNPS"
   },
   "source": [
    "## spaCy model invocation and text processing\n",
    "spaCy does the processing of the text as part of the reading of the data."
   ]
  },
  {
   "cell_type": "code",
   "execution_count": 11,
   "metadata": {
    "ExecuteTime": {
     "end_time": "2019-06-17T01:18:18.119766Z",
     "start_time": "2019-06-17T01:18:16.984471Z"
    },
    "id": "JgM48u-dLNPU"
   },
   "outputs": [],
   "source": [
    "# load spaCy and the English model\n",
    "nlp = spacy.load('en_core_web_sm')\n",
    "\n",
    "# process the text\n",
    "doc = nlp(text)"
   ]
  },
  {
   "cell_type": "markdown",
   "metadata": {
    "id": "z8--KeYzLNPW"
   },
   "source": [
    "## Tokenise"
   ]
  },
  {
   "cell_type": "code",
   "execution_count": 12,
   "metadata": {
    "ExecuteTime": {
     "end_time": "2019-06-17T01:18:58.447329Z",
     "start_time": "2019-06-17T01:18:58.401479Z"
    },
    "id": "-7lVWo5DLNPe",
    "outputId": "b679dc9c-f19f-4ad2-fdbd-9b6755c17bae"
   },
   "outputs": [
    {
     "name": "stdout",
     "output_type": "stream",
     "text": [
      " 1| 'USS'\n",
      " 2| 'Enterprise'\n",
      " 3| '('\n",
      " 4| 'NCC-1701'\n",
      " 5| '-'\n",
      " 6| 'D'\n",
      " 7| ')'\n",
      " 8| '\\n\\n'\n",
      " 9| 'The'\n",
      "10| 'USS'\n",
      "11| 'Enterprise'\n",
      "12| '('\n",
      "13| 'NCC-1701'\n",
      "14| '-'\n",
      "15| 'D'\n",
      "16| ')'\n",
      "17| 'was'\n",
      "18| 'a'\n",
      "19| '24th'\n",
      "20| 'century'\n",
      "21| 'United'\n",
      "22| 'Federation'\n",
      "23| 'of'\n",
      "24| 'Planets'\n",
      "25| 'Galaxy'\n",
      "26| 'Class'\n",
      "27| 'starship'\n",
      "28| 'operated'\n",
      "29| 'by'\n",
      "30| 'Starfleet'\n",
      "31| ','\n",
      "32| 'and'\n",
      "33| 'the'\n",
      "34| 'fifth'\n",
      "35| 'Federation'\n",
      "36| 'ship'\n",
      "37| 'to'\n",
      "38| 'bear'\n",
      "39| 'the'\n",
      "40| 'name'\n",
      "41| 'Enterprise'\n",
      "42| '.'\n"
     ]
    }
   ],
   "source": [
    "# only show the results\n",
    "# spaCy has done it already\n",
    "for i, t in enumerate(doc):\n",
    "    print('%2d| %r' % (i+1, t.text))\n",
    "    if t.text == '.':\n",
    "        break"
   ]
  },
  {
   "cell_type": "code",
   "execution_count": null,
   "metadata": {
    "ExecuteTime": {
     "end_time": "2019-06-17T01:19:56.492190Z",
     "start_time": "2019-06-17T01:19:56.488201Z"
    },
    "id": "Gcg4Hkx4LNPh",
    "scrolled": false
   },
   "outputs": [],
   "source": [
    "# ANSWER"
   ]
  },
  {
   "cell_type": "markdown",
   "metadata": {
    "id": "iAtMzEZTLNPj"
   },
   "source": [
    "### Stop Words"
   ]
  },
  {
   "cell_type": "code",
   "execution_count": 13,
   "metadata": {
    "ExecuteTime": {
     "end_time": "2019-06-17T01:24:08.828052Z",
     "start_time": "2019-06-17T01:24:08.777179Z"
    },
    "id": "zOzudmrILNPq",
    "outputId": "1e58fcfc-674d-42f1-e82a-63f7d61a837a"
   },
   "outputs": [
    {
     "name": "stdout",
     "output_type": "stream",
     "text": [
      "i | with stop words without\n",
      "--| --------------- ------------\n",
      " 1| 'USS'           'USS'\n",
      " 2| 'Enterprise'    'Enterprise'\n",
      " 3| '('             '('\n",
      " 4| 'NCC-1701'      'NCC-1701'\n",
      " 5| '-'             '-'\n",
      " 6| 'D'             'D'\n",
      " 7| ')'             ')'\n",
      " 8| '\\n\\n'          '\\n\\n'\n",
      " 9| 'The'           ''\n",
      "10| 'USS'           'USS'\n",
      "11| 'Enterprise'    'Enterprise'\n",
      "12| '('             '('\n",
      "13| 'NCC-1701'      'NCC-1701'\n",
      "14| '-'             '-'\n",
      "15| 'D'             'D'\n",
      "16| ')'             ')'\n",
      "17| 'was'           ''\n",
      "18| 'a'             ''\n",
      "19| '24th'          '24th'\n",
      "20| 'century'       'century'\n",
      "21| 'United'        'United'\n",
      "22| 'Federation'    'Federation'\n",
      "23| 'of'            ''\n",
      "24| 'Planets'       'Planets'\n",
      "25| 'Galaxy'        'Galaxy'\n",
      "26| 'Class'         'Class'\n",
      "27| 'starship'      'starship'\n",
      "28| 'operated'      'operated'\n",
      "29| 'by'            ''\n",
      "30| 'Starfleet'     'Starfleet'\n",
      "31| ','             ','\n",
      "32| 'and'           ''\n",
      "33| 'the'           ''\n",
      "34| 'fifth'         'fifth'\n",
      "35| 'Federation'    'Federation'\n",
      "36| 'ship'          'ship'\n",
      "37| 'to'            ''\n",
      "38| 'bear'          'bear'\n",
      "39| 'the'           ''\n",
      "40| 'name'          ''\n",
      "41| 'Enterprise'    'Enterprise'\n",
      "42| '.'             '.'\n"
     ]
    }
   ],
   "source": [
    "## spaCy\n",
    "print('i | with stop words without')\n",
    "print('--| --------------- ------------')\n",
    "\n",
    "# for all the tokens\n",
    "for i, t in enumerate(doc):\n",
    "    print('%2d| %-15r %r' % (i+1, t.text, ('' if t.is_stop else t.text)))\n",
    "\n",
    "    # break after the first sentence\n",
    "    if t.text == '.':\n",
    "        break"
   ]
  },
  {
   "cell_type": "code",
   "execution_count": 14,
   "metadata": {
    "ExecuteTime": {
     "end_time": "2019-06-17T01:22:05.293365Z",
     "start_time": "2019-06-17T01:22:04.981199Z"
    },
    "id": "B2LoqLmULNPs",
    "outputId": "63f83744-f889-462f-f166-d8add6a03f7e"
   },
   "outputs": [
    {
     "data": {
      "image/png": "[encoded data removed]",
      "text/plain": [
       "<Figure size 1600x600 with 1 Axes>"
      ]
     },
     "metadata": {},
     "output_type": "display_data"
    }
   ],
   "source": [
    "plot_words(['%r' % t.text for t in doc if not (t.is_stop | t.is_punct)])"
   ]
  },
  {
   "cell_type": "markdown",
   "metadata": {
    "id": "9uqME12uLNPu"
   },
   "source": [
    "### Check Part of Speech"
   ]
  },
  {
   "cell_type": "code",
   "execution_count": 15,
   "metadata": {
    "ExecuteTime": {
     "end_time": "2019-06-17T01:22:17.213316Z",
     "start_time": "2019-06-17T01:22:17.169434Z"
    },
    "id": "vD-BrcLALNPz",
    "outputId": "a26b4e4f-095a-4086-a8fe-841cbbfb5b05"
   },
   "outputs": [
    {
     "name": "stdout",
     "output_type": "stream",
     "text": [
      " 1|'USS'        : PROPN NNP\n",
      " 2|'Enterprise' : PROPN NNP\n",
      " 3|'('          : PUNCT -LRB-\n",
      " 4|'NCC-1701'   : PROPN NNP\n",
      " 5|'-'          : PUNCT HYPH\n",
      " 6|'D'          : PROPN NNP\n",
      " 7|')'          : PUNCT -RRB-\n",
      " 8|'\\n\\n'       : SPACE _SP\n",
      " 9|'The'        : DET   DT\n",
      "10|'USS'        : PROPN NNP\n",
      "11|'Enterprise' : PROPN NNP\n",
      "12|'('          : PUNCT -LRB-\n",
      "13|'NCC-1701'   : PROPN NNP\n",
      "14|'-'          : PUNCT HYPH\n",
      "15|'D'          : PROPN NNP\n",
      "16|')'          : PUNCT -RRB-\n",
      "17|'was'        : AUX   VBD\n",
      "18|'a'          : DET   DT\n",
      "19|'24th'       : ADJ   JJ\n",
      "20|'century'    : NOUN  NN\n",
      "21|'United'     : PROPN NNP\n",
      "22|'Federation' : PROPN NNP\n",
      "23|'of'         : ADP   IN\n",
      "24|'Planets'    : PROPN NNP\n",
      "25|'Galaxy'     : PROPN NNP\n",
      "26|'Class'      : PROPN NNP\n",
      "27|'starship'   : NOUN  NN\n",
      "28|'operated'   : VERB  VBN\n",
      "29|'by'         : ADP   IN\n",
      "30|'Starfleet'  : PROPN NNP\n",
      "31|','          : PUNCT ,\n",
      "32|'and'        : CCONJ CC\n",
      "33|'the'        : DET   DT\n",
      "34|'fifth'      : ADJ   JJ\n",
      "35|'Federation' : PROPN NNP\n",
      "36|'ship'       : NOUN  NN\n",
      "37|'to'         : PART  TO\n",
      "38|'bear'       : VERB  VB\n",
      "39|'the'        : DET   DT\n",
      "40|'name'       : NOUN  NN\n",
      "41|'Enterprise' : NOUN  NN\n",
      "42|'.'          : PUNCT .\n"
     ]
    }
   ],
   "source": [
    "## spaCy\n",
    "for i, t in enumerate(doc):\n",
    "    print('%2d|%-12r : %-5s %s' % (i+1, t.text, t.pos_, t.tag_))\n",
    "    if t.text == '.':\n",
    "        break"
   ]
  },
  {
   "cell_type": "markdown",
   "metadata": {
    "id": "IvQ_UG7fUH3P"
   },
   "source": [
    "### Lemmatisation"
   ]
  },
  {
   "cell_type": "code",
   "execution_count": 16,
   "metadata": {
    "ExecuteTime": {
     "end_time": "2019-06-17T01:22:53.270758Z",
     "start_time": "2019-06-17T01:22:53.220888Z"
    },
    "id": "448zp9_vLNQC",
    "outputId": "561168c1-3a42-449d-9be3-dd22182459c3"
   },
   "outputs": [
    {
     "name": "stdout",
     "output_type": "stream",
     "text": [
      "i | Token        Lemma\n",
      "--| ------------ ------------\n",
      " 1| 'USS'        'USS'\n",
      " 2| 'Enterprise' 'Enterprise'\n",
      " 3| '('          '('\n",
      " 4| 'NCC-1701'   'NCC-1701'\n",
      " 5| '-'          '-'\n",
      " 6| 'D'          'D'\n",
      " 7| ')'          ')'\n",
      " 8| '\\n\\n'       '\\n\\n'\n",
      " 9| 'The'        'the'\n",
      "10| 'USS'        'USS'\n",
      "11| 'Enterprise' 'Enterprise'\n",
      "12| '('          '('\n",
      "13| 'NCC-1701'   'NCC-1701'\n",
      "14| '-'          '-'\n",
      "15| 'D'          'D'\n",
      "16| ')'          ')'\n",
      "17| 'was'        'be'\n",
      "18| 'a'          'a'\n",
      "19| '24th'       '24th'\n",
      "20| 'century'    'century'\n",
      "21| 'United'     'United'\n",
      "22| 'Federation' 'Federation'\n",
      "23| 'of'         'of'\n",
      "24| 'Planets'    'Planets'\n",
      "25| 'Galaxy'     'Galaxy'\n",
      "26| 'Class'      'Class'\n",
      "27| 'starship'   'starship'\n",
      "28| 'operated'   'operate'\n",
      "29| 'by'         'by'\n",
      "30| 'Starfleet'  'Starfleet'\n",
      "31| ','          ','\n",
      "32| 'and'        'and'\n",
      "33| 'the'        'the'\n",
      "34| 'fifth'      'fifth'\n",
      "35| 'Federation' 'Federation'\n",
      "36| 'ship'       'ship'\n",
      "37| 'to'         'to'\n",
      "38| 'bear'       'bear'\n",
      "39| 'the'        'the'\n",
      "40| 'name'       'name'\n",
      "41| 'Enterprise' 'enterprise'\n",
      "42| '.'          '.'\n"
     ]
    }
   ],
   "source": [
    "## spaCy\n",
    "print('i | Token        Lemma')\n",
    "print('--| ------------ ------------')\n",
    "for i, t in enumerate(doc):\n",
    "    print('%2d| %-12r %r' % (i+1, t.text, t.lemma_))\n",
    "    if t.text == '.':\n",
    "        break"
   ]
  },
  {
   "cell_type": "code",
   "execution_count": 17,
   "metadata": {
    "ExecuteTime": {
     "end_time": "2019-06-17T01:22:56.143434Z",
     "start_time": "2019-06-17T01:22:55.839376Z"
    },
    "id": "i-7pqVMxLNQD",
    "outputId": "6deff35e-0d28-4351-bbab-7600618eb817"
   },
   "outputs": [
    {
     "data": {
      "image/png": "[encoded data removed]",
      "text/plain": [
       "<Figure size 1600x600 with 1 Axes>"
      ]
     },
     "metadata": {},
     "output_type": "display_data"
    }
   ],
   "source": [
    "plot_words(['%r' % t.lemma_ for t in doc if not (t.is_stop | t.is_punct)])"
   ]
  },
  {
   "cell_type": "markdown",
   "metadata": {
    "id": "RHUdgHM7LNQF"
   },
   "source": [
    "### Entity Recognition"
   ]
  },
  {
   "cell_type": "code",
   "execution_count": 18,
   "metadata": {
    "ExecuteTime": {
     "end_time": "2019-06-17T01:23:02.688863Z",
     "start_time": "2019-06-17T01:23:02.464460Z"
    },
    "id": "yyOrZ42oLNQH",
    "outputId": "dfcee498-0002-4064-98ca-fa11668978d5",
    "scrolled": false
   },
   "outputs": [
    {
     "name": "stdout",
     "output_type": "stream",
     "text": [
      " 0: USS Enterprise (NCC-1701-D)The USS Enterprise (NCC-1701-D) was a 24th century United Federation of Planets Galaxy Class starship operated by Starfleet, and the fifth Federation ship to bear the name Enterprise.\n",
      "--------------------------------------------------------------------------------\n",
      "PRODUCT    : The USS Enterprise\n",
      "DATE       : a 24th century\n",
      "ORG        : United Federation of Planets Galaxy\n",
      "ORG        : Starfleet\n",
      "ORDINAL    : fifth\n",
      "================================================================================\n",
      " 1: During her career, the Enterprise served as the Federation flagship.\n",
      "--------------------------------------------------------------------------------\n",
      "ORG        : Enterprise\n",
      "ORG        : Federation\n",
      "================================================================================\n",
      " 2: The Enterprise was destroyed during the Battle of Veridian III in 2371.\n",
      "--------------------------------------------------------------------------------\n",
      "DATE       : 2371\n",
      "================================================================================\n",
      " 3: ==History==Construction and launchThe Enterprise was built at Utopia Planitia Fleet Yards orbiting Mars in the Solar system.\n",
      "--------------------------------------------------------------------------------\n",
      "ORG        : Utopia Planitia Fleet Yards\n",
      "LOC        : Mars\n",
      "PRODUCT    : Solar\n",
      "================================================================================\n",
      " 4: The construction was a massive undertaking, involving thousands of people across disciplines.\n",
      "--------------------------------------------------------------------------------\n",
      "CARDINAL   : thousands\n",
      "================================================================================\n",
      " 5: Construction was supervised by Commander Orfil Quinteros.\n",
      "--------------------------------------------------------------------------------\n",
      "PERSON     : Orfil Quinteros\n",
      "================================================================================\n",
      " 6: Dr. Leah Brahms was responsible for much of the Enterprise's warp propulsion system design.\n",
      "--------------------------------------------------------------------------------\n",
      "PERSON     : Leah Brahms\n",
      "================================================================================\n",
      " 7: Some of the Enterprise's components were derived from technology originally developed on the USS Pegasus.\n",
      "--------------------------------------------------------------------------------\n",
      "PRODUCT    : the USS Pegasus\n",
      "================================================================================\n",
      " 8: One of the ship's nacelle tube was the site of a multiple murder-suicide while she was still under construction at Utopia Planitia.\n",
      "--------------------------------------------------------------------------------\n",
      "CARDINAL   : One\n",
      "FAC        : Utopia Planitia\n",
      "================================================================================\n",
      " 9: A member of the construction team, Walter Pierce, became jealous of a former lover's new relationship.\n",
      "--------------------------------------------------------------------------------\n",
      "PERSON     : Walter Pierce\n",
      "ORG        : lover\n",
      "================================================================================\n",
      "10: He killed the two officers, Marla Finn and William Hodges, then disposed of their bodies in the plasma stream.\n",
      "--------------------------------------------------------------------------------\n",
      "CARDINAL   : two\n",
      "PERSON     : Marla Finn\n",
      "PERSON     : William Hodges\n",
      "================================================================================\n",
      "11: Pierce committed suicide in the same manner, leaving a telepathic imprint in a bulkhead that was not discovered until 2370.\n",
      "--------------------------------------------------------------------------------\n",
      "DATE       : 2370\n",
      "================================================================================\n",
      "12: On stardate 40759.5, in the year 2363, the Enterprise was launched from Mars.\n",
      "--------------------------------------------------------------------------------\n",
      "CARDINAL   : 40759.5\n",
      "DATE       : the year 2363\n",
      "ORG        : Enterprise\n",
      "LOC        : Mars\n",
      "================================================================================\n",
      "13: On stardate 41025.5, the Enterprise was commissioned.\n",
      "--------------------------------------------------------------------------------\n",
      "CARDINAL   : 41025.5\n",
      "ORG        : Enterprise\n",
      "================================================================================\n",
      "14: These stardates weren't mentioned in dialog; they were from the Enterprise dedication plaque.\n",
      "================================================================================\n",
      "15: Final systems completion and shakedown was conducted at Earth Station McKinley.\n",
      "--------------------------------------------------------------------------------\n",
      "LOC        : Earth Station\n",
      "================================================================================\n",
      "16: Captain Jean-Luc Picard took command of the ship on stardate 41148 at the order of Rear Admiral Norah Satie.\n",
      "--------------------------------------------------------------------------------\n",
      "PERSON     : Jean-Luc Picard\n",
      "DATE       : 41148\n",
      "ORG        : Rear Admiral Norah Satie\n",
      "================================================================================\n",
      "17: LegacyCommander Riker was upset over the loss of the Enterprise.\n",
      "--------------------------------------------------------------------------------\n",
      "PERSON     : Riker\n",
      "================================================================================\n",
      "18: Having hoped he would one day command the ship, he was disappointed that he never got that opportunity.\n",
      "--------------------------------------------------------------------------------\n",
      "CARDINAL   : one\n",
      "================================================================================\n",
      "19: However, Picard expressed doubt that the Enterprise-D would be the last vessel to carry the name.\n",
      "================================================================================\n",
      "20: The Enterprise was so dear to Worf that, shortly after being reassigned to Deep Space 9 in 2372, he briefly considered resigning from Starfleet.\n",
      "--------------------------------------------------------------------------------\n",
      "FAC        : Deep Space\n",
      "CARDINAL   : 9\n",
      "DATE       : 2372\n",
      "GPE        : Starfleet\n",
      "================================================================================\n",
      "21: Station commander Captain Benjamin Sisko expressed regret on the loss of the Enterprise and offered his condolences over the destruction of the ship to Worf, saying the Enterprise Captain Picard's belief that the Enterprise-D would not be the final ship to bear the name was borne out with the christening of the Class Sovereign USS Enterprise NCC-1701-E, later the same year.\n",
      "--------------------------------------------------------------------------------\n",
      "PERSON     : Benjamin Sisko\n",
      "ORG        : Enterprise\n",
      "PERSON     : Worf\n",
      "DATE       : later the same year\n",
      "================================================================================\n",
      "22: In that instance, the legacy of the Enterprise continued with Picard reprising his role as CO and selecting most of the former crew from the Enterprise-D, with the notable exception of Worf due to his most recent assignment to DS9 (though he temporarily joined the Enterprise-E crew on several of their more notable missions).\n",
      "--------------------------------------------------------------------------------\n",
      "ORG        : Enterprise\n",
      "ORG        : CO\n",
      "================================================================================\n"
     ]
    }
   ],
   "source": [
    "## spaCy\n",
    "for i, s in enumerate(doc.sents):\n",
    "    print('%2d: %s' % (i, re.sub(r'\\n+', '', s.text)))\n",
    "    if s.as_doc().ents:\n",
    "        print('-'*80)\n",
    "        for e in s.as_doc().ents:\n",
    "            print('%-11s: %s' % (e.label_, re.sub(r'\\n+', '', e.text)))\n",
    "    print('='*80)"
   ]
  },
  {
   "cell_type": "markdown",
   "metadata": {
    "id": "YSNoDKpMUH3S"
   },
   "source": [
    "## Extra: Using NLTK for NLP\n",
    "\n",
    "### Tokenise"
   ]
  },
  {
   "cell_type": "code",
   "execution_count": 23,
   "metadata": {
    "ExecuteTime": {
     "end_time": "2019-06-17T01:18:26.276966Z",
     "start_time": "2019-06-17T01:18:26.186212Z"
    },
    "id": "pML63M9KLNPX",
    "outputId": "29a6c627-0eee-4ece-bb34-47eacbbb53ff",
    "scrolled": true
   },
   "outputs": [
    {
     "name": "stdout",
     "output_type": "stream",
     "text": [
      " 1| 'USS'\n",
      " 2| 'Enterprise'\n",
      " 3| '('\n",
      " 4| 'NCC-1701-D'\n",
      " 5| ')'\n",
      " 6| 'The'\n",
      " 7| 'USS'\n",
      " 8| 'Enterprise'\n",
      " 9| '('\n",
      "10| 'NCC-1701-D'\n",
      "11| ')'\n",
      "12| 'was'\n",
      "13| 'a'\n",
      "14| '24th'\n",
      "15| 'century'\n",
      "16| 'United'\n",
      "17| 'Federation'\n",
      "18| 'of'\n",
      "19| 'Planets'\n",
      "20| 'Galaxy'\n",
      "21| 'Class'\n",
      "22| 'starship'\n",
      "23| 'operated'\n",
      "24| 'by'\n",
      "25| 'Starfleet'\n"
     ]
    }
   ],
   "source": [
    "# use nltk to find tokens\n",
    "tokens = nltk.word_tokenize(text)\n",
    "\n",
    "for i, t in enumerate(tokens[:25]):\n",
    "    print('%2d| %r' % (i+1, t))"
   ]
  },
  {
   "cell_type": "code",
   "execution_count": 24,
   "metadata": {
    "ExecuteTime": {
     "end_time": "2019-06-17T01:18:48.978316Z",
     "start_time": "2019-06-17T01:18:48.686799Z"
    },
    "id": "G5C3ituYLNPZ",
    "outputId": "db39aade-f506-4b45-ed1e-56327c19e4f7"
   },
   "outputs": [
    {
     "data": {
      "image/png": "[encoded data removed]",
      "text/plain": [
       "<Figure size 1600x600 with 1 Axes>"
      ]
     },
     "metadata": {},
     "output_type": "display_data"
    }
   ],
   "source": [
    "plot_words(tokens)"
   ]
  },
  {
   "cell_type": "markdown",
   "metadata": {
    "id": "pUFtNsjhUH3T"
   },
   "source": [
    "### Stop words"
   ]
  },
  {
   "cell_type": "code",
   "execution_count": 25,
   "metadata": {
    "ExecuteTime": {
     "end_time": "2019-06-17T01:20:00.638483Z",
     "start_time": "2019-06-17T01:20:00.617539Z"
    },
    "id": "BnY2rFzuLNPj",
    "outputId": "f64087cd-8e4b-4df5-fb2d-7b04851bde34",
    "scrolled": true
   },
   "outputs": [
    {
     "name": "stdout",
     "output_type": "stream",
     "text": [
      "a, about, above, after, again, against, ain, all, am, an, and, any, are, aren, aren't, as, at, be, because, been, before, being, below, between, both, but, by, can, couldn, couldn't, d, did, didn, didn't, do, does, doesn, doesn't, doing, don, don't, down, during, each, few, for, from, further, had, hadn, hadn't, has, hasn, hasn't, have, haven, haven't, having, he, her, here, hers, herself, him, himself, his, how, i, if, in, into, is, isn, isn't, it, it's, its, itself, just, ll, m, ma, me, mightn, mightn't, more, most, mustn, mustn't, my, myself, needn, needn't, no, nor, not, now, o, of, off, on, once, only, or, other, our, ours, ourselves, out, over, own, re, s, same, shan, shan't, she, she's, should, should've, shouldn, shouldn't, so, some, such, t, than, that, that'll, the, their, theirs, them, themselves, then, there, these, they, this, those, through, to, too, under, until, up, ve, very, was, wasn, wasn't, we, were, weren, weren't, what, when, where, which, while, who, whom, why, will, with, won, won't, wouldn, wouldn't, y, you, you'd, you'll, you're, you've, your, yours, yourself, yourselves\n"
     ]
    }
   ],
   "source": [
    "stopWords = nltk.corpus.stopwords.words('english')\n",
    "\n",
    "stopWords.sort()\n",
    "print(', '.join(stopWords))"
   ]
  },
  {
   "cell_type": "code",
   "execution_count": 26,
   "metadata": {
    "id": "dksPJF7YcI1o"
   },
   "outputs": [],
   "source": [
    "# ANSWER\n",
    "# NOTE: see the `.lower()` method applied to token\n",
    "tokens_no_stop = '' # create a list of tokens withOUT the stop words "
   ]
  },
  {
   "cell_type": "code",
   "execution_count": 28,
   "metadata": {
    "ExecuteTime": {
     "end_time": "2019-06-17T01:21:23.469455Z",
     "start_time": "2019-06-17T01:21:23.412608Z"
    },
    "id": "a82KBILRLNPm",
    "outputId": "b33cef88-79ab-4e06-9c0e-9f2a4a588306"
   },
   "outputs": [
    {
     "name": "stdout",
     "output_type": "stream",
     "text": [
      "i | with stop words without\n",
      "--| --------------- ------------\n",
      " 1| 'USS'          \n",
      " 2| 'Enterprise'   \n",
      " 3| '('            \n",
      " 4| 'NCC-1701-D'   \n",
      " 5| ')'            \n",
      " 6| 'The'          \n",
      " 7| 'USS'          \n",
      " 8| 'Enterprise'   \n",
      " 9| '('            \n",
      "10| 'NCC-1701-D'   \n",
      "11| ')'            \n",
      "12| 'was'          \n",
      "13| 'a'            \n",
      "14| '24th'         \n",
      "15| 'century'      \n",
      "16| 'United'       \n",
      "17| 'Federation'   \n",
      "18| 'of'           \n",
      "19| 'Planets'      \n",
      "20| 'Galaxy'       \n",
      "21| 'Class'        \n",
      "22| 'starship'     \n",
      "23| 'operated'     \n",
      "24| 'by'           \n",
      "25| 'Starfleet'    \n",
      "26| ','            \n",
      "27| 'and'          \n",
      "28| 'the'          \n",
      "29| 'fifth'        \n",
      "30| 'Federation'   \n",
      "31| 'ship'         \n",
      "32| 'to'           \n",
      "33| 'bear'         \n",
      "34| 'the'          \n",
      "35| 'name'         \n",
      "36| 'Enterprise'   \n",
      "37| '.'            \n",
      "38| 'During'       \n",
      "39| 'her'          \n",
      "40| 'career'       \n",
      "41| ','            \n",
      "42| 'the'          \n",
      "43| 'Enterprise'   \n",
      "44| 'served'       \n",
      "45| 'as'           \n",
      "46| 'the'          \n",
      "47| 'Federation'   \n",
      "48| 'flagship'     \n",
      "49| '.'            \n",
      "50| 'The'          \n",
      "51| 'Enterprise'   \n",
      "52| 'was'          \n",
      "53| 'destroyed'    \n",
      "54| 'during'       \n",
      "55| 'the'          \n",
      "56| 'Battle'       \n",
      "57| 'of'           \n",
      "58| 'Veridian'     \n",
      "59| 'III'          \n",
      "60| 'in'           \n",
      "61| '2371'         \n",
      "62| '.'            \n",
      "63| '==History=='  \n",
      "64| 'Construction' \n",
      "65| 'and'          \n",
      "66| 'launch'       \n",
      "67| 'The'          \n",
      "68| 'Enterprise'   \n",
      "69| 'was'          \n",
      "70| 'built'        \n",
      "71| 'at'           \n",
      "72| 'Utopia'       \n",
      "73| 'Planitia'     \n",
      "74| 'Fleet'        \n",
      "75| 'Yards'        \n",
      "76| 'orbiting'     \n",
      "77| 'Mars'         \n",
      "78| 'in'           \n",
      "79| 'the'          \n",
      "80| 'Solar'        \n",
      "81| 'system'       \n",
      "82| '.'            \n",
      "83| 'The'          \n",
      "84| 'construction' \n",
      "85| 'was'          \n",
      "86| 'a'            \n",
      "87| 'massive'      \n",
      "88| 'undertaking'  \n",
      "89| ','            \n",
      "90| 'involving'    \n",
      "91| 'thousands'    \n",
      "92| 'of'           \n",
      "93| 'people'       \n",
      "94| 'across'       \n",
      "95| 'disciplines'  \n",
      "96| '.'            \n",
      "97| 'Construction' \n",
      "98| 'was'          \n",
      "99| 'supervised'   \n",
      "100| 'by'           \n",
      "101| 'Commander'    \n",
      "102| 'Orfil'        \n",
      "103| 'Quinteros'    \n",
      "104| '.'            \n",
      "105| 'Dr.'          \n",
      "106| 'Leah'         \n",
      "107| 'Brahms'       \n",
      "108| 'was'          \n",
      "109| 'responsible'  \n",
      "110| 'for'          \n",
      "111| 'much'         \n",
      "112| 'of'           \n",
      "113| 'the'          \n",
      "114| 'Enterprise'   \n",
      "115| \"'s\"           \n",
      "116| 'warp'         \n",
      "117| 'propulsion'   \n",
      "118| 'system'       \n",
      "119| 'design'       \n",
      "120| '.'            \n",
      "121| 'Some'         \n",
      "122| 'of'           \n",
      "123| 'the'          \n",
      "124| 'Enterprise'   \n",
      "125| \"'s\"           \n",
      "126| 'components'   \n",
      "127| 'were'         \n",
      "128| 'derived'      \n",
      "129| 'from'         \n",
      "130| 'technology'   \n",
      "131| 'originally'   \n",
      "132| 'developed'    \n",
      "133| 'on'           \n",
      "134| 'the'          \n",
      "135| 'USS'          \n",
      "136| 'Pegasus'      \n",
      "137| '.'            \n",
      "138| 'One'          \n",
      "139| 'of'           \n",
      "140| 'the'          \n",
      "141| 'ship'         \n",
      "142| \"'s\"           \n",
      "143| 'nacelle'      \n",
      "144| 'tube'         \n",
      "145| 'was'          \n",
      "146| 'the'          \n",
      "147| 'site'         \n",
      "148| 'of'           \n",
      "149| 'a'            \n",
      "150| 'multiple'     \n",
      "151| 'murder-suicide'\n",
      "152| 'while'        \n",
      "153| 'she'          \n",
      "154| 'was'          \n",
      "155| 'still'        \n",
      "156| 'under'        \n",
      "157| 'construction' \n",
      "158| 'at'           \n",
      "159| 'Utopia'       \n",
      "160| 'Planitia'     \n",
      "161| '.'            \n",
      "162| 'A'            \n",
      "163| 'member'       \n",
      "164| 'of'           \n",
      "165| 'the'          \n",
      "166| 'construction' \n",
      "167| 'team'         \n",
      "168| ','            \n",
      "169| 'Walter'       \n",
      "170| 'Pierce'       \n",
      "171| ','            \n",
      "172| 'became'       \n",
      "173| 'jealous'      \n",
      "174| 'of'           \n",
      "175| 'a'            \n",
      "176| 'former'       \n",
      "177| 'lover'        \n",
      "178| \"'s\"           \n",
      "179| 'new'          \n",
      "180| 'relationship' \n",
      "181| '.'            \n",
      "182| 'He'           \n",
      "183| 'killed'       \n",
      "184| 'the'          \n",
      "185| 'two'          \n",
      "186| 'officers'     \n",
      "187| ','            \n",
      "188| 'Marla'        \n",
      "189| 'Finn'         \n",
      "190| 'and'          \n",
      "191| 'William'      \n",
      "192| 'Hodges'       \n",
      "193| ','            \n",
      "194| 'then'         \n",
      "195| 'disposed'     \n",
      "196| 'of'           \n",
      "197| 'their'        \n",
      "198| 'bodies'       \n",
      "199| 'in'           \n",
      "200| 'the'          \n",
      "201| 'plasma'       \n",
      "202| 'stream'       \n",
      "203| '.'            \n",
      "204| 'Pierce'       \n",
      "205| 'committed'    \n",
      "206| 'suicide'      \n",
      "207| 'in'           \n",
      "208| 'the'          \n",
      "209| 'same'         \n",
      "210| 'manner'       \n",
      "211| ','            \n",
      "212| 'leaving'      \n",
      "213| 'a'            \n",
      "214| 'telepathic'   \n",
      "215| 'imprint'      \n",
      "216| 'in'           \n",
      "217| 'a'            \n",
      "218| 'bulkhead'     \n",
      "219| 'that'         \n",
      "220| 'was'          \n",
      "221| 'not'          \n",
      "222| 'discovered'   \n",
      "223| 'until'        \n",
      "224| '2370'         \n",
      "225| '.'            \n",
      "226| 'On'           \n",
      "227| 'stardate'     \n",
      "228| '40759.5'      \n",
      "229| ','            \n",
      "230| 'in'           \n",
      "231| 'the'          \n",
      "232| 'year'         \n",
      "233| '2363'         \n",
      "234| ','            \n",
      "235| 'the'          \n",
      "236| 'Enterprise'   \n",
      "237| 'was'          \n",
      "238| 'launched'     \n",
      "239| 'from'         \n",
      "240| 'Mars'         \n",
      "241| '.'            \n",
      "242| 'On'           \n",
      "243| 'stardate'     \n",
      "244| '41025.5'      \n",
      "245| ','            \n",
      "246| 'the'          \n",
      "247| 'Enterprise'   \n",
      "248| 'was'          \n",
      "249| 'commissioned' \n",
      "250| '.'            \n",
      "251| 'These'        \n",
      "252| 'stardates'    \n",
      "253| 'were'         \n",
      "254| \"n't\"          \n",
      "255| 'mentioned'    \n",
      "256| 'in'           \n",
      "257| 'dialog'       \n",
      "258| ';'            \n",
      "259| 'they'         \n",
      "260| 'were'         \n",
      "261| 'from'         \n",
      "262| 'the'          \n",
      "263| 'Enterprise'   \n",
      "264| 'dedication'   \n",
      "265| 'plaque'       \n",
      "266| '.'            \n",
      "267| 'Final'        \n",
      "268| 'systems'      \n",
      "269| 'completion'   \n",
      "270| 'and'          \n",
      "271| 'shakedown'    \n",
      "272| 'was'          \n",
      "273| 'conducted'    \n",
      "274| 'at'           \n",
      "275| 'Earth'        \n",
      "276| 'Station'      \n",
      "277| 'McKinley'     \n",
      "278| '.'            \n",
      "279| 'Captain'      \n",
      "280| 'Jean-Luc'     \n",
      "281| 'Picard'       \n",
      "282| 'took'         \n",
      "283| 'command'      \n",
      "284| 'of'           \n",
      "285| 'the'          \n",
      "286| 'ship'         \n",
      "287| 'on'           \n",
      "288| 'stardate'     \n",
      "289| '41148'        \n",
      "290| 'at'           \n",
      "291| 'the'          \n",
      "292| 'order'        \n",
      "293| 'of'           \n",
      "294| 'Rear'         \n",
      "295| 'Admiral'      \n",
      "296| 'Norah'        \n",
      "297| 'Satie'        \n",
      "298| '.'            \n",
      "299| 'Legacy'       \n",
      "300| 'Commander'    \n",
      "301| 'Riker'        \n",
      "302| 'was'          \n",
      "303| 'upset'        \n",
      "304| 'over'         \n",
      "305| 'the'          \n",
      "306| 'loss'         \n",
      "307| 'of'           \n",
      "308| 'the'          \n",
      "309| 'Enterprise'   \n",
      "310| '.'            \n",
      "311| 'Having'       \n",
      "312| 'hoped'        \n",
      "313| 'he'           \n",
      "314| 'would'        \n",
      "315| 'one'          \n",
      "316| 'day'          \n",
      "317| 'command'      \n",
      "318| 'the'          \n",
      "319| 'ship'         \n",
      "320| ','            \n",
      "321| 'he'           \n",
      "322| 'was'          \n",
      "323| 'disappointed' \n",
      "324| 'that'         \n",
      "325| 'he'           \n",
      "326| 'never'        \n",
      "327| 'got'          \n",
      "328| 'that'         \n",
      "329| 'opportunity'  \n",
      "330| '.'            \n",
      "331| 'However'      \n",
      "332| ','            \n",
      "333| 'Picard'       \n",
      "334| 'expressed'    \n",
      "335| 'doubt'        \n",
      "336| 'that'         \n",
      "337| 'the'          \n",
      "338| 'Enterprise-D' \n",
      "339| 'would'        \n",
      "340| 'be'           \n",
      "341| 'the'          \n",
      "342| 'last'         \n",
      "343| 'vessel'       \n",
      "344| 'to'           \n",
      "345| 'carry'        \n",
      "346| 'the'          \n",
      "347| 'name'         \n",
      "348| '.'            \n",
      "349| 'The'          \n",
      "350| 'Enterprise'   \n",
      "351| 'was'          \n",
      "352| 'so'           \n",
      "353| 'dear'         \n",
      "354| 'to'           \n",
      "355| 'Worf'         \n",
      "356| 'that'         \n",
      "357| ','            \n",
      "358| 'shortly'      \n",
      "359| 'after'        \n",
      "360| 'being'        \n",
      "361| 'reassigned'   \n",
      "362| 'to'           \n",
      "363| 'Deep'         \n",
      "364| 'Space'        \n",
      "365| '9'            \n",
      "366| 'in'           \n",
      "367| '2372'         \n",
      "368| ','            \n",
      "369| 'he'           \n",
      "370| 'briefly'      \n",
      "371| 'considered'   \n",
      "372| 'resigning'    \n",
      "373| 'from'         \n",
      "374| 'Starfleet'    \n",
      "375| '.'            \n",
      "376| 'Station'      \n",
      "377| 'commander'    \n",
      "378| 'Captain'      \n",
      "379| 'Benjamin'     \n",
      "380| 'Sisko'        \n",
      "381| 'expressed'    \n",
      "382| 'regret'       \n",
      "383| 'on'           \n",
      "384| 'the'          \n",
      "385| 'loss'         \n",
      "386| 'of'           \n",
      "387| 'the'          \n",
      "388| 'Enterprise'   \n",
      "389| 'and'          \n",
      "390| 'offered'      \n",
      "391| 'his'          \n",
      "392| 'condolences'  \n",
      "393| 'over'         \n",
      "394| 'the'          \n",
      "395| 'destruction'  \n",
      "396| 'of'           \n",
      "397| 'the'          \n",
      "398| 'ship'         \n",
      "399| 'to'           \n",
      "400| 'Worf'         \n",
      "401| ','            \n",
      "402| 'saying'       \n",
      "403| 'the'          \n",
      "404| 'Enterprise'   \n",
      "405| 'Captain'      \n",
      "406| 'Picard'       \n",
      "407| \"'s\"           \n",
      "408| 'belief'       \n",
      "409| 'that'         \n",
      "410| 'the'          \n",
      "411| 'Enterprise-D' \n",
      "412| 'would'        \n",
      "413| 'not'          \n",
      "414| 'be'           \n",
      "415| 'the'          \n",
      "416| 'final'        \n",
      "417| 'ship'         \n",
      "418| 'to'           \n",
      "419| 'bear'         \n",
      "420| 'the'          \n",
      "421| 'name'         \n",
      "422| 'was'          \n",
      "423| 'borne'        \n",
      "424| 'out'          \n",
      "425| 'with'         \n",
      "426| 'the'          \n",
      "427| 'christening'  \n",
      "428| 'of'           \n",
      "429| 'the'          \n",
      "430| 'Class'        \n",
      "431| 'Sovereign'    \n",
      "432| 'USS'          \n",
      "433| 'Enterprise'   \n",
      "434| 'NCC-1701-E'   \n",
      "435| ','            \n",
      "436| 'later'        \n",
      "437| 'the'          \n",
      "438| 'same'         \n",
      "439| 'year'         \n",
      "440| '.'            \n",
      "441| 'In'           \n",
      "442| 'that'         \n",
      "443| 'instance'     \n",
      "444| ','            \n",
      "445| 'the'          \n",
      "446| 'legacy'       \n",
      "447| 'of'           \n",
      "448| 'the'          \n",
      "449| 'Enterprise'   \n",
      "450| 'continued'    \n",
      "451| 'with'         \n",
      "452| 'Picard'       \n",
      "453| 'reprising'    \n",
      "454| 'his'          \n",
      "455| 'role'         \n",
      "456| 'as'           \n",
      "457| 'CO'           \n",
      "458| 'and'          \n",
      "459| 'selecting'    \n",
      "460| 'most'         \n",
      "461| 'of'           \n",
      "462| 'the'          \n",
      "463| 'former'       \n",
      "464| 'crew'         \n",
      "465| 'from'         \n",
      "466| 'the'          \n",
      "467| 'Enterprise-D' \n",
      "468| ','            \n",
      "469| 'with'         \n",
      "470| 'the'          \n",
      "471| 'notable'      \n",
      "472| 'exception'    \n",
      "473| 'of'           \n",
      "474| 'Worf'         \n",
      "475| 'due'          \n",
      "476| 'to'           \n",
      "477| 'his'          \n",
      "478| 'most'         \n",
      "479| 'recent'       \n",
      "480| 'assignment'   \n",
      "481| 'to'           \n",
      "482| 'DS9'          \n",
      "483| '('            \n",
      "484| 'though'       \n",
      "485| 'he'           \n",
      "486| 'temporarily'  \n",
      "487| 'joined'       \n",
      "488| 'the'          \n",
      "489| 'Enterprise-E' \n",
      "490| 'crew'         \n",
      "491| 'on'           \n",
      "492| 'several'      \n",
      "493| 'of'           \n",
      "494| 'their'        \n",
      "495| 'more'         \n",
      "496| 'notable'      \n",
      "497| 'missions'     \n",
      "498| ')'            \n",
      "499| '.'            \n"
     ]
    }
   ],
   "source": [
    "i = 0\n",
    "j = 0\n",
    "\n",
    "print('i | with stop words without')\n",
    "print('--| --------------- ------------')\n",
    "\n",
    "# Iterate over tokens\n",
    "while i < len(tokens):\n",
    "    # Check if tokens_no_stop has reached its end\n",
    "    if j >= len(tokens_no_stop):\n",
    "        print('%2d| %-15r' % (i+1, tokens[i]))\n",
    "        i += 1\n",
    "        continue\n",
    "\n",
    "    # Same word\n",
    "    if tokens[i] == tokens_no_stop[j]:\n",
    "        print('%2d| %-15r %r' % (i+1, tokens[i], tokens_no_stop[j]))\n",
    "        j += 1\n",
    "    # Not the same word\n",
    "    else:\n",
    "        print('%2d| %-15r' % (i+1, tokens[i]))\n",
    "\n",
    "    # Next word\n",
    "    i += 1\n",
    "    # Break after the first sentence\n",
    "    if tokens[i-1] == '.':\n",
    "        break"
   ]
  },
  {
   "cell_type": "code",
   "execution_count": 31,
   "metadata": {
    "ExecuteTime": {
     "end_time": "2019-06-17T01:24:39.503538Z",
     "start_time": "2019-06-17T01:24:39.498514Z"
    },
    "id": "uPtOoiwuLNPo"
   },
   "outputs": [
    {
     "data": {
      "image/png": "[encoded data removed]",
      "text/plain": [
       "<Figure size 640x480 with 1 Axes>"
      ]
     },
     "metadata": {},
     "output_type": "display_data"
    },
    {
     "data": {
      "image/png": "[encoded data removed]",
      "text/plain": [
       "<Figure size 640x480 with 1 Axes>"
      ]
     },
     "metadata": {},
     "output_type": "display_data"
    }
   ],
   "source": [
    "# Create plot of words without stopword\n",
    "# ANSWER\n",
    "# Tokenize the text into words\n",
    "from nltk.corpus import stopwords\n",
    "tokens = nltk.word_tokenize(text)\n",
    "\n",
    "# Remove stopwords\n",
    "stop_words = set(stopwords.words('english'))\n",
    "tokens_no_stop = [word for word in tokens if word.lower() not in stop_words]\n",
    "\n",
    "# Count the frequency of each word\n",
    "freq_dist = nltk.FreqDist(tokens_no_stop)\n",
    "\n",
    "# Plot the most common words\n",
    "freq_dist.plot(20, cumulative=False)\n",
    "plt.xlabel('Words')\n",
    "plt.ylabel('Frequency')\n",
    "plt.title('Most Common Words (without Stopwords)')\n",
    "plt.show()\n",
    "\n",
    "\n",
    "\n",
    "\n",
    "\n",
    "\n"
   ]
  },
  {
   "cell_type": "markdown",
   "metadata": {
    "id": "newokHfzUH3V"
   },
   "source": [
    "### Check Part of Speech"
   ]
  },
  {
   "cell_type": "code",
   "execution_count": 32,
   "metadata": {
    "ExecuteTime": {
     "end_time": "2019-06-17T01:22:10.130223Z",
     "start_time": "2019-06-17T01:22:10.100306Z"
    },
    "id": "KRupju0sLNPv"
   },
   "outputs": [],
   "source": [
    "# define PoS\n",
    "pos_list = {\n",
    "    'CC':   'coordinating conjunction',\n",
    "    'CD':   'cardinal digit',\n",
    "    'DT':   'determiner',\n",
    "    'EX':   'existential there (like: \"there is\" ... think of it like \"there exists\")',\n",
    "    'FW':   'foreign word',\n",
    "    'IN':   'preposition/subordinating conjunction',\n",
    "    'JJ':   'adjective \"big\"',\n",
    "    'JJR':  'adjective, comparative \"bigger\"',\n",
    "    'JJS':  'adjective, superlative \"biggest\"',\n",
    "    'LS':   'list marker 1)',\n",
    "    'MD':   'modal could, will',\n",
    "    'NN':   'noun, singular \"desk\"',\n",
    "    'NNS':  'noun plural \"desks\"',\n",
    "    'NNP':  'proper noun, singular \"Harrison\"',\n",
    "    'NNPS': 'proper noun, plural \"Americans\"',\n",
    "    'PDT':  'predeterminer \"all the kids\"',\n",
    "    'POS':  'possessive ending parent\"s',\n",
    "    'PRP':  'personal pronoun I, he, she',\n",
    "    'PRP$': 'possessive pronoun my, his, hers',\n",
    "    'RB':   'adverb very, silently,',\n",
    "    'RBR':  'adverb, comparative better',\n",
    "    'RBS':  'adverb, superlative best',\n",
    "    'RP':   'particle give up',\n",
    "    'TO':   'to go \"to\" the store.',\n",
    "    'UH':   'interjection errrrrrrrm',\n",
    "    'VB':   'verb, base form take',\n",
    "    'VBD':  'verb, past tense took',\n",
    "    'VBG':  'verb, gerund/present participle taking',\n",
    "    'VBN':  'verb, past participle taken',\n",
    "    'VBP':  'verb, sing. present, non-3d take',\n",
    "    'VBZ':  'verb, 3rd person sing. present takes',\n",
    "    'WDT':  'wh-determiner which',\n",
    "    'WP':   'wh-pronoun who, what',\n",
    "    'WP$':  'possessive wh-pronoun whose',\n",
    "    'WRB':  'wh-abverb where, when',\n",
    "}"
   ]
  },
  {
   "cell_type": "code",
   "execution_count": 34,
   "metadata": {
    "ExecuteTime": {
     "end_time": "2019-06-17T01:22:13.969590Z",
     "start_time": "2019-06-17T01:22:13.665232Z"
    },
    "id": "asqUoCHgLNPx",
    "outputId": "6e3cab17-f736-49f3-ce62-8e759d72ac35",
    "scrolled": false
   },
   "outputs": [
    {
     "name": "stderr",
     "output_type": "stream",
     "text": [
      "[nltk_data] Downloading package averaged_perceptron_tagger to\n",
      "[nltk_data]     C:\\Users\\Manish\\AppData\\Roaming\\nltk_data...\n",
      "[nltk_data]   Unzipping taggers\\averaged_perceptron_tagger.zip.\n"
     ]
    },
    {
     "name": "stdout",
     "output_type": "stream",
     "text": [
      " 1|'USS'        : NNP  proper noun, singular \"Harrison\"\n",
      " 2|'Enterprise' : NNP  proper noun, singular \"Harrison\"\n",
      " 3|'('          : (    -\n",
      " 4|'NCC-1701-D' : NNP  proper noun, singular \"Harrison\"\n",
      " 5|')'          : )    -\n",
      " 6|'The'        : DT   determiner\n",
      " 7|'USS'        : NNP  proper noun, singular \"Harrison\"\n",
      " 8|'Enterprise' : NNP  proper noun, singular \"Harrison\"\n",
      " 9|'('          : (    -\n",
      "10|'NCC-1701-D' : NNP  proper noun, singular \"Harrison\"\n",
      "11|')'          : )    -\n",
      "12|'was'        : VBD  verb, past tense took\n",
      "13|'a'          : DT   determiner\n",
      "14|'24th'       : JJ   adjective \"big\"\n",
      "15|'century'    : NN   noun, singular \"desk\"\n",
      "16|'United'     : NNP  proper noun, singular \"Harrison\"\n",
      "17|'Federation' : NNP  proper noun, singular \"Harrison\"\n",
      "18|'of'         : IN   preposition/subordinating conjunction\n",
      "19|'Planets'    : NNP  proper noun, singular \"Harrison\"\n",
      "20|'Galaxy'     : NNP  proper noun, singular \"Harrison\"\n",
      "21|'Class'      : NNP  proper noun, singular \"Harrison\"\n",
      "22|'starship'   : NN   noun, singular \"desk\"\n",
      "23|'operated'   : VBN  verb, past participle taken\n",
      "24|'by'         : IN   preposition/subordinating conjunction\n",
      "25|'Starfleet'  : NNP  proper noun, singular \"Harrison\"\n"
     ]
    }
   ],
   "source": [
    "## nltk\n",
    "nltk.download('averaged_perceptron_tagger')\n",
    "tagged = nltk.pos_tag(tokens)\n",
    "\n",
    "for i, t in enumerate(tagged[:25]):\n",
    "    print('%2d|%-12r : %-4s %s' % (i+1, t[0], t[1], (pos_list[t[1]] if t[1] in pos_list else '-')))"
   ]
  },
  {
   "cell_type": "markdown",
   "metadata": {
    "id": "_n9qMgyULNP1"
   },
   "source": [
    "### Stemming"
   ]
  },
  {
   "cell_type": "code",
   "execution_count": 35,
   "metadata": {
    "ExecuteTime": {
     "end_time": "2019-06-17T01:22:29.259531Z",
     "start_time": "2019-06-17T01:22:29.243588Z"
    },
    "id": "pL1vRUzxLNP2"
   },
   "outputs": [],
   "source": [
    "## nltk\n",
    "ps = nltk.porter.PorterStemmer()\n",
    "stemmed = ' '.join([ps.stem(word) for word in text.split()])"
   ]
  },
  {
   "cell_type": "markdown",
   "metadata": {
    "id": "2d9a6QazLNP4"
   },
   "source": [
    "### Lemmatisation"
   ]
  },
  {
   "cell_type": "code",
   "execution_count": 38,
   "metadata": {
    "ExecuteTime": {
     "end_time": "2019-06-17T01:22:33.219077Z",
     "start_time": "2019-06-17T01:22:31.251647Z"
    },
    "id": "OAbriUsXLNP7",
    "scrolled": true
   },
   "outputs": [
    {
     "name": "stderr",
     "output_type": "stream",
     "text": [
      "[nltk_data] Downloading package omw-1.4 to\n",
      "[nltk_data]     C:\\Users\\Manish\\AppData\\Roaming\\nltk_data...\n"
     ]
    }
   ],
   "source": [
    "## nltk\n",
    "nltk.download('omw-1.4')\n",
    "wl = nltk.stem.WordNetLemmatizer()\n",
    "lemma = ' '.join([wl.lemmatize(word) for word in text.split()])"
   ]
  },
  {
   "cell_type": "code",
   "execution_count": 39,
   "metadata": {
    "ExecuteTime": {
     "end_time": "2019-06-17T01:22:40.296601Z",
     "start_time": "2019-06-17T01:22:40.251721Z"
    },
    "id": "yVIqX7HBLNP9",
    "outputId": "26f47e5f-7927-4ceb-e7aa-148b1a0d6798"
   },
   "outputs": [
    {
     "name": "stdout",
     "output_type": "stream",
     "text": [
      "i | Stem           Lemma\n",
      "--| -------------- ------------\n",
      " 1| 'uss'          'USS'       \n",
      " 2| 'enterpris'    'Enterprise'\n",
      " 3| '(ncc-1701-d)'   '(NCC-1701-D)'\n",
      " 4| 'the'          'The'       \n",
      " 5| 'uss'          'USS'       \n",
      " 6| 'enterpris'    'Enterprise'\n",
      " 7| '(ncc-1701-d)'   '(NCC-1701-D)'\n",
      " 8| 'wa'           'wa'        \n",
      " 9| 'a'            'a'         \n",
      "10| '24th'         '24th'      \n",
      "11| 'centuri'      'century'   \n",
      "12| 'unit'         'United'    \n",
      "13| 'feder'        'Federation'\n",
      "14| 'of'           'of'        \n",
      "15| 'planet'       'Planets'   \n",
      "16| 'galaxi'       'Galaxy'    \n",
      "17| 'class'        'Class'     \n",
      "18| 'starship'     'starship'  \n",
      "19| 'oper'         'operated'  \n",
      "20| 'by'           'by'        \n",
      "21| 'starfleet,'   'Starfleet,'\n",
      "22| 'and'          'and'       \n",
      "23| 'the'          'the'       \n",
      "24| 'fifth'        'fifth'     \n",
      "25| 'feder'        'Federation'\n",
      "26| 'ship'         'ship'      \n",
      "27| 'to'           'to'        \n",
      "28| 'bear'         'bear'      \n",
      "29| 'the'          'the'       \n",
      "30| 'name'         'name'      \n",
      "31| 'enterprise.'   'Enterprise.'\n"
     ]
    }
   ],
   "source": [
    "## nltk\n",
    "dot = stemmed.find('.') + 1\n",
    "sl = stemmed[:dot].split()\n",
    "dot = lemma.find('.') + 1\n",
    "ll = lemma[:dot].split()\n",
    "\n",
    "print('i | Stem           Lemma')\n",
    "print('--| -------------- ------------')\n",
    "for i, p in enumerate(zip(sl, ll)):\n",
    "    print('%2d| %-12r   %-12r' % (i+1, p[0], p[1]))"
   ]
  },
  {
   "cell_type": "code",
   "execution_count": 40,
   "metadata": {
    "ExecuteTime": {
     "end_time": "2019-06-17T01:22:47.305414Z",
     "start_time": "2019-06-17T01:22:47.017187Z"
    },
    "id": "eG4yOgwVLNP-",
    "outputId": "70476f16-7ac6-4c40-e39f-7a6547c11fec"
   },
   "outputs": [
    {
     "data": {
      "image/png": "[encoded data removed]",
      "text/plain": [
       "<Figure size 1600x600 with 1 Axes>"
      ]
     },
     "metadata": {},
     "output_type": "display_data"
    }
   ],
   "source": [
    "plot_words(stemmed.split())"
   ]
  },
  {
   "cell_type": "code",
   "execution_count": 41,
   "metadata": {
    "ExecuteTime": {
     "end_time": "2019-06-17T01:22:50.433861Z",
     "start_time": "2019-06-17T01:22:50.144603Z"
    },
    "id": "uEJR57TYLNQA",
    "outputId": "e96f9bb4-cdfc-432c-b0af-bcdb3a6c2c6c",
    "scrolled": true
   },
   "outputs": [
    {
     "data": {
      "image/png": "[encoded data removed]",
      "text/plain": [
       "<Figure size 1600x600 with 1 Axes>"
      ]
     },
     "metadata": {},
     "output_type": "display_data"
    }
   ],
   "source": [
    "plot_words(lemma.split())"
   ]
  },
  {
   "cell_type": "markdown",
   "metadata": {
    "id": "Y_g-Oy2VUH3Z"
   },
   "source": [
    "### Entity recognition"
   ]
  },
  {
   "cell_type": "code",
   "execution_count": 45,
   "metadata": {
    "ExecuteTime": {
     "end_time": "2019-06-17T01:22:59.142869Z",
     "start_time": "2019-06-17T01:22:58.754906Z"
    },
    "id": "sw6fYdgXLNQG",
    "outputId": "a83ea9db-825d-4031-8112-f022b71f565b"
   },
   "outputs": [
    {
     "name": "stderr",
     "output_type": "stream",
     "text": [
      "[nltk_data] Downloading package words to\n",
      "[nltk_data]     C:\\Users\\Manish\\AppData\\Roaming\\nltk_data...\n",
      "[nltk_data]   Unzipping corpora\\words.zip.\n"
     ]
    },
    {
     "name": "stdout",
     "output_type": "stream",
     "text": [
      "ORGANIZATION: USS Enterprise\n",
      "ORGANIZATION: USS Enterprise\n",
      "PERSON      : United Federation\n",
      "ORGANIZATION: Planets Galaxy\n",
      "PERSON      : Starfleet\n",
      "ORGANIZATION: Enterprise\n",
      "ORGANIZATION: Federation\n",
      "ORGANIZATION: Battle\n",
      "GPE         : Veridian\n",
      "ORGANIZATION: Enterprise\n",
      "ORGANIZATION: Utopia Planitia Fleet\n",
      "PERSON      : Mars\n",
      "ORGANIZATION: Solar\n",
      "ORGANIZATION: Commander Orfil Quinteros\n",
      "PERSON      : Brahms\n",
      "ORGANIZATION: Enterprise\n",
      "ORGANIZATION: Enterprise\n",
      "ORGANIZATION: USS Pegasus\n",
      "ORGANIZATION: Utopia Planitia\n",
      "PERSON      : Walter Pierce\n",
      "PERSON      : Marla Finn\n",
      "PERSON      : William Hodges\n",
      "PERSON      : Pierce\n",
      "ORGANIZATION: Enterprise\n",
      "PERSON      : Mars\n",
      "ORGANIZATION: Enterprise\n",
      "ORGANIZATION: Enterprise\n",
      "FACILITY    : Earth Station McKinley\n",
      "PERSON      : Captain Jean-Luc Picard\n",
      "ORGANIZATION: Rear Admiral Norah Satie\n",
      "PERSON      : Legacy Commander Riker\n",
      "ORGANIZATION: Enterprise\n",
      "PERSON      : Picard\n",
      "PERSON      : Deep Space\n",
      "GPE         : Starfleet\n",
      "PERSON      : Captain Benjamin Sisko\n",
      "ORGANIZATION: Enterprise\n",
      "GPE         : Worf\n",
      "ORGANIZATION: Enterprise Captain Picard\n",
      "ORGANIZATION: Class Sovereign\n",
      "ORGANIZATION: Enterprise\n",
      "PERSON      : Picard\n",
      "ORGANIZATION: CO\n",
      "GPE         : Worf\n",
      "ORGANIZATION: DS9\n"
     ]
    }
   ],
   "source": [
    "## nltk\n",
    "nltk.download('words')\n",
    "entities = nltk.chunk.ne_chunk(tagged)\n",
    "\n",
    "for e in entities:\n",
    "    s = re.sub(r'[\\(\\)]', '', str(e))\n",
    "    if s.find('/NNP') > 0:\n",
    "        t = s.split()[0]\n",
    "        n = ' '.join([re.sub(r'/NNP', '', x) for x in s.split()[1:]])\n",
    "        print('%-12s: %s' % (t, n))"
   ]
  },
  {
   "cell_type": "markdown",
   "metadata": {
    "id": "RERADKgNFq9T"
   },
   "source": [
    "\n",
    "\n",
    "---\n",
    "\n",
    "\n",
    "\n",
    "---\n",
    "\n",
    "\n",
    "\n",
    "> > > > > > > > > © 2023 Institute of Data\n",
    "\n",
    "\n",
    "---\n",
    "\n",
    "\n",
    "\n",
    "---\n",
    "\n",
    "\n",
    "\n"
   ]
  }
 ],
 "metadata": {
  "colab": {
   "provenance": []
  },
  "kernelspec": {
   "display_name": "Python 3 (ipykernel)",
   "language": "python",
   "name": "python3"
  },
  "language_info": {
   "codemirror_mode": {
    "name": "ipython",
    "version": 3
   },
   "file_extension": ".py",
   "mimetype": "text/x-python",
   "name": "python",
   "nbconvert_exporter": "python",
   "pygments_lexer": "ipython3",
   "version": "3.11.4"
  },
  "varInspector": {
   "cols": {
    "lenName": 16,
    "lenType": 16,
    "lenVar": 40
   },
   "kernels_config": {
    "python": {
     "delete_cmd_postfix": "",
     "delete_cmd_prefix": "del ",
     "library": "var_list.py",
     "varRefreshCmd": "print(var_dic_list())"
    },
    "r": {
     "delete_cmd_postfix": ") ",
     "delete_cmd_prefix": "rm(",
     "library": "var_list.r",
     "varRefreshCmd": "cat(var_dic_list()) "
    }
   },
   "types_to_exclude": [
    "module",
    "function",
    "builtin_function_or_method",
    "instance",
    "_Feature"
   ],
   "window_display": false
  }
 },
 "nbformat": 4,
 "nbformat_minor": 1
}
