version https://git-lfs.github.com/spec/v1
oid sha256:6e7b06c7a3e827e5e6feaf715688fbbf0b8e6311831f994f895bdb6054b8ff12
size 143991
