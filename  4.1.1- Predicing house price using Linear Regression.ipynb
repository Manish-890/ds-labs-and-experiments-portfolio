version https://git-lfs.github.com/spec/v1
oid sha256:dcc741e9a0330ec2f45cd592e397a54cda8b5196b405ea5f892c249316850c38
size 241038
