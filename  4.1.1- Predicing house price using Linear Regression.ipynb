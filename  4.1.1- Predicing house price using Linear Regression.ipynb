{
 "cells": [
  {
   "cell_type": "markdown",
   "metadata": {
    "id": "jZSSKjAWXd3j"
   },
   "source": [
    "<div>\n",
    "<img src=https://www.institutedata.com/wp-content/uploads/2019/10/iod_h_tp_primary_c.svg width=\"300\">\n",
    "</div>"
   ]
  },
  {
   "cell_type": "markdown",
   "metadata": {
    "id": "2Ms9riXMXd3k"
   },
   "source": [
    "# Linear Regression"
   ]
  },
  {
   "cell_type": "markdown",
   "metadata": {
    "id": "twocr7v8Xd3l"
   },
   "source": [
    "## Prediction of House Price Using Linear Regression"
   ]
  },
  {
   "cell_type": "markdown",
   "metadata": {
    "id": "0j3ZiTCPXd3m"
   },
   "source": [
    "### Data\n",
    "\n",
    "The Sacramento real estate transactions file is a list of 985 real estate transactions in the Sacramento area reported over a five-day period, as reported by the Sacramento Bee."
   ]
  },
  {
   "cell_type": "code",
   "execution_count": 15,
   "metadata": {
    "executionInfo": {
     "elapsed": 843,
     "status": "ok",
     "timestamp": 1680327381809,
     "user": {
      "displayName": "Maheshkumar Paik",
      "userId": "02349378107593826691"
     },
     "user_tz": -480
    },
    "id": "hejYh49cXd3n"
   },
   "outputs": [],
   "source": [
    "import pandas as pd\n",
    "import numpy as np\n",
    "import pandas as pd\n",
    "import matplotlib.pyplot as plt\n",
    "\n",
    "%matplotlib inline"
   ]
  },
  {
   "cell_type": "markdown",
   "metadata": {
    "id": "BlumKNPDXd3q"
   },
   "source": [
    "### 1. Explore Data"
   ]
  },
  {
   "cell_type": "markdown",
   "metadata": {
    "id": "h1FUHCAnXd3r"
   },
   "source": [
    "Perform EDA on this dataset. Use what you have learned so far. Be creative. List all your findings."
   ]
  },
  {
   "cell_type": "code",
   "execution_count": 17,
   "metadata": {
    "executionInfo": {
     "elapsed": 3,
     "status": "ok",
     "timestamp": 1680326076174,
     "user": {
      "displayName": "Maheshkumar Paik",
      "userId": "02349378107593826691"
     },
     "user_tz": -480
    },
    "id": "C8BX-oTKXd3s"
   },
   "outputs": [],
   "source": [
    "# Read CSV\n",
    "house_csv = \"../../data/Sacramento_transactions.csv\""
   ]
  },
  {
   "cell_type": "code",
   "execution_count": 18,
   "metadata": {},
   "outputs": [],
   "source": [
    "df=pd.read_csv(\"Sacramento_transactions.csv\")\n"
   ]
  },
  {
   "cell_type": "code",
   "execution_count": 19,
   "metadata": {},
   "outputs": [
    {
     "data": {
      "text/plain": [
       "(985, 12)"
      ]
     },
     "execution_count": 19,
     "metadata": {},
     "output_type": "execute_result"
    }
   ],
   "source": [
    "df.shape"
   ]
  },
  {
   "cell_type": "code",
   "execution_count": 20,
   "metadata": {
    "scrolled": true
   },
   "outputs": [
    {
     "data": {
      "text/html": [
       "<div>\n",
       "<style scoped>\n",
       "    .dataframe tbody tr th:only-of-type {\n",
       "        vertical-align: middle;\n",
       "    }\n",
       "\n",
       "    .dataframe tbody tr th {\n",
       "        vertical-align: top;\n",
       "    }\n",
       "\n",
       "    .dataframe thead th {\n",
       "        text-align: right;\n",
       "    }\n",
       "</style>\n",
       "<table border=\"1\" class=\"dataframe\">\n",
       "  <thead>\n",
       "    <tr style=\"text-align: right;\">\n",
       "      <th></th>\n",
       "      <th>street</th>\n",
       "      <th>city</th>\n",
       "      <th>zip</th>\n",
       "      <th>state</th>\n",
       "      <th>beds</th>\n",
       "      <th>baths</th>\n",
       "      <th>sq__ft</th>\n",
       "      <th>type</th>\n",
       "      <th>sale_date</th>\n",
       "      <th>price</th>\n",
       "      <th>latitude</th>\n",
       "      <th>longitude</th>\n",
       "    </tr>\n",
       "  </thead>\n",
       "  <tbody>\n",
       "    <tr>\n",
       "      <th>0</th>\n",
       "      <td>3526 HIGH ST</td>\n",
       "      <td>SACRAMENTO</td>\n",
       "      <td>95838</td>\n",
       "      <td>CA</td>\n",
       "      <td>2</td>\n",
       "      <td>1</td>\n",
       "      <td>836</td>\n",
       "      <td>Residential</td>\n",
       "      <td>Wed May 21 00:00:00 EDT 2008</td>\n",
       "      <td>59222</td>\n",
       "      <td>38.631913</td>\n",
       "      <td>-121.434879</td>\n",
       "    </tr>\n",
       "    <tr>\n",
       "      <th>1</th>\n",
       "      <td>51 OMAHA CT</td>\n",
       "      <td>SACRAMENTO</td>\n",
       "      <td>95823</td>\n",
       "      <td>CA</td>\n",
       "      <td>3</td>\n",
       "      <td>1</td>\n",
       "      <td>1167</td>\n",
       "      <td>Residential</td>\n",
       "      <td>Wed May 21 00:00:00 EDT 2008</td>\n",
       "      <td>68212</td>\n",
       "      <td>38.478902</td>\n",
       "      <td>-121.431028</td>\n",
       "    </tr>\n",
       "    <tr>\n",
       "      <th>2</th>\n",
       "      <td>2796 BRANCH ST</td>\n",
       "      <td>SACRAMENTO</td>\n",
       "      <td>95815</td>\n",
       "      <td>CA</td>\n",
       "      <td>2</td>\n",
       "      <td>1</td>\n",
       "      <td>796</td>\n",
       "      <td>Residential</td>\n",
       "      <td>Wed May 21 00:00:00 EDT 2008</td>\n",
       "      <td>68880</td>\n",
       "      <td>38.618305</td>\n",
       "      <td>-121.443839</td>\n",
       "    </tr>\n",
       "    <tr>\n",
       "      <th>3</th>\n",
       "      <td>2805 JANETTE WAY</td>\n",
       "      <td>SACRAMENTO</td>\n",
       "      <td>95815</td>\n",
       "      <td>CA</td>\n",
       "      <td>2</td>\n",
       "      <td>1</td>\n",
       "      <td>852</td>\n",
       "      <td>Residential</td>\n",
       "      <td>Wed May 21 00:00:00 EDT 2008</td>\n",
       "      <td>69307</td>\n",
       "      <td>38.616835</td>\n",
       "      <td>-121.439146</td>\n",
       "    </tr>\n",
       "    <tr>\n",
       "      <th>4</th>\n",
       "      <td>6001 MCMAHON DR</td>\n",
       "      <td>SACRAMENTO</td>\n",
       "      <td>95824</td>\n",
       "      <td>CA</td>\n",
       "      <td>2</td>\n",
       "      <td>1</td>\n",
       "      <td>797</td>\n",
       "      <td>Residential</td>\n",
       "      <td>Wed May 21 00:00:00 EDT 2008</td>\n",
       "      <td>81900</td>\n",
       "      <td>38.519470</td>\n",
       "      <td>-121.435768</td>\n",
       "    </tr>\n",
       "    <tr>\n",
       "      <th>5</th>\n",
       "      <td>5828 PEPPERMILL CT</td>\n",
       "      <td>SACRAMENTO</td>\n",
       "      <td>95841</td>\n",
       "      <td>CA</td>\n",
       "      <td>3</td>\n",
       "      <td>1</td>\n",
       "      <td>1122</td>\n",
       "      <td>Condo</td>\n",
       "      <td>Wed May 21 00:00:00 EDT 2008</td>\n",
       "      <td>89921</td>\n",
       "      <td>38.662595</td>\n",
       "      <td>-121.327813</td>\n",
       "    </tr>\n",
       "    <tr>\n",
       "      <th>6</th>\n",
       "      <td>6048 OGDEN NASH WAY</td>\n",
       "      <td>SACRAMENTO</td>\n",
       "      <td>95842</td>\n",
       "      <td>CA</td>\n",
       "      <td>3</td>\n",
       "      <td>2</td>\n",
       "      <td>1104</td>\n",
       "      <td>Residential</td>\n",
       "      <td>Wed May 21 00:00:00 EDT 2008</td>\n",
       "      <td>90895</td>\n",
       "      <td>38.681659</td>\n",
       "      <td>-121.351705</td>\n",
       "    </tr>\n",
       "    <tr>\n",
       "      <th>7</th>\n",
       "      <td>2561 19TH AVE</td>\n",
       "      <td>SACRAMENTO</td>\n",
       "      <td>95820</td>\n",
       "      <td>CA</td>\n",
       "      <td>3</td>\n",
       "      <td>1</td>\n",
       "      <td>1177</td>\n",
       "      <td>Residential</td>\n",
       "      <td>Wed May 21 00:00:00 EDT 2008</td>\n",
       "      <td>91002</td>\n",
       "      <td>38.535092</td>\n",
       "      <td>-121.481367</td>\n",
       "    </tr>\n",
       "    <tr>\n",
       "      <th>8</th>\n",
       "      <td>11150 TRINITY RIVER DR Unit 114</td>\n",
       "      <td>RANCHO CORDOVA</td>\n",
       "      <td>95670</td>\n",
       "      <td>CA</td>\n",
       "      <td>2</td>\n",
       "      <td>2</td>\n",
       "      <td>941</td>\n",
       "      <td>Condo</td>\n",
       "      <td>Wed May 21 00:00:00 EDT 2008</td>\n",
       "      <td>94905</td>\n",
       "      <td>38.621188</td>\n",
       "      <td>-121.270555</td>\n",
       "    </tr>\n",
       "    <tr>\n",
       "      <th>9</th>\n",
       "      <td>7325 10TH ST</td>\n",
       "      <td>RIO LINDA</td>\n",
       "      <td>95673</td>\n",
       "      <td>CA</td>\n",
       "      <td>3</td>\n",
       "      <td>2</td>\n",
       "      <td>1146</td>\n",
       "      <td>Residential</td>\n",
       "      <td>Wed May 21 00:00:00 EDT 2008</td>\n",
       "      <td>98937</td>\n",
       "      <td>38.700909</td>\n",
       "      <td>-121.442979</td>\n",
       "    </tr>\n",
       "  </tbody>\n",
       "</table>\n",
       "</div>"
      ],
      "text/plain": [
       "                            street            city    zip state  beds  baths  \\\n",
       "0                     3526 HIGH ST      SACRAMENTO  95838    CA     2      1   \n",
       "1                      51 OMAHA CT      SACRAMENTO  95823    CA     3      1   \n",
       "2                   2796 BRANCH ST      SACRAMENTO  95815    CA     2      1   \n",
       "3                 2805 JANETTE WAY      SACRAMENTO  95815    CA     2      1   \n",
       "4                  6001 MCMAHON DR      SACRAMENTO  95824    CA     2      1   \n",
       "5               5828 PEPPERMILL CT      SACRAMENTO  95841    CA     3      1   \n",
       "6              6048 OGDEN NASH WAY      SACRAMENTO  95842    CA     3      2   \n",
       "7                    2561 19TH AVE      SACRAMENTO  95820    CA     3      1   \n",
       "8  11150 TRINITY RIVER DR Unit 114  RANCHO CORDOVA  95670    CA     2      2   \n",
       "9                     7325 10TH ST       RIO LINDA  95673    CA     3      2   \n",
       "\n",
       "   sq__ft         type                     sale_date  price   latitude  \\\n",
       "0     836  Residential  Wed May 21 00:00:00 EDT 2008  59222  38.631913   \n",
       "1    1167  Residential  Wed May 21 00:00:00 EDT 2008  68212  38.478902   \n",
       "2     796  Residential  Wed May 21 00:00:00 EDT 2008  68880  38.618305   \n",
       "3     852  Residential  Wed May 21 00:00:00 EDT 2008  69307  38.616835   \n",
       "4     797  Residential  Wed May 21 00:00:00 EDT 2008  81900  38.519470   \n",
       "5    1122        Condo  Wed May 21 00:00:00 EDT 2008  89921  38.662595   \n",
       "6    1104  Residential  Wed May 21 00:00:00 EDT 2008  90895  38.681659   \n",
       "7    1177  Residential  Wed May 21 00:00:00 EDT 2008  91002  38.535092   \n",
       "8     941        Condo  Wed May 21 00:00:00 EDT 2008  94905  38.621188   \n",
       "9    1146  Residential  Wed May 21 00:00:00 EDT 2008  98937  38.700909   \n",
       "\n",
       "    longitude  \n",
       "0 -121.434879  \n",
       "1 -121.431028  \n",
       "2 -121.443839  \n",
       "3 -121.439146  \n",
       "4 -121.435768  \n",
       "5 -121.327813  \n",
       "6 -121.351705  \n",
       "7 -121.481367  \n",
       "8 -121.270555  \n",
       "9 -121.442979  "
      ]
     },
     "execution_count": 20,
     "metadata": {},
     "output_type": "execute_result"
    }
   ],
   "source": [
    "df.head(10)"
   ]
  },
  {
   "cell_type": "code",
   "execution_count": 21,
   "metadata": {
    "scrolled": true
   },
   "outputs": [
    {
     "data": {
      "text/html": [
       "<div>\n",
       "<style scoped>\n",
       "    .dataframe tbody tr th:only-of-type {\n",
       "        vertical-align: middle;\n",
       "    }\n",
       "\n",
       "    .dataframe tbody tr th {\n",
       "        vertical-align: top;\n",
       "    }\n",
       "\n",
       "    .dataframe thead th {\n",
       "        text-align: right;\n",
       "    }\n",
       "</style>\n",
       "<table border=\"1\" class=\"dataframe\">\n",
       "  <thead>\n",
       "    <tr style=\"text-align: right;\">\n",
       "      <th></th>\n",
       "      <th>zip</th>\n",
       "      <th>beds</th>\n",
       "      <th>baths</th>\n",
       "      <th>sq__ft</th>\n",
       "      <th>price</th>\n",
       "      <th>latitude</th>\n",
       "      <th>longitude</th>\n",
       "    </tr>\n",
       "  </thead>\n",
       "  <tbody>\n",
       "    <tr>\n",
       "      <th>count</th>\n",
       "      <td>985.000000</td>\n",
       "      <td>985.000000</td>\n",
       "      <td>985.000000</td>\n",
       "      <td>985.000000</td>\n",
       "      <td>985.000000</td>\n",
       "      <td>985.000000</td>\n",
       "      <td>985.000000</td>\n",
       "    </tr>\n",
       "    <tr>\n",
       "      <th>mean</th>\n",
       "      <td>95750.697462</td>\n",
       "      <td>2.911675</td>\n",
       "      <td>1.776650</td>\n",
       "      <td>1314.916751</td>\n",
       "      <td>234144.263959</td>\n",
       "      <td>38.607732</td>\n",
       "      <td>-121.355982</td>\n",
       "    </tr>\n",
       "    <tr>\n",
       "      <th>std</th>\n",
       "      <td>85.176072</td>\n",
       "      <td>1.307932</td>\n",
       "      <td>0.895371</td>\n",
       "      <td>853.048243</td>\n",
       "      <td>138365.839085</td>\n",
       "      <td>0.145433</td>\n",
       "      <td>0.138278</td>\n",
       "    </tr>\n",
       "    <tr>\n",
       "      <th>min</th>\n",
       "      <td>95603.000000</td>\n",
       "      <td>0.000000</td>\n",
       "      <td>0.000000</td>\n",
       "      <td>0.000000</td>\n",
       "      <td>1551.000000</td>\n",
       "      <td>38.241514</td>\n",
       "      <td>-121.551704</td>\n",
       "    </tr>\n",
       "    <tr>\n",
       "      <th>25%</th>\n",
       "      <td>95660.000000</td>\n",
       "      <td>2.000000</td>\n",
       "      <td>1.000000</td>\n",
       "      <td>952.000000</td>\n",
       "      <td>145000.000000</td>\n",
       "      <td>38.482717</td>\n",
       "      <td>-121.446127</td>\n",
       "    </tr>\n",
       "    <tr>\n",
       "      <th>50%</th>\n",
       "      <td>95762.000000</td>\n",
       "      <td>3.000000</td>\n",
       "      <td>2.000000</td>\n",
       "      <td>1304.000000</td>\n",
       "      <td>213750.000000</td>\n",
       "      <td>38.626582</td>\n",
       "      <td>-121.376220</td>\n",
       "    </tr>\n",
       "    <tr>\n",
       "      <th>75%</th>\n",
       "      <td>95828.000000</td>\n",
       "      <td>4.000000</td>\n",
       "      <td>2.000000</td>\n",
       "      <td>1718.000000</td>\n",
       "      <td>300000.000000</td>\n",
       "      <td>38.695589</td>\n",
       "      <td>-121.295778</td>\n",
       "    </tr>\n",
       "    <tr>\n",
       "      <th>max</th>\n",
       "      <td>95864.000000</td>\n",
       "      <td>8.000000</td>\n",
       "      <td>5.000000</td>\n",
       "      <td>5822.000000</td>\n",
       "      <td>884790.000000</td>\n",
       "      <td>39.020808</td>\n",
       "      <td>-120.597599</td>\n",
       "    </tr>\n",
       "  </tbody>\n",
       "</table>\n",
       "</div>"
      ],
      "text/plain": [
       "                zip        beds       baths       sq__ft          price  \\\n",
       "count    985.000000  985.000000  985.000000   985.000000     985.000000   \n",
       "mean   95750.697462    2.911675    1.776650  1314.916751  234144.263959   \n",
       "std       85.176072    1.307932    0.895371   853.048243  138365.839085   \n",
       "min    95603.000000    0.000000    0.000000     0.000000    1551.000000   \n",
       "25%    95660.000000    2.000000    1.000000   952.000000  145000.000000   \n",
       "50%    95762.000000    3.000000    2.000000  1304.000000  213750.000000   \n",
       "75%    95828.000000    4.000000    2.000000  1718.000000  300000.000000   \n",
       "max    95864.000000    8.000000    5.000000  5822.000000  884790.000000   \n",
       "\n",
       "         latitude   longitude  \n",
       "count  985.000000  985.000000  \n",
       "mean    38.607732 -121.355982  \n",
       "std      0.145433    0.138278  \n",
       "min     38.241514 -121.551704  \n",
       "25%     38.482717 -121.446127  \n",
       "50%     38.626582 -121.376220  \n",
       "75%     38.695589 -121.295778  \n",
       "max     39.020808 -120.597599  "
      ]
     },
     "execution_count": 21,
     "metadata": {},
     "output_type": "execute_result"
    }
   ],
   "source": [
    "df.describe()"
   ]
  },
  {
   "cell_type": "code",
   "execution_count": 33,
   "metadata": {},
   "outputs": [],
   "source": [
    "#Removing the \"0\" from the min valve of the df\n",
    "df.drop(df.index[df['sq__ft'] == 0], inplace=True)"
   ]
  },
  {
   "cell_type": "code",
   "execution_count": 34,
   "metadata": {
    "scrolled": true
   },
   "outputs": [
    {
     "data": {
      "text/plain": [
       "street       0\n",
       "city         0\n",
       "zip          0\n",
       "state        0\n",
       "beds         0\n",
       "baths        0\n",
       "sq__ft       0\n",
       "type         0\n",
       "sale_date    0\n",
       "price        0\n",
       "latitude     0\n",
       "longitude    0\n",
       "dtype: int64"
      ]
     },
     "execution_count": 34,
     "metadata": {},
     "output_type": "execute_result"
    }
   ],
   "source": [
    "df.isnull().sum() # Checking if there are any NaN in any of the columns in dataset seems there are none."
   ]
  },
  {
   "cell_type": "code",
   "execution_count": 35,
   "metadata": {},
   "outputs": [
    {
     "name": "stdout",
     "output_type": "stream",
     "text": [
      "<class 'pandas.core.frame.DataFrame'>\n",
      "Int64Index: 814 entries, 0 to 984\n",
      "Data columns (total 12 columns):\n",
      " #   Column     Non-Null Count  Dtype  \n",
      "---  ------     --------------  -----  \n",
      " 0   street     814 non-null    object \n",
      " 1   city       814 non-null    object \n",
      " 2   zip        814 non-null    int64  \n",
      " 3   state      814 non-null    object \n",
      " 4   beds       814 non-null    int64  \n",
      " 5   baths      814 non-null    int64  \n",
      " 6   sq__ft     814 non-null    int64  \n",
      " 7   type       814 non-null    object \n",
      " 8   sale_date  814 non-null    object \n",
      " 9   price      814 non-null    int64  \n",
      " 10  latitude   814 non-null    float64\n",
      " 11  longitude  814 non-null    float64\n",
      "dtypes: float64(2), int64(5), object(5)\n",
      "memory usage: 82.7+ KB\n"
     ]
    }
   ],
   "source": [
    "df.info()"
   ]
  },
  {
   "cell_type": "code",
   "execution_count": 36,
   "metadata": {},
   "outputs": [
    {
     "data": {
      "text/plain": [
       "array(['SACRAMENTO', 'RANCHO CORDOVA', 'RIO LINDA', 'CITRUS HEIGHTS',\n",
       "       'NORTH HIGHLANDS', 'ANTELOPE', 'ELK GROVE', 'ELVERTA', 'GALT',\n",
       "       'CARMICHAEL', 'ORANGEVALE', 'FOLSOM', 'MATHER', 'POLLOCK PINES',\n",
       "       'GOLD RIVER', 'RANCHO MURIETA', 'WILTON', 'GREENWOOD', 'FAIR OAKS',\n",
       "       'PLACERVILLE', 'MEADOW VISTA', 'ROSEVILLE', 'LINCOLN',\n",
       "       'CAMERON PARK', 'ROCKLIN', 'LOOMIS', 'AUBURN', 'EL DORADO HILLS',\n",
       "       'EL DORADO', 'PENRYN', 'GRANITE BAY', 'DIAMOND SPRINGS', 'COOL',\n",
       "       'WALNUT GROVE', 'SLOUGHHOUSE', 'WEST SACRAMENTO'], dtype=object)"
      ]
     },
     "execution_count": 36,
     "metadata": {},
     "output_type": "execute_result"
    }
   ],
   "source": [
    "df['city'].unique()"
   ]
  },
  {
   "cell_type": "code",
   "execution_count": 37,
   "metadata": {},
   "outputs": [
    {
     "data": {
      "text/plain": [
       "<matplotlib.collections.PathCollection at 0x1d13a9d64d0>"
      ]
     },
     "execution_count": 37,
     "metadata": {},
     "output_type": "execute_result"
    },
    {
     "data": {
      "image/png": "[encoded data removed]",
      "text/plain": [
       "<Figure size 640x480 with 1 Axes>"
      ]
     },
     "metadata": {},
     "output_type": "display_data"
    }
   ],
   "source": [
    "plt.scatter(x=df['sq__ft'], y=df['price'])"
   ]
  },
  {
   "cell_type": "markdown",
   "metadata": {
    "id": "sIztKXN7Xd3u"
   },
   "source": [
    "### 2. Predict Price"
   ]
  },
  {
   "cell_type": "markdown",
   "metadata": {
    "id": "hzXJOP2_Xd3v"
   },
   "source": [
    "We are going to predict `price` from available information."
   ]
  },
  {
   "cell_type": "markdown",
   "metadata": {
    "id": "1CMJdXc3Xd3w"
   },
   "source": [
    "#### 2.1 What is the Target Variable? Why?"
   ]
  },
  {
   "cell_type": "markdown",
   "metadata": {
    "colab": {
     "base_uri": "https://localhost:8080/",
     "height": 353
    },
    "executionInfo": {
     "elapsed": 419,
     "status": "error",
     "timestamp": 1680327395610,
     "user": {
      "displayName": "Maheshkumar Paik",
      "userId": "02349378107593826691"
     },
     "user_tz": -480
    },
    "id": "56yN89q2Xd3w",
    "outputId": "1ca23915-94ae-47ec-d221-deb34a1f4bea"
   },
   "source": [
    "**The target variable is the variable whose values are modeled and predicted by other variables. A predictor variable is a variable whose values will be used to predict the value of the target variable.**\n"
   ]
  },
  {
   "cell_type": "markdown",
   "metadata": {
    "id": "7qy-ZmGEXd3z"
   },
   "source": [
    "#### 2.2 List all possible variables which might be Predictor variable."
   ]
  },
  {
   "cell_type": "markdown",
   "metadata": {
    "id": "nfAq28P_Xd30"
   },
   "source": [
    "**The variables i belive that can be used for the prediction are as follows:\n",
    "1)Beds\n",
    "2)Bath\n",
    "3)sq__ft\t\n",
    "4)type**\n"
   ]
  },
  {
   "cell_type": "markdown",
   "metadata": {
    "id": "yFZkIpXhXd32"
   },
   "source": [
    "#### 2.3 Find correlation between variables\n",
    "\n",
    "Find correlation between variables. Which is the best predictor? Why? State your reason."
   ]
  },
  {
   "cell_type": "code",
   "execution_count": 38,
   "metadata": {
    "id": "Nc8FHVnjXd32"
   },
   "outputs": [
    {
     "data": {
      "text/html": [
       "<div>\n",
       "<style scoped>\n",
       "    .dataframe tbody tr th:only-of-type {\n",
       "        vertical-align: middle;\n",
       "    }\n",
       "\n",
       "    .dataframe tbody tr th {\n",
       "        vertical-align: top;\n",
       "    }\n",
       "\n",
       "    .dataframe thead th {\n",
       "        text-align: right;\n",
       "    }\n",
       "</style>\n",
       "<table border=\"1\" class=\"dataframe\">\n",
       "  <thead>\n",
       "    <tr style=\"text-align: right;\">\n",
       "      <th></th>\n",
       "      <th>beds</th>\n",
       "      <th>baths</th>\n",
       "      <th>sq__ft</th>\n",
       "      <th>price</th>\n",
       "    </tr>\n",
       "  </thead>\n",
       "  <tbody>\n",
       "    <tr>\n",
       "      <th>beds</th>\n",
       "      <td>1.000000</td>\n",
       "      <td>0.654746</td>\n",
       "      <td>0.695710</td>\n",
       "      <td>0.441988</td>\n",
       "    </tr>\n",
       "    <tr>\n",
       "      <th>baths</th>\n",
       "      <td>0.654746</td>\n",
       "      <td>1.000000</td>\n",
       "      <td>0.724631</td>\n",
       "      <td>0.501820</td>\n",
       "    </tr>\n",
       "    <tr>\n",
       "      <th>sq__ft</th>\n",
       "      <td>0.695710</td>\n",
       "      <td>0.724631</td>\n",
       "      <td>1.000000</td>\n",
       "      <td>0.693708</td>\n",
       "    </tr>\n",
       "    <tr>\n",
       "      <th>price</th>\n",
       "      <td>0.441988</td>\n",
       "      <td>0.501820</td>\n",
       "      <td>0.693708</td>\n",
       "      <td>1.000000</td>\n",
       "    </tr>\n",
       "  </tbody>\n",
       "</table>\n",
       "</div>"
      ],
      "text/plain": [
       "            beds     baths    sq__ft     price\n",
       "beds    1.000000  0.654746  0.695710  0.441988\n",
       "baths   0.654746  1.000000  0.724631  0.501820\n",
       "sq__ft  0.695710  0.724631  1.000000  0.693708\n",
       "price   0.441988  0.501820  0.693708  1.000000"
      ]
     },
     "execution_count": 38,
     "metadata": {},
     "output_type": "execute_result"
    }
   ],
   "source": [
    "# ANSWER\n",
    "my_corr=df[['beds', 'baths', 'sq__ft', 'price']].copy()\n",
    "my_corr.corr()\n"
   ]
  },
  {
   "cell_type": "markdown",
   "metadata": {},
   "source": [
    "The best predictor i belive is sq__ft because it is having the closest value to 1 having the higher correlation."
   ]
  },
  {
   "cell_type": "markdown",
   "metadata": {
    "id": "1vop_P66Xd35"
   },
   "source": [
    "#### 2.4 What is the simplest way to predict price\n",
    "\n",
    "So we have information for 985 houses. What is the easiest way to predict price of a house?"
   ]
  },
  {
   "cell_type": "markdown",
   "metadata": {
    "id": "p0xBzE9iXd35"
   },
   "source": [
    "The easiest way to predict price of a house is by using the mean or the average"
   ]
  },
  {
   "cell_type": "markdown",
   "metadata": {
    "id": "8uRWVPNuXd38"
   },
   "source": [
    "#### 2.5 Find Residuals\n",
    "\n",
    "Find difference between actual value and predicted value. Use absolute value."
   ]
  },
  {
   "cell_type": "code",
   "execution_count": 43,
   "metadata": {
    "id": "PBzfNQsGXd39"
   },
   "outputs": [
    {
     "data": {
      "text/html": [
       "<div>\n",
       "<style scoped>\n",
       "    .dataframe tbody tr th:only-of-type {\n",
       "        vertical-align: middle;\n",
       "    }\n",
       "\n",
       "    .dataframe tbody tr th {\n",
       "        vertical-align: top;\n",
       "    }\n",
       "\n",
       "    .dataframe thead th {\n",
       "        text-align: right;\n",
       "    }\n",
       "</style>\n",
       "<table border=\"1\" class=\"dataframe\">\n",
       "  <thead>\n",
       "    <tr style=\"text-align: right;\">\n",
       "      <th></th>\n",
       "      <th>price</th>\n",
       "    </tr>\n",
       "  </thead>\n",
       "  <tbody>\n",
       "    <tr>\n",
       "      <th>0</th>\n",
       "      <td>-170226.369779</td>\n",
       "    </tr>\n",
       "    <tr>\n",
       "      <th>1</th>\n",
       "      <td>-161236.369779</td>\n",
       "    </tr>\n",
       "    <tr>\n",
       "      <th>2</th>\n",
       "      <td>-160568.369779</td>\n",
       "    </tr>\n",
       "    <tr>\n",
       "      <th>3</th>\n",
       "      <td>-160141.369779</td>\n",
       "    </tr>\n",
       "    <tr>\n",
       "      <th>4</th>\n",
       "      <td>-147548.369779</td>\n",
       "    </tr>\n",
       "    <tr>\n",
       "      <th>...</th>\n",
       "      <td>...</td>\n",
       "    </tr>\n",
       "    <tr>\n",
       "      <th>980</th>\n",
       "      <td>2976.630221</td>\n",
       "    </tr>\n",
       "    <tr>\n",
       "      <th>981</th>\n",
       "      <td>4551.630221</td>\n",
       "    </tr>\n",
       "    <tr>\n",
       "      <th>982</th>\n",
       "      <td>5551.630221</td>\n",
       "    </tr>\n",
       "    <tr>\n",
       "      <th>983</th>\n",
       "      <td>5852.630221</td>\n",
       "    </tr>\n",
       "    <tr>\n",
       "      <th>984</th>\n",
       "      <td>6289.630221</td>\n",
       "    </tr>\n",
       "  </tbody>\n",
       "</table>\n",
       "<p>814 rows × 1 columns</p>\n",
       "</div>"
      ],
      "text/plain": [
       "             price\n",
       "0   -170226.369779\n",
       "1   -161236.369779\n",
       "2   -160568.369779\n",
       "3   -160141.369779\n",
       "4   -147548.369779\n",
       "..             ...\n",
       "980    2976.630221\n",
       "981    4551.630221\n",
       "982    5551.630221\n",
       "983    5852.630221\n",
       "984    6289.630221\n",
       "\n",
       "[814 rows x 1 columns]"
      ]
     },
     "execution_count": 43,
     "metadata": {},
     "output_type": "execute_result"
    }
   ],
   "source": [
    "# ANSWER\n",
    "df[['price']]- np.mean(df['price'])"
   ]
  },
  {
   "cell_type": "markdown",
   "metadata": {
    "id": "5P61MoAsXd4B"
   },
   "source": [
    "#### 2.6  Predict Using Linear Regression\n",
    "\n",
    "[Simple Linear Regression](https://en.wikipedia.org/wiki/Simple_linear_regression#Fitting_the_regression_line)\n",
    "\n",
    "### $$\\hat{y} = \\beta_0 + \\beta_1 x$$\n",
    "\n",
    "> ### $$ \\beta_1 = \\frac{\\sum_{i=1}^n (y_i - \\bar{y} ) (x_i - \\bar{x} )}{\\sum_{i=1}^n (x_i - \\bar{x})^2} $$\n",
    "\n",
    "and\n",
    "\n",
    "> ### $$ \\beta_0 = \\bar{y} - \\beta_1\\bar{x} $$\n",
    "\n",
    "Given variables:\n",
    "- $\\bar{y}$ : the sample mean of observed values $Y$\n",
    "- $\\bar{x}$ : the sample mean of observed values $X$"
   ]
  },
  {
   "cell_type": "markdown",
   "metadata": {
    "id": "drP_xuAKXd4C"
   },
   "source": [
    "##### 2.7 Define X, Y\n",
    "\n",
    "- X = Predictor Variable \n",
    "- Y = Target Variable"
   ]
  },
  {
   "cell_type": "code",
   "execution_count": 45,
   "metadata": {
    "id": "yPWPQp3VXd4D"
   },
   "outputs": [
    {
     "name": "stdout",
     "output_type": "stream",
     "text": [
      "[ 836 1167  796  852  797 1122 1104 1177  941 1146  909 1289  871 1020\n",
      " 1022 1134  844  795  588 1356 1118 1329 1240 1601  901 1088  963 1119\n",
      " 1380 1248 1039 1152 1380 1116 1039 1418 1082 1472 1146  760 1304 1207\n",
      " 1056 1043 1587 1120 1580 1955 1656 1477 1188 1590 1463 1714 1185 1406\n",
      " 1943 1172 1152 1851 1215 1130 1603 1479 1420 1280 1586 1362 2162 1266\n",
      " 1715 1820  936 1511 1590 1596 1341 2136 1616 1478 1287 1277 1448 2235\n",
      " 2093 1193 2163 1269  958 2508 1305 1591 1326 1843 1921 2790 1541 1018\n",
      " 1672 1380  975 2372 1446 1284 3009 3612 2056 1993 1857 1126 2213 2494\n",
      " 1843 1520 2800 2309 2367 3516 1914 1690 2725 2354 2185 1801 1961 3134\n",
      " 1915 2734 2110 3164 3599 2054 1830 1627 3440 2846 2359 2052 3433 3615\n",
      " 2687 2724 3440 3508 2462 2325  795 1099  840  800  746 1067 1316 1337\n",
      "  868  924  610 1220  722 1643  722 1080 1039 1051  967 1098 1050 1110\n",
      "  888 1120 1080  957  952 1211 1264 1080 1266  994 1202  722 1448 1188\n",
      " 1183 1320 1117 1364 1310 1006 1104  810 1123  904 1156 1321 1392 1439\n",
      " 1159 1671 1740 1265 1007 1716 1685 1829 1555 1120 1137 1174 1393 1289\n",
      " 1799 1953  723  948 1578 1317 1360 1522 1751 1465 1605 1475 1216 1315\n",
      " 1567 1776 2187 1291 1503 2491 1269 1176 1456 1498 1574 2085 2170 1595\n",
      " 1567 1253 1768 2030 1531 1653 2056 2494 1450 2169 1440 1527 1401 1411\n",
      " 1284 2307 1329 1910 1981 2205 1449 1258 2575  539 2208 1108 1595 2159\n",
      " 2295 1838 1900 1718 3389 3260 2016 2607 2724 3746 3192 1247 2581 2068\n",
      " 3992 3397 3881 1598 1929 3070 3984 2222 3838 2846 2484 1624  840  484\n",
      "  970  623  932  796  834  834  924  795 1250  984 1013 1012  795  918\n",
      " 1082  964 1404  625  888 1120 1331 1014 1448  966  779  836 1100 1174\n",
      " 1207 1995  804  958 1366  901  696 1080 1104  972 1390 1354  795  780\n",
      " 1587 1209 1139 1690 1245 1416 1300 1120 1590 1407 1516 1646 1676 1370\n",
      " 1370 1351 1152 1452  990 1162 1182 1112 1100 1280 1280 1039 1159 1917\n",
      " 1520 1204 1120 1436 1451 1638 1000 1152 1154 1353 1329 1356 1505 1009\n",
      " 1144  930 1766 1940 1776 1258 1872 1112 1856 1939  998 1758 2142  950\n",
      " 1739 1516  988 1555 1212 1871 1302  756 2026 1375 1250 1058 1187 1324\n",
      " 1936 2382 1427 1678 1798 2652 1816 3076 1844 1306 2447 1176 1182 1160\n",
      " 1424 1574 1830 1724 1255 2175 1904 1808 2711 1713 1457 2724 1468 2550\n",
      " 1928 1922 1343 1510  960 1559 1624 2992 2109 1524 1248 1876 1851 2218\n",
      " 1394 1410 3468 2346 2347 1659 2442 2155 1810 2789 1606 2166 1871 1800\n",
      " 1683 1596 1179 1639 3281 1697 2085 1744 1939 1788 1691 2002 4303 4246\n",
      " 2274 3056 2503 1905 1320 3037 3741 2660 3357 2896 2025 3788 3670 1166\n",
      "  838  904 1032  904 1080  990  900  861  906 1011 1089  832  800 1292\n",
      "  810 1064  911  846 1320 1410 1115 1169 1164 1341 1219 1127 1272 1253\n",
      " 1120 1118 1890 1260 1400 1264 1060 1132 1466 1092 1628  960 1075 1428\n",
      " 1358 2475 1410 1711 1483 1140 1549 1410 1240 1712 1580 1669 1029 1103\n",
      " 2161 1650 1320 1200 1170 1199 1695 1157 1410 1174 1593 1093 1770 1436\n",
      " 1124 1139 1638 1328 1273 1082 1578  796 1386 1452 1513 1578 1736 1473\n",
      " 1150 1127 1144  972 2306 1479 1040 1430 1800 1953 1120 1232  984 2329\n",
      " 1351 1376 1300 1566 1115 1032 1419 1261 1637 1776 1338 2254 1441 1991\n",
      " 2126 1094 1462 2258 1074 2111 1686 1915 2367 1962 1406 1789 1876 1235\n",
      " 2504 1676 1367 1899 1636 1828 1438 1451 1520 1506 2605 1196 1621 1811\n",
      " 1540 1543 2494 1650 2214 2280 1443 1582 1857 1735 2096 1720 2160 1382\n",
      " 1721 1328 1982 1144 1623 1457 2555 1577 2592 1401 1502 1327 1800 2169\n",
      " 2457 2004 2212 3134 1360 1276 2962 1888 1548 2109 2484 2258 2212 1616\n",
      " 2372 2606 2877 2960 2172 2100 1795 2295 2577 1727 1485 1655 2049 2875\n",
      " 2199 1304 2334 2278 1493 2787 2824 3261 2053 2379 3173 1348 1252 3229\n",
      " 3863 2356 3579 4400 5822 1512  611  876  933  864 1011 1158 1092  956\n",
      " 1139 1058 1040 1354 1051  682 1161 1004 1229 1249 1161 1010 1462 1269\n",
      " 1188 1570 1093  962 1089 1127 1309  970 1144 1000 1206 1285 1543  884\n",
      " 1019 1392  924 1217 1670 1302 1488 1373 1381 1265  881 1608 1344 1202\n",
      " 1104 1859 1232 1638 1177 1582  904 1340 1204 1477 1497  960 1428 1039\n",
      " 1529 1892 1887 1294 1638 1677 1073 1231 1175 1416 1358 1609 1968 1089\n",
      " 1296 1189  795 1371 1310 1262 1740 1517 1450 1416  888 1882 1302 1418\n",
      " 1319 1770 1627 1040  960 1456 1450 1358 1329 1715 1262 2280 1477 1216\n",
      " 1685 1362]\n",
      "[ 59222  68212  68880  69307  81900  89921  90895  91002  94905  98937\n",
      " 100309 106250 106852 107502 108750 110700 113263 116250 120000 121630\n",
      " 122000 122682 123000 124100 125000 126640 127281 129000 131200 132000\n",
      " 133000 134555 136500 138750 141000 146250 147308 148750 149593 150000\n",
      " 152000 154000 156896 161250 161500 164000 165000 166357 166357 168000\n",
      " 170000 173000 174250 174313 178480 178760 179580 181000 181872 182587\n",
      " 182716 182750 183200 188741 189000 192067 194000 194818 195000 198000\n",
      " 199500 200000 200000 208000 212864 221000 221000 223058 227887 231477\n",
      " 234697 235000 236000 236685 237800 240122 242638 244000 244960 245918\n",
      " 250000 250000 250134 254200 254200 258000 260000 260014 265000 265000\n",
      " 271742 273750 275086 280908 280987 282400 285000 287417 291000 292024\n",
      " 297000 297000 298000 299000 304037 311000 315537 320000 328360 334150\n",
      " 335750 335750 344250 346210 347029 347650 351300 370500 372000 375000\n",
      " 381300 381942 387731 391000 394470 395000 400186 415000 425000 430000\n",
      " 460000 461000 489332 510000 539000 660000  69000  70000  71000  78000\n",
      "  78400  80000  89000  90000  90000  92000  93675  98000  98000  99000\n",
      " 100000 106716 111000 111000 114800 120108 123225 123750 125000 125000\n",
      " 126000 129000 134000 135000 135500 140000 140000 142500 143500 145000\n",
      " 145000 145000 146000 148500 149000 150000 150000 152000 156000 156000\n",
      " 156000 157788 161653 161829 165000 168000 169000 175000 176250 179000\n",
      " 180000 180400 182000 184500 185000 189000 194000 195000 200000 205000\n",
      " 205000 205000 207000 211500 215000 215000 222381 225000 225000 225000\n",
      " 228000 229665 230000 230000 230000 234000 235000 236250 245000 245000\n",
      " 245000 250000 250000 250000 255000 256054 257729 260000 261000 264469\n",
      " 265000 270000 270000 275000 275000 280000 286013 292000 292000 293993\n",
      " 294000 296769 300000 300000 300000 300500 305000 319789 330000 330000\n",
      " 331000 334000 336000 339000 339000 345000 350000 356000 361745 361948\n",
      " 370000 385000 399000 402000 406026 420000 425000 445000 450000 460000\n",
      " 460000 465000 471750 484000 485000 495000 572500 582000 613401 680000\n",
      " 699000 839000  40000  48000  61500  62050  65000  65000  68000  68000\n",
      "  77000  82732  84000  84675  85000  90000  90000  91000  95000  97500\n",
      " 100000 100000 101000 102750 112500 113000 114000 114000 114750 115000\n",
      " 115000 116100 119250 120000 120000 120000 120108 121500 121725 122000\n",
      " 123000 125000 125573 126714 126960 127000 127500 130000 133105 136500\n",
      " 139500 140000 140800 145000 147000 149600 150000 150000 155000 155435\n",
      " 155500 158000 158000 160000 160000 164000 164000 165000 167000 167293\n",
      " 167293 168000 170000 170000 170000 174000 178000 180000 180000 180000\n",
      " 182000 188325 191500 192000 192700 195000 197654 198000 200345 203000\n",
      " 207000 208000 210000 212000 213675 213697 215000 215000 215100 217500\n",
      " 218000 220000 221000 222900 223139 225500 228327 230000 230000 230522\n",
      " 231200 232000 232500 233641 234000 234500 235000 236000 236073 238000\n",
      " 238861 239700 240000 240000 241000 245000 246000 247234 247480 249862\n",
      " 251000 252155 254172 258000 260000 261000 261000 262500 266000 266000\n",
      " 270000 274425 275336 277980 280000 284686 284893 285000 285000 285000\n",
      " 289000 295000 296000 296056 297359 299940 305000 311328 313138 316630\n",
      " 320000 320000 325000 328578 331000 340000 345746 351000 353767 356035\n",
      " 360552 362305 365000 370000 378000 388000 395100 400000 408431 416767\n",
      " 423000 427500 430922 445000 450000 452000 470000 475000 484500 500000\n",
      " 506688 528000 579093 636000 668365 676200 677048 691659 760000  30000\n",
      "  55422  63000  65000  65000  65000  66500  71000  75000  77000  85000\n",
      "  95625  96140 104250 105000 108000 109000 115000 115000 115500 115620\n",
      " 116000 122000 122500 123000 124000 124000 124413 125000 130000 131750\n",
      " 137721 137760 138000 140000 145000 145000 150000 150000 151000 155000\n",
      " 155800 156142 158000 159900 160000 161500 161600 162000 165000 165000\n",
      " 167293 168000 168000 168750 168750 170000 170250 173000 175000 176095\n",
      " 176250 178000 179000 180000 180000 180000 181000 182000 182587 185074\n",
      " 185833 186785 187000 188335 190000 190000 190000 190000 191250 193000\n",
      " 193500 195000 195000 195000 198000 199900 200000 201000 204918 205000\n",
      " 205000 205878 207000 207744 209000 210000 210944 213750 215000 215000\n",
      " 216033 220000 220000 220000 220000 220000 220702 221250 222000 222750\n",
      " 225000 225000 228750 229000 230095 232500 233000 233500 239000 240000\n",
      " 240000 240971 242000 243450 243500 246544 246750 247000 249000 249000\n",
      " 250000 250000 252000 255000 255000 255000 257200 260000 260000 263500\n",
      " 266510 275000 276000 276500 278000 279000 280000 280000 285000 288000\n",
      " 289000 290000 290000 293996 294173 295000 298000 299000 300000 300000\n",
      " 300000 300567 303000 305000 310000 310000 310000 311518 312000 315000\n",
      " 315000 315000 315000 320000 322000 325000 328370 330000 331200 332000\n",
      " 334000 335000 341000 346375 349000 350000 350000 350000 351000 360000\n",
      " 367463 380000 380578 386222 395500 397000 400000 413500 415000 420454\n",
      " 425000 441000 445000 446000 450000 455000 525000 545000 575000 575000\n",
      " 598695 600000 610000 884790   2000  56950  60000  61000  62000  68566\n",
      "  70000  80000  85500  92000  93600  95000  97750 104000 105000 107666\n",
      " 109000 110000 110000 112500 114800 116000 121500 122000 123675 126854\n",
      " 127059 128687 129500 130000 131750 132000 134000 134000 142000 143012\n",
      " 145846 147000 148750 150000 150454 151087 157296 157500 160000 160000\n",
      " 161250 164000 165000 165750 166000 169000 170000 170000 170000 170725\n",
      " 171750 172000 173056 174000 174250 176850 179500 185000 188700 189000\n",
      " 189000 189836 190000 191250 191675 195500 198000 200000 200000 200000\n",
      " 201528 204750 205000 205000 205900 207000 207973 208250 208318 209347\n",
      " 211500 212000 213000 216000 216021 219000 219794 220000 220000 220000\n",
      " 223000 224000 224252 225000 228000 229027 229500 230000 230000 232425\n",
      " 234000 235000 235301 235738]\n"
     ]
    }
   ],
   "source": [
    "# ANSWER\n",
    "x = df['sq__ft'].values\n",
    "y = df['price'].values\n",
    "print(x)\n",
    "print(y)"
   ]
  },
  {
   "cell_type": "markdown",
   "metadata": {
    "id": "JkV3m-EqXd4F"
   },
   "source": [
    "##### 2.7.A Calculate beta_1\n",
    "\n",
    " ### $$ \\beta_1 = \\frac{\\sum_{i=1}^n (y_i - \\bar{y} ) (x_i - \\bar{x} )}{\\sum_{i=1}^n (x_i - \\bar{x})^2} $$"
   ]
  },
  {
   "cell_type": "code",
   "execution_count": 64,
   "metadata": {
    "id": "lcI1IAmXXd4G"
   },
   "outputs": [
    {
     "name": "stdout",
     "output_type": "stream",
     "text": [
      "180.80449849831624\n"
     ]
    }
   ],
   "source": [
    "# ANSWER\n",
    "n=len(x)\n",
    "sum_x=0\n",
    "sum_y=0\n",
    "for i in range(n): \n",
    "    sum_x+=abs(x[i]-np.mean(x))\n",
    "    sum_y+=abs(y[i]-np.mean(y))\n",
    "b1= (sum_x*sum_y)/(sum_x**2)\n",
    "print(b1)\n",
    "     "
   ]
  },
  {
   "cell_type": "markdown",
   "metadata": {
    "id": "MoA9ez44Xd4I"
   },
   "source": [
    "##### 2.7.B Calculate beta_0"
   ]
  },
  {
   "cell_type": "markdown",
   "metadata": {
    "id": "V7fug5lMXd4K"
   },
   "source": [
    "### $$ \\beta_0 = \\bar{y} - \\beta_1\\bar{x} $$"
   ]
  },
  {
   "cell_type": "code",
   "execution_count": 53,
   "metadata": {
    "id": "bcu8ZhFLXd4L"
   },
   "outputs": [
    {
     "name": "stdout",
     "output_type": "stream",
     "text": [
      "-58238.01943922567\n"
     ]
    }
   ],
   "source": [
    "# ANSWER\n",
    "b0 = np.mean(y) - b1 * np.mean(x)\n",
    "print(b0)"
   ]
  },
  {
   "cell_type": "markdown",
   "metadata": {
    "id": "Z9EUGv1KXd4N"
   },
   "source": [
    "##### 2.7.C Find Yhat (Predicted Value Using Beta 0 and Beta 1)"
   ]
  },
  {
   "cell_type": "markdown",
   "metadata": {
    "id": "gSRcDL57Xd4O"
   },
   "source": [
    "### $$\\hat{y} = \\beta_0 + \\beta_1 x$$"
   ]
  },
  {
   "cell_type": "code",
   "execution_count": 68,
   "metadata": {
    "id": "lGkoNedwXd4P"
   },
   "outputs": [
    {
     "name": "stdout",
     "output_type": "stream",
     "text": [
      "[ 92914.54130537 152760.83030831  85682.36136543  95807.41328134\n",
      "  85863.16586393 144624.62787589 141370.14690292 154568.87529329\n",
      " 111899.01364769 148963.93583984 106113.26969574 174818.9791251\n",
      "  99242.69875281 126182.56902906 126544.17802605 146794.28185786\n",
      "  94360.97729335  85501.55686694  48075.02567778 186932.88052449\n",
      " 143901.40988189 182051.15906504 165959.55869869 231229.98265658\n",
      " 104666.83370776 138477.27492694 115876.71261465 144082.21438039\n",
      " 191272.18848845 167405.99468667 129617.85450052 150048.76283083\n",
      " 191272.18848845 143539.8008849  129617.85450052 198142.75943139\n",
      " 137392.44793595 207906.2023503  148963.93583984  79173.39941949\n",
      " 177531.04660258 159993.01024824 132691.530975   130341.07249452\n",
      " 228698.7196776  144263.01887889 227433.08818811 295234.77512498\n",
      " 241174.23007399 208810.22484279 156557.72477677 229241.1331731\n",
      " 206278.96186381 251660.89098689 156015.31128128 195973.10544941\n",
      " 293065.121143   153664.8528008  150048.76283083 276431.10728116\n",
      " 161439.44623623 146071.06386387 231591.59165358 209171.83383978\n",
      " 198504.36842838 173191.73863862 228517.9151791  188017.70751548\n",
      " 332661.30631413 170660.47565964 251841.69548539 270826.16782771\n",
      " 110994.9911552  214957.57779173 229241.1331731  230325.96016409\n",
      " 184220.81304702 327960.38935318 233942.05013405 208991.02934129\n",
      " 174457.37012811 172649.32514312 203566.89438634 345860.03470451\n",
      " 320185.79591775 157461.74726927 332842.11081263 171202.88915514\n",
      " 114972.69012216 395219.66279455 177711.85110108 229421.9376716\n",
      " 181508.74556954 274984.67129317 289087.42217604 446206.53137108\n",
      " 220381.71274668 125820.96003206 244067.10204996 191272.18848845\n",
      " 118046.36659663 370630.25099878 203205.28538934 173914.95663261\n",
      " 485802.71654221 594827.82913669 313496.02947331 302105.34606792\n",
      " 277515.93427215 145347.84586988 341882.33573755 392688.39981558\n",
      " 274984.67129317 216584.81827822 448014.57635606 359239.56759339\n",
      " 369726.22850629 577470.59728085 287821.79068655 247321.58302293\n",
      " 434454.23896869 367375.77002581 336819.8097796  267390.88235624\n",
      " 296319.60211597 508403.2788545  288002.59518505 436081.47945517\n",
      " 323259.47239222 513827.41380945 592477.37065621 313134.42047632\n",
      " 272634.21281269 235930.89961753 563729.45539498 456331.58328698\n",
      " 368279.7925183  312772.81147932 562463.82390549 595370.24263219\n",
      " 427583.66802575 434273.43447019 563729.45539498 576024.16129287\n",
      " 386902.65586363 362132.43956936  85501.55686694 140466.12441042\n",
      "  93637.75929936  86405.57935943  76642.13644052 134680.38045848\n",
      " 179700.70058456 183497.59505302  98700.28525731 108825.33717322\n",
      "  52052.72464475 162343.46872872  72302.82847656 238823.77159351\n",
      "  72302.82847656 137030.83893896 129617.85450052 131787.5084825\n",
      " 116599.93060865 140285.31991193 131606.70398401 142454.97389391\n",
      " 102316.37522728 144263.01887889 137030.83893896 114791.88562366\n",
      " 113887.86313117 160716.22824224 170298.86666265 137030.83893896\n",
      " 170660.47565964 121481.6520681  159088.98775575  72302.82847656\n",
      " 203566.89438634 156557.72477677 155653.70228428 180423.91857855\n",
      " 143720.60538339 188379.31651248 178615.87359357 123651.30605008\n",
      " 141370.14690292  88213.62434441 144805.43237438 105209.24720325\n",
      " 150771.98082483 180604.72307705 193441.84247043 201939.65389985\n",
      " 151314.39432032 243886.29755146 256361.80794784 170479.67116114\n",
      " 123832.11054858 252022.49998388 246417.56053044 272453.40831419\n",
      " 222912.97572566 144263.01887889 147336.69535336 154026.4617978\n",
      " 193622.64696893 174818.9791251  267029.27335925 294873.16612799\n",
      "  72483.63297506 113164.64513718 227071.47919112 179881.50508306\n",
      " 187656.09851848 216946.42727521 258350.65743133 206640.57086081\n",
      " 231953.20065057 208448.61584579 161620.25073473 179519.89608606\n",
      " 225082.62970764 262870.76989378 337181.41877659 175180.5881221\n",
      " 213511.14180374 392145.98632008 171202.88915514 154388.07079479\n",
      " 205013.33037432 212607.11931125 226348.26119712 318739.35992976\n",
      " 334107.74230212 230145.15566559 225082.62970764 168310.01717916\n",
      " 261424.3339058  308795.11251236 218573.6677617  240631.81657849\n",
      " 313496.02947331 392688.39981558 203928.50338333 333926.93780362\n",
      " 202120.45839835 217850.4497677  195069.08295692 196877.1279419\n",
      " 173914.95663261 358877.95859639 182051.15906504 287098.57269256\n",
      " 299935.69208594 340435.89974956 203747.69888483 169214.03967166\n",
      " 407333.56419394  39215.60525137 340978.31324506 142093.36489691\n",
      " 230145.15566559 332118.89281864 356708.30461441 274080.64880068\n",
      " 285290.52770758 252384.10898088 554508.42597157 531184.64566529\n",
      " 306263.84953338 413119.30814588 434273.43447019 619055.63193547\n",
      " 518889.9397674  167225.19018817 408418.39118493 315665.68345529\n",
      " 663533.53856605 555954.86195955 643464.23923274 230687.56916108\n",
      " 290533.85816403 496831.79095061 662087.10257807 343509.57622403\n",
      " 635689.64579731 456331.58328698 390880.35483059 235388.48612204\n",
      "  93637.75929936  29271.35783396 117142.34410414  54403.18312523\n",
      " 110271.77316121  85682.36136543  92552.93230837  92552.93230837\n",
      " 108825.33717322  85501.55686694 167767.60368367 119673.60708312\n",
      " 124916.93753957 124736.13304107  85501.55686694 107740.51018223\n",
      " 137392.44793595 116057.51711315 195611.49645241  54764.79212222\n",
      " 102316.37522728 144263.01887889 182412.76806203 125097.74203807\n",
      " 203566.89438634 116419.12611015  82608.68489096  92914.54130537\n",
      " 140646.92890892 154026.4617978  159993.01024824 302466.95506492\n",
      "  87128.79735342 114972.69012216 188740.92550947 104666.83370776\n",
      "  67601.9115156  137030.83893896 141370.14690292 117503.95310114\n",
      " 193080.23347343 186571.27152749  85501.55686694  82789.48938946\n",
      " 228698.7196776  160354.61924524 147698.30435036 247321.58302293\n",
      " 166863.58119118 197781.15043439 176807.82860859 144263.01887889\n",
      " 229241.1331731  196153.90994791 215861.60028422 239366.185089\n",
      " 244790.32004395 189464.14350347 189464.14350347 186028.858032\n",
      " 150048.76283083 204290.11238033 120758.43407411 151856.80781582\n",
      " 155472.89778578 142816.5828909  140646.92890892 173191.73863862\n",
      " 173191.73863862 129617.85450052 151314.39432032 288364.20418205\n",
      " 216584.81827822 159450.59675275 144263.01887889 201397.24040436\n",
      " 204109.30788183 237919.74910102 122566.47905909 150048.76283083\n",
      " 150410.37182783 186390.467029   182051.15906504 186932.88052449\n",
      " 213872.75080074 124193.71954558 148602.32684285 109910.16416421\n",
      " 261062.7249088  292522.70764751 262870.76989378 169214.03967166\n",
      " 280228.00174962 142816.5828909  277335.12977365 292341.90314901\n",
      " 122204.87006209 259616.28892081 329045.21634417 113526.25413417\n",
      " 256181.00344935 215861.60028422 120396.82507711 222912.97572566\n",
      " 160897.03274073 280047.19725112 177169.43760558  78450.1814255\n",
      " 308071.89451836 190368.16599596 167767.60368367 133053.13997199\n",
      " 156376.92027828 181147.13657255 291799.48965351 372438.29598376\n",
      " 199769.99991787 245151.92904095 266848.46886075 421255.51057831\n",
      " 270102.94983372 497916.6179416  275165.47579167 177892.65559958\n",
      " 384190.58838615 154388.07079479 155472.89778578 151495.19881882\n",
      " 199227.58642238 226348.26119712 272634.21281269 253468.93597187\n",
      " 168671.62617616 335011.76479461 286013.74570157 268656.51384573\n",
      " 431922.97598971 251480.08648839 205194.13487282 434273.43447019\n",
      " 207182.9843563  402813.45173148 290353.05366553 289268.22667454\n",
      " 184582.42204401 214776.77329323 115334.29911916 223636.19371965\n",
      " 235388.48612204 482729.04006774 323078.66789372 217308.03627221\n",
      " 167405.99468667 280951.21974362 276431.10728116 342786.35823004\n",
      " 193803.45146743 196696.3234434  568791.98135294 365929.33403782\n",
      " 366110.13853632 241716.64356948 383286.56589366 331395.67482465\n",
      " 269018.12284273 446025.72687258 232134.00514907 333384.52430813\n",
      " 280047.19725112 267210.07785774 246055.95153344 230325.96016409\n",
      " 154930.48429029 238100.55359951 534981.54013375 248587.21451242\n",
      " 318739.35992976 257085.02594184 292341.90314901 265040.42387576\n",
      " 247502.38752143 303732.5865544  719763.73759903 709457.88118463\n",
      " 352911.41014595 494300.52797163 394315.64030206 286194.55020007\n",
      " 180423.91857855 490865.24250016 618151.60944298 422701.9465663\n",
      " 548722.68201962 465371.8082119  307891.09001986 626649.4208724\n",
      " 605314.49004959 152580.02580981  93276.15030236 105209.24720325\n",
      " 128352.22301104 105209.24720325 137030.83893896 120758.43407411\n",
      " 104486.02920926  97434.65376782 105570.85620025 124555.32854257\n",
      " 138658.07942544  92191.32331137  86405.57935943 175361.3926206\n",
      "  88213.62434441 134137.96696298 106474.87869274  94722.58629035\n",
      " 180423.91857855 196696.3234434  143358.9963864  153122.43930531\n",
      " 152218.41681281 184220.81304702 162162.66423022 145528.65036838\n",
      " 171745.30265063 168310.01717916 144263.01887889 143901.40988189\n",
      " 283482.48272259 169575.64866865 194888.27845842 170298.86666265\n",
      " 133414.74896899 146432.67286087 206821.37535931 139200.49292094\n",
      " 236111.70411603 115334.29911916 136126.81644646 199950.80441637\n",
      " 187294.48952149 389253.11434411 196696.3234434  251118.47749139\n",
      " 209895.05183378 147879.10884885 221828.14873467 196696.3234434\n",
      " 165959.55869869 251299.28198989 227433.08818811 243524.68855446\n",
      " 127809.80951554 141189.34240442 332480.50181564 240089.403083\n",
      " 180423.91857855 158727.37875875 153303.2438038  158546.57426026\n",
      " 248225.60551542 150952.78532333 196696.3234434  154026.4617978\n",
      " 229783.54666859 139381.29741943 261785.94290279 201397.24040436\n",
      " 144986.23687288 147698.30435036 237919.74910102 181870.35456654\n",
      " 171926.10714913 137392.44793595 227071.47919112  85682.36136543\n",
      " 192357.01547944 204290.11238033 215319.18678873 227071.47919112\n",
      " 255638.58995385 208087.00684879 149687.15383384 145528.65036838\n",
      " 148602.32684285 117503.95310114 358697.15409789 209171.83383978\n",
      " 129798.65899902 200312.41341337 267210.07785774 294873.16612799\n",
      " 144263.01887889 164513.1227107  119673.60708312 362855.65756335\n",
      " 186028.858032   190548.97049446 176807.82860859 224901.82520914\n",
      " 143358.9963864  128352.22301104 198323.56392989 169756.45316715\n",
      " 237738.94460252 262870.76989378 183678.39955152 349295.32017598\n",
      " 202301.26289685 301743.73707092 326152.34436819 139562.10191793\n",
      " 206098.15736531 350018.53816997 135946.01194797 323440.27689072\n",
      " 246598.36502894 288002.59518505 369726.22850629 296500.40661447\n",
      " 195973.10544941 265221.22837426 280951.21974362 165055.53620619\n",
      " 394496.44480056 244790.32004395 188921.73000797 285109.72320908\n",
      " 237558.14010402 272272.6038157  201758.84940135 204109.30788183\n",
      " 216584.81827822 214053.55529924 412757.69914889 158004.16076476\n",
      " 234846.07262654 269198.92734123 220200.90824818 220743.32174368\n",
      " 392688.39981558 240089.403083   342063.14023605 353996.23713694\n",
      " 202662.87189384 227794.69718511 277515.93427215 255457.78545535\n",
      " 320728.20941325 252745.71797788 332299.69731714 191633.79748545\n",
      " 252926.52247638 181870.35456654 300116.49658444 148602.32684285\n",
      " 235207.68162354 205194.13487282 403717.47422397 226890.67469262\n",
      " 410407.24066841 195069.08295692 213330.33730525 181689.55006804\n",
      " 267210.07785774 333926.93780362 385998.63337114 304094.1955514\n",
      " 341701.53123905 508403.2788545  187656.09851848 172468.52064463\n",
      " 477304.90511279 283120.8737256  221647.34423617 323078.66789372\n",
      " 390880.35483059 350018.53816997 341701.53123905 233942.05013405\n",
      " 370630.25099878 412938.50364739 461936.52274043 476943.29611579\n",
      " 334469.35129912 321451.42740724 266306.05536525 356708.30461441\n",
      " 407695.17319094 254011.34946737 210256.66083077 240993.42557549\n",
      " 312230.39798382 461574.91374343 339351.07275857 177531.04660258\n",
      " 363759.68005584 353634.62813994 211703.09681876 445664.11787558\n",
      " 452353.88432002 531365.45016378 312953.61597782 371895.88248827\n",
      " 515454.65429593 185486.4445365  168129.21268067 525579.70621184\n",
      " 640209.75825977 367737.37902281 588861.28068625 737301.77395337\n",
      " 994405.77081797 215138.38229023  52233.52914325 100146.7212453\n",
      " 110452.5776597   97977.06726332 124555.32854257 151133.58982182\n",
      " 139200.49292094 114611.08112516 147698.30435036 133053.13997199\n",
      " 129798.65899902 186571.27152749 131787.5084825   65070.64853663\n",
      " 151676.00331732 123289.69705308 163970.7092152  167586.79918517\n",
      " 151676.00331732 124374.52404407 206098.15736531 171202.88915514\n",
      " 156557.72477677 225625.04320313 139381.29741943 115695.90811615\n",
      " 138658.07942544 145528.65036838 178435.06909507 117142.34410414\n",
      " 148602.32684285 122566.47905909 159812.20574974 174095.76113111\n",
      " 220743.32174368 101593.15723329 126001.76453056 193441.84247043\n",
      " 108825.33717322 161801.05523323 243705.49305296 177169.43760558\n",
      " 210799.07432627 190006.55699896 191452.99298695 170479.67116114\n",
      " 101050.74373779 232495.61414607 184763.22654251 159088.98775575\n",
      " 141370.14690292 277877.54326914 164513.1227107  237919.74910102\n",
      " 154568.87529329 227794.69718511 105209.24720325 184040.00854852\n",
      " 159450.59675275 208810.22484279 212426.31481275 115334.29911916\n",
      " 199950.80441637 129617.85450052 218212.0587647  283844.09171959\n",
      " 282940.0692271  175723.0016176  237919.74910102 244971.12454245\n",
      " 135765.20744947 164332.3182122  154207.2662963  197781.15043439\n",
      " 187294.48952149 232676.41864457 297585.23360546 138658.07942544\n",
      " 176084.61061459 156738.52927527  85501.55686694 189644.94800197\n",
      " 178615.87359357 169937.25766565 256361.80794784 216042.40478272\n",
      " 203928.50338333 197781.15043439 102316.37522728 282036.04673461\n",
      " 177169.43760558 198142.75943139 180243.11408005 261785.94290279\n",
      " 235930.89961753 129798.65899902 115334.29911916 205013.33037432\n",
      " 203928.50338333 187294.48952149 182051.15906504 251841.69548539\n",
      " 169937.25766565 353996.23713694 208810.22484279 161620.25073473\n",
      " 246417.56053044 188017.70751548]\n"
     ]
    }
   ],
   "source": [
    "# ANSWER\n",
    "yhat= b0 + b1 * x\n",
    "print(yhat)"
   ]
  },
  {
   "cell_type": "markdown",
   "metadata": {
    "id": "h1D-rddfXd4R"
   },
   "source": [
    "##### 2.7.D Find Residuals"
   ]
  },
  {
   "cell_type": "markdown",
   "metadata": {
    "id": "2cha8XAQXd4S"
   },
   "source": [
    "### $$ \\text{residual}_i = y_i - \\hat{y}_i$$"
   ]
  },
  {
   "cell_type": "code",
   "execution_count": 69,
   "metadata": {
    "id": "dLZgRjbGXd4S"
   },
   "outputs": [
    {
     "name": "stdout",
     "output_type": "stream",
     "text": [
      "[3.36925413e+04 8.45488303e+04 1.68023614e+04 2.65004133e+04\n",
      " 3.96316586e+03 5.47036279e+04 5.04751469e+04 6.35668753e+04\n",
      " 1.69940136e+04 5.00269358e+04 5.80426970e+03 6.85689791e+04\n",
      " 7.60930125e+03 1.86805690e+04 1.77941780e+04 3.60942819e+04\n",
      " 1.89020227e+04 3.07484431e+04 7.19249743e+04 6.53028805e+04\n",
      " 2.19014099e+04 5.93691591e+04 4.29595587e+04 1.07129983e+05\n",
      " 2.03331663e+04 1.18372749e+04 1.14042874e+04 1.50822144e+04\n",
      " 6.00721885e+04 3.54059947e+04 3.38214550e+03 1.54937628e+04\n",
      " 5.47721885e+04 4.78980088e+03 1.13821455e+04 5.18927594e+04\n",
      " 9.91555206e+03 5.91562024e+04 6.29064160e+02 7.08266006e+04\n",
      " 2.55310466e+04 5.99301025e+03 2.42044690e+04 3.09089275e+04\n",
      " 6.71987197e+04 1.97369811e+04 6.24330882e+04 1.28877775e+05\n",
      " 7.48172301e+04 4.08102248e+04 1.34422752e+04 5.62411332e+04\n",
      " 3.20289619e+04 7.73478910e+04 2.24646887e+04 1.72131054e+04\n",
      " 1.13485121e+05 2.73351472e+04 3.18232372e+04 9.38441073e+04\n",
      " 2.12765538e+04 3.66789361e+04 4.83915917e+04 2.04308338e+04\n",
      " 9.50436843e+03 1.88752614e+04 3.45179152e+04 6.80029248e+03\n",
      " 1.37661306e+05 2.73395243e+04 5.23416955e+04 7.08261678e+04\n",
      " 8.90050088e+04 6.95757779e+03 1.63771332e+04 9.32596016e+03\n",
      " 3.67791870e+04 1.04902389e+05 6.05505013e+03 2.24859707e+04\n",
      " 6.02396299e+04 6.23506749e+04 3.24331056e+04 1.09175035e+05\n",
      " 8.23857959e+04 8.26602527e+04 9.02041108e+04 7.27971108e+04\n",
      " 1.29987310e+05 1.49301663e+05 7.22881489e+04 2.05780623e+04\n",
      " 6.86252544e+04 2.07846713e+04 3.48874222e+04 1.88206531e+05\n",
      " 3.96182873e+04 1.34193040e+05 2.09328980e+04 7.37278115e+04\n",
      " 1.53695633e+05 9.68802510e+04 7.18807146e+04 1.06993043e+05\n",
      " 2.04815717e+05 3.12427829e+05 2.84960295e+04 1.46883461e+04\n",
      " 1.34840657e+04 1.46676154e+05 4.48823357e+04 9.56883998e+04\n",
      " 2.30153287e+04 8.24151817e+04 1.43977576e+05 4.82395676e+04\n",
      " 5.41892285e+04 2.57470597e+05 4.05382093e+04 8.68284170e+04\n",
      " 9.87042390e+04 3.16257700e+04 7.43019022e+03 7.88191176e+04\n",
      " 5.07093979e+04 1.60753279e+05 6.32974048e+04 6.55814795e+04\n",
      " 4.87405276e+04 1.38827414e+05 2.11177371e+05 6.88075795e+04\n",
      " 1.15096787e+05 1.55069100e+05 1.69259455e+05 6.13315833e+04\n",
      " 3.19062075e+04 1.02227189e+05 1.37463824e+05 1.65370243e+05\n",
      " 3.24163320e+04 2.67265655e+04 7.43974554e+04 6.60241613e+04\n",
      " 1.52097344e+05 2.97867560e+05 1.65015569e+04 7.04661244e+04\n",
      " 2.26377593e+04 8.40557936e+03 1.75786356e+03 5.46803805e+04\n",
      " 9.07007006e+04 9.34975951e+04 8.70028526e+03 1.68253372e+04\n",
      " 4.16222754e+04 6.43434687e+04 2.56971715e+04 1.39823772e+05\n",
      " 2.76971715e+04 3.03148389e+04 1.86178545e+04 2.07875085e+04\n",
      " 1.79993061e+03 2.01773199e+04 8.38170398e+03 1.87049739e+04\n",
      " 2.26836248e+04 1.92630189e+04 1.10308389e+04 1.42081144e+04\n",
      " 2.01121369e+04 2.57162282e+04 3.47988667e+04 2.96916106e+03\n",
      " 3.06604757e+04 2.10183479e+04 1.55889878e+04 7.26971715e+04\n",
      " 5.85668944e+04 1.15577248e+04 9.65370228e+03 3.19239186e+04\n",
      " 5.27939462e+03 3.83793165e+04 2.86158736e+04 2.83486939e+04\n",
      " 1.46298531e+04 6.77863757e+04 1.11945676e+04 5.25787528e+04\n",
      " 1.08810192e+04 1.87757231e+04 2.84418425e+04 3.39396539e+04\n",
      " 1.76856057e+04 6.88862976e+04 8.01118079e+04 8.52032884e+03\n",
      " 5.61678895e+04 7.16225000e+04 6.44175605e+04 8.79534083e+04\n",
      " 3.79129757e+04 4.47369811e+04 4.66633046e+04 4.09735382e+04\n",
      " 6.37735303e+03 3.01810209e+04 6.20292734e+04 8.98731661e+04\n",
      " 1.34516367e+05 9.83353549e+04 1.20714792e+04 3.51184949e+04\n",
      " 3.47249015e+04 8.05357272e+03 3.33506574e+04 1.83594291e+04\n",
      " 3.95320065e+03 2.12163842e+04 6.83797493e+04 5.04801039e+04\n",
      " 4.91737029e+03 2.88707699e+04 1.02181419e+05 6.10694119e+04\n",
      " 3.14888582e+04 1.47145986e+05 7.37971108e+04 9.56119292e+04\n",
      " 4.49866696e+04 3.73928807e+04 2.86517388e+04 6.26853599e+04\n",
      " 7.63787423e+04 2.98548443e+04 3.59173703e+04 9.61589828e+04\n",
      " 3.57566609e+03 3.87951125e+04 5.14263322e+04 3.43681834e+04\n",
      " 3.84960295e+04 1.12688400e+05 8.20844966e+04 4.19269378e+04\n",
      " 8.98795416e+04 7.61425502e+04 9.89309170e+04 9.98918721e+04\n",
      " 1.26085043e+05 5.88779586e+04 1.17948841e+05 1.34014273e+04\n",
      " 5.06430791e+03 2.06468997e+04 1.26252301e+05 1.60785960e+05\n",
      " 7.63335642e+04 2.94784395e+05 4.97831325e+03 1.96906635e+05\n",
      " 1.08854844e+05 1.28811072e+04 6.70830461e+03 8.19193512e+04\n",
      " 7.64544723e+04 1.09563891e+05 1.84508426e+05 1.46184646e+05\n",
      " 9.27361505e+04 1.11193081e+04 2.82474345e+04 1.99055632e+05\n",
      " 9.38899398e+04 2.77774810e+05 4.15816088e+04 1.44334317e+05\n",
      " 2.03533539e+05 9.09548620e+04 1.71714239e+05 2.53312431e+05\n",
      " 1.94466142e+05 1.83179095e+03 8.95871026e+04 2.38490424e+05\n",
      " 2.22886458e+04 2.23668417e+05 3.08119645e+05 6.03611514e+05\n",
      " 5.36377593e+04 1.87286422e+04 5.56423441e+04 7.64681687e+03\n",
      " 4.52717732e+04 2.06823614e+04 2.45529323e+04 2.45529323e+04\n",
      " 3.18253372e+04 2.76955687e+03 8.37676037e+04 3.49986071e+04\n",
      " 3.99169375e+04 3.47361330e+04 4.49844313e+03 1.67405102e+04\n",
      " 4.23924479e+04 1.85575171e+04 9.56114965e+04 4.52352079e+04\n",
      " 1.31637523e+03 4.15130189e+04 6.99127681e+04 1.20977420e+04\n",
      " 8.95668944e+04 2.41912611e+03 3.21413151e+04 2.20854587e+04\n",
      " 2.56469289e+04 3.79264618e+04 4.07430102e+04 1.82466955e+05\n",
      " 3.28712026e+04 5.02730988e+03 6.86329255e+04 1.68331663e+04\n",
      " 5.41230885e+04 1.50308389e+04 1.83701469e+04 7.49604690e+03\n",
      " 6.75072335e+04 5.98572715e+04 4.14584431e+04 4.42105106e+04\n",
      " 1.01198720e+05 3.03546192e+04 1.45933044e+04 1.10821583e+05\n",
      " 2.73635812e+04 5.77811504e+04 3.60078286e+04 7.36981121e+02\n",
      " 8.22411332e+04 4.65539099e+04 6.58616003e+04 8.93661851e+04\n",
      " 8.97903200e+04 3.40291435e+04 3.39641435e+04 2.80288580e+04\n",
      " 7.95123717e+03 4.42901124e+04 3.92415659e+04 1.21431922e+04\n",
      " 8.52710221e+03 2.21834171e+04 2.63530711e+04 5.89873864e+03\n",
      " 5.89873864e+03 3.83821455e+04 1.86856057e+04 1.18364204e+05\n",
      " 4.65848183e+04 1.45494032e+04 3.37369811e+04 2.13972404e+04\n",
      " 2.41093079e+04 5.79197491e+04 5.94335209e+04 3.82762372e+04\n",
      " 4.10896282e+04 5.60953297e+03 1.06488409e+04 8.06711948e+03\n",
      " 1.62187508e+04 7.38062805e+04 5.17426732e+04 9.30898358e+04\n",
      " 5.40627249e+04 8.45227076e+04 5.28707699e+04 4.27859603e+04\n",
      " 6.65530017e+04 7.08804171e+04 6.23351298e+04 7.73419031e+04\n",
      " 9.28951299e+04 4.21162889e+04 1.11045216e+05 1.06473746e+05\n",
      " 3.51810034e+04 7.03839972e+03 1.02742175e+05 2.58702427e+03\n",
      " 6.74299673e+04 5.00471973e+04 5.28305624e+04 1.52071819e+05\n",
      " 7.68718945e+04 4.16318340e+04 6.47323963e+04 1.00587860e+05\n",
      " 7.76230797e+04 5.33528634e+04 5.67994897e+04 1.36438296e+05\n",
      " 3.63030001e+04 7.15192904e+03 2.79874689e+04 1.81555511e+05\n",
      " 3.01029498e+04 2.57916618e+05 3.41654758e+04 6.71073444e+04\n",
      " 1.38190588e+05 9.28459292e+04 9.20071022e+04 9.83668012e+04\n",
      " 5.17724136e+04 2.58067388e+04 1.84622128e+04 4.53106403e+03\n",
      " 9.13283738e+04 7.40117648e+04 2.50137457e+04 6.15651385e+03\n",
      " 1.65922976e+05 1.45199135e+04 6.48058651e+04 1.59848434e+05\n",
      " 6.81530156e+04 1.24833452e+05 1.03530537e+04 4.58222667e+03\n",
      " 1.00310578e+05 7.02232267e+04 1.69665701e+05 6.13638063e+04\n",
      " 5.36115139e+04 1.87729040e+05 2.70786679e+04 7.87479637e+04\n",
      " 1.29953005e+05 1.89887803e+04 2.85688927e+04 3.14583582e+04\n",
      " 1.19334549e+05 1.19933677e+05 2.48791981e+05 4.59293340e+04\n",
      " 4.11101385e+04 8.68613564e+04 5.22865659e+04 8.60432518e+03\n",
      " 7.67278772e+04 9.50257269e+04 1.21632995e+05 2.26504757e+04\n",
      " 8.05048027e+04 9.50949221e+04 1.18944048e+05 1.39674040e+05\n",
      " 2.23069516e+05 1.49899446e+05 1.39881540e+05 1.51412785e+05\n",
      " 8.96916401e+04 1.59681974e+05 1.30658097e+05 1.62459576e+05\n",
      " 1.83419612e+05 1.41267413e+05 2.69763738e+05 2.57457881e+05\n",
      " 1.17088590e+05 1.93005280e+04 9.01843597e+04 2.13805450e+05\n",
      " 3.26264081e+05 3.71347575e+04 3.90586094e+04 2.13298053e+05\n",
      " 1.19642318e+05 2.10828192e+05 3.69156910e+05 6.50095791e+04\n",
      " 1.54685510e+05 1.22580026e+05 3.78541503e+04 4.22092472e+04\n",
      " 6.33522230e+04 4.02092472e+04 7.20308389e+04 5.42584341e+04\n",
      " 3.34860292e+04 2.24346538e+04 2.85708562e+04 3.95553285e+04\n",
      " 4.30330794e+04 3.94867669e+03 1.78444206e+04 7.03613926e+04\n",
      " 1.97863757e+04 2.51379670e+04 8.52512131e+03 2.02774137e+04\n",
      " 6.49239186e+04 8.10763234e+04 2.73589964e+04 3.11224393e+04\n",
      " 2.97184168e+04 6.12208130e+04 3.81626642e+04 2.15286504e+04\n",
      " 4.73323027e+04 4.33100172e+04 1.42630189e+04 1.21514099e+04\n",
      " 1.45761483e+05 3.18156487e+04 5.68882785e+04 3.02988667e+04\n",
      " 1.15852510e+04 1.43267286e+03 5.68213754e+04 1.07995071e+04\n",
      " 8.51117041e+04 3.96657009e+04 1.96731836e+04 4.38088044e+04\n",
      " 2.92944895e+04 2.29353114e+05 3.66963234e+04 8.96184775e+04\n",
      " 4.82950518e+04 1.41208912e+04 5.68281487e+04 3.16963234e+04\n",
      " 1.33344130e+03 8.32992820e+04 5.94330882e+04 7.47746886e+04\n",
      " 4.09401905e+04 2.88106576e+04 1.62230502e+05 6.70894031e+04\n",
      " 5.42391858e+03 1.73676212e+04 2.29467562e+04 1.94534257e+04\n",
      " 6.92256055e+04 2.90472147e+04 1.66963234e+04 2.59735382e+04\n",
      " 4.87835467e+04 4.26187026e+04 7.91989429e+04 1.63232404e+04\n",
      " 4.08467631e+04 3.90866956e+04 5.09197491e+04 6.46464543e+03\n",
      " 1.80738929e+04 5.26075521e+04 3.70714792e+04 1.04317639e+05\n",
      " 1.10701548e+03 1.12901124e+04 2.18191868e+04 3.20714792e+04\n",
      " 6.06385900e+04 1.30870068e+04 4.83128462e+04 5.43713496e+04\n",
      " 5.13976732e+04 8.34960469e+04 1.53779154e+05 4.17183384e+03\n",
      " 7.52013410e+04 5.56558659e+03 6.02100779e+04 8.71291661e+04\n",
      " 6.47369811e+04 4.54868773e+04 9.12703929e+04 1.49105658e+05\n",
      " 2.89711420e+04 2.44510295e+04 3.92251714e+04 4.90182521e+03\n",
      " 7.66410036e+04 9.16477770e+04 2.16764361e+04 5.02435468e+04\n",
      " 1.70369446e+04 4.16207699e+04 3.83216004e+04 1.26545320e+05\n",
      " 2.26987371e+04 7.67437371e+04 9.74023444e+04 8.94378981e+04\n",
      " 2.39968426e+04 1.17518538e+05 9.70539881e+04 8.99402769e+04\n",
      " 7.59836503e+03 4.80025952e+04 1.29726229e+05 5.55294066e+04\n",
      " 4.60268946e+04 2.17712284e+04 3.74512197e+04 8.14884638e+04\n",
      " 1.47746445e+05 2.20967996e+03 6.00782700e+04 3.61097232e+04\n",
      " 1.24418599e+04 2.22726038e+04 5.02411506e+04 5.08906921e+04\n",
      " 3.84151817e+04 4.09464447e+04 1.55557699e+05 1.01995839e+05\n",
      " 2.51539274e+04 5.69892734e+03 4.63090918e+04 5.42566783e+04\n",
      " 1.16688400e+05 3.64105969e+04 6.40631402e+04 7.49962371e+04\n",
      " 7.73371281e+04 5.22053028e+04 7.48406573e+03 3.25422145e+04\n",
      " 3.17282094e+04 3.72542820e+04 4.22996973e+04 1.02362203e+05\n",
      " 4.12464775e+04 1.13129645e+05 2.11649658e+03 1.50397673e+05\n",
      " 6.47923184e+04 9.48058651e+04 1.03717474e+05 7.36763253e+04\n",
      " 1.07407241e+05 1.09930917e+05 9.66696627e+04 1.28310450e+05\n",
      " 4.27899221e+04 2.24089378e+04 7.39986334e+04 1.09058044e+04\n",
      " 2.67015312e+04 1.93403279e+05 1.27343901e+05 1.47531479e+05\n",
      " 1.55304905e+05 4.18791263e+04 1.06722656e+05 6.92133211e+03\n",
      " 5.96803548e+04 1.80185382e+04 7.70153124e+03 1.01057950e+05\n",
      " 2.96302510e+04 6.65635036e+04 1.12936523e+05 1.26943296e+05\n",
      " 1.55306487e+04 2.85485726e+04 8.46939446e+04 3.29169539e+03\n",
      " 4.02321732e+04 1.25988651e+05 1.70321339e+05 1.45228574e+05\n",
      " 8.32696020e+04 6.45749137e+04 6.06489272e+04 2.35968953e+05\n",
      " 5.12403199e+04 6.68193719e+04 2.13296903e+05 4.66411788e+03\n",
      " 7.35388432e+03 8.53654502e+04 1.37046384e+05 8.31041175e+04\n",
      " 9.54534570e+03 3.59513555e+05 4.06870787e+05 4.94202938e+04\n",
      " 4.15147583e+04 2.32262621e+05 2.11387193e+04 1.47488226e+05\n",
      " 9.92405771e+05 1.58188382e+05 7.76647086e+03 3.91467212e+04\n",
      " 4.84525777e+04 2.94110673e+04 5.45553285e+04 7.11335898e+04\n",
      " 5.37004929e+04 2.26110811e+04 5.40983044e+04 3.80531400e+04\n",
      " 3.20486590e+04 8.25712715e+04 2.67875085e+04 4.25953515e+04\n",
      " 4.26760033e+04 1.32896971e+04 5.39707092e+04 5.50867992e+04\n",
      " 3.68760033e+04 8.37452404e+03 8.45981574e+04 4.92028892e+04\n",
      " 3.28827248e+04 9.87710432e+04 1.23222974e+04 1.29910919e+04\n",
      " 9.15807943e+03 1.55286504e+04 4.66850691e+04 1.48576559e+04\n",
      " 1.46023268e+04 1.14335209e+04 1.78122057e+04 3.10837611e+04\n",
      " 7.48973217e+04 4.54068428e+04 2.27482355e+04 4.34418425e+04\n",
      " 4.16286628e+04 1.07140552e+04 8.64094931e+04 1.96694376e+04\n",
      " 5.07990743e+04 3.00065570e+04 3.02029930e+04 6.47967116e+03\n",
      " 6.39492563e+04 6.67456141e+04 1.87632265e+04 9.91101224e+03\n",
      " 2.86298531e+04 1.07877543e+05 5.48687729e+03 6.71947491e+04\n",
      " 1.71811247e+04 5.57946972e+04 6.78467528e+04 1.00400085e+04\n",
      " 1.47994032e+04 3.19602248e+04 3.29263148e+04 6.96657009e+04\n",
      " 1.12508044e+04 5.93821455e+04 2.92120588e+04 9.40080917e+04\n",
      " 9.29400692e+04 1.55269984e+04 4.62447491e+04 4.94711245e+04\n",
      " 6.22347926e+04 3.56676818e+04 4.57927337e+04 2.21884957e+03\n",
      " 1.42335105e+04 2.79264186e+04 9.25852336e+04 6.63419206e+04\n",
      " 2.98153894e+04 5.02614707e+04 1.22471443e+05 1.86050520e+04\n",
      " 2.97021264e+04 3.94097423e+04 4.48618079e+04 4.04240478e+03\n",
      " 9.07149662e+03 1.82188496e+04 1.13704625e+05 6.30360467e+04\n",
      " 4.26245624e+04 2.18572406e+04 3.97568859e+04 4.17859429e+04\n",
      " 1.29308996e+04 9.42013410e+04 1.08917701e+05 1.99866696e+04\n",
      " 2.40714966e+04 4.17325105e+04 4.74488409e+04 2.18416955e+04\n",
      " 6.00627423e+04 1.21571237e+05 2.51897752e+04 7.33797493e+04\n",
      " 1.11165605e+04 4.77202925e+04]\n"
     ]
    }
   ],
   "source": [
    "# ANSWER\n",
    "residuals= abs(y - yhat)\n",
    "print(residuals)"
   ]
  },
  {
   "cell_type": "markdown",
   "metadata": {
    "id": "bpXEda_uXd4U"
   },
   "source": [
    "##### 2.7.E Find R-Square\n",
    "\n",
    "The coefficient $R^2$ is defined as $$ R^2 = 1 - \\frac{SS_{res}}{SS_{tot}} $$, where $$ SS_{res} $$ is the residual sum of squares $$ SS_{res} = \\sum_{i=1}^n \\left(y_i - \\hat{y}_i\\right)^2 $$ and $$ SS_{res} $$ is the total sum of squares $$ SS_{tot} = \\sum_{i=1}^n \\left(y_i - \\bar{y}\\right)^2 $$\n",
    "\n",
    "The best possible score is 1.0 and it can be negative (because the model can be arbitrarily worse).\n",
    "\n",
    "**Write a function to calculate R- Square value.**"
   ]
  },
  {
   "cell_type": "markdown",
   "metadata": {
    "id": "1RamI9LTXd4V"
   },
   "source": [
    "The total sum of squares:\n",
    "\n",
    "### $$ SS_{tot} = \\sum_{i=1}^n \\left(y_i - \\bar{y}\\right)^2 $$\n",
    "\n",
    "The residual sum of squares:\n",
    "\n",
    "### $$ SS_{res} = \\sum_{i=1}^n \\left(y_i - \\hat{y}_i\\right)^2 $$\n",
    "\n",
    "$R^2$:\n",
    "\n",
    "### $$ R^2 = 1 - \\frac{SS_{res}}{SS_{tot}} $$"
   ]
  },
  {
   "cell_type": "code",
   "execution_count": 70,
   "metadata": {
    "id": "vmxloC2RXd4W"
   },
   "outputs": [
    {
     "name": "stdout",
     "output_type": "stream",
     "text": [
      "[2.89770170e+10 2.59971669e+10 2.57822014e+10 2.56452583e+10\n",
      " 2.17705214e+10 1.94678869e+10 1.91970363e+10 1.91673973e+10\n",
      " 1.81019184e+10 1.70332176e+10 1.66769768e+10 1.51778383e+10\n",
      " 1.50298699e+10 1.48709171e+10 1.45680965e+10 1.41011753e+10\n",
      " 1.34990402e+10 1.28138709e+10 1.19789456e+10 1.16248009e+10\n",
      " 1.15451522e+10 1.13990577e+10 1.13312554e+10 1.10982790e+10\n",
      " 1.09094619e+10 1.05695609e+10 1.04381714e+10 1.00898750e+10\n",
      " 9.65274216e+09 9.49618477e+09 9.30228803e+09 9.00475163e+09\n",
      " 8.63939944e+09 8.22619428e+09 7.82311412e+09 6.92196873e+09\n",
      " 6.74704035e+09 6.51222688e+09 6.37688008e+09 6.31204346e+09\n",
      " 5.99824998e+09 5.69245650e+09 5.26384636e+09 4.65101764e+09\n",
      " 4.61698096e+09 4.28348911e+09 4.15359237e+09 3.98052094e+09\n",
      " 3.98052094e+09 3.77590215e+09 3.53410867e+09 3.18641845e+09\n",
      " 3.04686003e+09 3.03990900e+09 2.59777472e+09 2.56931083e+09\n",
      " 2.48685430e+09 2.34724453e+09 2.26351096e+09 2.19598798e+09\n",
      " 2.18391439e+09 2.18073774e+09 2.13891171e+09 1.65708995e+09\n",
      " 1.63607062e+09 1.39736681e+09 1.25658692e+09 1.19926251e+09\n",
      " 1.18669018e+09 9.88999962e+08 8.96904852e+08 8.67206483e+08\n",
      " 8.67206483e+08 4.60032566e+08 2.75041321e+08 7.13749519e+07\n",
      " 7.13749519e+07 4.08368259e+07 2.43787559e+06 4.11534057e+06\n",
      " 2.75481192e+07 3.08205981e+07 4.29238586e+07 5.23688170e+07\n",
      " 6.97497274e+07 1.13926382e+08 1.73966345e+08 2.11749942e+08\n",
      " 2.40610672e+08 2.71248720e+08 4.22369505e+08 4.22369505e+08\n",
      " 4.27895298e+08 6.12643199e+08 6.12643199e+08 8.15195588e+08\n",
      " 9.33402109e+08 9.34257751e+08 1.26391841e+09 1.26391841e+09\n",
      " 1.78875116e+09 1.96263444e+09 2.08279329e+09 2.64809354e+09\n",
      " 2.65623041e+09 2.80387514e+09 3.08598362e+09 3.36036209e+09\n",
      " 3.78860318e+09 3.91570950e+09 4.56322275e+09 4.56322275e+09\n",
      " 4.69932601e+09 4.83742927e+09 5.56346376e+09 6.65066839e+09\n",
      " 7.41125225e+09 8.19959774e+09 9.78351059e+09 1.09624314e+10\n",
      " 1.13000366e+10 1.13000366e+10 1.31794143e+10 1.36332783e+10\n",
      " 1.38252046e+10 1.39716254e+10 1.48478198e+10 1.98955624e+10\n",
      " 2.03209673e+10 2.11852771e+10 2.30589176e+10 2.32543073e+10\n",
      " 2.50533910e+10 2.60989292e+10 2.72321384e+10 2.74073423e+10\n",
      " 2.91513384e+10 3.44294075e+10 3.82404401e+10 4.02209564e+10\n",
      " 5.31540542e+10 5.36161575e+10 6.75395013e+10 7.87092172e+10\n",
      " 9.58222118e+10 1.85374706e+11 2.57436794e+10 2.54237826e+10\n",
      " 2.51058859e+10 2.29366087e+10 2.28156100e+10 2.23348152e+10\n",
      " 1.97257446e+10 1.94458478e+10 1.94458478e+10 1.88920544e+10\n",
      " 1.84344079e+10 1.72786739e+10 1.72786739e+10 1.70167772e+10\n",
      " 1.67568804e+10 1.50632346e+10 1.40300163e+10 1.40300163e+10\n",
      " 1.31442487e+10 1.19553165e+10 1.12834043e+10 1.11721454e+10\n",
      " 1.09094619e+10 1.09094619e+10 1.07015652e+10 1.00898750e+10\n",
      " 9.11039129e+09 8.92049455e+09 8.82629618e+09 8.00101086e+09\n",
      " 8.00101086e+09 7.56001901e+09 7.38712227e+09 7.13152716e+09\n",
      " 7.13152716e+09 7.13152716e+09 6.96363042e+09 6.55263857e+09\n",
      " 6.47194020e+09 6.31204346e+09 6.31204346e+09 5.99824998e+09\n",
      " 5.39466302e+09 5.39466302e+09 5.39466302e+09 5.13520860e+09\n",
      " 4.59621216e+09 4.57237917e+09 4.15359237e+09 3.77590215e+09\n",
      " 3.65400541e+09 2.96462497e+09 2.83006655e+09 2.54503801e+09\n",
      " 2.44514127e+09 2.40574258e+09 2.25134779e+09 2.02035595e+09\n",
      " 1.97565758e+09 1.63607062e+09 1.25658692e+09 1.18669018e+09\n",
      " 8.67206483e+08 5.97722785e+08 5.97722785e+08 5.97722785e+08\n",
      " 5.03929306e+08 3.22143978e+08 2.08755389e+08 2.08755389e+08\n",
      " 4.99477156e+07 1.97879937e+07 1.97879937e+07 1.97879937e+07\n",
      " 2.09777502e+06 4.69286527e+04 3.04295901e+05 3.04295901e+05\n",
      " 3.04295901e+05 2.07173377e+07 3.08205981e+07 4.62621737e+07\n",
      " 2.41853203e+08 2.41853203e+08 2.41853203e+08 4.22369505e+08\n",
      " 4.22369505e+08 4.22369505e+08 6.52885807e+08 7.07859559e+08\n",
      " 7.99794046e+08 9.33402109e+08 9.95505370e+08 1.22644454e+09\n",
      " 1.26391841e+09 1.64443471e+09 1.64443471e+09 2.07495102e+09\n",
      " 2.07495102e+09 2.55546732e+09 3.19955739e+09 3.91270644e+09\n",
      " 3.91270644e+09 4.16600929e+09 4.16691296e+09 4.53206725e+09\n",
      " 4.97753253e+09 4.97753253e+09 4.97753253e+09 5.04833416e+09\n",
      " 5.70804883e+09 8.16142947e+09 1.01106303e+10 1.01106303e+10\n",
      " 1.03127336e+10 1.09310434e+10 1.13532499e+10 1.20015597e+10\n",
      " 1.20015597e+10 1.33521792e+10 1.45326955e+10 1.60153151e+10\n",
      " 1.75023984e+10 1.75561520e+10 1.97547608e+10 2.41963097e+10\n",
      " 2.87477553e+10 2.97740651e+10 3.11796595e+10 3.63099238e+10\n",
      " 3.82404401e+10 4.64625053e+10 4.86430216e+10 5.31540542e+10\n",
      " 5.31540542e+10 5.54845705e+10 5.87100800e+10 6.47965324e+10\n",
      " 6.53066357e+10 7.05176683e+10 1.17684421e+11 1.24292652e+11\n",
      " 1.47419622e+11 2.02996771e+11 2.20478733e+11 3.71553190e+11\n",
      " 3.58906848e+10 3.29235109e+10 2.82066549e+10 2.80222142e+10\n",
      " 2.70432663e+10 2.70432663e+10 2.60655761e+10 2.60655761e+10\n",
      " 2.32405054e+10 2.15256932e+10 2.11552283e+10 2.09593286e+10\n",
      " 2.08653315e+10 1.94458478e+10 1.94458478e+10 1.91679511e+10\n",
      " 1.80763641e+10 1.74103723e+10 1.67568804e+10 1.67568804e+10\n",
      " 1.64989837e+10 1.60524769e+10 1.36769212e+10 1.35602228e+10\n",
      " 1.33283261e+10 1.33283261e+10 1.31557160e+10 1.30984293e+10\n",
      " 1.30984293e+10 1.28478529e+10 1.21436807e+10 1.19789456e+10\n",
      " 1.19789456e+10 1.19789456e+10 1.19553165e+10 1.16528505e+10\n",
      " 1.16043244e+10 1.15451522e+10 1.13312554e+10 1.09094619e+10\n",
      " 1.07900924e+10 1.05543507e+10 1.05038659e+10 1.04956685e+10\n",
      " 1.03934701e+10 9.88997825e+09 9.28204490e+09 8.63939944e+09\n",
      " 8.09070923e+09 8.00101086e+09 7.85853346e+09 7.13152716e+09\n",
      " 6.79773368e+09 6.37576216e+09 6.31204346e+09 6.31204346e+09\n",
      " 5.54255976e+09 5.47797891e+09 5.46836139e+09 5.10486954e+09\n",
      " 5.10486954e+09 4.82307606e+09 4.82307606e+09 4.28348911e+09\n",
      " 4.28348911e+09 4.15359237e+09 3.89979889e+09 3.86328999e+09\n",
      " 3.86328999e+09 3.77590215e+09 3.53410867e+09 3.53410867e+09\n",
      " 3.53410867e+09 3.07452171e+09 2.64693475e+09 2.44514127e+09\n",
      " 2.44514127e+09 2.44514127e+09 2.25134779e+09 1.69113154e+09\n",
      " 1.44007877e+09 1.40238040e+09 1.35044268e+09 1.18669018e+09\n",
      " 1.01088195e+09 9.88999962e+08 8.47006132e+08 6.99516264e+08\n",
      " 5.03929306e+08 4.60032566e+08 3.78239087e+08 3.04445608e+08\n",
      " 2.48799194e+08 2.48105650e+08 2.08755389e+08 2.08755389e+08\n",
      " 2.05875715e+08 1.42763540e+08 1.31065171e+08 8.92716915e+07\n",
      " 7.13749519e+07 4.28811468e+07 3.98081470e+07 1.55896239e+07\n",
      " 1.25747018e+06 3.04295901e+05 3.04295901e+05 1.15268185e+06\n",
      " 3.06820843e+06 6.51081679e+06 9.31244701e+06 1.75781482e+07\n",
      " 2.07173377e+07 2.55189679e+07 3.08205981e+07 4.29238586e+07\n",
      " 4.38857256e+07 7.31303794e+07 8.85976077e+07 1.05095922e+08\n",
      " 1.11336900e+08 1.11336900e+08 1.33440161e+08 2.41853203e+08\n",
      " 2.73956463e+08 3.16328642e+08 3.25139688e+08 4.16716299e+08\n",
      " 4.64472765e+08 5.15591056e+08 6.11257891e+08 8.15195588e+08\n",
      " 9.33402109e+08 9.95505370e+08 9.95505370e+08 1.09241026e+09\n",
      " 1.33602167e+09 1.33602167e+09 1.64443471e+09 2.02289727e+09\n",
      " 2.10567461e+09 2.35531913e+09 2.55546732e+09 3.05119579e+09\n",
      " 3.07410702e+09 3.08598362e+09 3.08598362e+09 3.08598362e+09\n",
      " 3.54639666e+09 4.29701622e+09 4.42911949e+09 4.43657640e+09\n",
      " 4.61185370e+09 4.96906993e+09 5.70804883e+09 6.70427385e+09\n",
      " 7.00395421e+09 7.60063665e+09 8.19959774e+09 8.19959774e+09\n",
      " 9.13011404e+09 9.82668359e+09 1.03127336e+10 1.22216629e+10\n",
      " 1.35251388e+10 1.47747988e+10 1.54551218e+10 1.60241750e+10\n",
      " 1.71881619e+10 1.76508842e+10 1.83742445e+10 1.97547608e+10\n",
      " 2.20675868e+10 2.51386194e+10 2.74404626e+10 2.90878586e+10\n",
      " 3.20347819e+10 3.50882692e+10 3.74622336e+10 3.92244482e+10\n",
      " 4.05916237e+10 4.64625053e+10 4.86430216e+10 4.95292281e+10\n",
      " 5.78650868e+10 6.02956031e+10 6.50513341e+10 7.31981846e+10\n",
      " 7.68618126e+10 8.91330759e+10 1.22251367e+11 1.65284228e+11\n",
      " 1.92647808e+11 1.99587019e+11 2.00345429e+11 2.13638667e+11\n",
      " 2.81485032e+11 3.97796522e+10 3.02851774e+10 2.77050598e+10\n",
      " 2.70432663e+10 2.70432663e+10 2.70432663e+10 2.65521712e+10\n",
      " 2.51058859e+10 2.38542989e+10 2.32405054e+10 2.08653315e+10\n",
      " 1.79086943e+10 1.77711215e+10 1.56746318e+10 1.54873967e+10\n",
      " 1.47497065e+10 1.45078098e+10 1.30984293e+10 1.30984293e+10\n",
      " 1.29842310e+10 1.29568978e+10 1.28705326e+10 1.15451522e+10\n",
      " 1.14379538e+10 1.13312554e+10 1.11193587e+10 1.11193587e+10\n",
      " 1.10324289e+10 1.09094619e+10 9.88997825e+09 9.54497146e+09\n",
      " 8.41391037e+09 8.40675715e+09 8.36280434e+09 8.00101086e+09\n",
      " 7.13152716e+09 7.13152716e+09 6.31204346e+09 6.31204346e+09\n",
      " 6.15414672e+09 5.54255976e+09 5.42408237e+09 5.37382385e+09\n",
      " 5.10486954e+09 4.83697574e+09 4.82307606e+09 4.61698096e+09\n",
      " 4.60340128e+09 4.54928259e+09 4.15359237e+09 4.15359237e+09\n",
      " 3.86328999e+09 3.77590215e+09 3.77590215e+09 3.68429209e+09\n",
      " 3.68429209e+09 3.53410867e+09 3.50444698e+09 3.18641845e+09\n",
      " 2.96462497e+09 2.84658207e+09 2.83006655e+09 2.64693475e+09\n",
      " 2.54503801e+09 2.44514127e+09 2.44514127e+09 2.44514127e+09\n",
      " 2.34724453e+09 2.25134779e+09 2.19598798e+09 1.96908469e+09\n",
      " 1.90230048e+09 1.82016312e+09 1.80186410e+09 1.69030917e+09\n",
      " 1.55617388e+09 1.55617388e+09 1.55617388e+09 1.55617388e+09\n",
      " 1.45911545e+09 1.32848366e+09 1.29228529e+09 1.18669018e+09\n",
      " 1.18669018e+09 1.18669018e+09 9.88999962e+08 8.73106157e+08\n",
      " 8.67206483e+08 8.09309743e+08 6.01739041e+08 5.97722785e+08\n",
      " 5.97722785e+08 5.55562332e+08 5.03929306e+08 4.71079667e+08\n",
      " 4.18135827e+08 3.78239087e+08 3.42411701e+08 2.46438814e+08\n",
      " 2.08755389e+08 2.08755389e+08 1.79972146e+08 8.92716915e+07\n",
      " 8.92716915e+07 8.92716915e+07 8.92716915e+07 8.92716915e+07\n",
      " 7.64989843e+07 6.72132670e+07 5.54782124e+07 4.48681577e+07\n",
      " 1.97879937e+07 1.97879937e+07 4.87720348e+05 2.01035459e+05\n",
      " 4.18130643e+05 9.31244701e+06 1.26140772e+07 1.64157074e+07\n",
      " 9.12336399e+07 1.11336900e+08 1.11336900e+08 1.32771007e+08\n",
      " 1.57543421e+08 1.96045649e+08 1.97448312e+08 2.92260573e+08\n",
      " 2.99346408e+08 3.08059723e+08 3.82266244e+08 3.82266244e+08\n",
      " 4.22369505e+08 4.22369505e+08 5.08576026e+08 6.52885807e+08\n",
      " 6.52885807e+08 6.52885807e+08 7.70152980e+08 9.33402109e+08\n",
      " 9.33402109e+08 1.15951352e+09 1.37356443e+09 2.07495102e+09\n",
      " 2.16705428e+09 2.21385591e+09 2.35726080e+09 2.45536406e+09\n",
      " 2.55546732e+09 2.55546732e+09 3.08598362e+09 3.42829340e+09\n",
      " 3.54639666e+09 3.66649992e+09 3.66649992e+09 4.16639657e+09\n",
      " 4.18927776e+09 4.29701622e+09 4.69932601e+09 4.83742927e+09\n",
      " 4.97753253e+09 4.97753253e+09 4.97753253e+09 5.05785956e+09\n",
      " 5.40984231e+09 5.70804883e+09 6.48856513e+09 6.48856513e+09\n",
      " 6.48856513e+09 6.73542420e+09 6.81477165e+09 7.31908143e+09\n",
      " 7.31908143e+09 7.31908143e+09 7.31908143e+09 8.19959774e+09\n",
      " 8.56580426e+09 9.13011404e+09 9.78548893e+09 1.01106303e+10\n",
      " 1.03533943e+10 1.05168369e+10 1.09310434e+10 1.11411466e+10\n",
      " 1.24437662e+10 1.36718369e+10 1.42925923e+10 1.45326955e+10\n",
      " 1.45326955e+10 1.45326955e+10 1.47747988e+10 1.70437282e+10\n",
      " 1.90480382e+10 2.26657934e+10 2.28401651e+10 2.45779711e+10\n",
      " 2.75731439e+10 2.80735488e+10 2.90878586e+10 3.38750026e+10\n",
      " 3.44294075e+10 3.64831508e+10 3.82404401e+10 4.47540922e+10\n",
      " 4.64625053e+10 4.68946086e+10 4.86430216e+10 5.08735379e+10\n",
      " 8.73507661e+10 9.95728313e+10 1.19405929e+11 1.19405929e+11\n",
      " 1.36343074e+11 1.37308511e+11 1.44819543e+11 4.29472652e+11\n",
      " 5.17327609e+10 2.97556876e+10 2.87127500e+10 2.83748533e+10\n",
      " 2.80389565e+10 2.58831369e+10 2.54237826e+10 2.23348152e+10\n",
      " 2.07211332e+10 1.88920544e+10 1.84547796e+10 1.80763641e+10\n",
      " 1.73444606e+10 1.57372935e+10 1.54873967e+10 1.48309456e+10\n",
      " 1.45078098e+10 1.42679130e+10 1.42679130e+10 1.36769212e+10\n",
      " 1.31442487e+10 1.28705326e+10 1.16528505e+10 1.15451522e+10\n",
      " 1.11880058e+10 1.05256047e+10 1.04835830e+10 1.01528536e+10\n",
      " 9.98967662e+09 9.88997825e+09 9.54497146e+09 9.49618477e+09\n",
      " 9.11039129e+09 9.11039129e+09 7.64721738e+09 7.47124602e+09\n",
      " 6.98935623e+09 6.79773368e+09 6.51222688e+09 6.31204346e+09\n",
      " 6.24011046e+09 6.14050427e+09 5.20596446e+09 5.17656791e+09\n",
      " 4.82307606e+09 4.82307606e+09 4.65101764e+09 4.28348911e+09\n",
      " 4.15359237e+09 4.05748231e+09 4.02569563e+09 3.65400541e+09\n",
      " 3.53410867e+09 3.53410867e+09 3.53410867e+09 3.44843416e+09\n",
      " 3.32910188e+09 3.30031519e+09 3.18009937e+09 3.07452171e+09\n",
      " 3.04686003e+09 2.76658850e+09 2.49483964e+09 1.97565758e+09\n",
      " 1.66042964e+09 1.63607062e+09 1.63607062e+09 1.56913984e+09\n",
      " 1.55617388e+09 1.45911545e+09 1.42682746e+09 1.15249181e+09\n",
      " 9.88999962e+08 8.67206483e+08 8.67206483e+08 8.67206483e+08\n",
      " 7.79547049e+08 6.10009470e+08 5.97722785e+08 5.97722785e+08\n",
      " 5.54525719e+08 5.03929306e+08 4.61191507e+08 4.49370881e+08\n",
      " 4.46492527e+08 4.04065067e+08 3.22143978e+08 3.04445608e+08\n",
      " 2.70548868e+08 1.80858650e+08 1.80294259e+08 1.09168431e+08\n",
      " 9.32068558e+07 8.92716915e+07 8.92716915e+07 8.92716915e+07\n",
      " 4.15814728e+07 2.96847332e+07 2.70022589e+07 1.97879937e+07\n",
      " 2.09777502e+06 1.77552491e+05 2.66567973e+03 3.04295901e+05\n",
      " 3.04295901e+05 8.86032747e+06 2.07173377e+07 3.08205981e+07\n",
      " 3.42532805e+07 3.95594483e+07]\n",
      "[1.13518734e+09 7.14850471e+09 2.82319347e+08 7.02271904e+08\n",
      " 1.57066837e+07 2.99248690e+09 2.54774045e+09 4.04074763e+09\n",
      " 2.88796500e+08 2.50269431e+09 3.36895467e+07 4.70170490e+09\n",
      " 5.79014655e+07 3.48963659e+08 3.16632772e+08 1.30279718e+09\n",
      " 3.57286462e+08 9.45466755e+08 5.17320193e+09 4.26446620e+09\n",
      " 4.79671755e+08 3.52469705e+09 1.84552368e+09 1.14768332e+10\n",
      " 4.13437651e+08 1.40121078e+08 1.30057771e+08 2.27473191e+08\n",
      " 3.60866783e+09 1.25358446e+09 1.14389082e+07 2.40056687e+08\n",
      " 2.99999263e+09 2.29421925e+07 1.29553236e+08 2.69285848e+09\n",
      " 9.83181727e+07 3.49945628e+09 3.95721718e+05 5.01640735e+09\n",
      " 6.51834341e+08 3.59161718e+07 5.85856321e+08 9.55361800e+08\n",
      " 4.51566793e+09 3.89548424e+08 3.89789050e+09 1.66094809e+10\n",
      " 5.59761792e+09 1.66547445e+09 1.80694763e+08 3.16306506e+09\n",
      " 1.02585440e+09 5.98269624e+09 5.04662239e+08 2.96290999e+08\n",
      " 1.28788727e+10 7.47210272e+08 1.01271842e+09 8.80671647e+09\n",
      " 4.52691740e+08 1.34534436e+09 2.34174614e+09 4.17418971e+08\n",
      " 9.03330192e+07 3.56275491e+08 1.19148647e+09 4.62439779e+07\n",
      " 1.89506353e+10 7.47449591e+08 2.73965309e+09 5.01634605e+09\n",
      " 7.92189160e+09 4.84078887e+07 2.68210491e+08 8.69735330e+07\n",
      " 1.35270859e+09 1.10045113e+10 3.66636321e+07 5.05618876e+08\n",
      " 3.62881301e+09 3.88760666e+09 1.05190634e+09 1.19191882e+10\n",
      " 6.78741937e+09 6.83271738e+09 8.13678161e+09 5.29941935e+09\n",
      " 1.68967007e+10 2.22909865e+10 5.22557647e+09 4.23456649e+08\n",
      " 4.70942555e+09 4.32002561e+08 1.21713223e+09 3.54216985e+10\n",
      " 1.56960868e+09 1.80077720e+10 4.38186217e+08 5.43579019e+09\n",
      " 2.36223477e+10 9.38578303e+09 5.16683713e+09 1.14475113e+10\n",
      " 4.19494777e+10 9.76111484e+10 8.12023696e+08 2.15747510e+08\n",
      " 1.81820029e+08 2.15138942e+10 2.01442406e+09 9.15626986e+09\n",
      " 5.29705355e+08 6.79226218e+09 2.07295425e+10 2.32705588e+09\n",
      " 2.93647249e+09 6.62911085e+10 1.64334641e+09 7.53917399e+09\n",
      " 9.74252679e+09 1.00018933e+09 5.52077267e+07 6.21245331e+09\n",
      " 2.57144303e+09 2.58416167e+10 4.00656146e+09 4.30093045e+09\n",
      " 2.37563903e+09 1.92730508e+10 4.45958819e+10 4.73448300e+09\n",
      " 1.32472704e+10 2.40464259e+10 2.86487632e+10 3.76156311e+09\n",
      " 1.01800608e+09 1.04503981e+10 1.88963029e+10 2.73473171e+10\n",
      " 1.05081858e+09 7.14309305e+08 5.53498137e+09 4.35918987e+09\n",
      " 2.31336021e+10 8.87250836e+10 2.72301379e+08 4.96547469e+09\n",
      " 5.12468146e+08 7.06537644e+07 3.09008429e+06 2.98994401e+09\n",
      " 8.22661709e+09 8.74180028e+09 7.56949636e+07 2.83091971e+08\n",
      " 1.73241381e+09 4.14008197e+09 6.60344624e+08 1.95506871e+10\n",
      " 7.67133310e+08 9.18989460e+08 3.46624506e+08 4.32120509e+08\n",
      " 3.23975020e+06 4.07124239e+08 7.02529617e+07 3.49876048e+08\n",
      " 5.14546833e+08 3.71063896e+08 1.21679408e+08 2.01870514e+08\n",
      " 4.04498049e+08 6.61324395e+08 1.21096112e+09 8.81591741e+06\n",
      " 9.40064768e+08 4.41770950e+08 2.43016539e+08 5.28487875e+09\n",
      " 3.43008112e+09 1.33581002e+08 9.31939678e+07 1.01913658e+09\n",
      " 2.78720075e+07 1.47297194e+09 8.18868222e+08 8.03648449e+08\n",
      " 2.14032602e+08 4.59499272e+09 1.25318344e+08 2.76452525e+09\n",
      " 1.18396578e+08 3.52527777e+08 8.08938403e+08 1.15190011e+09\n",
      " 3.12780648e+08 4.74532199e+09 6.41790177e+09 7.25960035e+07\n",
      " 3.15483181e+09 5.12978250e+09 4.14962210e+09 7.73580203e+09\n",
      " 1.43739373e+09 2.00139748e+09 2.17746400e+09 1.67883083e+09\n",
      " 4.06706317e+07 9.10894021e+08 3.84763075e+09 8.07718599e+09\n",
      " 1.80946530e+10 9.66984202e+09 1.45720610e+08 1.23330869e+09\n",
      " 1.20581878e+09 6.48600336e+07 1.11226635e+09 3.37068638e+08\n",
      " 1.56277954e+07 4.50134957e+08 4.67579011e+09 2.54824089e+09\n",
      " 2.41805306e+07 8.33521354e+08 1.04410423e+10 3.72947307e+09\n",
      " 9.91548191e+08 2.16519413e+10 5.44601357e+09 9.14164101e+09\n",
      " 2.02380044e+09 1.39822753e+09 8.20922136e+08 3.92945435e+09\n",
      " 5.83371228e+09 8.91311730e+08 1.29005749e+09 9.24654998e+09\n",
      " 1.27853880e+07 1.50506075e+09 2.64466765e+09 1.18117203e+09\n",
      " 1.48194429e+09 1.26986755e+10 6.73786458e+09 1.75786811e+09\n",
      " 8.07833200e+09 5.79768796e+09 9.78732635e+09 9.97838610e+09\n",
      " 1.58974382e+10 3.46661401e+09 1.39119291e+10 1.79598254e+08\n",
      " 2.56472146e+07 4.26294469e+08 1.59396435e+10 2.58521250e+10\n",
      " 5.82681302e+09 8.68978394e+10 2.47836028e+07 3.87722229e+10\n",
      " 1.18493771e+10 1.65922922e+08 4.50013508e+07 6.71078010e+09\n",
      " 5.84528633e+09 1.20042462e+10 3.40433593e+10 2.13699506e+10\n",
      " 8.59999360e+09 1.23639014e+08 7.97917554e+08 3.96231446e+10\n",
      " 8.81532079e+09 7.71588450e+10 1.72903019e+09 2.08323949e+10\n",
      " 4.14259013e+10 8.27278691e+09 2.94857800e+10 6.41671876e+10\n",
      " 3.78170803e+10 3.35545809e+06 8.02584895e+09 5.68776822e+10\n",
      " 4.96783731e+08 5.00275606e+10 9.49377157e+10 3.64346860e+11\n",
      " 2.87700922e+09 3.50762037e+08 3.09607046e+09 5.84738083e+07\n",
      " 2.04953345e+09 4.27760072e+08 6.02846485e+08 6.02846485e+08\n",
      " 1.01285209e+09 7.67044524e+06 7.01701143e+09 1.22490250e+09\n",
      " 1.59336190e+09 1.20659894e+09 2.02359906e+07 2.80244681e+08\n",
      " 1.79711964e+09 3.44381441e+08 9.14155825e+09 2.04622403e+09\n",
      " 1.73284374e+06 1.72333074e+09 4.88779514e+09 1.46355362e+08\n",
      " 8.02222857e+09 5.85217114e+06 1.03306414e+09 4.87767486e+08\n",
      " 6.57764962e+08 1.43841650e+09 1.65999288e+09 3.32941897e+10\n",
      " 1.08051596e+09 2.52738446e+07 4.71047846e+09 2.83355487e+08\n",
      " 2.92930871e+09 2.25926119e+08 3.37462297e+08 5.61907191e+07\n",
      " 4.55722657e+09 3.58289295e+09 1.71880251e+09 1.95456925e+09\n",
      " 1.02411809e+10 9.21402910e+08 2.12964532e+08 1.22814233e+10\n",
      " 7.48765576e+08 3.33866135e+09 1.29656372e+09 5.43141173e+05\n",
      " 6.76360399e+09 2.16726653e+09 4.33775039e+09 7.98631504e+09\n",
      " 8.06230157e+09 1.15798261e+09 1.15356304e+09 7.85616883e+08\n",
      " 6.32221725e+07 1.96161405e+09 1.53990050e+09 1.47457116e+08\n",
      " 7.27114722e+07 4.92103995e+08 6.94484356e+08 3.47951175e+07\n",
      " 3.47951175e+07 1.47318909e+09 3.49151860e+08 1.40100848e+10\n",
      " 2.17014529e+09 2.11685135e+08 1.13818390e+09 4.57841897e+08\n",
      " 5.81258727e+08 3.35469734e+09 3.53234341e+09 1.46507033e+09\n",
      " 1.68835754e+09 3.14668602e+07 1.13397813e+08 6.50784166e+07\n",
      " 2.63047878e+08 5.44736703e+09 2.67730423e+09 8.66571754e+09\n",
      " 2.92277822e+09 7.14408811e+09 2.79531831e+09 1.83063840e+09\n",
      " 4.42930204e+09 5.02403353e+09 3.88566840e+09 5.98176998e+09\n",
      " 8.62950517e+09 1.77378179e+09 1.23310401e+10 1.13366586e+10\n",
      " 1.23770300e+09 4.95390706e+07 1.05559545e+10 6.69269460e+06\n",
      " 4.54680048e+09 2.50472195e+09 2.79106832e+09 2.31258380e+10\n",
      " 5.90928817e+09 1.73320960e+09 4.19028313e+09 1.01179176e+10\n",
      " 6.02534251e+09 2.84652804e+09 3.22618202e+09 1.86154086e+10\n",
      " 1.31790781e+09 5.11500890e+07 7.83298413e+08 3.29624034e+10\n",
      " 9.06187589e+08 6.65209818e+10 1.16727974e+09 4.50339567e+09\n",
      " 1.90966387e+10 8.62036657e+09 8.46530686e+09 9.67602757e+09\n",
      " 2.68038281e+09 6.65987768e+08 3.40853302e+08 2.05305412e+07\n",
      " 8.34087187e+09 5.47774133e+09 6.25687474e+08 3.79026627e+07\n",
      " 2.75304340e+10 2.10827888e+08 4.19980015e+09 2.55515220e+10\n",
      " 4.64483354e+09 1.55833907e+10 1.07185720e+08 2.09968013e+07\n",
      " 1.00622120e+10 4.93130157e+09 2.87864501e+10 3.76551672e+09\n",
      " 2.87419442e+09 3.52421925e+10 7.33254255e+08 6.20124179e+09\n",
      " 1.68877836e+10 3.60573776e+08 8.16181631e+08 9.89628303e+08\n",
      " 1.42407345e+10 1.43840868e+10 6.18974500e+10 2.10950373e+09\n",
      " 1.69004349e+09 7.54489524e+09 2.73388497e+09 7.40344117e+07\n",
      " 5.88716713e+09 9.02988877e+09 1.47945854e+10 5.13044049e+08\n",
      " 6.48102327e+09 9.04304422e+09 1.41476867e+10 1.95088374e+10\n",
      " 4.97600088e+10 2.24698440e+10 1.95668453e+10 2.29258316e+10\n",
      " 8.04459030e+09 2.54983328e+10 1.70715383e+10 2.63931139e+10\n",
      " 3.36427542e+10 1.99564821e+10 7.27724741e+10 6.62845606e+10\n",
      " 1.37097379e+10 3.72510380e+08 8.13321873e+09 4.57127704e+10\n",
      " 1.06448251e+11 1.37899021e+09 1.52557497e+09 4.54960596e+10\n",
      " 1.43142843e+10 4.44485265e+10 1.36276824e+11 4.22624538e+09\n",
      " 2.39276070e+10 1.50258627e+10 1.43293670e+09 1.78162055e+09\n",
      " 4.01350416e+09 1.61678356e+09 5.18844176e+09 2.94397767e+09\n",
      " 1.12131415e+09 5.03313690e+08 8.16293824e+08 1.56462402e+09\n",
      " 1.85184592e+09 1.55920476e+07 3.18423348e+08 4.95072557e+09\n",
      " 3.91500662e+08 6.31917383e+08 7.26776933e+07 4.11173507e+08\n",
      " 4.21511520e+09 6.57337022e+09 7.48514683e+08 9.68606228e+08\n",
      " 8.83184298e+08 3.74798795e+09 1.45638894e+09 4.63482787e+08\n",
      " 2.24034687e+09 1.87575759e+09 2.03433708e+08 1.47656762e+08\n",
      " 2.12464098e+10 1.01223550e+09 3.23627623e+09 9.18021321e+08\n",
      " 1.34218041e+08 2.05255153e+06 3.22866870e+09 1.16629353e+08\n",
      " 7.24400218e+09 1.57336783e+09 3.87034151e+08 1.91921134e+09\n",
      " 8.58167116e+08 5.26028511e+10 1.34662015e+09 8.03147151e+09\n",
      " 2.33241203e+09 1.99399567e+08 3.22943849e+09 1.00465692e+09\n",
      " 1.77806570e+06 6.93877038e+09 3.53229197e+09 5.59125405e+09\n",
      " 1.67609920e+09 8.30053991e+08 2.63187357e+10 4.50098801e+09\n",
      " 2.94188927e+07 3.01634268e+08 5.26553620e+08 3.78435773e+08\n",
      " 4.79218446e+09 8.43740680e+08 2.78767217e+08 6.74624687e+08\n",
      " 2.37983443e+09 1.81635381e+09 6.27247256e+09 2.66448177e+08\n",
      " 1.66845806e+09 1.52776978e+09 2.59282085e+09 4.17916406e+07\n",
      " 3.26665603e+08 2.76755453e+09 1.37429457e+09 1.08821697e+10\n",
      " 1.22548327e+06 1.27466638e+08 4.76076912e+08 1.02857978e+09\n",
      " 3.67703859e+09 1.71269748e+08 2.33413110e+09 2.95624366e+09\n",
      " 2.64172081e+09 6.97158985e+09 2.36480282e+10 1.74041976e+07\n",
      " 5.65524169e+09 3.09757541e+07 3.62525348e+09 7.59149159e+09\n",
      " 4.19087672e+09 2.06905601e+09 8.33028462e+09 2.22324971e+10\n",
      " 8.39327067e+08 5.97852844e+08 1.53861407e+09 2.40278904e+07\n",
      " 5.87384343e+09 8.39931503e+09 4.69867881e+08 2.52441400e+09\n",
      " 2.90257481e+08 1.73228849e+09 1.46854506e+09 1.60137181e+10\n",
      " 5.15232666e+08 5.88960118e+09 9.48721669e+09 7.99913761e+09\n",
      " 5.75848456e+08 1.38106068e+10 9.41947660e+09 8.08925341e+09\n",
      " 5.77351511e+07 2.30424914e+09 1.68288944e+10 3.08351500e+09\n",
      " 2.11847502e+09 4.73986385e+08 1.40259386e+09 6.64036973e+09\n",
      " 2.18290120e+10 4.88268551e+06 3.60939853e+09 1.30391211e+09\n",
      " 1.54799878e+08 4.96068881e+08 2.52417321e+09 2.58986254e+09\n",
      " 1.47572619e+09 1.67661133e+09 2.41981978e+10 1.04031512e+10\n",
      " 6.32720062e+08 3.24777728e+07 2.14453198e+09 2.94378714e+09\n",
      " 1.36161827e+10 1.32573157e+09 4.10408594e+09 5.62443558e+09\n",
      " 5.98103138e+09 2.72539364e+09 5.60112398e+07 1.05899573e+09\n",
      " 1.00667927e+09 1.38788153e+09 1.78926439e+09 1.04780205e+10\n",
      " 1.70127191e+09 1.27983167e+10 4.47955779e+06 2.26194601e+10\n",
      " 4.19804452e+09 8.98815206e+09 1.07573145e+10 5.42820091e+09\n",
      " 1.15363153e+10 1.20848065e+10 9.34502369e+09 1.64635716e+10\n",
      " 1.83097744e+09 5.02160493e+08 5.47579774e+09 1.18936571e+08\n",
      " 7.12971771e+08 3.74048283e+10 1.62164692e+10 2.17655374e+10\n",
      " 2.41196136e+10 1.75386122e+09 1.13897253e+10 4.79048381e+07\n",
      " 3.56174475e+09 3.24667718e+08 5.93135834e+07 1.02127092e+10\n",
      " 8.77951774e+08 4.43070002e+09 1.27546582e+10 1.61146004e+10\n",
      " 2.41201049e+08 8.15020997e+08 7.17306426e+09 1.08352585e+07\n",
      " 1.61862776e+09 1.58731401e+10 2.90093586e+10 2.10913388e+10\n",
      " 6.93382662e+09 4.16991948e+09 3.67829238e+09 5.56813470e+10\n",
      " 2.62557039e+09 4.46482846e+09 4.54955689e+10 2.17539956e+07\n",
      " 5.40796146e+07 7.28726008e+09 1.87817114e+10 6.90629435e+09\n",
      " 9.11136246e+07 1.29249997e+11 1.65543838e+11 2.44236544e+09\n",
      " 1.72347515e+09 5.39459251e+10 4.46845454e+08 2.17527768e+10\n",
      " 9.84869214e+11 2.50235643e+10 6.03180696e+07 1.53246578e+09\n",
      " 2.34765228e+09 8.65010878e+08 2.97628387e+09 5.05998760e+09\n",
      " 2.88374294e+09 5.11260990e+08 2.92662653e+09 1.44804146e+09\n",
      " 1.02711654e+09 6.81801488e+09 7.17570611e+08 1.81436397e+09\n",
      " 1.82124126e+09 1.76616048e+08 2.91283745e+09 3.03455544e+09\n",
      " 1.35983962e+09 7.01326530e+07 7.15684823e+09 2.42092430e+09\n",
      " 1.08127359e+09 9.75571898e+09 1.51839014e+08 1.68768468e+08\n",
      " 8.38704188e+07 2.41138982e+08 2.17949568e+09 2.20749939e+08\n",
      " 2.13227949e+08 1.30725401e+08 3.17274674e+08 9.66200206e+08\n",
      " 5.60960880e+09 2.06178137e+09 5.17482217e+08 1.88719368e+09\n",
      " 1.73294557e+09 1.14790980e+08 7.46660049e+09 3.86886776e+08\n",
      " 2.58054595e+09 9.00393463e+08 9.12220785e+08 4.19861384e+07\n",
      " 4.08950738e+09 4.45497701e+09 3.52058670e+08 9.82281637e+07\n",
      " 8.19668488e+08 1.16375643e+10 3.01058224e+07 4.51513431e+09\n",
      " 2.95191046e+08 3.11304823e+09 4.60318187e+09 1.00801772e+08\n",
      " 2.19022336e+08 1.02145597e+09 1.08414221e+09 4.85330988e+09\n",
      " 1.26580600e+08 3.52623920e+09 8.53344377e+08 8.83752131e+09\n",
      " 8.63785647e+09 2.41087679e+08 2.13857682e+09 2.44739216e+09\n",
      " 3.87316940e+09 1.27218352e+09 2.09697446e+09 4.92329339e+06\n",
      " 2.02592821e+08 7.79884858e+08 8.57202548e+09 4.40125043e+09\n",
      " 8.88957444e+08 2.52621544e+09 1.49992544e+10 3.46147960e+08\n",
      " 8.82216313e+08 1.55312779e+09 2.01258181e+09 1.63410364e+07\n",
      " 8.22920509e+07 3.31926479e+08 1.29287417e+10 3.97354319e+09\n",
      " 1.81685332e+09 4.77738965e+08 1.58060998e+09 1.74606502e+09\n",
      " 1.67208165e+08 8.87389265e+09 1.18630656e+10 3.99466963e+08\n",
      " 5.79436949e+08 1.74160243e+09 2.25139251e+09 4.77059662e+08\n",
      " 3.60753302e+09 1.47795657e+10 6.34524772e+08 5.38458760e+09\n",
      " 1.23577918e+08 2.27722631e+09]\n"
     ]
    }
   ],
   "source": [
    "# ANSWER\n",
    "#The total sum of squares:\n",
    "SStot= (y - np.mean(y))**2\n",
    "print(SStot)\n",
    "#The residual sum of squares:\n",
    "SSres= (y - yhat)**2\n",
    "print(SSres)"
   ]
  },
  {
   "cell_type": "markdown",
   "metadata": {
    "id": "7xV-CEKcXd4a"
   },
   "source": [
    "##### 2.7.F [BONUS] Draw Plot of Predicted Line"
   ]
  },
  {
   "cell_type": "code",
   "execution_count": 72,
   "metadata": {
    "id": "P4JKmHWSXd4a"
   },
   "outputs": [
    {
     "data": {
      "text/plain": [
       "<function matplotlib.pyplot.show(close=None, block=None)>"
      ]
     },
     "execution_count": 72,
     "metadata": {},
     "output_type": "execute_result"
    },
    {
     "data": {
      "image/png": "[encoded data removed]",
      "text/plain": [
       "<Figure size 640x480 with 1 Axes>"
      ]
     },
     "metadata": {},
     "output_type": "display_data"
    }
   ],
   "source": [
    "# ANSWER\n",
    "plt.scatter(x,y,label='y(x)',c='blue')\n",
    "plt.plot(x, yhat, color='red')\n",
    "plt.show"
   ]
  },
  {
   "cell_type": "markdown",
   "metadata": {
    "id": "oE45Z1qaXd4f"
   },
   "source": [
    "##### 2.7.G [BONUS] Draw Plot of Predicted Line With Residuals"
   ]
  },
  {
   "cell_type": "code",
   "execution_count": 74,
   "metadata": {
    "id": "yBLDh6cAXd4g"
   },
   "outputs": [
    {
     "data": {
      "text/plain": [
       "<function matplotlib.pyplot.show(close=None, block=None)>"
      ]
     },
     "execution_count": 74,
     "metadata": {},
     "output_type": "execute_result"
    },
    {
     "data": {
      "image/png": "[encoded data removed]",
      "text/plain": [
       "<Figure size 640x480 with 1 Axes>"
      ]
     },
     "metadata": {},
     "output_type": "display_data"
    }
   ],
   "source": [
    "# ANSWER\n",
    "fig, ax = plt.subplots()\n",
    "ax.plot(x, yhat, color='red', label='Predicted')\n",
    "ax.scatter(x,y, color='blue', alpha=0.5, label='Actual')\n",
    "ax.scatter(x, residuals, color='green', label='Residuals')\n",
    "ax.legend()\n",
    "plt.show"
   ]
  },
  {
   "cell_type": "markdown",
   "metadata": {
    "id": "NTjW6xxFXd4i"
   },
   "source": [
    "### 3. Predict House Price\n",
    "\n",
    "Let's assume we have information of following house:\n",
    "\n",
    "- street:\t1140 EDMONTON DR\n",
    "- city:\tSACRAMENTO\n",
    "- zip:\t95833\n",
    "- state:\tCA\n",
    "- beds:\t3\n",
    "- baths:\t2\n",
    "- sq__ft:\t1204\n",
    "- type:\tResidential\n",
    "\n",
    "**Predict the price of this house.**"
   ]
  },
  {
   "cell_type": "code",
   "execution_count": 75,
   "metadata": {
    "id": "mz5Lx5jGXd4j"
   },
   "outputs": [
    {
     "name": "stdout",
     "output_type": "stream",
     "text": [
      "159450.59675274708\n"
     ]
    }
   ],
   "source": [
    "# ANSWER\n",
    "area=1204\n",
    "price= b0+b1*area\n",
    "print(price)"
   ]
  },
  {
   "cell_type": "markdown",
   "metadata": {
    "id": "W0FUjKlcl-NJ"
   },
   "source": [
    "\n",
    "\n",
    "---\n",
    "\n",
    "\n",
    "\n",
    "---\n",
    "\n",
    "\n",
    "\n",
    "> > > > > > > > > © 2023 Institute of Data\n",
    "\n",
    "\n",
    "---\n",
    "\n",
    "\n",
    "\n",
    "---\n",
    "\n",
    "\n",
    "\n"
   ]
  }
 ],
 "metadata": {
  "colab": {
   "provenance": []
  },
  "kernelspec": {
   "display_name": "Python 3 (ipykernel)",
   "language": "python",
   "name": "python3"
  },
  "language_info": {
   "codemirror_mode": {
    "name": "ipython",
    "version": 3
   },
   "file_extension": ".py",
   "mimetype": "text/x-python",
   "name": "python",
   "nbconvert_exporter": "python",
   "pygments_lexer": "ipython3",
   "version": "3.11.2"
  }
 },
 "nbformat": 4,
 "nbformat_minor": 1
}
