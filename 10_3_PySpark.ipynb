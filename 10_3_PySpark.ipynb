{
 "cells": [
  {
   "cell_type": "markdown",
   "metadata": {
    "id": "x0wJ6ih0dGue"
   },
   "source": [
    "<div>\n",
    "<img src=https://www.institutedata.com/wp-content/uploads/2019/10/iod_h_tp_primary_c.svg width=\"300\">\n",
    "</div>"
   ]
  },
  {
   "cell_type": "markdown",
   "metadata": {
    "id": "q9ROjAGE3Xwe"
   },
   "source": [
    "#  10.3 PySpark for Big Data"
   ]
  },
  {
   "cell_type": "markdown",
   "metadata": {
    "id": "b1x0a8wS36Dg"
   },
   "source": [
    "## Introduction\n",
    "\n",
    "**Note**: this notebook is to be run in Google Colab on your Google Drive. It will not work locally on your computer.\n",
    "\n",
    "The purpose of this lab is to gain further exposure to cloud computing, often necessary when datasets become too large to manage on a local machine. You will learn how to work with a large dataset through the PySpark Python library with Google Colaboratory (Colab).\n",
    "\n",
    "In Google Colab, a virtual machine is automatically set up to execute your code. The maximum lifetime of such a machine is 12 hours. Note that notebooks will be disconnected from virtual machines if left idle. If this happens simple click on the Connect button to reconnect. If the kernel needs to be restarted (via the Runtime menu), variables may be lost but packages would not need to be reinstalled unless a new machine is assigned.\n",
    "\n",
    "https://research.google.com/colaboratory/faq.html"
   ]
  },
  {
   "cell_type": "markdown",
   "metadata": {
    "id": "9Aofk5PAOjiy"
   },
   "source": [
    "Sign into colab.research.google.com and choose the Upload tab and upload this notebook.  This will automatically create a folder called \"Colab Notebooks\" in your Google Drive (if it does not already exist)."
   ]
  },
  {
   "cell_type": "markdown",
   "metadata": {
    "id": "Q9D2nLzvpvXG"
   },
   "source": [
    "Apache Spark is an open-source cluster-computing framework, able to work with large datasets quickly by performing in-memory caching and computation. Pyspark is a Python API for Spark commonly used to manipulate big data. For reference one useful cheat sheet is available at https://s3.amazonaws.com/assets.datacamp.com/blog_assets/PySpark_SQL_Cheat_Sheet_Python.pdf\n",
    "\n",
    "\n",
    "Fortunately Pyspark is straightforward to setup in Google Colab:"
   ]
  },
  {
   "cell_type": "code",
   "execution_count": 3,
   "metadata": {
    "colab": {
     "base_uri": "https://localhost:8080/"
    },
    "id": "0OjLwFBPiHjE",
    "outputId": "b0baae25-6aa9-42f9-8613-5e2dc311d894"
   },
   "outputs": [
    {
     "name": "stdout",
     "output_type": "stream",
     "text": [
      "Collecting pyspark\n",
      "  Downloading pyspark-3.4.1.tar.gz (310.8 MB)\n",
      "\u001b[2K     \u001b[90m━━━━━━━━━━━━━━━━━━━━━━━━━━━━━━━━━━━━━━━\u001b[0m \u001b[32m310.8/310.8 MB\u001b[0m \u001b[31m4.6 MB/s\u001b[0m eta \u001b[36m0:00:00\u001b[0m\n",
      "\u001b[?25h  Preparing metadata (setup.py) ... \u001b[?25l\u001b[?25hdone\n",
      "Requirement already satisfied: py4j in /usr/local/lib/python3.10/dist-packages (0.10.9.7)\n",
      "Building wheels for collected packages: pyspark\n",
      "  Building wheel for pyspark (setup.py) ... \u001b[?25l\u001b[?25hdone\n",
      "  Created wheel for pyspark: filename=pyspark-3.4.1-py2.py3-none-any.whl size=311285398 sha256=9e5c162c611b6dc885958d507b1cb5cc25b53ba139fbd0e864a3f0c911d3c424\n",
      "  Stored in directory: /root/.cache/pip/wheels/0d/77/a3/ff2f74cc9ab41f8f594dabf0579c2a7c6de920d584206e0834\n",
      "Successfully built pyspark\n",
      "Installing collected packages: pyspark\n",
      "Successfully installed pyspark-3.4.1\n"
     ]
    }
   ],
   "source": [
    "!pip install pyspark py4j"
   ]
  },
  {
   "cell_type": "markdown",
   "metadata": {
    "id": "AqVKUUfaPAFk"
   },
   "source": [
    "To work with Spark DataFrames we firstly need to create a Spark DataFrame:"
   ]
  },
  {
   "cell_type": "code",
   "execution_count": 4,
   "metadata": {
    "id": "EVkw1kauisG7"
   },
   "outputs": [],
   "source": [
    "from pyspark.sql import SparkSession\n",
    "from pyspark.sql.functions import col, trim, avg, round, when\n",
    "from pyspark import SparkFiles\n",
    "\n",
    "import pandas as pd\n",
    "import matplotlib.pyplot as plt\n",
    "import seaborn as sns"
   ]
  },
  {
   "cell_type": "code",
   "execution_count": 5,
   "metadata": {
    "id": "0DhoqhUfjLLR"
   },
   "outputs": [],
   "source": [
    "spark = SparkSession.builder.appName(\"populationdata\").getOrCreate()"
   ]
  },
  {
   "cell_type": "code",
   "execution_count": 6,
   "metadata": {
    "colab": {
     "base_uri": "https://localhost:8080/",
     "height": 219
    },
    "id": "VR8Wz35Srk2e",
    "outputId": "705613a3-5b02-4e6d-a576-9ce85c4078a0"
   },
   "outputs": [
    {
     "data": {
      "text/html": [
       "\n",
       "            <div>\n",
       "                <p><b>SparkSession - in-memory</b></p>\n",
       "                \n",
       "        <div>\n",
       "            <p><b>SparkContext</b></p>\n",
       "\n",
       "            <p><a href=\"http://2a4eabe66ac8:4040\">Spark UI</a></p>\n",
       "\n",
       "            <dl>\n",
       "              <dt>Version</dt>\n",
       "                <dd><code>v3.4.1</code></dd>\n",
       "              <dt>Master</dt>\n",
       "                <dd><code>local[*]</code></dd>\n",
       "              <dt>AppName</dt>\n",
       "                <dd><code>populationdata</code></dd>\n",
       "            </dl>\n",
       "        </div>\n",
       "        \n",
       "            </div>\n",
       "        "
      ],
      "text/plain": [
       "<pyspark.sql.session.SparkSession at 0x7f9e894ad4e0>"
      ]
     },
     "execution_count": 6,
     "metadata": {},
     "output_type": "execute_result"
    }
   ],
   "source": [
    "spark"
   ]
  },
  {
   "cell_type": "markdown",
   "metadata": {
    "id": "fniWWP-mUHbj"
   },
   "source": [
    "## Loading the dataset and EDA"
   ]
  },
  {
   "cell_type": "markdown",
   "metadata": {
    "id": "ARXXUB6T4YyX"
   },
   "source": [
    "The dataset to be analysed in this lab shows population estimates by age and gender:\n",
    "\n",
    "   - PopMale: Male population for the individual age (thousands)\n",
    "   - PopFemale: Female population for the individual age (thousands)\n",
    "   - PopTotal: Total population for the individual age (thousands)\n",
    "\n",
    "Further details can be found at https://population.un.org/wpp/."
   ]
  },
  {
   "cell_type": "code",
   "execution_count": 7,
   "metadata": {
    "id": "SIwmSmYtJSce"
   },
   "outputs": [],
   "source": [
    "from google.colab import drive"
   ]
  },
  {
   "cell_type": "code",
   "execution_count": 8,
   "metadata": {
    "colab": {
     "base_uri": "https://localhost:8080/"
    },
    "id": "UAEvb3tCJP5X",
    "outputId": "28cfd5e5-4c4b-46c1-bdfa-40982343c1b1"
   },
   "outputs": [
    {
     "name": "stdout",
     "output_type": "stream",
     "text": [
      "Mounted at /content/drive\n"
     ]
    }
   ],
   "source": [
    "drive.mount('/content/drive')"
   ]
  },
  {
   "cell_type": "code",
   "execution_count": 9,
   "metadata": {
    "id": "W9PIO6ccj11y"
   },
   "outputs": [],
   "source": [
    "# run this cell after uploading the file into your Colab Notebooks folder\n",
    "df = spark.read.csv(r\"/content/drive/MyDrive/Colab Notebooks/WPP2019_PopulationBySingleAgeSex_1950-2019.csv\", header=True)"
   ]
  },
  {
   "cell_type": "code",
   "execution_count": 10,
   "metadata": {
    "colab": {
     "base_uri": "https://localhost:8080/"
    },
    "id": "0HBFMsS4S_0y",
    "outputId": "50a989bd-d34b-4ae3-de13-47af1dea1509"
   },
   "outputs": [
    {
     "data": {
      "text/plain": [
       "pyspark.sql.dataframe.DataFrame"
      ]
     },
     "execution_count": 10,
     "metadata": {},
     "output_type": "execute_result"
    }
   ],
   "source": [
    "type(df)"
   ]
  },
  {
   "cell_type": "code",
   "execution_count": 11,
   "metadata": {
    "colab": {
     "base_uri": "https://localhost:8080/"
    },
    "id": "gjGaJckiP5Wq",
    "outputId": "0efb9d09-3fc3-4f9c-804d-20744b519aef"
   },
   "outputs": [
    {
     "data": {
      "text/plain": [
       "DataFrame[LocID: string, Location: string, VarID: string, Variant: string, Time: string, MidPeriod: string, AgeGrp: string, AgeGrpStart: string, AgeGrpSpan: string, PopMale: string, PopFemale: string, PopTotal: string]"
      ]
     },
     "execution_count": 11,
     "metadata": {},
     "output_type": "execute_result"
    }
   ],
   "source": [
    "df"
   ]
  },
  {
   "cell_type": "markdown",
   "metadata": {
    "id": "jx2B5DdBt-uv"
   },
   "source": [
    "Note that unlike Pandas this does not display a preview of the dataset, only the schema. This is because Spark performs lazy evaluation, only displaying rows when needed."
   ]
  },
  {
   "cell_type": "code",
   "execution_count": 12,
   "metadata": {
    "colab": {
     "base_uri": "https://localhost:8080/"
    },
    "id": "x2oftXQoXLM5",
    "outputId": "b3e594a7-9750-4102-c0d7-dab40fff3685"
   },
   "outputs": [
    {
     "data": {
      "text/plain": [
       "['LocID',\n",
       " 'Location',\n",
       " 'VarID',\n",
       " 'Variant',\n",
       " 'Time',\n",
       " 'MidPeriod',\n",
       " 'AgeGrp',\n",
       " 'AgeGrpStart',\n",
       " 'AgeGrpSpan',\n",
       " 'PopMale',\n",
       " 'PopFemale',\n",
       " 'PopTotal']"
      ]
     },
     "execution_count": 12,
     "metadata": {},
     "output_type": "execute_result"
    }
   ],
   "source": [
    "df.columns"
   ]
  },
  {
   "cell_type": "markdown",
   "metadata": {
    "id": "P0T1d7f8ucdV"
   },
   "source": [
    "**Exercise**: How many rows does df contain?"
   ]
  },
  {
   "cell_type": "code",
   "execution_count": 13,
   "metadata": {
    "colab": {
     "base_uri": "https://localhost:8080/"
    },
    "id": "Or9UO3KfkO2j",
    "outputId": "ffe57578-9df0-4743-a6fa-8070abe4592d"
   },
   "outputs": [
    {
     "data": {
      "text/plain": [
       "3132010"
      ]
     },
     "execution_count": 13,
     "metadata": {},
     "output_type": "execute_result"
    }
   ],
   "source": [
    "# ANSWER\n",
    "df.count()"
   ]
  },
  {
   "cell_type": "code",
   "execution_count": 14,
   "metadata": {
    "colab": {
     "base_uri": "https://localhost:8080/"
    },
    "id": "3OrPKvO1wwmF",
    "outputId": "b75f28ed-cb6a-464e-d24e-21e40d927bf3"
   },
   "outputs": [
    {
     "data": {
      "text/plain": [
       "2"
      ]
     },
     "execution_count": 14,
     "metadata": {},
     "output_type": "execute_result"
    }
   ],
   "source": [
    "df.rdd.getNumPartitions()"
   ]
  },
  {
   "cell_type": "markdown",
   "metadata": {
    "id": "laKXx1YuVHzJ"
   },
   "source": [
    "This corresponds to the number of cores in a free Google Colab instance."
   ]
  },
  {
   "cell_type": "code",
   "execution_count": 15,
   "metadata": {
    "colab": {
     "base_uri": "https://localhost:8080/"
    },
    "id": "U46UOmCm-JGW",
    "outputId": "5ff02fcc-e07e-4799-a2b2-a3e38cd5ecf0"
   },
   "outputs": [
    {
     "name": "stdout",
     "output_type": "stream",
     "text": [
      "root\n",
      " |-- LocID: string (nullable = true)\n",
      " |-- Location: string (nullable = true)\n",
      " |-- VarID: string (nullable = true)\n",
      " |-- Variant: string (nullable = true)\n",
      " |-- Time: string (nullable = true)\n",
      " |-- MidPeriod: string (nullable = true)\n",
      " |-- AgeGrp: string (nullable = true)\n",
      " |-- AgeGrpStart: string (nullable = true)\n",
      " |-- AgeGrpSpan: string (nullable = true)\n",
      " |-- PopMale: string (nullable = true)\n",
      " |-- PopFemale: string (nullable = true)\n",
      " |-- PopTotal: string (nullable = true)\n",
      "\n"
     ]
    }
   ],
   "source": [
    "df.printSchema()"
   ]
  },
  {
   "cell_type": "markdown",
   "metadata": {
    "id": "Wbu-qsbAurU_"
   },
   "source": [
    "We use df.show() similarly to df.head() in Pandas."
   ]
  },
  {
   "cell_type": "code",
   "execution_count": 16,
   "metadata": {
    "colab": {
     "base_uri": "https://localhost:8080/"
    },
    "id": "2gErdsL3kcMu",
    "outputId": "7ffe1b0f-418d-4baf-b6a7-d1b4338280ea"
   },
   "outputs": [
    {
     "name": "stdout",
     "output_type": "stream",
     "text": [
      "+-----+-----------+-----+-------+----+---------+------+-----------+----------+-------+---------+--------+\n",
      "|LocID|   Location|VarID|Variant|Time|MidPeriod|AgeGrp|AgeGrpStart|AgeGrpSpan|PopMale|PopFemale|PopTotal|\n",
      "+-----+-----------+-----+-------+----+---------+------+-----------+----------+-------+---------+--------+\n",
      "|    4|Afghanistan|    2| Medium|1950|   1950.5|     0|          0|         1|139.669|  154.913| 294.582|\n",
      "|    4|Afghanistan|    2| Medium|1950|   1950.5|     1|          1|         1|131.916|  141.851| 273.767|\n",
      "|    4|Afghanistan|    2| Medium|1950|   1950.5|     2|          2|         1|125.127|  130.632| 255.759|\n",
      "|    4|Afghanistan|    2| Medium|1950|   1950.5|     3|          3|         1| 119.22|  121.097| 240.317|\n",
      "|    4|Afghanistan|    2| Medium|1950|   1950.5|     4|          4|         1|114.112|  113.085| 227.197|\n",
      "|    4|Afghanistan|    2| Medium|1950|   1950.5|     5|          5|         1|109.723|  106.436| 216.159|\n",
      "|    4|Afghanistan|    2| Medium|1950|   1950.5|     6|          6|         1|105.969|   100.99| 206.959|\n",
      "|    4|Afghanistan|    2| Medium|1950|   1950.5|     7|          7|         1|102.769|   96.585| 199.354|\n",
      "|    4|Afghanistan|    2| Medium|1950|   1950.5|     8|          8|         1|100.041|   93.063| 193.104|\n",
      "|    4|Afghanistan|    2| Medium|1950|   1950.5|     9|          9|         1| 97.704|   90.261| 187.965|\n",
      "|    4|Afghanistan|    2| Medium|1950|   1950.5|    10|         10|         1| 95.755|   88.171| 183.926|\n",
      "|    4|Afghanistan|    2| Medium|1950|   1950.5|    11|         11|         1| 94.192|   86.779| 180.971|\n",
      "|    4|Afghanistan|    2| Medium|1950|   1950.5|    12|         12|         1| 92.534|   85.181| 177.715|\n",
      "|    4|Afghanistan|    2| Medium|1950|   1950.5|    13|         13|         1| 90.537|   82.918| 173.455|\n",
      "|    4|Afghanistan|    2| Medium|1950|   1950.5|    14|         14|         1|  88.36|   80.277| 168.637|\n",
      "|    4|Afghanistan|    2| Medium|1950|   1950.5|    15|         15|         1| 86.374|   78.007| 164.381|\n",
      "|    4|Afghanistan|    2| Medium|1950|   1950.5|    16|         16|         1| 84.467|    75.96| 160.427|\n",
      "|    4|Afghanistan|    2| Medium|1950|   1950.5|    17|         17|         1| 82.703|   73.906| 156.609|\n",
      "|    4|Afghanistan|    2| Medium|1950|   1950.5|    18|         18|         1| 81.139|   71.804| 152.943|\n",
      "|    4|Afghanistan|    2| Medium|1950|   1950.5|    19|         19|         1| 79.686|   69.686| 149.372|\n",
      "+-----+-----------+-----+-------+----+---------+------+-----------+----------+-------+---------+--------+\n",
      "only showing top 20 rows\n",
      "\n"
     ]
    }
   ],
   "source": [
    "df.show()"
   ]
  },
  {
   "cell_type": "code",
   "execution_count": 17,
   "metadata": {
    "colab": {
     "base_uri": "https://localhost:8080/"
    },
    "id": "yzxQaJivXU-d",
    "outputId": "e550b714-3ba1-414a-9612-2ccb926a99c0"
   },
   "outputs": [
    {
     "data": {
      "text/plain": [
       "DataFrame[summary: string, LocID: string, Location: string, VarID: string, Variant: string, Time: string, MidPeriod: string, AgeGrp: string, AgeGrpStart: string, AgeGrpSpan: string, PopMale: string, PopFemale: string, PopTotal: string]"
      ]
     },
     "execution_count": 17,
     "metadata": {},
     "output_type": "execute_result"
    }
   ],
   "source": [
    "df.describe()"
   ]
  },
  {
   "cell_type": "markdown",
   "metadata": {
    "id": "SRiwEStKu1Bj"
   },
   "source": [
    "Once again evaluation of describe is lazy, we use show() to display results:"
   ]
  },
  {
   "cell_type": "markdown",
   "metadata": {
    "id": "b086yRpkcFm1"
   },
   "source": []
  },
  {
   "cell_type": "code",
   "execution_count": 18,
   "metadata": {
    "colab": {
     "base_uri": "https://localhost:8080/"
    },
    "id": "019DYlC1Xa4f",
    "outputId": "1817848c-a235-476f-bc29-a1097d54eb3e"
   },
   "outputs": [
    {
     "name": "stdout",
     "output_type": "stream",
     "text": [
      "+-------+------------------+-----------+-------+-------+------------------+------------------+----------------+----------------+-------------------+------------------+------------------+------------------+\n",
      "|summary|             LocID|   Location|  VarID|Variant|              Time|         MidPeriod|          AgeGrp|     AgeGrpStart|         AgeGrpSpan|           PopMale|         PopFemale|          PopTotal|\n",
      "+-------+------------------+-----------+-------+-------+------------------+------------------+----------------+----------------+-------------------+------------------+------------------+------------------+\n",
      "|  count|           3132010|    3132010|3132010|3132010|           3132010|           3132010|         3132010|         3132010|            3132010|           3132010|           3132010|           3132010|\n",
      "|   mean|1077.6884875846501|       null|    2.0|   null|            1984.5|            1985.0|            50.0|            50.0| 0.9801980198019802|2184.5058436405843|2150.7069902147655| 4335.212834608017|\n",
      "| stddev| 729.0730751937558|       null|    0.0|   null|20.205200576773656|20.205200576773656|29.1547641285493|29.1547641285493|0.19801983359245998| 6328.962790280066| 6037.801144930705|12363.838119026372|\n",
      "|    min|               100|Afghanistan|      2| Medium|              1950|            1950.5|               0|               0|                 -1|                 0|                 0|                 0|\n",
      "|    max|               986|   Zimbabwe|      2| Medium|              2019|            2019.5|              99|              99|                  1|          9999.967|          9999.992|         99991.504|\n",
      "+-------+------------------+-----------+-------+-------+------------------+------------------+----------------+----------------+-------------------+------------------+------------------+------------------+\n",
      "\n"
     ]
    }
   ],
   "source": [
    "df.describe().show()"
   ]
  },
  {
   "cell_type": "markdown",
   "metadata": {
    "id": "cUaRjQT1UKQA"
   },
   "source": [
    "Let us remove rows we do not need."
   ]
  },
  {
   "cell_type": "code",
   "execution_count": 19,
   "metadata": {
    "colab": {
     "base_uri": "https://localhost:8080/"
    },
    "id": "NGE3jFrNnKPN",
    "outputId": "da7bd5a1-4ab6-46a1-9ecc-7ece23dbb88d"
   },
   "outputs": [
    {
     "name": "stdout",
     "output_type": "stream",
     "text": [
      "+-----+-------+\n",
      "|VarID|Variant|\n",
      "+-----+-------+\n",
      "|    2| Medium|\n",
      "+-----+-------+\n",
      "\n"
     ]
    }
   ],
   "source": [
    "df.select('VarID', 'Variant').distinct().show()"
   ]
  },
  {
   "cell_type": "markdown",
   "metadata": {
    "id": "ImP40Am2Ubyk"
   },
   "source": [
    "As we will not work with other variant, we can safely drop these columns."
   ]
  },
  {
   "cell_type": "code",
   "execution_count": 20,
   "metadata": {
    "id": "FcUa1NXkUvuK"
   },
   "outputs": [],
   "source": [
    "df = df.drop('VarID', 'Variant')"
   ]
  },
  {
   "cell_type": "code",
   "execution_count": 21,
   "metadata": {
    "colab": {
     "base_uri": "https://localhost:8080/"
    },
    "id": "E9JqgSV8U0MO",
    "outputId": "10fd4937-3424-468c-bcdd-f2269e8a00c7"
   },
   "outputs": [
    {
     "name": "stdout",
     "output_type": "stream",
     "text": [
      "+-----+-----------+----+---------+------+-----------+----------+-------+---------+--------+\n",
      "|LocID|   Location|Time|MidPeriod|AgeGrp|AgeGrpStart|AgeGrpSpan|PopMale|PopFemale|PopTotal|\n",
      "+-----+-----------+----+---------+------+-----------+----------+-------+---------+--------+\n",
      "|    4|Afghanistan|1950|   1950.5|     0|          0|         1|139.669|  154.913| 294.582|\n",
      "|    4|Afghanistan|1950|   1950.5|     1|          1|         1|131.916|  141.851| 273.767|\n",
      "|    4|Afghanistan|1950|   1950.5|     2|          2|         1|125.127|  130.632| 255.759|\n",
      "|    4|Afghanistan|1950|   1950.5|     3|          3|         1| 119.22|  121.097| 240.317|\n",
      "|    4|Afghanistan|1950|   1950.5|     4|          4|         1|114.112|  113.085| 227.197|\n",
      "|    4|Afghanistan|1950|   1950.5|     5|          5|         1|109.723|  106.436| 216.159|\n",
      "|    4|Afghanistan|1950|   1950.5|     6|          6|         1|105.969|   100.99| 206.959|\n",
      "|    4|Afghanistan|1950|   1950.5|     7|          7|         1|102.769|   96.585| 199.354|\n",
      "|    4|Afghanistan|1950|   1950.5|     8|          8|         1|100.041|   93.063| 193.104|\n",
      "|    4|Afghanistan|1950|   1950.5|     9|          9|         1| 97.704|   90.261| 187.965|\n",
      "|    4|Afghanistan|1950|   1950.5|    10|         10|         1| 95.755|   88.171| 183.926|\n",
      "|    4|Afghanistan|1950|   1950.5|    11|         11|         1| 94.192|   86.779| 180.971|\n",
      "|    4|Afghanistan|1950|   1950.5|    12|         12|         1| 92.534|   85.181| 177.715|\n",
      "|    4|Afghanistan|1950|   1950.5|    13|         13|         1| 90.537|   82.918| 173.455|\n",
      "|    4|Afghanistan|1950|   1950.5|    14|         14|         1|  88.36|   80.277| 168.637|\n",
      "|    4|Afghanistan|1950|   1950.5|    15|         15|         1| 86.374|   78.007| 164.381|\n",
      "|    4|Afghanistan|1950|   1950.5|    16|         16|         1| 84.467|    75.96| 160.427|\n",
      "|    4|Afghanistan|1950|   1950.5|    17|         17|         1| 82.703|   73.906| 156.609|\n",
      "|    4|Afghanistan|1950|   1950.5|    18|         18|         1| 81.139|   71.804| 152.943|\n",
      "|    4|Afghanistan|1950|   1950.5|    19|         19|         1| 79.686|   69.686| 149.372|\n",
      "+-----+-----------+----+---------+------+-----------+----------+-------+---------+--------+\n",
      "only showing top 20 rows\n",
      "\n"
     ]
    }
   ],
   "source": [
    "df.show()"
   ]
  },
  {
   "cell_type": "code",
   "execution_count": 22,
   "metadata": {
    "colab": {
     "base_uri": "https://localhost:8080/"
    },
    "id": "FetISlkDkfte",
    "outputId": "0411f1db-c2b2-4cc9-f50d-7db1510959c4"
   },
   "outputs": [
    {
     "data": {
      "text/plain": [
       "440"
      ]
     },
     "execution_count": 22,
     "metadata": {},
     "output_type": "execute_result"
    }
   ],
   "source": [
    "df.select('Location').distinct().count()"
   ]
  },
  {
   "cell_type": "code",
   "execution_count": 23,
   "metadata": {
    "colab": {
     "base_uri": "https://localhost:8080/"
    },
    "id": "RLp0s2DNm_9J",
    "outputId": "4bb4edc5-f1f8-4a97-f795-52a81b4d7b5c"
   },
   "outputs": [
    {
     "name": "stdout",
     "output_type": "stream",
     "text": [
      "+--------------------+\n",
      "|            Location|\n",
      "+--------------------+\n",
      "|       Côte d'Ivoire|\n",
      "| LLDC: Latin America|\n",
      "|                Chad|\n",
      "|ESCAP: income groups|\n",
      "|          Cabo Verde|\n",
      "|       ECE: UNECE-52|\n",
      "|ESCAP: ADB Develo...|\n",
      "|  ESCAP: high income|\n",
      "|Economic Cooperat...|\n",
      "|            Kiribati|\n",
      "|Europe and Northe...|\n",
      "|ECLAC: The Caribbean|\n",
      "|              Guyana|\n",
      "|             Eritrea|\n",
      "|Land-locked Count...|\n",
      "|            Djibouti|\n",
      "|ESCWA: Arab least...|\n",
      "|ESCWA: Maghreb co...|\n",
      "|                Fiji|\n",
      "|      ESCAP: low HDI|\n",
      "+--------------------+\n",
      "only showing top 20 rows\n",
      "\n"
     ]
    }
   ],
   "source": [
    "df.select('Location').distinct().show()"
   ]
  },
  {
   "cell_type": "markdown",
   "metadata": {
    "id": "wGId26gpvIhA"
   },
   "source": [
    "**Exercise**: Repeat the above query, this time ordering the results by Location and using the truncate=False option to display results in full. Show all 440 results."
   ]
  },
  {
   "cell_type": "code",
   "execution_count": 24,
   "metadata": {
    "colab": {
     "base_uri": "https://localhost:8080/"
    },
    "id": "6n-RKO9GQ9d7",
    "outputId": "87c2de16-1d18-4a58-a83c-19990fa4addb"
   },
   "outputs": [
    {
     "name": "stdout",
     "output_type": "stream",
     "text": [
      "+-----------------------------------------------------------------------------------------+\n",
      "|Location                                                                                 |\n",
      "+-----------------------------------------------------------------------------------------+\n",
      "|Afghanistan                                                                              |\n",
      "|Africa                                                                                   |\n",
      "|African Group                                                                            |\n",
      "|African Union                                                                            |\n",
      "|African Union: Central Africa                                                            |\n",
      "|African Union: Eastern Africa                                                            |\n",
      "|African Union: Northern Africa                                                           |\n",
      "|African Union: Southern Africa                                                           |\n",
      "|African Union: Western Africa                                                            |\n",
      "|African, Caribbean and Pacific (ACP) Group of States                                     |\n",
      "|Albania                                                                                  |\n",
      "|Algeria                                                                                  |\n",
      "|Andean Community                                                                         |\n",
      "|Angola                                                                                   |\n",
      "|Antigua and Barbuda                                                                      |\n",
      "|Argentina                                                                                |\n",
      "|Armenia                                                                                  |\n",
      "|Aruba                                                                                    |\n",
      "|Asia                                                                                     |\n",
      "|Asia-Pacific Economic Cooperation (APEC)                                                 |\n",
      "|Asia-Pacific Group                                                                       |\n",
      "|Association of Southeast Asian Nations (ASEAN)                                           |\n",
      "|Australia                                                                                |\n",
      "|Australia/New Zealand                                                                    |\n",
      "|Austria                                                                                  |\n",
      "|Azerbaijan                                                                               |\n",
      "|BRIC                                                                                     |\n",
      "|BRICS                                                                                    |\n",
      "|Bahamas                                                                                  |\n",
      "|Bahrain                                                                                  |\n",
      "|Bangladesh                                                                               |\n",
      "|Barbados                                                                                 |\n",
      "|Belarus                                                                                  |\n",
      "|Belgium                                                                                  |\n",
      "|Belize                                                                                   |\n",
      "|Belt-Road Initiative (BRI)                                                               |\n",
      "|Belt-Road Initiative: Africa                                                             |\n",
      "|Belt-Road Initiative: Asia                                                               |\n",
      "|Belt-Road Initiative: Europe                                                             |\n",
      "|Belt-Road Initiative: Latin America and the Caribbean                                    |\n",
      "|Belt-Road Initiative: Pacific                                                            |\n",
      "|Benin                                                                                    |\n",
      "|Bhutan                                                                                   |\n",
      "|Black Sea Economic Cooperation (BSEC)                                                    |\n",
      "|Bolivarian Alliance for the Americas (ALBA)                                              |\n",
      "|Bolivia (Plurinational State of)                                                         |\n",
      "|Bosnia and Herzegovina                                                                   |\n",
      "|Botswana                                                                                 |\n",
      "|Brazil                                                                                   |\n",
      "|Brunei Darussalam                                                                        |\n",
      "|Bulgaria                                                                                 |\n",
      "|Burkina Faso                                                                             |\n",
      "|Burundi                                                                                  |\n",
      "|Cabo Verde                                                                               |\n",
      "|Cambodia                                                                                 |\n",
      "|Cameroon                                                                                 |\n",
      "|Canada                                                                                   |\n",
      "|Caribbean                                                                                |\n",
      "|Caribbean Community and Common Market (CARICOM)                                          |\n",
      "|Central African Republic                                                                 |\n",
      "|Central America                                                                          |\n",
      "|Central Asia                                                                             |\n",
      "|Central European Free Trade Agreement (CEFTA)                                            |\n",
      "|Central and Southern Asia                                                                |\n",
      "|Chad                                                                                     |\n",
      "|Channel Islands                                                                          |\n",
      "|Chile                                                                                    |\n",
      "|China                                                                                    |\n",
      "|China (and dependencies)                                                                 |\n",
      "|China, Hong Kong SAR                                                                     |\n",
      "|China, Macao SAR                                                                         |\n",
      "|China, Taiwan Province of China                                                          |\n",
      "|Colombia                                                                                 |\n",
      "|Commonwealth of Independent States (CIS)                                                 |\n",
      "|Commonwealth of Nations                                                                  |\n",
      "|Commonwealth: Africa                                                                     |\n",
      "|Commonwealth: Asia                                                                       |\n",
      "|Commonwealth: Caribbean and Americas                                                     |\n",
      "|Commonwealth: Europe                                                                     |\n",
      "|Commonwealth: Pacific                                                                    |\n",
      "|Comoros                                                                                  |\n",
      "|Congo                                                                                    |\n",
      "|Costa Rica                                                                               |\n",
      "|Countries with Access to the Sea                                                         |\n",
      "|Countries with Access to the Sea: Africa                                                 |\n",
      "|Countries with Access to the Sea: Asia                                                   |\n",
      "|Countries with Access to the Sea: Europe                                                 |\n",
      "|Countries with Access to the Sea: Latin America and the Caribbean                        |\n",
      "|Countries with Access to the Sea: Northern America                                       |\n",
      "|Countries with Access to the Sea: Oceania                                                |\n",
      "|Croatia                                                                                  |\n",
      "|Cuba                                                                                     |\n",
      "|Curaçao                                                                                  |\n",
      "|Cyprus                                                                                   |\n",
      "|Czechia                                                                                  |\n",
      "|Côte d'Ivoire                                                                            |\n",
      "|Dem. People's Republic of Korea                                                          |\n",
      "|Democratic Republic of the Congo                                                         |\n",
      "|Denmark                                                                                  |\n",
      "|Denmark (and dependencies)                                                               |\n",
      "|Djibouti                                                                                 |\n",
      "|Dominican Republic                                                                       |\n",
      "|ECE: North America-2                                                                     |\n",
      "|ECE: UNECE-52                                                                            |\n",
      "|ECLAC: Latin America                                                                     |\n",
      "|ECLAC: The Caribbean                                                                     |\n",
      "|ESCAP region: East and North-East Asia                                                   |\n",
      "|ESCAP region: North and Central Asia                                                     |\n",
      "|ESCAP region: Pacific                                                                    |\n",
      "|ESCAP region: South and South-West Asia                                                  |\n",
      "|ESCAP region: South-East Asia                                                            |\n",
      "|ESCAP: ADB Developing member countries (DMCs)                                            |\n",
      "|ESCAP: ADB Group A (Concessional assistance only)                                        |\n",
      "|ESCAP: ADB Group B (OCR blend)                                                           |\n",
      "|ESCAP: ADB Group C (Regular OCR only)                                                    |\n",
      "|ESCAP: ASEAN                                                                             |\n",
      "|ESCAP: Central Asia                                                                      |\n",
      "|ESCAP: ECO                                                                               |\n",
      "|ESCAP: HDI groups                                                                        |\n",
      "|ESCAP: Landlocked countries (LLDCs)                                                      |\n",
      "|ESCAP: Least Developed Countries (LDCs)                                                  |\n",
      "|ESCAP: Pacific island dev. econ.                                                         |\n",
      "|ESCAP: SAARC                                                                             |\n",
      "|ESCAP: WB High income econ.                                                              |\n",
      "|ESCAP: WB Low income econ.                                                               |\n",
      "|ESCAP: WB Lower middle income econ.                                                      |\n",
      "|ESCAP: WB Upper middle income econ.                                                      |\n",
      "|ESCAP: WB income groups                                                                  |\n",
      "|ESCAP: high HDI                                                                          |\n",
      "|ESCAP: high income                                                                       |\n",
      "|ESCAP: income groups                                                                     |\n",
      "|ESCAP: low HDI                                                                           |\n",
      "|ESCAP: low income                                                                        |\n",
      "|ESCAP: lower middle HDI                                                                  |\n",
      "|ESCAP: lower middle income                                                               |\n",
      "|ESCAP: other Asia-Pacific countries/areas                                                |\n",
      "|ESCAP: upper middle HDI                                                                  |\n",
      "|ESCAP: upper middle income                                                               |\n",
      "|ESCWA: Arab countries                                                                    |\n",
      "|ESCWA: Arab least developed countries                                                    |\n",
      "|ESCWA: Gulf Cooperation Council countries                                                |\n",
      "|ESCWA: Maghreb countries                                                                 |\n",
      "|ESCWA: Mashreq countries                                                                 |\n",
      "|ESCWA: member countries                                                                  |\n",
      "|East African Community (EAC)                                                             |\n",
      "|Eastern Africa                                                                           |\n",
      "|Eastern Asia                                                                             |\n",
      "|Eastern Europe                                                                           |\n",
      "|Eastern European Group                                                                   |\n",
      "|Eastern and South-Eastern Asia                                                           |\n",
      "|Economic Community of Central African States (ECCAS)                                     |\n",
      "|Economic Community of West African States (ECOWAS)                                       |\n",
      "|Economic Cooperation Organization (ECO)                                                  |\n",
      "|Ecuador                                                                                  |\n",
      "|Egypt                                                                                    |\n",
      "|El Salvador                                                                              |\n",
      "|Equatorial Guinea                                                                        |\n",
      "|Eritrea                                                                                  |\n",
      "|Estonia                                                                                  |\n",
      "|Eswatini                                                                                 |\n",
      "|Ethiopia                                                                                 |\n",
      "|Eurasian Economic Community (Eurasec)                                                    |\n",
      "|Europe                                                                                   |\n",
      "|Europe (48)                                                                              |\n",
      "|Europe and Northern America                                                              |\n",
      "|European Community (EC: 12)                                                              |\n",
      "|European Free Trade Agreement (EFTA)                                                     |\n",
      "|European Union (EU: 15)                                                                  |\n",
      "|European Union (EU: 28)                                                                  |\n",
      "|Fiji                                                                                     |\n",
      "|Finland                                                                                  |\n",
      "|France                                                                                   |\n",
      "|France (and dependencies)                                                                |\n",
      "|French Guiana                                                                            |\n",
      "|French Polynesia                                                                         |\n",
      "|Gabon                                                                                    |\n",
      "|Gambia                                                                                   |\n",
      "|Georgia                                                                                  |\n",
      "|Germany                                                                                  |\n",
      "|Ghana                                                                                    |\n",
      "|Greater Arab Free Trade Area (GAFTA)                                                     |\n",
      "|Greece                                                                                   |\n",
      "|Grenada                                                                                  |\n",
      "|Group of 77 (G77)                                                                        |\n",
      "|Group of Eight (G8)                                                                      |\n",
      "|Group of Seven (G7)                                                                      |\n",
      "|Group of Twenty (G20) - member states                                                    |\n",
      "|Guadeloupe                                                                               |\n",
      "|Guam                                                                                     |\n",
      "|Guatemala                                                                                |\n",
      "|Guinea                                                                                   |\n",
      "|Guinea-Bissau                                                                            |\n",
      "|Gulf Cooperation Council (GCC)                                                           |\n",
      "|Guyana                                                                                   |\n",
      "|Haiti                                                                                    |\n",
      "|High-income countries                                                                    |\n",
      "|Honduras                                                                                 |\n",
      "|Hungary                                                                                  |\n",
      "|Iceland                                                                                  |\n",
      "|India                                                                                    |\n",
      "|Indonesia                                                                                |\n",
      "|Iran (Islamic Republic of)                                                               |\n",
      "|Iraq                                                                                     |\n",
      "|Ireland                                                                                  |\n",
      "|Israel                                                                                   |\n",
      "|Italy                                                                                    |\n",
      "|Jamaica                                                                                  |\n",
      "|Japan                                                                                    |\n",
      "|Jordan                                                                                   |\n",
      "|Kazakhstan                                                                               |\n",
      "|Kenya                                                                                    |\n",
      "|Kiribati                                                                                 |\n",
      "|Kuwait                                                                                   |\n",
      "|Kyrgyzstan                                                                               |\n",
      "|LLDC: Africa                                                                             |\n",
      "|LLDC: Asia                                                                               |\n",
      "|LLDC: Europe                                                                             |\n",
      "|LLDC: Latin America                                                                      |\n",
      "|Land-locked Countries                                                                    |\n",
      "|Land-locked Countries (Others)                                                           |\n",
      "|Land-locked Developing Countries (LLDC)                                                  |\n",
      "|Lao People's Democratic Republic                                                         |\n",
      "|Latin America and the Caribbean                                                          |\n",
      "|Latin American Integration Association (ALADI)                                           |\n",
      "|Latin American and Caribbean Group (GRULAC)                                              |\n",
      "|Latvia                                                                                   |\n",
      "|League of Arab States (LAS, informal name: Arab League)                                  |\n",
      "|Least developed countries                                                                |\n",
      "|Least developed: Africa                                                                  |\n",
      "|Least developed: Asia                                                                    |\n",
      "|Least developed: Latin America and the Caribbean                                         |\n",
      "|Least developed: Oceania                                                                 |\n",
      "|Lebanon                                                                                  |\n",
      "|Lesotho                                                                                  |\n",
      "|Less developed regions                                                                   |\n",
      "|Less developed regions, excluding China                                                  |\n",
      "|Less developed regions, excluding least developed countries                              |\n",
      "|Less developed: Africa                                                                   |\n",
      "|Less developed: Asia                                                                     |\n",
      "|Less developed: Latin America and the Caribbean                                          |\n",
      "|Less developed: Oceania                                                                  |\n",
      "|Liberia                                                                                  |\n",
      "|Libya                                                                                    |\n",
      "|Lithuania                                                                                |\n",
      "|Low-income countries                                                                     |\n",
      "|Lower-middle-income countries                                                            |\n",
      "|Luxembourg                                                                               |\n",
      "|Madagascar                                                                               |\n",
      "|Malawi                                                                                   |\n",
      "|Malaysia                                                                                 |\n",
      "|Maldives                                                                                 |\n",
      "|Mali                                                                                     |\n",
      "|Malta                                                                                    |\n",
      "|Martinique                                                                               |\n",
      "|Mauritania                                                                               |\n",
      "|Mauritius                                                                                |\n",
      "|Mayotte                                                                                  |\n",
      "|Melanesia                                                                                |\n",
      "|Mexico                                                                                   |\n",
      "|Micronesia                                                                               |\n",
      "|Micronesia (Fed. States of)                                                              |\n",
      "|Middle Africa                                                                            |\n",
      "|Middle-income countries                                                                  |\n",
      "|Mongolia                                                                                 |\n",
      "|Montenegro                                                                               |\n",
      "|More developed regions                                                                   |\n",
      "|More developed: Asia                                                                     |\n",
      "|More developed: Europe                                                                   |\n",
      "|More developed: Northern America                                                         |\n",
      "|More developed: Oceania                                                                  |\n",
      "|Morocco                                                                                  |\n",
      "|Mozambique                                                                               |\n",
      "|Myanmar                                                                                  |\n",
      "|Namibia                                                                                  |\n",
      "|Nepal                                                                                    |\n",
      "|Netherlands                                                                              |\n",
      "|Netherlands (and dependencies)                                                           |\n",
      "|New Caledonia                                                                            |\n",
      "|New EU member states (joined since 2004)                                                 |\n",
      "|New Zealand                                                                              |\n",
      "|New Zealand (and dependencies)                                                           |\n",
      "|Nicaragua                                                                                |\n",
      "|Niger                                                                                    |\n",
      "|Nigeria                                                                                  |\n",
      "|No income group available                                                                |\n",
      "|Non-Self-Governing Territories                                                           |\n",
      "|North American Free Trade Agreement (NAFTA)                                              |\n",
      "|North Atlantic Treaty Organization (NATO)                                                |\n",
      "|North Macedonia                                                                          |\n",
      "|Northern Africa                                                                          |\n",
      "|Northern Africa and Western Asia                                                         |\n",
      "|Northern America                                                                         |\n",
      "|Northern Europe                                                                          |\n",
      "|Norway                                                                                   |\n",
      "|Oceania                                                                                  |\n",
      "|Oceania (excluding Australia and New Zealand)                                            |\n",
      "|Oman                                                                                     |\n",
      "|Organisation for Economic Co-operation and Development (OECD)                            |\n",
      "|Organization for Security and Co-operation in Europe (OSCE)                              |\n",
      "|Organization of American States (OAS)                                                    |\n",
      "|Organization of Petroleum Exporting countries (OPEC)                                     |\n",
      "|Organization of the Islamic Conference (OIC)                                             |\n",
      "|Pakistan                                                                                 |\n",
      "|Panama                                                                                   |\n",
      "|Papua New Guinea                                                                         |\n",
      "|Paraguay                                                                                 |\n",
      "|Peru                                                                                     |\n",
      "|Philippines                                                                              |\n",
      "|Poland                                                                                   |\n",
      "|Polynesia                                                                                |\n",
      "|Portugal                                                                                 |\n",
      "|Puerto Rico                                                                              |\n",
      "|Qatar                                                                                    |\n",
      "|Republic of Korea                                                                        |\n",
      "|Republic of Moldova                                                                      |\n",
      "|Romania                                                                                  |\n",
      "|Russian Federation                                                                       |\n",
      "|Rwanda                                                                                   |\n",
      "|Réunion                                                                                  |\n",
      "|SIDS Atlantic, and Indian Ocean, Mediterranean and South China Sea (AIMS)                |\n",
      "|SIDS Caribbean                                                                           |\n",
      "|SIDS Pacific                                                                             |\n",
      "|Saint Lucia                                                                              |\n",
      "|Saint Vincent and the Grenadines                                                         |\n",
      "|Samoa                                                                                    |\n",
      "|Sao Tome and Principe                                                                    |\n",
      "|Saudi Arabia                                                                             |\n",
      "|Senegal                                                                                  |\n",
      "|Serbia                                                                                   |\n",
      "|Seychelles                                                                               |\n",
      "|Shanghai Cooperation Organization (SCO)                                                  |\n",
      "|Sierra Leone                                                                             |\n",
      "|Singapore                                                                                |\n",
      "|Slovakia                                                                                 |\n",
      "|Slovenia                                                                                 |\n",
      "|Small Island Developing States (SIDS)                                                    |\n",
      "|Solomon Islands                                                                          |\n",
      "|Somalia                                                                                  |\n",
      "|South Africa                                                                             |\n",
      "|South America                                                                            |\n",
      "|South Asian Association for Regional Cooperation (SAARC)                                 |\n",
      "|South Sudan                                                                              |\n",
      "|South-Eastern Asia                                                                       |\n",
      "|Southern Africa                                                                          |\n",
      "|Southern African Development Community (SADC)                                            |\n",
      "|Southern Asia                                                                            |\n",
      "|Southern Common Market (MERCOSUR)                                                        |\n",
      "|Southern Europe                                                                          |\n",
      "|Spain                                                                                    |\n",
      "|Sri Lanka                                                                                |\n",
      "|State of Palestine                                                                       |\n",
      "|Sub-Saharan Africa                                                                       |\n",
      "|Sudan                                                                                    |\n",
      "|Suriname                                                                                 |\n",
      "|Sweden                                                                                   |\n",
      "|Switzerland                                                                              |\n",
      "|Syrian Arab Republic                                                                     |\n",
      "|Tajikistan                                                                               |\n",
      "|Thailand                                                                                 |\n",
      "|Timor-Leste                                                                              |\n",
      "|Togo                                                                                     |\n",
      "|Tonga                                                                                    |\n",
      "|Trinidad and Tobago                                                                      |\n",
      "|Tunisia                                                                                  |\n",
      "|Turkey                                                                                   |\n",
      "|Turkmenistan                                                                             |\n",
      "|UN-ECE: member countries                                                                 |\n",
      "|UNFPA Regions                                                                            |\n",
      "|UNFPA: Arab States (AS)                                                                  |\n",
      "|UNFPA: Asia and the Pacific (AP)                                                         |\n",
      "|UNFPA: East and Southern Africa (ESA)                                                    |\n",
      "|UNFPA: Eastern Europe and Central Asia (EECA)                                            |\n",
      "|UNFPA: Latin America and the Caribbean (LAC)                                             |\n",
      "|UNFPA: West and Central Africa (WCA)                                                     |\n",
      "|UNICEF PROGRAMME REGIONS                                                                 |\n",
      "|UNICEF Programme Regions: East Asia and Pacific (EAPRO)                                  |\n",
      "|UNICEF Programme Regions: Eastern Caribbean                                              |\n",
      "|UNICEF Programme Regions: Eastern and Southern Africa (ESARO)                            |\n",
      "|UNICEF Programme Regions: Europe and Central Asia (CEECIS)                               |\n",
      "|UNICEF Programme Regions: Latin America                                                  |\n",
      "|UNICEF Programme Regions: Latin America and Caribbean (LACRO)                            |\n",
      "|UNICEF Programme Regions: Middle East and North Africa (MENARO)                          |\n",
      "|UNICEF Programme Regions: South Asia (ROSA)                                              |\n",
      "|UNICEF Programme Regions: West and Central Africa (WCARO)                                |\n",
      "|UNICEF REGIONS                                                                           |\n",
      "|UNICEF Regions: East Asia and Pacific                                                    |\n",
      "|UNICEF Regions: Eastern Europe and Central Asia                                          |\n",
      "|UNICEF Regions: Eastern and Southern Africa                                              |\n",
      "|UNICEF Regions: Europe and Central Asia                                                  |\n",
      "|UNICEF Regions: Latin America and Caribbean                                              |\n",
      "|UNICEF Regions: Middle East and North Africa                                             |\n",
      "|UNICEF Regions: North America                                                            |\n",
      "|UNICEF Regions: South Asia                                                               |\n",
      "|UNICEF Regions: Sub-Saharan Africa                                                       |\n",
      "|UNICEF Regions: West and Central Africa                                                  |\n",
      "|UNICEF Regions: Western Europe                                                           |\n",
      "|UNITED NATIONS Regional Groups of Member States                                          |\n",
      "|Uganda                                                                                   |\n",
      "|Ukraine                                                                                  |\n",
      "|United Arab Emirates                                                                     |\n",
      "|United Kingdom                                                                           |\n",
      "|United Kingdom (and dependencies)                                                        |\n",
      "|United Nations Economic Commission for Africa (UN-ECA)                                   |\n",
      "|United Nations Economic Commission for Latin America and the Caribbean (UN-ECLAC)        |\n",
      "|United Nations Economic and Social Commission for Asia and the Pacific (UN-ESCAP) Regions|\n",
      "|United Nations Member States                                                             |\n",
      "|United Republic of Tanzania                                                              |\n",
      "|United States Virgin Islands                                                             |\n",
      "|United States of America                                                                 |\n",
      "|United States of America (and dependencies)                                              |\n",
      "|Upper-middle-income countries                                                            |\n",
      "|Uruguay                                                                                  |\n",
      "|Uzbekistan                                                                               |\n",
      "|Vanuatu                                                                                  |\n",
      "|Venezuela (Bolivarian Republic of)                                                       |\n",
      "|Viet Nam                                                                                 |\n",
      "|WB region: East Asia and Pacific (excluding high income)                                 |\n",
      "|WB region: Europe and Central Asia (excluding high income)                               |\n",
      "|WB region: Latin America and Caribbean (excluding high income)                           |\n",
      "|WB region: Middle East and North Africa (excluding high income)                          |\n",
      "|WB region: South Asia (excluding high income)                                            |\n",
      "|WB region: Sub-Saharan Africa (excluding high income)                                    |\n",
      "|WHO Regions                                                                              |\n",
      "|WHO: African region (AFRO)                                                               |\n",
      "|WHO: Americas (AMRO)                                                                     |\n",
      "|WHO: Eastern Mediterranean Region (EMRO)                                                 |\n",
      "|WHO: European Region (EURO)                                                              |\n",
      "|WHO: South-East Asia region (SEARO)                                                      |\n",
      "|WHO: Western Pacific region (WPRO)                                                       |\n",
      "|West African Economic and Monetary Union (UEMOA)                                         |\n",
      "|Western Africa                                                                           |\n",
      "|Western Asia                                                                             |\n",
      "|Western Europe                                                                           |\n",
      "|Western European and Others Group (WEOG)                                                 |\n",
      "|Western Sahara                                                                           |\n",
      "|World                                                                                    |\n",
      "|World Bank Regional Groups (developing only)                                             |\n",
      "|Yemen                                                                                    |\n",
      "|Zambia                                                                                   |\n",
      "|Zimbabwe                                                                                 |\n",
      "+-----------------------------------------------------------------------------------------+\n",
      "\n"
     ]
    }
   ],
   "source": [
    "# ANSWER\n",
    "df.select('Location').distinct().orderBy(col('Location')).show(440, False)"
   ]
  },
  {
   "cell_type": "markdown",
   "metadata": {
    "id": "4yDHFBOxvoAu"
   },
   "source": [
    "Next run the following to confirm that there are no missing values in this dataset:"
   ]
  },
  {
   "cell_type": "code",
   "execution_count": 25,
   "metadata": {
    "colab": {
     "base_uri": "https://localhost:8080/"
    },
    "id": "ED5mlcDZWQ_y",
    "outputId": "aad2d23d-0226-41ee-b223-b7270904a8aa"
   },
   "outputs": [
    {
     "data": {
      "text/plain": [
       "0"
      ]
     },
     "execution_count": 25,
     "metadata": {},
     "output_type": "execute_result"
    }
   ],
   "source": [
    "df.count() - df.na.drop().count()"
   ]
  },
  {
   "cell_type": "markdown",
   "metadata": {
    "id": "vM0ibqHheNwi"
   },
   "source": [
    "## Convert types"
   ]
  },
  {
   "cell_type": "markdown",
   "metadata": {
    "id": "tp9mGREhvt9b"
   },
   "source": [
    "We saw above that all columns are in the form of strings. The following cell converts some of the columns to type float."
   ]
  },
  {
   "cell_type": "code",
   "execution_count": 26,
   "metadata": {
    "id": "AhMt9KiAAQWm"
   },
   "outputs": [],
   "source": [
    "floatcols = ['MidPeriod', 'PopMale', 'PopFemale', 'PopTotal']\n",
    "\n",
    "for col_name in floatcols:\n",
    "    df = df.withColumn(col_name, trim(col(col_name)).cast('float'))"
   ]
  },
  {
   "cell_type": "markdown",
   "metadata": {
    "id": "K3rr3rErWiLZ"
   },
   "source": [
    "**Exercise**: Similarly convert the four columns listed below into **integers**."
   ]
  },
  {
   "cell_type": "code",
   "execution_count": 27,
   "metadata": {
    "id": "ccgnri3hJgk2"
   },
   "outputs": [],
   "source": [
    "intcols = ['Time', 'AgeGrp', 'AgeGrpStart', 'AgeGrpSpan']\n",
    "\n",
    "#ANSWER\n",
    "for col_name in intcols:\n",
    "    df = df.withColumn(col_name, trim(col(col_name)).cast('int'))"
   ]
  },
  {
   "cell_type": "code",
   "execution_count": 28,
   "metadata": {
    "colab": {
     "base_uri": "https://localhost:8080/"
    },
    "id": "O6S0JbDWDJM1",
    "outputId": "d5861671-bca2-414a-cb25-2ce4cd606423"
   },
   "outputs": [
    {
     "name": "stdout",
     "output_type": "stream",
     "text": [
      "root\n",
      " |-- LocID: string (nullable = true)\n",
      " |-- Location: string (nullable = true)\n",
      " |-- Time: integer (nullable = true)\n",
      " |-- MidPeriod: float (nullable = true)\n",
      " |-- AgeGrp: integer (nullable = true)\n",
      " |-- AgeGrpStart: integer (nullable = true)\n",
      " |-- AgeGrpSpan: integer (nullable = true)\n",
      " |-- PopMale: float (nullable = true)\n",
      " |-- PopFemale: float (nullable = true)\n",
      " |-- PopTotal: float (nullable = true)\n",
      "\n"
     ]
    }
   ],
   "source": [
    "df.printSchema()"
   ]
  },
  {
   "cell_type": "markdown",
   "metadata": {
    "id": "Y_A8nwmrlFQH"
   },
   "source": [
    "## Answering some queries about the data\n",
    "\n",
    "We use filter to select a subset of rows satifying a True/False condition:"
   ]
  },
  {
   "cell_type": "markdown",
   "metadata": {
    "id": "NPrXmt9ZlPjH"
   },
   "source": [
    "Example: What was the population breakdown by age and gender in Australia in 1970?"
   ]
  },
  {
   "cell_type": "code",
   "execution_count": 29,
   "metadata": {
    "colab": {
     "base_uri": "https://localhost:8080/"
    },
    "id": "JkwtyIjbeAR2",
    "outputId": "a1c7376a-3bb7-4394-f4e7-ebb33df2d07f"
   },
   "outputs": [
    {
     "name": "stdout",
     "output_type": "stream",
     "text": [
      "+-----+---------+----+---------+------+-----------+----------+-------+---------+--------+\n",
      "|LocID| Location|Time|MidPeriod|AgeGrp|AgeGrpStart|AgeGrpSpan|PopMale|PopFemale|PopTotal|\n",
      "+-----+---------+----+---------+------+-----------+----------+-------+---------+--------+\n",
      "|   36|Australia|1970|   1970.5|     0|          0|         1|126.482|   121.47| 247.952|\n",
      "|   36|Australia|1970|   1970.5|     1|          1|         1|126.326|  120.997| 247.323|\n",
      "|   36|Australia|1970|   1970.5|     2|          2|         1|126.439|  120.829| 247.268|\n",
      "|   36|Australia|1970|   1970.5|     3|          3|         1|126.751|  120.899|  247.65|\n",
      "|   36|Australia|1970|   1970.5|     4|          4|         1|127.193|   121.14| 248.333|\n",
      "|   36|Australia|1970|   1970.5|     5|          5|         1|127.698|  121.488| 249.186|\n",
      "|   36|Australia|1970|   1970.5|     6|          6|         1|128.196|  121.877| 250.073|\n",
      "|   36|Australia|1970|   1970.5|     7|          7|         1|128.619|  122.239| 250.858|\n",
      "|   36|Australia|1970|   1970.5|     8|          8|         1|128.899|  122.509| 251.408|\n",
      "|   36|Australia|1970|   1970.5|     9|          9|         1|128.966|  122.622| 251.588|\n",
      "|   36|Australia|1970|   1970.5|    10|         10|         1|129.052|  122.767| 251.819|\n",
      "|   36|Australia|1970|   1970.5|    11|         11|         1|129.387|  123.136| 252.523|\n",
      "|   36|Australia|1970|   1970.5|    12|         12|         1|128.406|  122.379| 250.785|\n",
      "|   36|Australia|1970|   1970.5|    13|         13|         1|125.443|  119.917|  245.36|\n",
      "|   36|Australia|1970|   1970.5|    14|         14|         1|121.327|  116.454| 237.781|\n",
      "|   36|Australia|1970|   1970.5|    15|         15|         1|117.222|  112.965| 230.187|\n",
      "|   36|Australia|1970|   1970.5|    16|         16|         1|112.497|  108.889| 221.386|\n",
      "|   36|Australia|1970|   1970.5|    17|         17|         1|109.894|  106.646|  216.54|\n",
      "|   36|Australia|1970|   1970.5|    18|         18|         1|110.768|  107.424| 218.192|\n",
      "|   36|Australia|1970|   1970.5|    19|         19|         1|113.664|  109.919| 223.583|\n",
      "|   36|Australia|1970|   1970.5|    20|         20|         1|116.046|  111.945| 227.991|\n",
      "|   36|Australia|1970|   1970.5|    21|         21|         1|118.751|  114.298| 233.049|\n",
      "|   36|Australia|1970|   1970.5|    22|         22|         1|118.977|  114.131| 233.108|\n",
      "|   36|Australia|1970|   1970.5|    23|         23|         1|115.181|   109.92| 225.101|\n",
      "|   36|Australia|1970|   1970.5|    24|         24|         1|108.851|  103.183| 212.034|\n",
      "|   36|Australia|1970|   1970.5|    25|         25|         1|102.991|   96.906| 199.897|\n",
      "|   36|Australia|1970|   1970.5|    26|         26|         1| 96.971|   90.427| 187.398|\n",
      "|   36|Australia|1970|   1970.5|    27|         27|         1| 91.963|   85.208| 177.171|\n",
      "|   36|Australia|1970|   1970.5|    28|         28|         1| 88.842|   82.256| 171.098|\n",
      "|   36|Australia|1970|   1970.5|    29|         29|         1| 86.981|   80.812| 167.793|\n",
      "|   36|Australia|1970|   1970.5|    30|         30|         1|  84.94|   79.156| 164.096|\n",
      "|   36|Australia|1970|   1970.5|    31|         31|         1|  83.08|   77.693| 160.773|\n",
      "|   36|Australia|1970|   1970.5|    32|         32|         1| 81.239|   76.211|  157.45|\n",
      "|   36|Australia|1970|   1970.5|    33|         33|         1| 79.216|   74.454|  153.67|\n",
      "|   36|Australia|1970|   1970.5|    34|         34|         1| 77.248|   72.675| 149.923|\n",
      "|   36|Australia|1970|   1970.5|    35|         35|         1| 75.568|    71.23| 146.798|\n",
      "|   36|Australia|1970|   1970.5|    36|         36|         1| 73.886|   69.864|  143.75|\n",
      "|   36|Australia|1970|   1970.5|    37|         37|         1| 73.504|   69.541| 143.045|\n",
      "|   36|Australia|1970|   1970.5|    38|         38|         1| 75.015|   70.719| 145.734|\n",
      "|   36|Australia|1970|   1970.5|    39|         39|         1| 77.685|   72.837| 150.522|\n",
      "|   36|Australia|1970|   1970.5|    40|         40|         1| 80.182|   74.839| 155.021|\n",
      "|   36|Australia|1970|   1970.5|    41|         41|         1| 82.768|   76.896| 159.664|\n",
      "|   36|Australia|1970|   1970.5|    42|         42|         1|   84.5|   78.458| 162.958|\n",
      "|   36|Australia|1970|   1970.5|    43|         43|         1| 84.772|   79.131| 163.903|\n",
      "|   36|Australia|1970|   1970.5|    44|         44|         1| 83.983|    79.12| 163.103|\n",
      "|   36|Australia|1970|   1970.5|    45|         45|         1| 83.316|   79.179| 162.495|\n",
      "|   36|Australia|1970|   1970.5|    46|         46|         1| 82.748|   79.343| 162.091|\n",
      "|   36|Australia|1970|   1970.5|    47|         47|         1| 81.175|   78.508| 159.683|\n",
      "|   36|Australia|1970|   1970.5|    48|         48|         1| 78.236|   76.259| 154.495|\n",
      "|   36|Australia|1970|   1970.5|    49|         49|         1| 74.466|   73.133| 147.599|\n",
      "|   36|Australia|1970|   1970.5|    50|         50|         1| 70.618|   69.971| 140.589|\n",
      "|   36|Australia|1970|   1970.5|    51|         51|         1| 66.365|   66.476| 132.841|\n",
      "|   36|Australia|1970|   1970.5|    52|         52|         1| 63.326|   63.924|  127.25|\n",
      "|   36|Australia|1970|   1970.5|    53|         53|         1| 62.328|   62.994| 125.322|\n",
      "|   36|Australia|1970|   1970.5|    54|         54|         1| 62.574|   63.055| 125.629|\n",
      "|   36|Australia|1970|   1970.5|    55|         55|         1| 62.511|   62.831| 125.342|\n",
      "|   36|Australia|1970|   1970.5|    56|         56|         1| 62.535|   62.619| 125.154|\n",
      "|   36|Australia|1970|   1970.5|    57|         57|         1| 61.738|   61.869| 123.607|\n",
      "|   36|Australia|1970|   1970.5|    58|         58|         1| 59.542|   60.193| 119.735|\n",
      "|   36|Australia|1970|   1970.5|    59|         59|         1| 56.449|   57.908| 114.357|\n",
      "|   36|Australia|1970|   1970.5|    60|         60|         1| 53.531|   55.761| 109.292|\n",
      "|   36|Australia|1970|   1970.5|    61|         61|         1| 50.563|    53.66| 104.223|\n",
      "|   36|Australia|1970|   1970.5|    62|         62|         1| 47.792|   51.436|  99.228|\n",
      "|   36|Australia|1970|   1970.5|    63|         63|         1| 45.445|   49.098|  94.543|\n",
      "|   36|Australia|1970|   1970.5|    64|         64|         1| 43.355|   46.717|  90.072|\n",
      "|   36|Australia|1970|   1970.5|    65|         65|         1| 41.155|   44.299|  85.454|\n",
      "|   36|Australia|1970|   1970.5|    66|         66|         1| 38.953|   41.777|   80.73|\n",
      "|   36|Australia|1970|   1970.5|    67|         67|         1| 36.628|    39.69|  76.318|\n",
      "|   36|Australia|1970|   1970.5|    68|         68|         1| 34.094|   38.289|  72.383|\n",
      "|   36|Australia|1970|   1970.5|    69|         69|         1| 31.455|   37.315|   68.77|\n",
      "|   36|Australia|1970|   1970.5|    70|         70|         1| 28.897|   36.272|  65.169|\n",
      "|   36|Australia|1970|   1970.5|    71|         71|         1| 26.373|   35.274|  61.647|\n",
      "|   36|Australia|1970|   1970.5|    72|         72|         1|  24.05|   34.036|  58.086|\n",
      "|   36|Australia|1970|   1970.5|    73|         73|         1| 22.023|   32.371|  54.394|\n",
      "|   36|Australia|1970|   1970.5|    74|         74|         1| 20.218|   30.423|  50.641|\n",
      "|   36|Australia|1970|   1970.5|    75|         75|         1| 18.454|   28.547|  47.001|\n",
      "|   36|Australia|1970|   1970.5|    76|         76|         1| 16.759|   26.705|  43.464|\n",
      "|   36|Australia|1970|   1970.5|    77|         77|         1| 15.165|   24.763|  39.928|\n",
      "|   36|Australia|1970|   1970.5|    78|         78|         1| 13.668|     22.7|  36.368|\n",
      "|   36|Australia|1970|   1970.5|    79|         79|         1| 12.258|   20.575|  32.833|\n",
      "|   36|Australia|1970|   1970.5|    80|         80|         1| 10.944|   18.471|  29.415|\n",
      "|   36|Australia|1970|   1970.5|    81|         81|         1|  9.738|   16.379|  26.117|\n",
      "|   36|Australia|1970|   1970.5|    82|         82|         1|  8.539|   14.413|  22.952|\n",
      "|   36|Australia|1970|   1970.5|    83|         83|         1|  7.304|   12.641|  19.945|\n",
      "|   36|Australia|1970|   1970.5|    84|         84|         1|  6.081|   11.026|  17.107|\n",
      "|   36|Australia|1970|   1970.5|    85|         85|         1|  4.955|    9.468|  14.423|\n",
      "|   36|Australia|1970|   1970.5|    86|         86|         1|  3.899|    7.989|  11.888|\n",
      "|   36|Australia|1970|   1970.5|    87|         87|         1|  3.008|    6.637|   9.645|\n",
      "|   36|Australia|1970|   1970.5|    88|         88|         1|  2.335|    5.428|   7.763|\n",
      "|   36|Australia|1970|   1970.5|    89|         89|         1|  1.829|    4.354|   6.183|\n",
      "|   36|Australia|1970|   1970.5|    90|         90|         1|  1.306|    3.227|   4.533|\n",
      "|   36|Australia|1970|   1970.5|    91|         91|         1|  0.938|     2.38|   3.318|\n",
      "|   36|Australia|1970|   1970.5|    92|         92|         1|  0.752|    1.943|   2.695|\n",
      "|   36|Australia|1970|   1970.5|    93|         93|         1|  0.541|    1.432|   1.973|\n",
      "|   36|Australia|1970|   1970.5|    94|         94|         1|  0.307|    0.845|   1.152|\n",
      "|   36|Australia|1970|   1970.5|    95|         95|         1|  0.177|    0.514|   0.691|\n",
      "|   36|Australia|1970|   1970.5|    96|         96|         1|  0.146|    0.427|   0.573|\n",
      "|   36|Australia|1970|   1970.5|    97|         97|         1|  0.112|    0.332|   0.444|\n",
      "|   36|Australia|1970|   1970.5|    98|         98|         1|  0.076|    0.227|   0.303|\n",
      "|   36|Australia|1970|   1970.5|    99|         99|         1|  0.036|    0.112|   0.148|\n",
      "|   36|Australia|1970|   1970.5|   100|        100|        -1|  0.042|    0.142|   0.184|\n",
      "+-----+---------+----+---------+------+-----------+----------+-------+---------+--------+\n",
      "\n"
     ]
    }
   ],
   "source": [
    "df.filter((df.Location == 'Australia') & (df.Time == 1970)).show(101)"
   ]
  },
  {
   "cell_type": "markdown",
   "metadata": {
    "id": "utx53EQwjUSY"
   },
   "source": [
    "The select function can select a subset of columns.\n",
    "\n",
    "**Exercise**: What was the population of 45-year-old females in India in 1960?"
   ]
  },
  {
   "cell_type": "code",
   "execution_count": 30,
   "metadata": {
    "colab": {
     "base_uri": "https://localhost:8080/"
    },
    "id": "zwxYNG2qjpft",
    "outputId": "97599df1-629b-4e08-bfea-04929a3f4820"
   },
   "outputs": [
    {
     "name": "stdout",
     "output_type": "stream",
     "text": [
      "No population data found for the specified criteria.\n"
     ]
    }
   ],
   "source": [
    "# ANSWER\n",
    "population=df.filter((df.Location == 'India') & (df.Time == 1960) & (df.AgeGrp == '45years') & (df.PopFemale.isNotNull())).select('PopFemale').first()\n",
    "# Check if a population value exists and display it\n",
    "if population is not None:\n",
    "    print(\"Population of 45-year-old females in India in 1960:\", population[0])\n",
    "else:\n",
    "    print(\"No population data found for the specified criteria.\")"
   ]
  },
  {
   "cell_type": "markdown",
   "metadata": {
    "id": "13IpzCh23AdD"
   },
   "source": [
    "**Exercise**: Write a filter query to show the distinct locations starting with 'UN'."
   ]
  },
  {
   "cell_type": "code",
   "execution_count": 31,
   "metadata": {
    "colab": {
     "base_uri": "https://localhost:8080/"
    },
    "id": "dmgSw_z7s_-S",
    "outputId": "2e3de1f2-0049-4597-bb03-65c59304bc88"
   },
   "outputs": [
    {
     "name": "stdout",
     "output_type": "stream",
     "text": [
      "+--------------------+\n",
      "|            Location|\n",
      "+--------------------+\n",
      "|UN-ECE: member co...|\n",
      "|       UNFPA Regions|\n",
      "|UNICEF Regions: S...|\n",
      "|UNFPA: East and S...|\n",
      "|UNFPA: West and C...|\n",
      "|UNICEF Programme ...|\n",
      "|UNICEF Programme ...|\n",
      "|UNICEF Programme ...|\n",
      "|UNICEF Regions: E...|\n",
      "|UNITED NATIONS Re...|\n",
      "|UNICEF Regions: W...|\n",
      "|UNFPA: Asia and t...|\n",
      "|UNICEF Regions: E...|\n",
      "|UNFPA: Arab State...|\n",
      "|UNICEF Regions: E...|\n",
      "|UNICEF Programme ...|\n",
      "|UNICEF Regions: E...|\n",
      "|      UNICEF REGIONS|\n",
      "|UNICEF Regions: S...|\n",
      "|UNFPA: Latin Amer...|\n",
      "+--------------------+\n",
      "only showing top 20 rows\n",
      "\n"
     ]
    }
   ],
   "source": [
    "# ANSWER\n",
    "distinct_locations = df.filter(col('Location').startswith('UN')).select('Location').distinct()\n",
    "\n",
    "# Show the distinct locations starting with 'UN'\n",
    "distinct_locations.show()\n"
   ]
  },
  {
   "cell_type": "markdown",
   "metadata": {
    "id": "Ucwk6vQ0qu63"
   },
   "source": [
    "Another example: what is the population of each location in 1950 and 2019?"
   ]
  },
  {
   "cell_type": "code",
   "execution_count": 32,
   "metadata": {
    "colab": {
     "base_uri": "https://localhost:8080/"
    },
    "id": "C_L9r2lLq1ix",
    "outputId": "8b2c1f18-caaa-4870-c333-491ab5f9494e"
   },
   "outputs": [
    {
     "name": "stdout",
     "output_type": "stream",
     "text": [
      "+--------------------+---------------+\n",
      "|            Location|Population_1950|\n",
      "+--------------------+---------------+\n",
      "|               World|    2536431.017|\n",
      "|      UNICEF REGIONS|    2536431.017|\n",
      "|UNITED NATIONS Re...|    2535484.559|\n",
      "|United Nations Me...|    2535484.422|\n",
      "|         WHO Regions|    2522040.325|\n",
      "|Countries with Ac...|    2384540.117|\n",
      "|World Bank Region...|    1840638.352|\n",
      "|UNICEF PROGRAMME ...|    1772861.502|\n",
      "|       UNFPA Regions|    1742400.273|\n",
      "|Group of Twenty (...|    1731945.275|\n",
      "|Less developed re...|    1721612.096|\n",
      "|Middle-income cou...|      1703596.5|\n",
      "|   Group of 77 (G77)|    1618241.347|\n",
      "|Less developed re...|    1526184.327|\n",
      "|ESCAP: income groups|    1490837.911|\n",
      "|   ESCAP: HDI groups|    1490837.911|\n",
      "|United Nations Ec...|    1490837.911|\n",
      "|ESCAP: WB income ...|    1490818.181|\n",
      "|                Asia|    1404908.989|\n",
      "|  Asia-Pacific Group|    1397562.214|\n",
      "+--------------------+---------------+\n",
      "only showing top 20 rows\n",
      "\n"
     ]
    }
   ],
   "source": [
    "populations_in_1950 = df.filter(df.Time == 1950)\\\n",
    "                    .groupBy('Location')\\\n",
    "                    .sum('PopTotal')\\\n",
    "                    .withColumnRenamed('sum(PopTotal)', 'Population_1950')\\\n",
    "                    .withColumn('Population_1950', round('Population_1950', 3))\\\n",
    "                    .orderBy(col('Population_1950').desc())\n",
    "populations_in_1950.show()"
   ]
  },
  {
   "cell_type": "code",
   "execution_count": 33,
   "metadata": {
    "id": "DT125gNwiBn-"
   },
   "outputs": [],
   "source": [
    "populations_in_2019 = df.filter(df.Time == 2019)\\\n",
    "                    .groupBy('Location')\\\n",
    "                    .sum('PopTotal')\\\n",
    "                    .withColumnRenamed('sum(PopTotal)', 'Population_2019')\\\n",
    "                    .withColumn('Population_2019', round('Population_2019', 3))\\\n",
    "                    .orderBy(col('Population_2019').desc())\n"
   ]
  },
  {
   "cell_type": "code",
   "execution_count": 34,
   "metadata": {
    "colab": {
     "base_uri": "https://localhost:8080/"
    },
    "id": "TGQ3PPvDiWu3",
    "outputId": "0a32302b-412f-4c09-b559-e1247240b8d7"
   },
   "outputs": [
    {
     "name": "stdout",
     "output_type": "stream",
     "text": [
      "+--------------------+---------------+---------------+\n",
      "|            Location|Population_1950|Population_2019|\n",
      "+--------------------+---------------+---------------+\n",
      "|         Afghanistan|       7752.117|      38041.757|\n",
      "|              Africa|     227794.137|    1308064.174|\n",
      "|       African Group|     227511.873|    1306320.571|\n",
      "|       African Union|     227525.637|    1306903.022|\n",
      "|African Union: Ce...|      24214.661|     154013.705|\n",
      "|African Union: Ea...|      55336.034|     382531.218|\n",
      "|African Union: No...|      43705.252|     203493.227|\n",
      "|African Union: So...|      34051.198|     179956.492|\n",
      "|African Union: We...|       70218.49|     386908.388|\n",
      "|African, Caribbea...|     199979.667|    1150190.577|\n",
      "|             Albania|       1263.164|       2880.913|\n",
      "|             Algeria|        8872.25|      43053.054|\n",
      "|    Andean Community|      26311.024|     111736.664|\n",
      "|              Angola|       4548.021|      31825.299|\n",
      "| Antigua and Barbuda|         45.515|         97.115|\n",
      "|           Argentina|       17037.91|      44780.675|\n",
      "|             Armenia|       1353.502|       2957.728|\n",
      "|               Aruba|         38.052|         106.31|\n",
      "|                Asia|    1404908.989|    4601371.264|\n",
      "|Asia-Pacific Econ...|    1136577.758|    2956245.284|\n",
      "+--------------------+---------------+---------------+\n",
      "only showing top 20 rows\n",
      "\n"
     ]
    }
   ],
   "source": [
    "populations_in_1950.join(populations_in_2019, 'Location').orderBy('Location').show()"
   ]
  },
  {
   "cell_type": "markdown",
   "metadata": {
    "id": "XUmwRcHuXxVo"
   },
   "source": [
    "**Exercise**: Which locations had the largest percentage change in population from 1950 to 2019?"
   ]
  },
  {
   "cell_type": "code",
   "execution_count": 35,
   "metadata": {
    "colab": {
     "base_uri": "https://localhost:8080/"
    },
    "id": "gZWfatPCl4vu",
    "outputId": "831a6431-d81a-4399-9558-5eed81d74968"
   },
   "outputs": [
    {
     "name": "stdout",
     "output_type": "stream",
     "text": [
      "+--------------------+---------------+---------------+------------------+\n",
      "|            Location|Population_1950|Population_2019| Percentage_Change|\n",
      "+--------------------+---------------+---------------+------------------+\n",
      "|United Arab Emirates|         69.594|       9770.526|13939.322355375467|\n",
      "|               Qatar|         25.006|       2832.071|11225.565864192593|\n",
      "|      Western Sahara|         13.763|        582.458| 4132.056964324638|\n",
      "|              Kuwait|        153.103|       4207.077| 2647.873653684121|\n",
      "|              Jordan|        481.319|      10101.697|1998.7530099580529|\n",
      "|             Mayotte|         15.138|        266.153|1658.1780948606158|\n",
      "|            Djibouti|           62.0|        973.557|1470.2532258064516|\n",
      "|ESCWA: Gulf Coope...|       3941.065|      57694.359|1363.9281260268478|\n",
      "|Gulf Cooperation ...|       3941.065|      57694.359|1363.9281260268478|\n",
      "|             Bahrain|        115.612|       1641.164|1319.5446839428432|\n",
      "|       French Guiana|         25.484|        290.823| 1041.198398995448|\n",
      "|        Saudi Arabia|        3121.34|      34268.529| 997.8787636079377|\n",
      "|                Oman|         456.41|       4974.992| 990.0269494533424|\n",
      "|       Côte d'Ivoire|       2630.131|      25716.554| 877.7670389801876|\n",
      "|               Niger|       2559.706|      23310.719| 810.6795467917017|\n",
      "|   Brunei Darussalam|         48.009|        433.296| 802.5307754795974|\n",
      "|               Kenya|       6076.757|      52573.968| 765.1648897594557|\n",
      "|              Uganda|       5158.191|      44269.587| 758.2386150493459|\n",
      "|              Zambia|       2310.436|      17861.034| 673.0590243573074|\n",
      "|              Gambia|        304.895|       2347.696|  670.001475917939|\n",
      "+--------------------+---------------+---------------+------------------+\n",
      "only showing top 20 rows\n",
      "\n"
     ]
    }
   ],
   "source": [
    "# ANSWER\n",
    "# Calculate percentage change in population\n",
    "population_change = populations_in_1950.join(populations_in_2019, 'Location') \\\n",
    "    .withColumn('Percentage_Change', ((col('Population_2019') - col('Population_1950')) / col('Population_1950')) * 100) \\\n",
    "    .orderBy(col('Percentage_Change').desc())\n",
    "\n",
    "# Display locations with the largest percentage change\n",
    "population_change.show()\n"
   ]
  },
  {
   "cell_type": "markdown",
   "metadata": {
    "id": "Amz7aJ8TpWju"
   },
   "source": [
    "**Bonus Exercise**: In 2019 which locations have the highest percentage of seniors (age 80+) relative to their total population?\n",
    "\n",
    "(Hint: if you find Japan, Greece and Italy you are right!)"
   ]
  },
  {
   "cell_type": "code",
   "execution_count": 36,
   "metadata": {
    "colab": {
     "base_uri": "https://localhost:8080/"
    },
    "id": "j9aqlueYo2x1",
    "outputId": "56ab01e7-ea52-4f1c-a4a8-864d1fa0a0df"
   },
   "outputs": [
    {
     "name": "stdout",
     "output_type": "stream",
     "text": [
      "+--------------------+----------+----------+-----------------+\n",
      "|            Location|PopTotal80|  PopTotal|       Percentage|\n",
      "+--------------------+----------+----------+-----------------+\n",
      "|More developed: Asia| 11018.236|126860.298|8.685330378145574|\n",
      "|               Japan| 11018.236|126860.298|8.685330378145574|\n",
      "|              Greece|   779.928| 10473.452|7.446713843726023|\n",
      "|               Italy|  4465.708| 60550.092|7.375229091311702|\n",
      "|             Germany|  5737.398| 83517.046|6.869732916559333|\n",
      "+--------------------+----------+----------+-----------------+\n",
      "\n"
     ]
    }
   ],
   "source": [
    "# ANSWER\n",
    "total_pop = df.filter(df.Time == 2019)\\\n",
    "                    .groupBy('Location')\\\n",
    "                    .sum('PopTotal')\\\n",
    "                    .withColumnRenamed('sum(PopTotal)', 'PopTotal')\\\n",
    "                    .withColumn('PopTotal', round('PopTotal', 3))\\\n",
    "                    .orderBy(col('PopTotal').desc())\n",
    "populations_80s_in_2019 = df.filter((df.Time == 2019) & (df.AgeGrp >= 80))\\\n",
    "                    .groupBy('Location')\\\n",
    "                    .sum('PopTotal')\\\n",
    "                    .withColumnRenamed('sum(PopTotal)', 'PopTotal80')\\\n",
    "                    .withColumn('PopTotal80', round('PopTotal80', 3))\\\n",
    "                    .orderBy(col('PopTotal80').desc())\n",
    "pop_80s_total = populations_80s_in_2019.join(total_pop, 'Location').orderBy('Location')\n",
    "pop_80s_total = pop_80s_total.withColumn('Percentage', ((col('PopTotal80')) / col('PopTotal')) * 100)\n",
    "pop_80s_total.orderBy(col('Percentage').desc()).limit(5).show()"
   ]
  },
  {
   "cell_type": "markdown",
   "metadata": {
    "id": "JF2elDeHXRpY"
   },
   "source": [
    "## Population line plot\n",
    "\n",
    "In this section, we use a query to perform a data visualisation with matplotlib. We shall plot population vs year for three countries."
   ]
  },
  {
   "cell_type": "code",
   "execution_count": 37,
   "metadata": {
    "colab": {
     "base_uri": "https://localhost:8080/"
    },
    "id": "on49bDYynXuS",
    "outputId": "1093d201-7a2c-488e-fce2-d791ed62a6f3"
   },
   "outputs": [
    {
     "name": "stdout",
     "output_type": "stream",
     "text": [
      "+---------+---------+----------+\n",
      "| Location|MidPeriod|Population|\n",
      "+---------+---------+----------+\n",
      "|Australia|   1970.5|  12793.03|\n",
      "|Australia|   2001.5| 19194.676|\n",
      "|Australia|   2013.5| 23254.912|\n",
      "|Australia|   2007.5| 20916.339|\n",
      "|Australia|   2014.5| 23596.426|\n",
      "|Australia|   1971.5|  13033.13|\n",
      "|Australia|   1974.5| 13605.574|\n",
      "|Australia|   1991.5| 17189.235|\n",
      "|Australia|   1968.5| 12215.704|\n",
      "|Australia|   2009.5| 21750.852|\n",
      "|Australia|   2011.5| 22538.002|\n",
      "|Australia|   1958.5|  9808.595|\n",
      "|Australia|   1990.5|   16960.6|\n",
      "|Australia|   1962.5|  10643.42|\n",
      "|Australia|   2008.5| 21332.293|\n",
      "|Australia|   1955.5|    9165.7|\n",
      "|Australia|   2003.5| 19624.163|\n",
      "|Australia|   1969.5| 12518.931|\n",
      "|Australia|   1996.5| 18189.274|\n",
      "|Australia|   2005.5| 20178.543|\n",
      "+---------+---------+----------+\n",
      "only showing top 20 rows\n",
      "\n"
     ]
    }
   ],
   "source": [
    "df_3countries = df[df.Location.isin(\"Australia\", \"New Zealand\", \"Singapore\")]\\\n",
    "                  .select('Location', 'MidPeriod', 'PopTotal') \\\n",
    "                  .groupBy('Location', 'MidPeriod')\\\n",
    "                  .sum('PopTotal')\\\n",
    "                  .withColumnRenamed('sum(PopTotal)', 'Population')\\\n",
    "                  .withColumn('Population', round('Population', 3))\n",
    "df_3countries.show()"
   ]
  },
  {
   "cell_type": "code",
   "execution_count": 38,
   "metadata": {
    "id": "94YAOx4DggYX"
   },
   "outputs": [],
   "source": [
    "dataforplotting = df_3countries.toPandas()"
   ]
  },
  {
   "cell_type": "markdown",
   "metadata": {
    "id": "HizTgSBkYP80"
   },
   "source": [
    "Now that this dataset is of a manageable size, we convert it to a Pandas dataframe for plotting."
   ]
  },
  {
   "cell_type": "code",
   "execution_count": 39,
   "metadata": {
    "colab": {
     "base_uri": "https://localhost:8080/"
    },
    "id": "MTcUn1rWZw3H",
    "outputId": "83007acb-0cf1-4cca-ae15-75dc45ca9d78"
   },
   "outputs": [
    {
     "name": "stdout",
     "output_type": "stream",
     "text": [
      "<class 'pandas.core.frame.DataFrame'>\n",
      "RangeIndex: 210 entries, 0 to 209\n",
      "Data columns (total 3 columns):\n",
      " #   Column      Non-Null Count  Dtype  \n",
      "---  ------      --------------  -----  \n",
      " 0   Location    210 non-null    object \n",
      " 1   MidPeriod   210 non-null    float32\n",
      " 2   Population  210 non-null    float64\n",
      "dtypes: float32(1), float64(1), object(1)\n",
      "memory usage: 4.2+ KB\n"
     ]
    }
   ],
   "source": [
    "dataforplotting.info()"
   ]
  },
  {
   "cell_type": "code",
   "execution_count": 40,
   "metadata": {
    "colab": {
     "base_uri": "https://localhost:8080/",
     "height": 455
    },
    "id": "QkkQaikca5ic",
    "outputId": "cf435c10-fa9a-4e70-fd4c-73099cb6d008"
   },
   "outputs": [
    {
     "data": {
      "text/html": [
       "\n",
       "\n",
       "  <div id=\"df-99d4cdbd-3e87-4455-b1ea-ede59d292408\">\n",
       "    <div class=\"colab-df-container\">\n",
       "      <div>\n",
       "<style scoped>\n",
       "    .dataframe tbody tr th:only-of-type {\n",
       "        vertical-align: middle;\n",
       "    }\n",
       "\n",
       "    .dataframe tbody tr th {\n",
       "        vertical-align: top;\n",
       "    }\n",
       "\n",
       "    .dataframe thead th {\n",
       "        text-align: right;\n",
       "    }\n",
       "</style>\n",
       "<table border=\"1\" class=\"dataframe\">\n",
       "  <thead>\n",
       "    <tr style=\"text-align: right;\">\n",
       "      <th>Location</th>\n",
       "      <th>Australia</th>\n",
       "      <th>New Zealand</th>\n",
       "      <th>Singapore</th>\n",
       "    </tr>\n",
       "    <tr>\n",
       "      <th>MidPeriod</th>\n",
       "      <th></th>\n",
       "      <th></th>\n",
       "      <th></th>\n",
       "    </tr>\n",
       "  </thead>\n",
       "  <tbody>\n",
       "    <tr>\n",
       "      <th>1950.5</th>\n",
       "      <td>8177.348</td>\n",
       "      <td>1908.011</td>\n",
       "      <td>1022.095</td>\n",
       "    </tr>\n",
       "    <tr>\n",
       "      <th>1951.5</th>\n",
       "      <td>8398.224</td>\n",
       "      <td>1947.929</td>\n",
       "      <td>1067.797</td>\n",
       "    </tr>\n",
       "    <tr>\n",
       "      <th>1952.5</th>\n",
       "      <td>8595.064</td>\n",
       "      <td>1992.809</td>\n",
       "      <td>1119.932</td>\n",
       "    </tr>\n",
       "    <tr>\n",
       "      <th>1953.5</th>\n",
       "      <td>8782.177</td>\n",
       "      <td>2040.237</td>\n",
       "      <td>1177.580</td>\n",
       "    </tr>\n",
       "    <tr>\n",
       "      <th>1954.5</th>\n",
       "      <td>8970.121</td>\n",
       "      <td>2088.488</td>\n",
       "      <td>1239.692</td>\n",
       "    </tr>\n",
       "    <tr>\n",
       "      <th>...</th>\n",
       "      <td>...</td>\n",
       "      <td>...</td>\n",
       "      <td>...</td>\n",
       "    </tr>\n",
       "    <tr>\n",
       "      <th>2015.5</th>\n",
       "      <td>23932.499</td>\n",
       "      <td>4614.527</td>\n",
       "      <td>5592.143</td>\n",
       "    </tr>\n",
       "    <tr>\n",
       "      <th>2016.5</th>\n",
       "      <td>24262.710</td>\n",
       "      <td>4659.265</td>\n",
       "      <td>5653.625</td>\n",
       "    </tr>\n",
       "    <tr>\n",
       "      <th>2017.5</th>\n",
       "      <td>24584.619</td>\n",
       "      <td>4702.029</td>\n",
       "      <td>5708.042</td>\n",
       "    </tr>\n",
       "    <tr>\n",
       "      <th>2018.5</th>\n",
       "      <td>24898.153</td>\n",
       "      <td>4743.131</td>\n",
       "      <td>5757.503</td>\n",
       "    </tr>\n",
       "    <tr>\n",
       "      <th>2019.5</th>\n",
       "      <td>25203.200</td>\n",
       "      <td>4783.062</td>\n",
       "      <td>5804.343</td>\n",
       "    </tr>\n",
       "  </tbody>\n",
       "</table>\n",
       "<p>70 rows × 3 columns</p>\n",
       "</div>\n",
       "      <button class=\"colab-df-convert\" onclick=\"convertToInteractive('df-99d4cdbd-3e87-4455-b1ea-ede59d292408')\"\n",
       "              title=\"Convert this dataframe to an interactive table.\"\n",
       "              style=\"display:none;\">\n",
       "\n",
       "  <svg xmlns=\"http://www.w3.org/2000/svg\" height=\"24px\"viewBox=\"0 0 24 24\"\n",
       "       width=\"24px\">\n",
       "    <path d=\"M0 0h24v24H0V0z\" fill=\"none\"/>\n",
       "    <path d=\"M18.56 5.44l.94 2.06.94-2.06 2.06-.94-2.06-.94-.94-2.06-.94 2.06-2.06.94zm-11 1L8.5 8.5l.94-2.06 2.06-.94-2.06-.94L8.5 2.5l-.94 2.06-2.06.94zm10 10l.94 2.06.94-2.06 2.06-.94-2.06-.94-.94-2.06-.94 2.06-2.06.94z\"/><path d=\"M17.41 7.96l-1.37-1.37c-.4-.4-.92-.59-1.43-.59-.52 0-1.04.2-1.43.59L10.3 9.45l-7.72 7.72c-.78.78-.78 2.05 0 2.83L4 21.41c.39.39.9.59 1.41.59.51 0 1.02-.2 1.41-.59l7.78-7.78 2.81-2.81c.8-.78.8-2.07 0-2.86zM5.41 20L4 18.59l7.72-7.72 1.47 1.35L5.41 20z\"/>\n",
       "  </svg>\n",
       "      </button>\n",
       "\n",
       "\n",
       "\n",
       "    <div id=\"df-1fb4b8cd-1aef-4482-b9f0-17e5ca617d73\">\n",
       "      <button class=\"colab-df-quickchart\" onclick=\"quickchart('df-1fb4b8cd-1aef-4482-b9f0-17e5ca617d73')\"\n",
       "              title=\"Suggest charts.\"\n",
       "              style=\"display:none;\">\n",
       "\n",
       "<svg xmlns=\"http://www.w3.org/2000/svg\" height=\"24px\"viewBox=\"0 0 24 24\"\n",
       "     width=\"24px\">\n",
       "    <g>\n",
       "        <path d=\"M19 3H5c-1.1 0-2 .9-2 2v14c0 1.1.9 2 2 2h14c1.1 0 2-.9 2-2V5c0-1.1-.9-2-2-2zM9 17H7v-7h2v7zm4 0h-2V7h2v10zm4 0h-2v-4h2v4z\"/>\n",
       "    </g>\n",
       "</svg>\n",
       "      </button>\n",
       "    </div>\n",
       "\n",
       "<style>\n",
       "  .colab-df-quickchart {\n",
       "    background-color: #E8F0FE;\n",
       "    border: none;\n",
       "    border-radius: 50%;\n",
       "    cursor: pointer;\n",
       "    display: none;\n",
       "    fill: #1967D2;\n",
       "    height: 32px;\n",
       "    padding: 0 0 0 0;\n",
       "    width: 32px;\n",
       "  }\n",
       "\n",
       "  .colab-df-quickchart:hover {\n",
       "    background-color: #E2EBFA;\n",
       "    box-shadow: 0px 1px 2px rgba(60, 64, 67, 0.3), 0px 1px 3px 1px rgba(60, 64, 67, 0.15);\n",
       "    fill: #174EA6;\n",
       "  }\n",
       "\n",
       "  [theme=dark] .colab-df-quickchart {\n",
       "    background-color: #3B4455;\n",
       "    fill: #D2E3FC;\n",
       "  }\n",
       "\n",
       "  [theme=dark] .colab-df-quickchart:hover {\n",
       "    background-color: #434B5C;\n",
       "    box-shadow: 0px 1px 3px 1px rgba(0, 0, 0, 0.15);\n",
       "    filter: drop-shadow(0px 1px 2px rgba(0, 0, 0, 0.3));\n",
       "    fill: #FFFFFF;\n",
       "  }\n",
       "</style>\n",
       "\n",
       "    <script>\n",
       "      async function quickchart(key) {\n",
       "        const containerElement = document.querySelector('#' + key);\n",
       "        const charts = await google.colab.kernel.invokeFunction(\n",
       "            'suggestCharts', [key], {});\n",
       "      }\n",
       "    </script>\n",
       "\n",
       "      <script>\n",
       "\n",
       "function displayQuickchartButton(domScope) {\n",
       "  let quickchartButtonEl =\n",
       "    domScope.querySelector('#df-1fb4b8cd-1aef-4482-b9f0-17e5ca617d73 button.colab-df-quickchart');\n",
       "  quickchartButtonEl.style.display =\n",
       "    google.colab.kernel.accessAllowed ? 'block' : 'none';\n",
       "}\n",
       "\n",
       "        displayQuickchartButton(document);\n",
       "      </script>\n",
       "      <style>\n",
       "    .colab-df-container {\n",
       "      display:flex;\n",
       "      flex-wrap:wrap;\n",
       "      gap: 12px;\n",
       "    }\n",
       "\n",
       "    .colab-df-convert {\n",
       "      background-color: #E8F0FE;\n",
       "      border: none;\n",
       "      border-radius: 50%;\n",
       "      cursor: pointer;\n",
       "      display: none;\n",
       "      fill: #1967D2;\n",
       "      height: 32px;\n",
       "      padding: 0 0 0 0;\n",
       "      width: 32px;\n",
       "    }\n",
       "\n",
       "    .colab-df-convert:hover {\n",
       "      background-color: #E2EBFA;\n",
       "      box-shadow: 0px 1px 2px rgba(60, 64, 67, 0.3), 0px 1px 3px 1px rgba(60, 64, 67, 0.15);\n",
       "      fill: #174EA6;\n",
       "    }\n",
       "\n",
       "    [theme=dark] .colab-df-convert {\n",
       "      background-color: #3B4455;\n",
       "      fill: #D2E3FC;\n",
       "    }\n",
       "\n",
       "    [theme=dark] .colab-df-convert:hover {\n",
       "      background-color: #434B5C;\n",
       "      box-shadow: 0px 1px 3px 1px rgba(0, 0, 0, 0.15);\n",
       "      filter: drop-shadow(0px 1px 2px rgba(0, 0, 0, 0.3));\n",
       "      fill: #FFFFFF;\n",
       "    }\n",
       "  </style>\n",
       "\n",
       "      <script>\n",
       "        const buttonEl =\n",
       "          document.querySelector('#df-99d4cdbd-3e87-4455-b1ea-ede59d292408 button.colab-df-convert');\n",
       "        buttonEl.style.display =\n",
       "          google.colab.kernel.accessAllowed ? 'block' : 'none';\n",
       "\n",
       "        async function convertToInteractive(key) {\n",
       "          const element = document.querySelector('#df-99d4cdbd-3e87-4455-b1ea-ede59d292408');\n",
       "          const dataTable =\n",
       "            await google.colab.kernel.invokeFunction('convertToInteractive',\n",
       "                                                     [key], {});\n",
       "          if (!dataTable) return;\n",
       "\n",
       "          const docLinkHtml = 'Like what you see? Visit the ' +\n",
       "            '<a target=\"_blank\" href=https://colab.research.google.com/notebooks/data_table.ipynb>data table notebook</a>'\n",
       "            + ' to learn more about interactive tables.';\n",
       "          element.innerHTML = '';\n",
       "          dataTable['output_type'] = 'display_data';\n",
       "          await google.colab.output.renderOutput(dataTable, element);\n",
       "          const docLink = document.createElement('div');\n",
       "          docLink.innerHTML = docLinkHtml;\n",
       "          element.appendChild(docLink);\n",
       "        }\n",
       "      </script>\n",
       "    </div>\n",
       "  </div>\n"
      ],
      "text/plain": [
       "Location   Australia  New Zealand  Singapore\n",
       "MidPeriod                                   \n",
       "1950.5      8177.348     1908.011   1022.095\n",
       "1951.5      8398.224     1947.929   1067.797\n",
       "1952.5      8595.064     1992.809   1119.932\n",
       "1953.5      8782.177     2040.237   1177.580\n",
       "1954.5      8970.121     2088.488   1239.692\n",
       "...              ...          ...        ...\n",
       "2015.5     23932.499     4614.527   5592.143\n",
       "2016.5     24262.710     4659.265   5653.625\n",
       "2017.5     24584.619     4702.029   5708.042\n",
       "2018.5     24898.153     4743.131   5757.503\n",
       "2019.5     25203.200     4783.062   5804.343\n",
       "\n",
       "[70 rows x 3 columns]"
      ]
     },
     "execution_count": 40,
     "metadata": {},
     "output_type": "execute_result"
    }
   ],
   "source": [
    "dataforplotting.pivot_table(index=['MidPeriod'], columns='Location', values='Population')"
   ]
  },
  {
   "cell_type": "code",
   "execution_count": 41,
   "metadata": {
    "colab": {
     "base_uri": "https://localhost:8080/",
     "height": 449
    },
    "id": "4Su9Q_zRYafh",
    "outputId": "6cb4aded-b6fc-452d-fc05-7d8fde691c6d"
   },
   "outputs": [
    {
     "data": {
      "image/png": "[encoded data removed]",
      "text/plain": [
       "<Figure size 640x480 with 1 Axes>"
      ]
     },
     "metadata": {},
     "output_type": "display_data"
    }
   ],
   "source": [
    "ax = dataforplotting.pivot_table(index=['MidPeriod'], columns='Location', values='Population').plot()\n",
    "ax.set_xlabel('Year');\n",
    "ax.set_ylabel('Population in thousands');"
   ]
  },
  {
   "cell_type": "markdown",
   "metadata": {
    "id": "lk7vpgzhoyyu"
   },
   "source": [
    "**Bonus Exercise**: Plot the world population of children (age 0-17) along with those of the age groups 18-39 and 40+ from 1950 to 2019. You should display three lines (one for the population of each age group vs year) on the same plot. Note that 'World' is one of the locations.\n",
    "\n",
    "Hint: one approach is to create a new column 'AgeCategory' based on AgeGrpStart using the 'when' function."
   ]
  },
  {
   "cell_type": "code",
   "execution_count": 51,
   "metadata": {
    "colab": {
     "base_uri": "https://localhost:8080/",
     "height": 472
    },
    "id": "3seZfEDKztf1",
    "outputId": "452de5ac-c5d8-4667-d956-42ae074d90e6"
   },
   "outputs": [
    {
     "data": {
      "image/png": "[encoded data removed]",
      "text/plain": [
       "<Figure size 640x480 with 1 Axes>"
      ]
     },
     "metadata": {},
     "output_type": "display_data"
    }
   ],
   "source": [
    "# ANSWER\n",
    "import matplotlib.pyplot as plt\n",
    "from pyspark.sql.functions import when\n",
    "# Assuming you have a Spark DataFrame named df containing population data\n",
    "# Add a new column 'AgeCategory' based on 'AgeGrpStart' using the 'when' function\n",
    "df_with_age_category = df.withColumn('AgeCategory', when(df['AgeGrpStart'] <= 17, 'Children')\n",
    "                                     .when((df['AgeGrpStart'] >= 18) & (df['AgeGrpStart'] <= 39), 'Young Adults')\n",
    "                                     .otherwise('Older Adults'))\n",
    "# Filter the DataFrame for the 'World' location and the specified age groups\n",
    "world_data = df_with_age_category.filter((df_with_age_category['Location'] == 'World') &\n",
    "                                       (df_with_age_category['AgeCategory'].isin(['Children', 'Young Adults', 'Older Adults'])))\n",
    "# Group by 'MidPeriod' and pivot the DataFrame to create a table with age groups as columns\n",
    "pivot_table = world_data.groupBy('MidPeriod').pivot('AgeCategory').sum('PopTotal')\n",
    "# Create the plot\n",
    "ax = pivot_table.toPandas().plot(x='MidPeriod')\n",
    "# Set plot title and labels\n",
    "ax.set_title('World Population by Age Group')\n",
    "ax.set_xlabel('Year')\n",
    "ax.set_ylabel('Population in thousands')\n",
    "# Show the legend and display the plot\n",
    "ax.legend()\n",
    "plt.show()"
   ]
  },
  {
   "cell_type": "code",
   "execution_count": 52,
   "metadata": {
    "id": "r4TBvqSxNB0X"
   },
   "outputs": [],
   "source": [
    "# Import the required module\n",
    "import pandas as pd\n",
    "agegrp_df = world_data.toPandas()"
   ]
  },
  {
   "cell_type": "code",
   "execution_count": 53,
   "metadata": {
    "colab": {
     "base_uri": "https://localhost:8080/",
     "height": 449
    },
    "id": "zvn4652v0LBB",
    "outputId": "0ee1cc07-df11-4f47-d2c2-87e75dea36d6"
   },
   "outputs": [
    {
     "data": {
      "image/png": "[encoded data removed]",
      "text/plain": [
       "<Figure size 640x480 with 1 Axes>"
      ]
     },
     "metadata": {},
     "output_type": "display_data"
    }
   ],
   "source": [
    "ax = agegrp_df.pivot_table(index=['MidPeriod'], columns='AgeCategory', values='PopTotal').plot()\n",
    "ax.set_xlabel('Year');\n",
    "ax.set_ylabel('Population in thousands');"
   ]
  },
  {
   "cell_type": "markdown",
   "metadata": {
    "id": "CjanSfzLshCY"
   },
   "source": [
    "## Population Pyramid\n",
    "\n",
    "In this section we show how a population pyramid may be created. We look at China in the year 1980."
   ]
  },
  {
   "cell_type": "code",
   "execution_count": 54,
   "metadata": {
    "id": "y-kPKZoSpvu1"
   },
   "outputs": [],
   "source": [
    "china_1980 = df.filter((df.Location == 'China (and dependencies)') & (df.Time == 1980)).toPandas()"
   ]
  },
  {
   "cell_type": "code",
   "execution_count": 55,
   "metadata": {
    "colab": {
     "base_uri": "https://localhost:8080/",
     "height": 424
    },
    "id": "7QO-QPj5-BFa",
    "outputId": "fe1a6fbe-219f-42d5-c8ed-0c453e7b214d"
   },
   "outputs": [
    {
     "data": {
      "text/html": [
       "\n",
       "\n",
       "  <div id=\"df-04c55241-bf7e-4618-888e-df57acb6b3a6\">\n",
       "    <div class=\"colab-df-container\">\n",
       "      <div>\n",
       "<style scoped>\n",
       "    .dataframe tbody tr th:only-of-type {\n",
       "        vertical-align: middle;\n",
       "    }\n",
       "\n",
       "    .dataframe tbody tr th {\n",
       "        vertical-align: top;\n",
       "    }\n",
       "\n",
       "    .dataframe thead th {\n",
       "        text-align: right;\n",
       "    }\n",
       "</style>\n",
       "<table border=\"1\" class=\"dataframe\">\n",
       "  <thead>\n",
       "    <tr style=\"text-align: right;\">\n",
       "      <th></th>\n",
       "      <th>LocID</th>\n",
       "      <th>Location</th>\n",
       "      <th>Time</th>\n",
       "      <th>MidPeriod</th>\n",
       "      <th>AgeGrp</th>\n",
       "      <th>AgeGrpStart</th>\n",
       "      <th>AgeGrpSpan</th>\n",
       "      <th>PopMale</th>\n",
       "      <th>PopFemale</th>\n",
       "      <th>PopTotal</th>\n",
       "    </tr>\n",
       "  </thead>\n",
       "  <tbody>\n",
       "    <tr>\n",
       "      <th>0</th>\n",
       "      <td>1105</td>\n",
       "      <td>China (and dependencies)</td>\n",
       "      <td>1980</td>\n",
       "      <td>1980.5</td>\n",
       "      <td>0</td>\n",
       "      <td>0</td>\n",
       "      <td>1</td>\n",
       "      <td>9345.832031</td>\n",
       "      <td>8896.928711</td>\n",
       "      <td>18242.761719</td>\n",
       "    </tr>\n",
       "    <tr>\n",
       "      <th>1</th>\n",
       "      <td>1105</td>\n",
       "      <td>China (and dependencies)</td>\n",
       "      <td>1980</td>\n",
       "      <td>1980.5</td>\n",
       "      <td>1</td>\n",
       "      <td>1</td>\n",
       "      <td>1</td>\n",
       "      <td>10080.731445</td>\n",
       "      <td>9500.591797</td>\n",
       "      <td>19581.322266</td>\n",
       "    </tr>\n",
       "    <tr>\n",
       "      <th>2</th>\n",
       "      <td>1105</td>\n",
       "      <td>China (and dependencies)</td>\n",
       "      <td>1980</td>\n",
       "      <td>1980.5</td>\n",
       "      <td>2</td>\n",
       "      <td>2</td>\n",
       "      <td>1</td>\n",
       "      <td>10769.024414</td>\n",
       "      <td>10093.152344</td>\n",
       "      <td>20862.175781</td>\n",
       "    </tr>\n",
       "    <tr>\n",
       "      <th>3</th>\n",
       "      <td>1105</td>\n",
       "      <td>China (and dependencies)</td>\n",
       "      <td>1980</td>\n",
       "      <td>1980.5</td>\n",
       "      <td>3</td>\n",
       "      <td>3</td>\n",
       "      <td>1</td>\n",
       "      <td>11404.811523</td>\n",
       "      <td>10664.711914</td>\n",
       "      <td>22069.523438</td>\n",
       "    </tr>\n",
       "    <tr>\n",
       "      <th>4</th>\n",
       "      <td>1105</td>\n",
       "      <td>China (and dependencies)</td>\n",
       "      <td>1980</td>\n",
       "      <td>1980.5</td>\n",
       "      <td>4</td>\n",
       "      <td>4</td>\n",
       "      <td>1</td>\n",
       "      <td>11982.184570</td>\n",
       "      <td>11205.377930</td>\n",
       "      <td>23187.562500</td>\n",
       "    </tr>\n",
       "    <tr>\n",
       "      <th>...</th>\n",
       "      <td>...</td>\n",
       "      <td>...</td>\n",
       "      <td>...</td>\n",
       "      <td>...</td>\n",
       "      <td>...</td>\n",
       "      <td>...</td>\n",
       "      <td>...</td>\n",
       "      <td>...</td>\n",
       "      <td>...</td>\n",
       "      <td>...</td>\n",
       "    </tr>\n",
       "    <tr>\n",
       "      <th>96</th>\n",
       "      <td>1105</td>\n",
       "      <td>China (and dependencies)</td>\n",
       "      <td>1980</td>\n",
       "      <td>1980.5</td>\n",
       "      <td>96</td>\n",
       "      <td>96</td>\n",
       "      <td>1</td>\n",
       "      <td>1.198000</td>\n",
       "      <td>3.994000</td>\n",
       "      <td>5.192000</td>\n",
       "    </tr>\n",
       "    <tr>\n",
       "      <th>97</th>\n",
       "      <td>1105</td>\n",
       "      <td>China (and dependencies)</td>\n",
       "      <td>1980</td>\n",
       "      <td>1980.5</td>\n",
       "      <td>97</td>\n",
       "      <td>97</td>\n",
       "      <td>1</td>\n",
       "      <td>0.894000</td>\n",
       "      <td>3.042000</td>\n",
       "      <td>3.936000</td>\n",
       "    </tr>\n",
       "    <tr>\n",
       "      <th>98</th>\n",
       "      <td>1105</td>\n",
       "      <td>China (and dependencies)</td>\n",
       "      <td>1980</td>\n",
       "      <td>1980.5</td>\n",
       "      <td>98</td>\n",
       "      <td>98</td>\n",
       "      <td>1</td>\n",
       "      <td>0.576000</td>\n",
       "      <td>2.022000</td>\n",
       "      <td>2.598000</td>\n",
       "    </tr>\n",
       "    <tr>\n",
       "      <th>99</th>\n",
       "      <td>1105</td>\n",
       "      <td>China (and dependencies)</td>\n",
       "      <td>1980</td>\n",
       "      <td>1980.5</td>\n",
       "      <td>99</td>\n",
       "      <td>99</td>\n",
       "      <td>1</td>\n",
       "      <td>0.240000</td>\n",
       "      <td>0.933000</td>\n",
       "      <td>1.173000</td>\n",
       "    </tr>\n",
       "    <tr>\n",
       "      <th>100</th>\n",
       "      <td>1105</td>\n",
       "      <td>China (and dependencies)</td>\n",
       "      <td>1980</td>\n",
       "      <td>1980.5</td>\n",
       "      <td>100</td>\n",
       "      <td>100</td>\n",
       "      <td>-1</td>\n",
       "      <td>0.169000</td>\n",
       "      <td>0.975000</td>\n",
       "      <td>1.144000</td>\n",
       "    </tr>\n",
       "  </tbody>\n",
       "</table>\n",
       "<p>101 rows × 10 columns</p>\n",
       "</div>\n",
       "      <button class=\"colab-df-convert\" onclick=\"convertToInteractive('df-04c55241-bf7e-4618-888e-df57acb6b3a6')\"\n",
       "              title=\"Convert this dataframe to an interactive table.\"\n",
       "              style=\"display:none;\">\n",
       "\n",
       "  <svg xmlns=\"http://www.w3.org/2000/svg\" height=\"24px\"viewBox=\"0 0 24 24\"\n",
       "       width=\"24px\">\n",
       "    <path d=\"M0 0h24v24H0V0z\" fill=\"none\"/>\n",
       "    <path d=\"M18.56 5.44l.94 2.06.94-2.06 2.06-.94-2.06-.94-.94-2.06-.94 2.06-2.06.94zm-11 1L8.5 8.5l.94-2.06 2.06-.94-2.06-.94L8.5 2.5l-.94 2.06-2.06.94zm10 10l.94 2.06.94-2.06 2.06-.94-2.06-.94-.94-2.06-.94 2.06-2.06.94z\"/><path d=\"M17.41 7.96l-1.37-1.37c-.4-.4-.92-.59-1.43-.59-.52 0-1.04.2-1.43.59L10.3 9.45l-7.72 7.72c-.78.78-.78 2.05 0 2.83L4 21.41c.39.39.9.59 1.41.59.51 0 1.02-.2 1.41-.59l7.78-7.78 2.81-2.81c.8-.78.8-2.07 0-2.86zM5.41 20L4 18.59l7.72-7.72 1.47 1.35L5.41 20z\"/>\n",
       "  </svg>\n",
       "      </button>\n",
       "\n",
       "\n",
       "\n",
       "    <div id=\"df-e4c2ab90-19cd-4463-9a8e-ceb908b7bacb\">\n",
       "      <button class=\"colab-df-quickchart\" onclick=\"quickchart('df-e4c2ab90-19cd-4463-9a8e-ceb908b7bacb')\"\n",
       "              title=\"Suggest charts.\"\n",
       "              style=\"display:none;\">\n",
       "\n",
       "<svg xmlns=\"http://www.w3.org/2000/svg\" height=\"24px\"viewBox=\"0 0 24 24\"\n",
       "     width=\"24px\">\n",
       "    <g>\n",
       "        <path d=\"M19 3H5c-1.1 0-2 .9-2 2v14c0 1.1.9 2 2 2h14c1.1 0 2-.9 2-2V5c0-1.1-.9-2-2-2zM9 17H7v-7h2v7zm4 0h-2V7h2v10zm4 0h-2v-4h2v4z\"/>\n",
       "    </g>\n",
       "</svg>\n",
       "      </button>\n",
       "    </div>\n",
       "\n",
       "<style>\n",
       "  .colab-df-quickchart {\n",
       "    background-color: #E8F0FE;\n",
       "    border: none;\n",
       "    border-radius: 50%;\n",
       "    cursor: pointer;\n",
       "    display: none;\n",
       "    fill: #1967D2;\n",
       "    height: 32px;\n",
       "    padding: 0 0 0 0;\n",
       "    width: 32px;\n",
       "  }\n",
       "\n",
       "  .colab-df-quickchart:hover {\n",
       "    background-color: #E2EBFA;\n",
       "    box-shadow: 0px 1px 2px rgba(60, 64, 67, 0.3), 0px 1px 3px 1px rgba(60, 64, 67, 0.15);\n",
       "    fill: #174EA6;\n",
       "  }\n",
       "\n",
       "  [theme=dark] .colab-df-quickchart {\n",
       "    background-color: #3B4455;\n",
       "    fill: #D2E3FC;\n",
       "  }\n",
       "\n",
       "  [theme=dark] .colab-df-quickchart:hover {\n",
       "    background-color: #434B5C;\n",
       "    box-shadow: 0px 1px 3px 1px rgba(0, 0, 0, 0.15);\n",
       "    filter: drop-shadow(0px 1px 2px rgba(0, 0, 0, 0.3));\n",
       "    fill: #FFFFFF;\n",
       "  }\n",
       "</style>\n",
       "\n",
       "    <script>\n",
       "      async function quickchart(key) {\n",
       "        const containerElement = document.querySelector('#' + key);\n",
       "        const charts = await google.colab.kernel.invokeFunction(\n",
       "            'suggestCharts', [key], {});\n",
       "      }\n",
       "    </script>\n",
       "\n",
       "      <script>\n",
       "\n",
       "function displayQuickchartButton(domScope) {\n",
       "  let quickchartButtonEl =\n",
       "    domScope.querySelector('#df-e4c2ab90-19cd-4463-9a8e-ceb908b7bacb button.colab-df-quickchart');\n",
       "  quickchartButtonEl.style.display =\n",
       "    google.colab.kernel.accessAllowed ? 'block' : 'none';\n",
       "}\n",
       "\n",
       "        displayQuickchartButton(document);\n",
       "      </script>\n",
       "      <style>\n",
       "    .colab-df-container {\n",
       "      display:flex;\n",
       "      flex-wrap:wrap;\n",
       "      gap: 12px;\n",
       "    }\n",
       "\n",
       "    .colab-df-convert {\n",
       "      background-color: #E8F0FE;\n",
       "      border: none;\n",
       "      border-radius: 50%;\n",
       "      cursor: pointer;\n",
       "      display: none;\n",
       "      fill: #1967D2;\n",
       "      height: 32px;\n",
       "      padding: 0 0 0 0;\n",
       "      width: 32px;\n",
       "    }\n",
       "\n",
       "    .colab-df-convert:hover {\n",
       "      background-color: #E2EBFA;\n",
       "      box-shadow: 0px 1px 2px rgba(60, 64, 67, 0.3), 0px 1px 3px 1px rgba(60, 64, 67, 0.15);\n",
       "      fill: #174EA6;\n",
       "    }\n",
       "\n",
       "    [theme=dark] .colab-df-convert {\n",
       "      background-color: #3B4455;\n",
       "      fill: #D2E3FC;\n",
       "    }\n",
       "\n",
       "    [theme=dark] .colab-df-convert:hover {\n",
       "      background-color: #434B5C;\n",
       "      box-shadow: 0px 1px 3px 1px rgba(0, 0, 0, 0.15);\n",
       "      filter: drop-shadow(0px 1px 2px rgba(0, 0, 0, 0.3));\n",
       "      fill: #FFFFFF;\n",
       "    }\n",
       "  </style>\n",
       "\n",
       "      <script>\n",
       "        const buttonEl =\n",
       "          document.querySelector('#df-04c55241-bf7e-4618-888e-df57acb6b3a6 button.colab-df-convert');\n",
       "        buttonEl.style.display =\n",
       "          google.colab.kernel.accessAllowed ? 'block' : 'none';\n",
       "\n",
       "        async function convertToInteractive(key) {\n",
       "          const element = document.querySelector('#df-04c55241-bf7e-4618-888e-df57acb6b3a6');\n",
       "          const dataTable =\n",
       "            await google.colab.kernel.invokeFunction('convertToInteractive',\n",
       "                                                     [key], {});\n",
       "          if (!dataTable) return;\n",
       "\n",
       "          const docLinkHtml = 'Like what you see? Visit the ' +\n",
       "            '<a target=\"_blank\" href=https://colab.research.google.com/notebooks/data_table.ipynb>data table notebook</a>'\n",
       "            + ' to learn more about interactive tables.';\n",
       "          element.innerHTML = '';\n",
       "          dataTable['output_type'] = 'display_data';\n",
       "          await google.colab.output.renderOutput(dataTable, element);\n",
       "          const docLink = document.createElement('div');\n",
       "          docLink.innerHTML = docLinkHtml;\n",
       "          element.appendChild(docLink);\n",
       "        }\n",
       "      </script>\n",
       "    </div>\n",
       "  </div>\n"
      ],
      "text/plain": [
       "    LocID                  Location  Time  MidPeriod  AgeGrp  AgeGrpStart  \\\n",
       "0    1105  China (and dependencies)  1980     1980.5       0            0   \n",
       "1    1105  China (and dependencies)  1980     1980.5       1            1   \n",
       "2    1105  China (and dependencies)  1980     1980.5       2            2   \n",
       "3    1105  China (and dependencies)  1980     1980.5       3            3   \n",
       "4    1105  China (and dependencies)  1980     1980.5       4            4   \n",
       "..    ...                       ...   ...        ...     ...          ...   \n",
       "96   1105  China (and dependencies)  1980     1980.5      96           96   \n",
       "97   1105  China (and dependencies)  1980     1980.5      97           97   \n",
       "98   1105  China (and dependencies)  1980     1980.5      98           98   \n",
       "99   1105  China (and dependencies)  1980     1980.5      99           99   \n",
       "100  1105  China (and dependencies)  1980     1980.5     100          100   \n",
       "\n",
       "     AgeGrpSpan       PopMale     PopFemale      PopTotal  \n",
       "0             1   9345.832031   8896.928711  18242.761719  \n",
       "1             1  10080.731445   9500.591797  19581.322266  \n",
       "2             1  10769.024414  10093.152344  20862.175781  \n",
       "3             1  11404.811523  10664.711914  22069.523438  \n",
       "4             1  11982.184570  11205.377930  23187.562500  \n",
       "..          ...           ...           ...           ...  \n",
       "96            1      1.198000      3.994000      5.192000  \n",
       "97            1      0.894000      3.042000      3.936000  \n",
       "98            1      0.576000      2.022000      2.598000  \n",
       "99            1      0.240000      0.933000      1.173000  \n",
       "100          -1      0.169000      0.975000      1.144000  \n",
       "\n",
       "[101 rows x 10 columns]"
      ]
     },
     "execution_count": 55,
     "metadata": {},
     "output_type": "execute_result"
    }
   ],
   "source": [
    "china_1980"
   ]
  },
  {
   "cell_type": "code",
   "execution_count": 56,
   "metadata": {
    "colab": {
     "base_uri": "https://localhost:8080/",
     "height": 300
    },
    "id": "nDnOzJv590KU",
    "outputId": "38b8d2fb-ed1c-4e0a-b6bb-9345e0e01393"
   },
   "outputs": [
    {
     "data": {
      "text/html": [
       "\n",
       "\n",
       "  <div id=\"df-a6e978bd-4066-4712-af45-7f722e555253\">\n",
       "    <div class=\"colab-df-container\">\n",
       "      <div>\n",
       "<style scoped>\n",
       "    .dataframe tbody tr th:only-of-type {\n",
       "        vertical-align: middle;\n",
       "    }\n",
       "\n",
       "    .dataframe tbody tr th {\n",
       "        vertical-align: top;\n",
       "    }\n",
       "\n",
       "    .dataframe thead th {\n",
       "        text-align: right;\n",
       "    }\n",
       "</style>\n",
       "<table border=\"1\" class=\"dataframe\">\n",
       "  <thead>\n",
       "    <tr style=\"text-align: right;\">\n",
       "      <th></th>\n",
       "      <th>Time</th>\n",
       "      <th>MidPeriod</th>\n",
       "      <th>AgeGrp</th>\n",
       "      <th>AgeGrpStart</th>\n",
       "      <th>AgeGrpSpan</th>\n",
       "      <th>PopMale</th>\n",
       "      <th>PopFemale</th>\n",
       "      <th>PopTotal</th>\n",
       "    </tr>\n",
       "  </thead>\n",
       "  <tbody>\n",
       "    <tr>\n",
       "      <th>count</th>\n",
       "      <td>101.0</td>\n",
       "      <td>101.0</td>\n",
       "      <td>101.000000</td>\n",
       "      <td>101.000000</td>\n",
       "      <td>101.000000</td>\n",
       "      <td>101.000000</td>\n",
       "      <td>101.000000</td>\n",
       "      <td>101.000000</td>\n",
       "    </tr>\n",
       "    <tr>\n",
       "      <th>mean</th>\n",
       "      <td>1980.0</td>\n",
       "      <td>1980.5</td>\n",
       "      <td>50.000000</td>\n",
       "      <td>50.000000</td>\n",
       "      <td>0.980198</td>\n",
       "      <td>5200.050293</td>\n",
       "      <td>4929.667969</td>\n",
       "      <td>10129.718750</td>\n",
       "    </tr>\n",
       "    <tr>\n",
       "      <th>std</th>\n",
       "      <td>0.0</td>\n",
       "      <td>0.0</td>\n",
       "      <td>29.300171</td>\n",
       "      <td>29.300171</td>\n",
       "      <td>0.199007</td>\n",
       "      <td>4547.521484</td>\n",
       "      <td>4259.914062</td>\n",
       "      <td>8804.997070</td>\n",
       "    </tr>\n",
       "    <tr>\n",
       "      <th>min</th>\n",
       "      <td>1980.0</td>\n",
       "      <td>1980.5</td>\n",
       "      <td>0.000000</td>\n",
       "      <td>0.000000</td>\n",
       "      <td>-1.000000</td>\n",
       "      <td>0.169000</td>\n",
       "      <td>0.933000</td>\n",
       "      <td>1.144000</td>\n",
       "    </tr>\n",
       "    <tr>\n",
       "      <th>25%</th>\n",
       "      <td>1980.0</td>\n",
       "      <td>1980.5</td>\n",
       "      <td>25.000000</td>\n",
       "      <td>25.000000</td>\n",
       "      <td>1.000000</td>\n",
       "      <td>843.093994</td>\n",
       "      <td>1183.671997</td>\n",
       "      <td>2026.765991</td>\n",
       "    </tr>\n",
       "    <tr>\n",
       "      <th>50%</th>\n",
       "      <td>1980.0</td>\n",
       "      <td>1980.5</td>\n",
       "      <td>50.000000</td>\n",
       "      <td>50.000000</td>\n",
       "      <td>1.000000</td>\n",
       "      <td>4447.303223</td>\n",
       "      <td>3898.085938</td>\n",
       "      <td>8345.388672</td>\n",
       "    </tr>\n",
       "    <tr>\n",
       "      <th>75%</th>\n",
       "      <td>1980.0</td>\n",
       "      <td>1980.5</td>\n",
       "      <td>75.000000</td>\n",
       "      <td>75.000000</td>\n",
       "      <td>1.000000</td>\n",
       "      <td>9345.832031</td>\n",
       "      <td>8896.928711</td>\n",
       "      <td>18242.761719</td>\n",
       "    </tr>\n",
       "    <tr>\n",
       "      <th>max</th>\n",
       "      <td>1980.0</td>\n",
       "      <td>1980.5</td>\n",
       "      <td>100.000000</td>\n",
       "      <td>100.000000</td>\n",
       "      <td>1.000000</td>\n",
       "      <td>14015.841797</td>\n",
       "      <td>13443.602539</td>\n",
       "      <td>27459.445312</td>\n",
       "    </tr>\n",
       "  </tbody>\n",
       "</table>\n",
       "</div>\n",
       "      <button class=\"colab-df-convert\" onclick=\"convertToInteractive('df-a6e978bd-4066-4712-af45-7f722e555253')\"\n",
       "              title=\"Convert this dataframe to an interactive table.\"\n",
       "              style=\"display:none;\">\n",
       "\n",
       "  <svg xmlns=\"http://www.w3.org/2000/svg\" height=\"24px\"viewBox=\"0 0 24 24\"\n",
       "       width=\"24px\">\n",
       "    <path d=\"M0 0h24v24H0V0z\" fill=\"none\"/>\n",
       "    <path d=\"M18.56 5.44l.94 2.06.94-2.06 2.06-.94-2.06-.94-.94-2.06-.94 2.06-2.06.94zm-11 1L8.5 8.5l.94-2.06 2.06-.94-2.06-.94L8.5 2.5l-.94 2.06-2.06.94zm10 10l.94 2.06.94-2.06 2.06-.94-2.06-.94-.94-2.06-.94 2.06-2.06.94z\"/><path d=\"M17.41 7.96l-1.37-1.37c-.4-.4-.92-.59-1.43-.59-.52 0-1.04.2-1.43.59L10.3 9.45l-7.72 7.72c-.78.78-.78 2.05 0 2.83L4 21.41c.39.39.9.59 1.41.59.51 0 1.02-.2 1.41-.59l7.78-7.78 2.81-2.81c.8-.78.8-2.07 0-2.86zM5.41 20L4 18.59l7.72-7.72 1.47 1.35L5.41 20z\"/>\n",
       "  </svg>\n",
       "      </button>\n",
       "\n",
       "\n",
       "\n",
       "    <div id=\"df-9ebab14d-5f37-4dcb-a718-eef0546818a8\">\n",
       "      <button class=\"colab-df-quickchart\" onclick=\"quickchart('df-9ebab14d-5f37-4dcb-a718-eef0546818a8')\"\n",
       "              title=\"Suggest charts.\"\n",
       "              style=\"display:none;\">\n",
       "\n",
       "<svg xmlns=\"http://www.w3.org/2000/svg\" height=\"24px\"viewBox=\"0 0 24 24\"\n",
       "     width=\"24px\">\n",
       "    <g>\n",
       "        <path d=\"M19 3H5c-1.1 0-2 .9-2 2v14c0 1.1.9 2 2 2h14c1.1 0 2-.9 2-2V5c0-1.1-.9-2-2-2zM9 17H7v-7h2v7zm4 0h-2V7h2v10zm4 0h-2v-4h2v4z\"/>\n",
       "    </g>\n",
       "</svg>\n",
       "      </button>\n",
       "    </div>\n",
       "\n",
       "<style>\n",
       "  .colab-df-quickchart {\n",
       "    background-color: #E8F0FE;\n",
       "    border: none;\n",
       "    border-radius: 50%;\n",
       "    cursor: pointer;\n",
       "    display: none;\n",
       "    fill: #1967D2;\n",
       "    height: 32px;\n",
       "    padding: 0 0 0 0;\n",
       "    width: 32px;\n",
       "  }\n",
       "\n",
       "  .colab-df-quickchart:hover {\n",
       "    background-color: #E2EBFA;\n",
       "    box-shadow: 0px 1px 2px rgba(60, 64, 67, 0.3), 0px 1px 3px 1px rgba(60, 64, 67, 0.15);\n",
       "    fill: #174EA6;\n",
       "  }\n",
       "\n",
       "  [theme=dark] .colab-df-quickchart {\n",
       "    background-color: #3B4455;\n",
       "    fill: #D2E3FC;\n",
       "  }\n",
       "\n",
       "  [theme=dark] .colab-df-quickchart:hover {\n",
       "    background-color: #434B5C;\n",
       "    box-shadow: 0px 1px 3px 1px rgba(0, 0, 0, 0.15);\n",
       "    filter: drop-shadow(0px 1px 2px rgba(0, 0, 0, 0.3));\n",
       "    fill: #FFFFFF;\n",
       "  }\n",
       "</style>\n",
       "\n",
       "    <script>\n",
       "      async function quickchart(key) {\n",
       "        const containerElement = document.querySelector('#' + key);\n",
       "        const charts = await google.colab.kernel.invokeFunction(\n",
       "            'suggestCharts', [key], {});\n",
       "      }\n",
       "    </script>\n",
       "\n",
       "      <script>\n",
       "\n",
       "function displayQuickchartButton(domScope) {\n",
       "  let quickchartButtonEl =\n",
       "    domScope.querySelector('#df-9ebab14d-5f37-4dcb-a718-eef0546818a8 button.colab-df-quickchart');\n",
       "  quickchartButtonEl.style.display =\n",
       "    google.colab.kernel.accessAllowed ? 'block' : 'none';\n",
       "}\n",
       "\n",
       "        displayQuickchartButton(document);\n",
       "      </script>\n",
       "      <style>\n",
       "    .colab-df-container {\n",
       "      display:flex;\n",
       "      flex-wrap:wrap;\n",
       "      gap: 12px;\n",
       "    }\n",
       "\n",
       "    .colab-df-convert {\n",
       "      background-color: #E8F0FE;\n",
       "      border: none;\n",
       "      border-radius: 50%;\n",
       "      cursor: pointer;\n",
       "      display: none;\n",
       "      fill: #1967D2;\n",
       "      height: 32px;\n",
       "      padding: 0 0 0 0;\n",
       "      width: 32px;\n",
       "    }\n",
       "\n",
       "    .colab-df-convert:hover {\n",
       "      background-color: #E2EBFA;\n",
       "      box-shadow: 0px 1px 2px rgba(60, 64, 67, 0.3), 0px 1px 3px 1px rgba(60, 64, 67, 0.15);\n",
       "      fill: #174EA6;\n",
       "    }\n",
       "\n",
       "    [theme=dark] .colab-df-convert {\n",
       "      background-color: #3B4455;\n",
       "      fill: #D2E3FC;\n",
       "    }\n",
       "\n",
       "    [theme=dark] .colab-df-convert:hover {\n",
       "      background-color: #434B5C;\n",
       "      box-shadow: 0px 1px 3px 1px rgba(0, 0, 0, 0.15);\n",
       "      filter: drop-shadow(0px 1px 2px rgba(0, 0, 0, 0.3));\n",
       "      fill: #FFFFFF;\n",
       "    }\n",
       "  </style>\n",
       "\n",
       "      <script>\n",
       "        const buttonEl =\n",
       "          document.querySelector('#df-a6e978bd-4066-4712-af45-7f722e555253 button.colab-df-convert');\n",
       "        buttonEl.style.display =\n",
       "          google.colab.kernel.accessAllowed ? 'block' : 'none';\n",
       "\n",
       "        async function convertToInteractive(key) {\n",
       "          const element = document.querySelector('#df-a6e978bd-4066-4712-af45-7f722e555253');\n",
       "          const dataTable =\n",
       "            await google.colab.kernel.invokeFunction('convertToInteractive',\n",
       "                                                     [key], {});\n",
       "          if (!dataTable) return;\n",
       "\n",
       "          const docLinkHtml = 'Like what you see? Visit the ' +\n",
       "            '<a target=\"_blank\" href=https://colab.research.google.com/notebooks/data_table.ipynb>data table notebook</a>'\n",
       "            + ' to learn more about interactive tables.';\n",
       "          element.innerHTML = '';\n",
       "          dataTable['output_type'] = 'display_data';\n",
       "          await google.colab.output.renderOutput(dataTable, element);\n",
       "          const docLink = document.createElement('div');\n",
       "          docLink.innerHTML = docLinkHtml;\n",
       "          element.appendChild(docLink);\n",
       "        }\n",
       "      </script>\n",
       "    </div>\n",
       "  </div>\n"
      ],
      "text/plain": [
       "         Time  MidPeriod      AgeGrp  AgeGrpStart  AgeGrpSpan       PopMale  \\\n",
       "count   101.0      101.0  101.000000   101.000000  101.000000    101.000000   \n",
       "mean   1980.0     1980.5   50.000000    50.000000    0.980198   5200.050293   \n",
       "std       0.0        0.0   29.300171    29.300171    0.199007   4547.521484   \n",
       "min    1980.0     1980.5    0.000000     0.000000   -1.000000      0.169000   \n",
       "25%    1980.0     1980.5   25.000000    25.000000    1.000000    843.093994   \n",
       "50%    1980.0     1980.5   50.000000    50.000000    1.000000   4447.303223   \n",
       "75%    1980.0     1980.5   75.000000    75.000000    1.000000   9345.832031   \n",
       "max    1980.0     1980.5  100.000000   100.000000    1.000000  14015.841797   \n",
       "\n",
       "          PopFemale      PopTotal  \n",
       "count    101.000000    101.000000  \n",
       "mean    4929.667969  10129.718750  \n",
       "std     4259.914062   8804.997070  \n",
       "min        0.933000      1.144000  \n",
       "25%     1183.671997   2026.765991  \n",
       "50%     3898.085938   8345.388672  \n",
       "75%     8896.928711  18242.761719  \n",
       "max    13443.602539  27459.445312  "
      ]
     },
     "execution_count": 56,
     "metadata": {},
     "output_type": "execute_result"
    }
   ],
   "source": [
    "china_1980.describe()"
   ]
  },
  {
   "cell_type": "markdown",
   "metadata": {
    "id": "sxwmLmbpT-MU"
   },
   "source": [
    "Create age brackets in multiples of 5 - such as 0-4, 5-9, ..."
   ]
  },
  {
   "cell_type": "code",
   "execution_count": 57,
   "metadata": {
    "id": "EDNkxHWPtIBv"
   },
   "outputs": [],
   "source": [
    "lower = china_1980['AgeGrpStart'] - (china_1980['AgeGrpStart'] % 5)"
   ]
  },
  {
   "cell_type": "code",
   "execution_count": 58,
   "metadata": {
    "id": "qDdobQzVvS6O"
   },
   "outputs": [],
   "source": [
    "agebrackets = [f'{x:02d}-{(x+4):02d}' for x in lower.values]\n",
    "agebrackets[-1] = '100+'"
   ]
  },
  {
   "cell_type": "code",
   "execution_count": 59,
   "metadata": {
    "colab": {
     "base_uri": "https://localhost:8080/"
    },
    "id": "aXkHlTwrUJgp",
    "outputId": "e56477e9-61f4-45f4-e334-308e97b72f5c"
   },
   "outputs": [
    {
     "data": {
      "text/plain": [
       "['00-04',\n",
       " '00-04',\n",
       " '00-04',\n",
       " '00-04',\n",
       " '00-04',\n",
       " '05-09',\n",
       " '05-09',\n",
       " '05-09',\n",
       " '05-09',\n",
       " '05-09']"
      ]
     },
     "execution_count": 59,
     "metadata": {},
     "output_type": "execute_result"
    }
   ],
   "source": [
    "agebrackets[:10]"
   ]
  },
  {
   "cell_type": "code",
   "execution_count": 60,
   "metadata": {
    "id": "zLRoES0Lv-DV"
   },
   "outputs": [],
   "source": [
    "china_1980['AgeRange'] = agebrackets"
   ]
  },
  {
   "cell_type": "markdown",
   "metadata": {
    "id": "wFh9qf_QUYmA"
   },
   "source": [
    "Next find the populations by age range."
   ]
  },
  {
   "cell_type": "code",
   "execution_count": 61,
   "metadata": {
    "colab": {
     "base_uri": "https://localhost:8080/"
    },
    "id": "HzwkqTnfvIbA",
    "outputId": "057b08a4-86df-49eb-f5d0-7176ff27b282"
   },
   "outputs": [
    {
     "name": "stderr",
     "output_type": "stream",
     "text": [
      "<ipython-input-61-5eebe1db66f8>:1: FutureWarning: The default value of numeric_only in DataFrameGroupBy.sum is deprecated. In a future version, numeric_only will default to False. Either specify numeric_only or select only columns which should be valid for the function.\n",
      "  agg_china_1980 = (china_1980.groupby(['AgeRange']).sum()[['PopMale', 'PopFemale']]/1000).reset_index()\n"
     ]
    }
   ],
   "source": [
    "agg_china_1980 = (china_1980.groupby(['AgeRange']).sum()[['PopMale', 'PopFemale']]/1000).reset_index()"
   ]
  },
  {
   "cell_type": "code",
   "execution_count": 62,
   "metadata": {
    "id": "LZ56Ouu0xshz"
   },
   "outputs": [],
   "source": [
    "rev_age = list(dict.fromkeys(agebrackets[::-1])) #reversed list of ages"
   ]
  },
  {
   "cell_type": "code",
   "execution_count": 63,
   "metadata": {
    "id": "Rr81_Qa03L49"
   },
   "outputs": [],
   "source": [
    "agg_china_1980['NegPopMale'] = -agg_china_1980['PopMale']"
   ]
  },
  {
   "cell_type": "markdown",
   "metadata": {
    "id": "BO-L2tVTUzMv"
   },
   "source": [
    "We are now ready to plot the population pyramid:"
   ]
  },
  {
   "cell_type": "code",
   "execution_count": 64,
   "metadata": {
    "colab": {
     "base_uri": "https://localhost:8080/",
     "height": 819
    },
    "id": "PH5G2AS2GM5P",
    "outputId": "7361f7c4-e169-4546-8ad1-772d02a194e0"
   },
   "outputs": [
    {
     "name": "stderr",
     "output_type": "stream",
     "text": [
      "<ipython-input-64-d4fb341c2b66>:6: UserWarning: FixedFormatter should only be used together with FixedLocator\n",
      "  bar_plot.set_xticklabels(labels)\n",
      "<ipython-input-64-d4fb341c2b66>:14: UserWarning: FixedFormatter should only be used together with FixedLocator\n",
      "  bar_plot.set_xticklabels(bar_plot.get_xticklabels(), size = 15);\n"
     ]
    },
    {
     "data": {
      "image/png": "[encoded data removed]",
      "text/plain": [
       "<Figure size 1200x800 with 1 Axes>"
      ]
     },
     "metadata": {},
     "output_type": "display_data"
    }
   ],
   "source": [
    "sns.set(rc={'figure.figsize':(12,8)})\n",
    "bar_plot = sns.barplot(x='NegPopMale', y='AgeRange', data=agg_china_1980, order = rev_age, color='red')\n",
    "bar_plot = sns.barplot(x='PopFemale', y='AgeRange', data=agg_china_1980, order = rev_age, color='green')\n",
    "\n",
    "labels = [\"80\", \"60\", \"40\", \"20\", \"0\", \"20\", \"40\", \"60\", \"80\"]\n",
    "bar_plot.set_xticklabels(labels)\n",
    "\n",
    "h = [bar_plot.bar(x=.1, height=.1, color = c) for c in ['red', 'green']] #used to set colour of bar in legend\n",
    "bar_plot.legend(handles = h, labels=['Male', 'Female'], fontsize=20)\n",
    "\n",
    "bar_plot.axes.set_title(\"Population Pyramid for China (1980)\", fontsize=20);\n",
    "bar_plot.set_xlabel(\"Population (millions)\", fontsize=20);\n",
    "bar_plot.set_ylabel(\"Age Group\", fontsize=20);\n",
    "bar_plot.set_xticklabels(bar_plot.get_xticklabels(), size = 15);\n",
    "bar_plot.set_yticklabels(bar_plot.get_yticklabels(), size = 15);"
   ]
  },
  {
   "cell_type": "markdown",
   "metadata": {
    "id": "pco3DxAAAo_b"
   },
   "source": [
    "## Prediction\n",
    "Finally we use Spark's MLlib library in a linear regression problem. We shall predict the proportion of population to be of a particular age, given year.\n",
    "\n",
    "Inputs:\n",
    "- year\n",
    "- age\n",
    "\n",
    "Target variable:\n",
    "- proportion of a country's population to be of that age, in that year\n"
   ]
  },
  {
   "cell_type": "code",
   "execution_count": 65,
   "metadata": {
    "id": "3mB-EMYcA98W"
   },
   "outputs": [],
   "source": [
    "pop_by_loc_and_year = df.groupBy('Location', 'Time')\\\n",
    "                        .sum('PopTotal')\\\n",
    "                        .withColumnRenamed('sum(PopTotal)', 'Location_year_pop')"
   ]
  },
  {
   "cell_type": "code",
   "execution_count": 66,
   "metadata": {
    "colab": {
     "base_uri": "https://localhost:8080/"
    },
    "id": "SxNyiVNEPxsu",
    "outputId": "c34bd3e5-34ab-425e-bf2a-15d09edf3db0"
   },
   "outputs": [
    {
     "name": "stdout",
     "output_type": "stream",
     "text": [
      "+--------------------+----+------------------+\n",
      "|            Location|Time| Location_year_pop|\n",
      "+--------------------+----+------------------+\n",
      "|       African Union|1999| 790628.6244071722|\n",
      "|African Union: Ea...|1964| 78209.82484335266|\n",
      "|             Albania|1960|1636.0909999981523|\n",
      "|              Angola|1979| 8058.111999897286|\n",
      "|              Angola|1987|10689.246978582349|\n",
      "| Antigua and Barbuda|1995| 68.67199999373406|\n",
      "| Antigua and Barbuda|2017|  95.4249999569729|\n",
      "|           Argentina|2010| 40895.75102710724|\n",
      "|          Azerbaijan|2012| 9264.683963924646|\n",
      "|                BRIC|1981| 1991971.387032032|\n",
      "|               BRICS|1994| 2523968.064731598|\n",
      "|             Bahamas|1968|158.64800055802334|\n",
      "|             Bahrain|2014|1336.0730002257042|\n",
      "|          Bangladesh|1987| 95671.15840621479|\n",
      "|            Barbados|2019| 287.0210008621216|\n",
      "|Belt-Road Initiat...|1991| 579859.1757936478|\n",
      "|Belt-Road Initiat...|1963| 497522.4002505541|\n",
      "|Belt-Road Initiat...|2018| 1532885.483291626|\n",
      "|Belt-Road Initiat...|2017| 415587.5224170685|\n",
      "|Belt-Road Initiat...|1969| 91886.84786528349|\n",
      "+--------------------+----+------------------+\n",
      "only showing top 20 rows\n",
      "\n"
     ]
    }
   ],
   "source": [
    "pop_by_loc_and_year.show()"
   ]
  },
  {
   "cell_type": "code",
   "execution_count": 67,
   "metadata": {
    "id": "B_77KVAtFLeL"
   },
   "outputs": [],
   "source": [
    "trainingset = df.join(pop_by_loc_and_year, ['Location', 'Time'])\\\n",
    "  .withColumn('Proportion',\n",
    "              df.PopTotal/pop_by_loc_and_year.Location_year_pop)\\\n",
    "  .select('Time', 'AgeGrpStart', 'Proportion')"
   ]
  },
  {
   "cell_type": "markdown",
   "metadata": {
    "id": "UHP4f5U0VtVX"
   },
   "source": [
    "**Exercise**: Use the stat.corr function to find the correlation between AgeGrpStart and Proportion."
   ]
  },
  {
   "cell_type": "code",
   "execution_count": 68,
   "metadata": {
    "colab": {
     "base_uri": "https://localhost:8080/"
    },
    "id": "rIB8svOhRJo7",
    "outputId": "504658ec-fef3-4e1c-d13b-14aced5bffee"
   },
   "outputs": [
    {
     "name": "stdout",
     "output_type": "stream",
     "text": [
      "Correlation between AgeGrpStart and Proportion: -0.906289636077237\n"
     ]
    }
   ],
   "source": [
    "# ANSWER\n",
    "# Import the required modules\n",
    "from pyspark.sql.functions import corr\n",
    "# Calculate the correlation between AgeGrpStart and Proportion\n",
    "correlation = trainingset.select(corr('AgeGrpStart', 'Proportion')).collect()[0][0]\n",
    "\n",
    "# Display the correlation\n",
    "print('Correlation between AgeGrpStart and Proportion:', correlation)"
   ]
  },
  {
   "cell_type": "markdown",
   "metadata": {
    "id": "FGzfs8RvRvta"
   },
   "source": [
    "Next we create a simple linear regression model predict Ratio from Time and AgeGrpStart."
   ]
  },
  {
   "cell_type": "code",
   "execution_count": 69,
   "metadata": {
    "id": "wLtarw5JRuSX"
   },
   "outputs": [],
   "source": [
    "from pyspark.ml.regression import LinearRegression"
   ]
  },
  {
   "cell_type": "markdown",
   "metadata": {
    "id": "S23U0wGtS4jg"
   },
   "source": [
    "MLlib takes input in vector form. Hence we need to create vectors from features."
   ]
  },
  {
   "cell_type": "code",
   "execution_count": 70,
   "metadata": {
    "id": "IJH5U9jXSFvO"
   },
   "outputs": [],
   "source": [
    "from pyspark.ml.feature import VectorAssembler\n",
    "featureassembler=VectorAssembler(inputCols=['Time', 'AgeGrpStart'],\n",
    "                                 outputCol='Features')"
   ]
  },
  {
   "cell_type": "code",
   "execution_count": 71,
   "metadata": {
    "colab": {
     "base_uri": "https://localhost:8080/"
    },
    "id": "LVFE_bD2TjQD",
    "outputId": "4471b535-3ccb-4c29-c688-a6bb5784a257"
   },
   "outputs": [
    {
     "name": "stdout",
     "output_type": "stream",
     "text": [
      "+-------------+--------------------+\n",
      "|     Features|          Proportion|\n",
      "+-------------+--------------------+\n",
      "| [1999.0,0.0]|0.034861880698940154|\n",
      "| [1999.0,1.0]|0.033504117654464094|\n",
      "| [1999.0,2.0]| 0.03229754709870501|\n",
      "| [1999.0,3.0]|0.031226978883906742|\n",
      "| [1999.0,4.0]| 0.03036231881608717|\n",
      "| [1999.0,5.0]|0.029540022684496337|\n",
      "| [1999.0,6.0]| 0.02879784229235586|\n",
      "| [1999.0,7.0]|0.028121706557925764|\n",
      "| [1999.0,8.0]| 0.02749754439946607|\n",
      "| [1999.0,9.0]|0.026922376581622418|\n",
      "|[1999.0,10.0]|0.026393226339384863|\n",
      "|[1999.0,11.0]| 0.02584056829977413|\n",
      "|[1999.0,12.0]|0.025228194624822717|\n",
      "|[1999.0,13.0]|0.024575277657470227|\n",
      "|[1999.0,14.0]| 0.02394366246993583|\n",
      "|[1999.0,15.0]|0.023328689992668676|\n",
      "|[1999.0,16.0]|0.022669283430560058|\n",
      "|[1999.0,17.0]|0.021943661756977005|\n",
      "|[1999.0,18.0]| 0.02117703730693325|\n",
      "|[1999.0,19.0]|0.020418749034089554|\n",
      "+-------------+--------------------+\n",
      "only showing top 20 rows\n",
      "\n"
     ]
    }
   ],
   "source": [
    "final_data_for_regression = featureassembler.transform(trainingset).select('Features', 'Proportion')\n",
    "final_data_for_regression.show()"
   ]
  },
  {
   "cell_type": "code",
   "execution_count": 72,
   "metadata": {
    "id": "JdJMPuEaUsU7"
   },
   "outputs": [],
   "source": [
    "train, test = final_data_for_regression.randomSplit([0.9,0.1])"
   ]
  },
  {
   "cell_type": "code",
   "execution_count": 73,
   "metadata": {
    "colab": {
     "base_uri": "https://localhost:8080/"
    },
    "id": "j0g2C3q7WJcn",
    "outputId": "3cdfd988-1210-4323-fd85-e481b7a2dda4"
   },
   "outputs": [
    {
     "data": {
      "text/plain": [
       "DataFrame[Features: vector, Proportion: double]"
      ]
     },
     "execution_count": 73,
     "metadata": {},
     "output_type": "execute_result"
    }
   ],
   "source": [
    "train"
   ]
  },
  {
   "cell_type": "markdown",
   "metadata": {
    "id": "MDQKO1uSWbRk"
   },
   "source": [
    "Next we cache these dataframes into memory:"
   ]
  },
  {
   "cell_type": "code",
   "execution_count": 74,
   "metadata": {
    "id": "RMlSH4bSawox"
   },
   "outputs": [],
   "source": [
    "train = train.cache()"
   ]
  },
  {
   "cell_type": "code",
   "execution_count": 75,
   "metadata": {
    "id": "DQA6_pKbcRil"
   },
   "outputs": [],
   "source": [
    "test = test.cache()"
   ]
  },
  {
   "cell_type": "markdown",
   "metadata": {
    "id": "5tCkn1JRWkp_"
   },
   "source": [
    "We are ready to train the model. This may take a minute or so due to the size of training set."
   ]
  },
  {
   "cell_type": "code",
   "execution_count": 76,
   "metadata": {
    "id": "HENx9aRyT6ye"
   },
   "outputs": [],
   "source": [
    "regressor = LinearRegression(featuresCol='Features', labelCol='Proportion')\n",
    "regressor = regressor.fit(train)"
   ]
  },
  {
   "cell_type": "code",
   "execution_count": 77,
   "metadata": {
    "colab": {
     "base_uri": "https://localhost:8080/"
    },
    "id": "cB1xBOeBUtq0",
    "outputId": "30136788-c8a8-4b39-f04b-de95b6fa6eb5"
   },
   "outputs": [
    {
     "data": {
      "text/plain": [
       "DenseVector([-0.0, -0.0003])"
      ]
     },
     "execution_count": 77,
     "metadata": {},
     "output_type": "execute_result"
    }
   ],
   "source": [
    "regressor.coefficients"
   ]
  },
  {
   "cell_type": "code",
   "execution_count": 78,
   "metadata": {
    "colab": {
     "base_uri": "https://localhost:8080/"
    },
    "id": "cuq7d9GRUzjN",
    "outputId": "32909e74-ca2d-43a7-b07d-20a817fed947"
   },
   "outputs": [
    {
     "data": {
      "text/plain": [
       "0.02299610776625341"
      ]
     },
     "execution_count": 78,
     "metadata": {},
     "output_type": "execute_result"
    }
   ],
   "source": [
    "regressor.intercept"
   ]
  },
  {
   "cell_type": "code",
   "execution_count": 79,
   "metadata": {
    "id": "r1hn6SdxU0rR"
   },
   "outputs": [],
   "source": [
    "predicted_results = regressor.evaluate(test)"
   ]
  },
  {
   "cell_type": "markdown",
   "metadata": {
    "id": "LOoUldddbOCu"
   },
   "source": [
    "Here we can compare some predicted proportions with actual proportions:"
   ]
  },
  {
   "cell_type": "code",
   "execution_count": 80,
   "metadata": {
    "colab": {
     "base_uri": "https://localhost:8080/"
    },
    "id": "B5oY-pWtVI0t",
    "outputId": "a1220b6c-9bbf-49b3-ca50-ca1cb9856e4f"
   },
   "outputs": [
    {
     "name": "stdout",
     "output_type": "stream",
     "text": [
      "+-------------+--------------------+--------------------+\n",
      "|     Features|          Proportion|          prediction|\n",
      "+-------------+--------------------+--------------------+\n",
      "|[1950.0,22.0]|0.017645304380102173| 0.01719605517217858|\n",
      "|[1950.0,23.0]|0.017079573187123703|0.016933127774424562|\n",
      "|[1950.0,26.0]|0.015436476055999154| 0.01614434558116251|\n",
      "|[1950.0,34.0]|0.011821620843599324| 0.01404092639913037|\n",
      "|[1950.0,35.0]|0.011428392034298575|0.013777999001376353|\n",
      "|[1950.0,82.0]|3.136614412085499E-4|0.001420411306937...|\n",
      "|[1950.0,88.0]|6.993771737786713E-5|-1.57153079586566...|\n",
      "|[1950.0,90.0]|3.094736379448632E-5|-6.83007875094603...|\n",
      "|[1950.0,91.0]|2.217869293869617...|-9.45935272848620...|\n",
      "|[1950.0,96.0]|2.645719957729334...|-0.00226057226161...|\n",
      "| [1951.0,0.0]|0.038462205943991606|0.022980449897206198|\n",
      "| [1951.0,2.0]|0.028600148678321093|0.022454595101698165|\n",
      "| [1951.0,5.0]|0.024732394775115497| 0.02166581290843611|\n",
      "| [1951.0,8.0]|0.023868191839100498| 0.02087703071517406|\n",
      "|[1951.0,11.0]|0.022642295732147683|0.020088248521912006|\n",
      "|[1951.0,13.0]| 0.02202934840936212|0.019562393726403973|\n",
      "|[1951.0,13.0]| 0.02282420021295988|0.019562393726403973|\n",
      "|[1951.0,17.0]|0.019999759043284947|0.018510684135387902|\n",
      "|[1951.0,19.0]|0.018879974705921194|0.017984829339879868|\n",
      "|[1951.0,19.0]| 0.01896262928088626|0.017984829339879868|\n",
      "+-------------+--------------------+--------------------+\n",
      "only showing top 20 rows\n",
      "\n"
     ]
    }
   ],
   "source": [
    "predicted_results.predictions.show()"
   ]
  },
  {
   "cell_type": "markdown",
   "metadata": {
    "id": "qnFtxazpW65a"
   },
   "source": [
    "**Exercise**: Find R-squared and the mean squared error using the 'r2' and 'meanSquaredError' attributes."
   ]
  },
  {
   "cell_type": "code",
   "execution_count": 82,
   "metadata": {
    "colab": {
     "base_uri": "https://localhost:8080/"
    },
    "id": "CiExfxhOcwmx",
    "outputId": "303ad933-32d8-4cbd-fcda-7c84f7ee598a"
   },
   "outputs": [
    {
     "name": "stdout",
     "output_type": "stream",
     "text": [
      "R-squared: 0.8217128059675132\n",
      "Mean Squared Error: 1.2767716094648285e-05\n"
     ]
    }
   ],
   "source": [
    "# ANSWER\n",
    "from pyspark.ml.evaluation import RegressionEvaluator\n",
    "\n",
    "# Make predictions on the test set\n",
    "predictions = regressor.transform(test)\n",
    "\n",
    "# Create a RegressionEvaluator for evaluation\n",
    "evaluator = RegressionEvaluator(labelCol='Proportion', predictionCol='prediction')\n",
    "\n",
    "# Calculate the R-squared\n",
    "r2 = evaluator.evaluate(predictions, {evaluator.metricName: 'r2'})\n",
    "\n",
    "# Calculate the mean squared error (MSE)\n",
    "mse = evaluator.evaluate(predictions, {evaluator.metricName: 'mse'})\n",
    "\n",
    "# Print the R-squared and MSE\n",
    "print('R-squared:', r2)\n",
    "print('Mean Squared Error:', mse)"
   ]
  },
  {
   "cell_type": "markdown",
   "metadata": {
    "id": "WLEy2Q5R0sUP"
   },
   "source": [
    "## Conclusion\n",
    "\n",
    "We have seen how to use Pyspark to make queries on a large dataset, save smaller datasets into Pandas dataframe for plotting and how to use MLlib for machine learning on a large dataset."
   ]
  },
  {
   "cell_type": "markdown",
   "metadata": {
    "id": "-Rws5UYfXrSZ"
   },
   "source": [
    "\n",
    "\n",
    "---\n",
    "\n",
    "\n",
    "\n",
    "---\n",
    "\n",
    "\n",
    "\n",
    "> > > > > > > > > © 2023 Institute of Data\n",
    "\n",
    "\n",
    "---\n",
    "\n",
    "\n",
    "\n",
    "---\n",
    "\n",
    "\n",
    "\n"
   ]
  }
 ],
 "metadata": {
  "colab": {
   "provenance": []
  },
  "kernelspec": {
   "display_name": "Python 3 (ipykernel)",
   "language": "python",
   "name": "python3"
  },
  "language_info": {
   "codemirror_mode": {
    "name": "ipython",
    "version": 3
   },
   "file_extension": ".py",
   "mimetype": "text/x-python",
   "name": "python",
   "nbconvert_exporter": "python",
   "pygments_lexer": "ipython3",
   "version": "3.11.4"
  }
 },
 "nbformat": 4,
 "nbformat_minor": 1
}
