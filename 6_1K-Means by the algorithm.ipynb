version https://git-lfs.github.com/spec/v1
oid sha256:f3032c0237a9ad2c381de92f31cfb63205edfcf60c7abed3677ed05f3aeb4120
size 294315
