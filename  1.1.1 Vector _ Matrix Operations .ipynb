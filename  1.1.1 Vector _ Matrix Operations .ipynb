version https://git-lfs.github.com/spec/v1
oid sha256:f372c9c1ab2f146a5efee2d3eb331a95a7d6499c0bf3464f2e8db1ee2e402c89
size 14380
