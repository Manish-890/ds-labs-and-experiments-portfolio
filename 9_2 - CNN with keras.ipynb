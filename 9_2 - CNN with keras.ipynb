{
 "cells": [
  {
   "cell_type": "markdown",
   "metadata": {
    "id": "Fix0Ry0j1qn5"
   },
   "source": [
    "<div>\n",
    "<img src=https://www.institutedata.com/wp-content/uploads/2019/10/iod_h_tp_primary_c.svg width=\"300\">\n",
    "</div>"
   ]
  },
  {
   "cell_type": "markdown",
   "metadata": {
    "id": "U7WTDbVT1qn9"
   },
   "source": [
    "#  9.2: CNN with Keras\n",
    "INSTRUCTIONS:\n",
    "- Read the guides and hints, then create the necessary analysis and code to find an answer and conclusion for the task below.\n",
    "- A guide you are encouraged to read through is TensorFlow's own tutorial for image classification, which can be found [here](https://www.tensorflow.org/tutorials/images/cnn)"
   ]
  },
  {
   "cell_type": "markdown",
   "metadata": {
    "id": "EWGurboj1qoA"
   },
   "source": [
    "## CIFAR10 small image classification\n",
    "- [CIFAR10](https://www.cs.toronto.edu/~kriz/cifar.html) dataset of color training images, labeled over 10 categories.\n",
    "\n",
    "It has the classes:\n",
    "- airplane\n",
    "- automobile\n",
    "- bird\n",
    "- cat\n",
    "- deer\n",
    "- dog\n",
    "- frog\n",
    "- horse\n",
    "- ship\n",
    "- truck"
   ]
  },
  {
   "cell_type": "markdown",
   "metadata": {
    "id": "ee2ul0ED1qoD"
   },
   "source": [
    "## Import libraries"
   ]
  },
  {
   "cell_type": "code",
   "execution_count": 1,
   "metadata": {
    "id": "c-pCdtFw1qoF"
   },
   "outputs": [],
   "source": [
    "# Uncomment the statements below if there are problems with TensorFlow on macOS\n",
    "import os\n",
    "os.environ['KMP_DUPLICATE_LIB_OK'] = 'True'"
   ]
  },
  {
   "cell_type": "code",
   "execution_count": 5,
   "metadata": {},
   "outputs": [],
   "source": [
    "import tensorflow\n",
    "from tensorflow import keras\n",
    "from keras.datasets import cifar10\n",
    "from keras.layers import Conv2D\n",
    "from keras.layers import Dense\n",
    "from keras.layers import Dropout\n",
    "from keras.layers import Flatten\n",
    "from keras.layers import MaxPool2D\n",
    "from keras.models import Sequential\n",
    "from keras.utils import to_categorical\n"
   ]
  },
  {
   "cell_type": "code",
   "execution_count": null,
   "metadata": {
    "id": "TQgN2_6D1qoN"
   },
   "outputs": [],
   "source": [
    "# insert code here\n"
   ]
  },
  {
   "cell_type": "code",
   "execution_count": 7,
   "metadata": {
    "id": "OohPiooS1qoQ"
   },
   "outputs": [],
   "source": [
    "# Uncomment the statement below to allow online monitoring with TensorBoard (need to be installed)\n",
    "from keras.callbacks import TensorBoard"
   ]
  },
  {
   "cell_type": "markdown",
   "metadata": {
    "id": "BAWeroBa1qoS"
   },
   "source": [
    "## Load data\n",
    "Use the **Keras**' load method."
   ]
  },
  {
   "cell_type": "code",
   "execution_count": 11,
   "metadata": {
    "id": "F-Swb4TS1qoT"
   },
   "outputs": [],
   "source": [
    "# insert code here\n",
    "(X_train_all, t_train_all), (X_test_all, t_test_all)= cifar10.load_data()"
   ]
  },
  {
   "cell_type": "markdown",
   "metadata": {
    "id": "bLdYg4g41qoX"
   },
   "source": [
    "## Check some data"
   ]
  },
  {
   "cell_type": "code",
   "execution_count": 13,
   "metadata": {
    "id": "Swf_e6CR1qoY"
   },
   "outputs": [
    {
     "data": {
      "text/plain": [
       "(50000, 32, 32, 3)"
      ]
     },
     "execution_count": 13,
     "metadata": {},
     "output_type": "execute_result"
    }
   ],
   "source": [
    "# insert code here\n",
    "X_train_all.shape"
   ]
  },
  {
   "cell_type": "code",
   "execution_count": 15,
   "metadata": {},
   "outputs": [
    {
     "data": {
      "text/plain": [
       "(50000,)"
      ]
     },
     "execution_count": 15,
     "metadata": {},
     "output_type": "execute_result"
    }
   ],
   "source": [
    "t_train_all.flatten().shape"
   ]
  },
  {
   "cell_type": "code",
   "execution_count": 27,
   "metadata": {},
   "outputs": [],
   "source": [
    "size = 500\n",
    "X_train = X_train_all[:size,:,:,:]\n",
    "t_train = t_train_all[0:size,:]\n",
    "X_test = X_test_all[0:size,:,:,:]\n",
    "t_test = t_test_all[0:size,:]"
   ]
  },
  {
   "cell_type": "markdown",
   "metadata": {
    "id": "N-Jhbjf11qob"
   },
   "source": [
    "## Prepare data"
   ]
  },
  {
   "cell_type": "code",
   "execution_count": 28,
   "metadata": {},
   "outputs": [],
   "source": [
    "classes = (\n",
    "    'plane',\n",
    "    'car',\n",
    "    'bird',\n",
    "    'cat',\n",
    "    'deer',\n",
    "    'dog',\n",
    "    'frog',\n",
    "    'horse',\n",
    "    'ship',\n",
    "    'truck')"
   ]
  },
  {
   "cell_type": "code",
   "execution_count": 29,
   "metadata": {},
   "outputs": [],
   "source": [
    "def check_one(data, label, id = None, actual = None, compare = False):\n",
    "    # check one\n",
    "    if id is None:\n",
    "        id = np.random.randint(data.shape[0])\n",
    "    im = data[id]\n",
    "    plt.figure(figsize = (3, 3))\n",
    "    plt.imshow(im)\n",
    "    l_id = label[id]\n",
    "    if (compare) and (actual is not None) and (l_id != np.argmax(actual[id])):\n",
    "        a_id = np.argmax(actual[id])\n",
    "        plt.title('Class %d (%s) [\\u2260 %d-%s]' % (l_id, classes[l_id], a_id, classes[a_id]))\n",
    "    else:\n",
    "        plt.title('Class %d (%s)' % (l_id, classes[l_id]))\n",
    "    plt.xticks([])\n",
    "    plt.yticks([])\n",
    "    plt.show()"
   ]
  },
  {
   "cell_type": "code",
   "execution_count": 30,
   "metadata": {
    "id": "L9kdVXHd1qoc"
   },
   "outputs": [],
   "source": [
    "# insert code here\n",
    "def check_ten(data, label, actual = None, compare = False):\n",
    "    # check ten\n",
    "    fig, ax = plt.subplots(2, 5, figsize = (11, 5))\n",
    "    fig.subplots_adjust(left = 0.02, right = 0.98, top = 0.8, wspace = 0.2, hspace = 0.2)\n",
    "    fig.suptitle('Check Data', fontsize = 12, fontweight = 'bold')\n",
    "    plt.rcParams.update({'font.size': 10})\n",
    "    ids = np.random.randint(data.shape[0], size = 10)\n",
    "    r = 0\n",
    "    c = 0\n",
    "    for id in ids:\n",
    "        im = data[id]\n",
    "        # original image\n",
    "        ax[r, c].imshow(im)\n",
    "        l_id = label[id]\n",
    "        if (compare) and (actual is not None) and (l_id != np.argmax(actual[id])):\n",
    "            a_id = np.argmax(actual[id])\n",
    "            ax[r, c].set_title('Class %d (%s) [\\u2260 %d-%s]' % (l_id, classes[l_id], a_id, classes[a_id]))\n",
    "        else:\n",
    "            ax[r, c].set_title('Class %d (%s)' % (l_id, classes[l_id]))\n",
    "        ax[r, c].set_xticks([])\n",
    "        ax[r, c].set_yticks([])\n",
    "        c += 1\n",
    "        if c > 4:\n",
    "            r += 1\n",
    "            c = 0\n",
    "    plt.show()"
   ]
  },
  {
   "cell_type": "code",
   "execution_count": 31,
   "metadata": {},
   "outputs": [
    {
     "data": {
      "image/png": "[encoded data removed]",
      "text/plain": [
       "<Figure size 300x300 with 1 Axes>"
      ]
     },
     "metadata": {},
     "output_type": "display_data"
    }
   ],
   "source": [
    "import numpy as np\n",
    "\n",
    "%matplotlib inline\n",
    "import matplotlib.pyplot as plt\n",
    "check_one(X_train_all,t_train_all.flatten())"
   ]
  },
  {
   "cell_type": "code",
   "execution_count": 32,
   "metadata": {},
   "outputs": [
    {
     "data": {
      "image/png": "[encoded data removed]",
      "text/plain": [
       "<Figure size 1100x500 with 10 Axes>"
      ]
     },
     "metadata": {},
     "output_type": "display_data"
    }
   ],
   "source": [
    "check_ten(X_train_all,t_train_all.flatten())"
   ]
  },
  {
   "cell_type": "code",
   "execution_count": 33,
   "metadata": {},
   "outputs": [],
   "source": [
    "_, img_rows, img_cols, img_channels = X_train_all.shape"
   ]
  },
  {
   "cell_type": "code",
   "execution_count": 34,
   "metadata": {},
   "outputs": [],
   "source": [
    "num_classes = len(set(t_train_all.flatten()))"
   ]
  },
  {
   "cell_type": "markdown",
   "metadata": {
    "id": "m2GU1EyK1qoe"
   },
   "source": [
    "## Create the model's architecture\n",
    "- **NOTE ALERT**: Take into account the volume of data and parameters. Time and processing escalate quite fast.\n",
    "- **NOTE ALERT**: It is likely this data will require more complex models."
   ]
  },
  {
   "cell_type": "code",
   "execution_count": 35,
   "metadata": {
    "id": "82J0lM7d1qoe"
   },
   "outputs": [],
   "source": [
    "# insert code here\n",
    "# Convert the target to categorical so it is treated is classification\n",
    "y_train = to_categorical(\n",
    "    t_train,\n",
    "    num_classes = num_classes,\n",
    "    dtype = 'uint8')\n",
    "y_test = to_categorical(\n",
    "    t_test,\n",
    "    num_classes = num_classes,\n",
    "    dtype = 'uint8')"
   ]
  },
  {
   "cell_type": "code",
   "execution_count": 36,
   "metadata": {},
   "outputs": [],
   "source": [
    "model=Sequential()"
   ]
  },
  {
   "cell_type": "code",
   "execution_count": 38,
   "metadata": {},
   "outputs": [],
   "source": [
    "model.add(Conv2D(48, kernel_size = 3, activation = 'relu', padding = 'same', input_shape = (32,32,3)))\n",
    "model.add(Conv2D(48, kernel_size = 3, activation = 'relu'))\n",
    "model.add(MaxPool2D(pool_size = (2,2)))\n",
    "model.add(Dropout(0.25))\n",
    "model.add(Flatten())\n",
    "model.add(Dense(512, activation = 'relu'))\n",
    "model.add(Dropout(0.5))\n",
    "model.add(Dense(256, activation = 'relu'))\n",
    "model.add(Dropout(0.5))\n",
    "model.add(Dense(num_classes, activation = 'softmax'))"
   ]
  },
  {
   "cell_type": "code",
   "execution_count": 39,
   "metadata": {},
   "outputs": [
    {
     "name": "stdout",
     "output_type": "stream",
     "text": [
      "Model: \"sequential\"\n",
      "_________________________________________________________________\n",
      " Layer (type)                Output Shape              Param #   \n",
      "=================================================================\n",
      " conv2d (Conv2D)             (None, 32, 32, 48)        1344      \n",
      "                                                                 \n",
      " conv2d_1 (Conv2D)           (None, 30, 30, 48)        20784     \n",
      "                                                                 \n",
      " max_pooling2d (MaxPooling2D  (None, 15, 15, 48)       0         \n",
      " )                                                               \n",
      "                                                                 \n",
      " dropout (Dropout)           (None, 15, 15, 48)        0         \n",
      "                                                                 \n",
      " flatten (Flatten)           (None, 10800)             0         \n",
      "                                                                 \n",
      " dense (Dense)               (None, 512)               5530112   \n",
      "                                                                 \n",
      " dropout_1 (Dropout)         (None, 512)               0         \n",
      "                                                                 \n",
      " dense_1 (Dense)             (None, 256)               131328    \n",
      "                                                                 \n",
      " dropout_2 (Dropout)         (None, 256)               0         \n",
      "                                                                 \n",
      " dense_2 (Dense)             (None, 10)                2570      \n",
      "                                                                 \n",
      "=================================================================\n",
      "Total params: 5,686,138\n",
      "Trainable params: 5,686,138\n",
      "Non-trainable params: 0\n",
      "_________________________________________________________________\n",
      "None\n"
     ]
    }
   ],
   "source": [
    "print(model.summary())"
   ]
  },
  {
   "cell_type": "markdown",
   "metadata": {
    "id": "Dyq0xqGd1qoh"
   },
   "source": [
    "## Compile the model"
   ]
  },
  {
   "cell_type": "code",
   "execution_count": 40,
   "metadata": {
    "id": "zSv44CjG1qoh"
   },
   "outputs": [],
   "source": [
    "# insert code here\n",
    "model.compile(optimizer='adam',\n",
    "             loss ='categorical_crossentropy',\n",
    "             metrics = ['accuracy'])"
   ]
  },
  {
   "cell_type": "markdown",
   "metadata": {
    "id": "27wG0lYH1qoj"
   },
   "source": [
    "## Fit the training data"
   ]
  },
  {
   "cell_type": "code",
   "execution_count": 41,
   "metadata": {
    "id": "Z8gUYh3n1qoj"
   },
   "outputs": [],
   "source": [
    "# Uncomment the statement below to allow online monitoring with TensorBoard\n",
    "tensorboard = TensorBoard(log_dir = 'logs') # choose or create a directory for the logs"
   ]
  },
  {
   "cell_type": "code",
   "execution_count": 46,
   "metadata": {
    "id": "0ux6Ss1h1qok"
   },
   "outputs": [
    {
     "name": "stdout",
     "output_type": "stream",
     "text": [
      "Training accuracy:0.99 validation accuracy:0.37 \n",
      "CPU times: total: 8min 49s\n",
      "Wall time: 2min 35s\n"
     ]
    }
   ],
   "source": [
    "%%time\n",
    "# insert code here\n",
    "history = model.fit(\n",
    "    X_train,\n",
    "    y_train,\n",
    "    validation_split = 0.2,\n",
    "    epochs = 100,\n",
    "    batch_size = 100,\n",
    "    verbose = 0)\n",
    "print(f'Training accuracy:{history.history[\"accuracy\"][-1]:.2f} validation accuracy:{history.history[\"val_accuracy\"][-1]:.2f} ')\n",
    "\n",
    "# cdgddgcvdgeygdcvdgyegdcvgdeygdcvdgeydgcvdgeygdcvdgeydgcvgdyedgcv\n",
    "# ..., callbacks = [tensorboard], ..."
   ]
  },
  {
   "cell_type": "markdown",
   "metadata": {
    "id": "PCL-erlE1qol"
   },
   "source": [
    "### TensorBoard\n",
    "- TensorBoard is TensorFlow's visualisation toolkit. \n",
    "- If Tensorflow 2 and Jupyter is installed in the same environment, running the cell below will start TensorBoard within the notebook.\n",
    "- More information about how to set up TensorBoard can be found [here](https://www.tensorflow.org/tensorboard/tensorboard_in_notebooks)\n"
   ]
  },
  {
   "cell_type": "code",
   "execution_count": 47,
   "metadata": {
    "id": "_SC1MnqpABBQ"
   },
   "outputs": [
    {
     "data": {
      "text/html": [
       "\n",
       "      <iframe id=\"tensorboard-frame-195330f9c9f764ad\" width=\"100%\" height=\"800\" frameborder=\"0\">\n",
       "      </iframe>\n",
       "      <script>\n",
       "        (function() {\n",
       "          const frame = document.getElementById(\"tensorboard-frame-195330f9c9f764ad\");\n",
       "          const url = new URL(\"/\", window.location);\n",
       "          const port = 6006;\n",
       "          if (port) {\n",
       "            url.port = port;\n",
       "          }\n",
       "          frame.src = url;\n",
       "        })();\n",
       "      </script>\n",
       "    "
      ],
      "text/plain": [
       "<IPython.core.display.HTML object>"
      ]
     },
     "metadata": {},
     "output_type": "display_data"
    }
   ],
   "source": [
    "%load_ext tensorboard\n",
    "%tensorboard --logdir logs"
   ]
  },
  {
   "cell_type": "markdown",
   "metadata": {
    "id": "tQ_vBEpk1qom"
   },
   "source": [
    "## Create predictions"
   ]
  },
  {
   "cell_type": "code",
   "execution_count": 48,
   "metadata": {
    "id": "EuVMau111qon"
   },
   "outputs": [
    {
     "name": "stdout",
     "output_type": "stream",
     "text": [
      "16/16 [==============================] - 1s 34ms/step\n",
      "CPU times: total: 2.22 s\n",
      "Wall time: 1.24 s\n"
     ]
    }
   ],
   "source": [
    "%%time\n",
    "predictions = np.argmax(model.predict(X_test), axis=1)"
   ]
  },
  {
   "cell_type": "markdown",
   "metadata": {
    "id": "2lA8OW9e1qop"
   },
   "source": [
    "## Evaluate the model"
   ]
  },
  {
   "cell_type": "code",
   "execution_count": 49,
   "metadata": {
    "id": "CjKr29mZ1qoq"
   },
   "outputs": [
    {
     "name": "stdout",
     "output_type": "stream",
     "text": [
      "50/50 [==============================] - 1s 17ms/step - loss: 5.7403 - accuracy: 0.2480\n",
      "\n",
      "Test loss: 5.740260, Test accuracy: 0.248000\n"
     ]
    }
   ],
   "source": [
    "# insert code here\n",
    "score= model.evaluate(X_test, y_test, batch_size = 10)\n",
    "print('\\nTest loss: %.6f, Test accuracy: %.6f' % tuple(score))"
   ]
  },
  {
   "cell_type": "markdown",
   "metadata": {
    "id": "EI2omiec1qos"
   },
   "source": [
    "## Visualisation of cost"
   ]
  },
  {
   "cell_type": "code",
   "execution_count": 50,
   "metadata": {
    "id": "_REk0bSz1qos"
   },
   "outputs": [
    {
     "data": {
      "text/plain": [
       "{'loss': [134.56105041503906,\n",
       "  37.428138732910156,\n",
       "  6.5673298835754395,\n",
       "  2.8771822452545166,\n",
       "  2.2492880821228027,\n",
       "  2.1764485836029053,\n",
       "  2.145469903945923,\n",
       "  2.10776424407959,\n",
       "  2.1023335456848145,\n",
       "  1.9663872718811035,\n",
       "  1.9145092964172363,\n",
       "  1.79280686378479,\n",
       "  1.6988438367843628,\n",
       "  1.6093955039978027,\n",
       "  1.5409269332885742,\n",
       "  1.4221222400665283,\n",
       "  1.4245991706848145,\n",
       "  1.2964205741882324,\n",
       "  1.1711995601654053,\n",
       "  1.1121309995651245,\n",
       "  0.9665048718452454,\n",
       "  0.9345956444740295,\n",
       "  0.9165387153625488,\n",
       "  0.7911440134048462,\n",
       "  0.8095877170562744,\n",
       "  0.7092623114585876,\n",
       "  0.6852834820747375,\n",
       "  0.6136573553085327,\n",
       "  0.6438753604888916,\n",
       "  0.5423170328140259,\n",
       "  0.6745558977127075,\n",
       "  0.43324288725852966,\n",
       "  0.4081093668937683,\n",
       "  0.4637923538684845,\n",
       "  0.3998909890651703,\n",
       "  0.3883206248283386,\n",
       "  0.5059778690338135,\n",
       "  0.4645823538303375,\n",
       "  0.30523788928985596,\n",
       "  0.32060298323631287,\n",
       "  0.30023184418678284,\n",
       "  0.3037492632865906,\n",
       "  0.32767200469970703,\n",
       "  0.26170557737350464,\n",
       "  0.2062845677137375,\n",
       "  0.24336017668247223,\n",
       "  0.23092971742153168,\n",
       "  0.2150733917951584,\n",
       "  0.24592751264572144,\n",
       "  0.13392433524131775,\n",
       "  0.15444447100162506,\n",
       "  0.14528127014636993,\n",
       "  0.1386241316795349,\n",
       "  0.12048833072185516,\n",
       "  0.16729843616485596,\n",
       "  0.1616029590368271,\n",
       "  0.09845147281885147,\n",
       "  0.19559268653392792,\n",
       "  0.14408667385578156,\n",
       "  0.10875344276428223,\n",
       "  0.16766369342803955,\n",
       "  0.13501448929309845,\n",
       "  0.1028703898191452,\n",
       "  0.12432921677827835,\n",
       "  0.15306685864925385,\n",
       "  0.16452103853225708,\n",
       "  0.17212098836898804,\n",
       "  0.10284502059221268,\n",
       "  0.11239433288574219,\n",
       "  0.10238055139780045,\n",
       "  0.13990260660648346,\n",
       "  0.09197138994932175,\n",
       "  0.09360235184431076,\n",
       "  0.0995643213391304,\n",
       "  0.07581105828285217,\n",
       "  0.11547498404979706,\n",
       "  0.15147064626216888,\n",
       "  0.05556309595704079,\n",
       "  0.0739731565117836,\n",
       "  0.11888261884450912,\n",
       "  0.07827582210302353,\n",
       "  0.11351248621940613,\n",
       "  0.05718278884887695,\n",
       "  0.11200820654630661,\n",
       "  0.09804140031337738,\n",
       "  0.07194841653108597,\n",
       "  0.08361996710300446,\n",
       "  0.05008125305175781,\n",
       "  0.10308827459812164,\n",
       "  0.06799844652414322,\n",
       "  0.029749495908617973,\n",
       "  0.054605890065431595,\n",
       "  0.03804389387369156,\n",
       "  0.06618190556764603,\n",
       "  0.09008988738059998,\n",
       "  0.08424568176269531,\n",
       "  0.027018966153264046,\n",
       "  0.03192775323987007,\n",
       "  0.11087914556264877,\n",
       "  0.03995576500892639],\n",
       " 'accuracy': [0.10249999910593033,\n",
       "  0.09000000357627869,\n",
       "  0.09749999642372131,\n",
       "  0.11500000208616257,\n",
       "  0.16500000655651093,\n",
       "  0.20250000059604645,\n",
       "  0.20250000059604645,\n",
       "  0.25,\n",
       "  0.2475000023841858,\n",
       "  0.3075000047683716,\n",
       "  0.32249999046325684,\n",
       "  0.36000001430511475,\n",
       "  0.42750000953674316,\n",
       "  0.4650000035762787,\n",
       "  0.4724999964237213,\n",
       "  0.5099999904632568,\n",
       "  0.5375000238418579,\n",
       "  0.5774999856948853,\n",
       "  0.6025000214576721,\n",
       "  0.6349999904632568,\n",
       "  0.6875,\n",
       "  0.6775000095367432,\n",
       "  0.7149999737739563,\n",
       "  0.7425000071525574,\n",
       "  0.7599999904632568,\n",
       "  0.7749999761581421,\n",
       "  0.7850000262260437,\n",
       "  0.7950000166893005,\n",
       "  0.8100000023841858,\n",
       "  0.8424999713897705,\n",
       "  0.8125,\n",
       "  0.8774999976158142,\n",
       "  0.8799999952316284,\n",
       "  0.862500011920929,\n",
       "  0.8824999928474426,\n",
       "  0.8849999904632568,\n",
       "  0.8725000023841858,\n",
       "  0.8824999928474426,\n",
       "  0.925000011920929,\n",
       "  0.9024999737739563,\n",
       "  0.9225000143051147,\n",
       "  0.9325000047683716,\n",
       "  0.925000011920929,\n",
       "  0.9350000023841858,\n",
       "  0.9350000023841858,\n",
       "  0.9275000095367432,\n",
       "  0.9350000023841858,\n",
       "  0.9399999976158142,\n",
       "  0.9325000047683716,\n",
       "  0.9649999737739563,\n",
       "  0.9674999713897705,\n",
       "  0.9524999856948853,\n",
       "  0.9549999833106995,\n",
       "  0.9574999809265137,\n",
       "  0.9624999761581421,\n",
       "  0.949999988079071,\n",
       "  0.9700000286102295,\n",
       "  0.9549999833106995,\n",
       "  0.9649999737739563,\n",
       "  0.9624999761581421,\n",
       "  0.9700000286102295,\n",
       "  0.9574999809265137,\n",
       "  0.9674999713897705,\n",
       "  0.9700000286102295,\n",
       "  0.9750000238418579,\n",
       "  0.9549999833106995,\n",
       "  0.9524999856948853,\n",
       "  0.9649999737739563,\n",
       "  0.9674999713897705,\n",
       "  0.9700000286102295,\n",
       "  0.9624999761581421,\n",
       "  0.9624999761581421,\n",
       "  0.9725000262260437,\n",
       "  0.9725000262260437,\n",
       "  0.9850000143051147,\n",
       "  0.9725000262260437,\n",
       "  0.9574999809265137,\n",
       "  0.987500011920929,\n",
       "  0.9775000214576721,\n",
       "  0.9674999713897705,\n",
       "  0.9825000166893005,\n",
       "  0.9700000286102295,\n",
       "  0.9850000143051147,\n",
       "  0.9750000238418579,\n",
       "  0.9750000238418579,\n",
       "  0.9800000190734863,\n",
       "  0.9725000262260437,\n",
       "  0.9850000143051147,\n",
       "  0.9800000190734863,\n",
       "  0.9825000166893005,\n",
       "  0.9950000047683716,\n",
       "  0.987500011920929,\n",
       "  0.987500011920929,\n",
       "  0.9850000143051147,\n",
       "  0.9750000238418579,\n",
       "  0.9900000095367432,\n",
       "  0.9950000047683716,\n",
       "  0.9925000071525574,\n",
       "  0.9750000238418579,\n",
       "  0.9900000095367432],\n",
       " 'val_loss': [19.54078483581543,\n",
       "  2.9045748710632324,\n",
       "  2.2930691242218018,\n",
       "  2.3374569416046143,\n",
       "  2.2884397506713867,\n",
       "  2.2753913402557373,\n",
       "  2.279303789138794,\n",
       "  2.2890446186065674,\n",
       "  2.301670551300049,\n",
       "  2.2959415912628174,\n",
       "  2.3050825595855713,\n",
       "  2.3259036540985107,\n",
       "  2.3500561714172363,\n",
       "  2.339934825897217,\n",
       "  2.344755172729492,\n",
       "  2.3919973373413086,\n",
       "  2.428895950317383,\n",
       "  2.454684257507324,\n",
       "  2.561765432357788,\n",
       "  2.5890495777130127,\n",
       "  2.5820584297180176,\n",
       "  2.6157326698303223,\n",
       "  2.6941580772399902,\n",
       "  2.675565242767334,\n",
       "  2.6471657752990723,\n",
       "  2.781562566757202,\n",
       "  2.807603120803833,\n",
       "  2.7492825984954834,\n",
       "  2.9768991470336914,\n",
       "  3.1954562664031982,\n",
       "  3.2486586570739746,\n",
       "  3.2088234424591064,\n",
       "  3.567690372467041,\n",
       "  3.4561235904693604,\n",
       "  3.4503557682037354,\n",
       "  3.597414255142212,\n",
       "  3.501375675201416,\n",
       "  3.546499729156494,\n",
       "  3.962002754211426,\n",
       "  3.670539617538452,\n",
       "  3.7312145233154297,\n",
       "  4.002813816070557,\n",
       "  3.711127996444702,\n",
       "  3.760037899017334,\n",
       "  3.8384103775024414,\n",
       "  4.069522380828857,\n",
       "  3.936384916305542,\n",
       "  3.881498336791992,\n",
       "  4.107882022857666,\n",
       "  4.60412073135376,\n",
       "  4.611111164093018,\n",
       "  4.415778636932373,\n",
       "  4.2218098640441895,\n",
       "  4.4640936851501465,\n",
       "  4.549624919891357,\n",
       "  4.012261867523193,\n",
       "  3.981147050857544,\n",
       "  4.284626483917236,\n",
       "  4.198146343231201,\n",
       "  4.098267078399658,\n",
       "  4.021507263183594,\n",
       "  4.34347677230835,\n",
       "  4.808187007904053,\n",
       "  4.958505630493164,\n",
       "  4.797116756439209,\n",
       "  4.338253021240234,\n",
       "  4.340885162353516,\n",
       "  4.667941093444824,\n",
       "  4.4827775955200195,\n",
       "  4.605374813079834,\n",
       "  4.265357494354248,\n",
       "  4.437368392944336,\n",
       "  4.773616313934326,\n",
       "  4.890639781951904,\n",
       "  4.864476680755615,\n",
       "  4.677549839019775,\n",
       "  4.542684078216553,\n",
       "  4.9835615158081055,\n",
       "  4.984682559967041,\n",
       "  4.531006336212158,\n",
       "  4.59780740737915,\n",
       "  4.866186618804932,\n",
       "  4.7713823318481445,\n",
       "  4.649302959442139,\n",
       "  4.4856061935424805,\n",
       "  4.477993011474609,\n",
       "  4.6800079345703125,\n",
       "  5.106820106506348,\n",
       "  5.3590850830078125,\n",
       "  5.0305562019348145,\n",
       "  4.709072113037109,\n",
       "  4.519968032836914,\n",
       "  4.641817092895508,\n",
       "  4.78226375579834,\n",
       "  4.723195552825928,\n",
       "  4.694104194641113,\n",
       "  4.877205848693848,\n",
       "  4.947277069091797,\n",
       "  5.124978065490723,\n",
       "  5.025208950042725],\n",
       " 'val_accuracy': [0.10999999940395355,\n",
       "  0.20999999344348907,\n",
       "  0.1599999964237213,\n",
       "  0.07000000029802322,\n",
       "  0.10000000149011612,\n",
       "  0.17000000178813934,\n",
       "  0.17000000178813934,\n",
       "  0.15000000596046448,\n",
       "  0.17000000178813934,\n",
       "  0.1899999976158142,\n",
       "  0.20000000298023224,\n",
       "  0.1899999976158142,\n",
       "  0.1899999976158142,\n",
       "  0.20999999344348907,\n",
       "  0.1899999976158142,\n",
       "  0.23000000417232513,\n",
       "  0.2199999988079071,\n",
       "  0.23999999463558197,\n",
       "  0.25,\n",
       "  0.23000000417232513,\n",
       "  0.27000001072883606,\n",
       "  0.25,\n",
       "  0.25999999046325684,\n",
       "  0.25,\n",
       "  0.30000001192092896,\n",
       "  0.27000001072883606,\n",
       "  0.3199999928474426,\n",
       "  0.28999999165534973,\n",
       "  0.23999999463558197,\n",
       "  0.25999999046325684,\n",
       "  0.33000001311302185,\n",
       "  0.28999999165534973,\n",
       "  0.3100000023841858,\n",
       "  0.3100000023841858,\n",
       "  0.33000001311302185,\n",
       "  0.3199999928474426,\n",
       "  0.2800000011920929,\n",
       "  0.28999999165534973,\n",
       "  0.3100000023841858,\n",
       "  0.33000001311302185,\n",
       "  0.28999999165534973,\n",
       "  0.3400000035762787,\n",
       "  0.3499999940395355,\n",
       "  0.33000001311302185,\n",
       "  0.3499999940395355,\n",
       "  0.3199999928474426,\n",
       "  0.3700000047683716,\n",
       "  0.30000001192092896,\n",
       "  0.3100000023841858,\n",
       "  0.36000001430511475,\n",
       "  0.3400000035762787,\n",
       "  0.38999998569488525,\n",
       "  0.3199999928474426,\n",
       "  0.3199999928474426,\n",
       "  0.3100000023841858,\n",
       "  0.3499999940395355,\n",
       "  0.38999998569488525,\n",
       "  0.3799999952316284,\n",
       "  0.36000001430511475,\n",
       "  0.3400000035762787,\n",
       "  0.3199999928474426,\n",
       "  0.3499999940395355,\n",
       "  0.3199999928474426,\n",
       "  0.3199999928474426,\n",
       "  0.33000001311302185,\n",
       "  0.33000001311302185,\n",
       "  0.3499999940395355,\n",
       "  0.3499999940395355,\n",
       "  0.3499999940395355,\n",
       "  0.36000001430511475,\n",
       "  0.38999998569488525,\n",
       "  0.3799999952316284,\n",
       "  0.33000001311302185,\n",
       "  0.33000001311302185,\n",
       "  0.30000001192092896,\n",
       "  0.3100000023841858,\n",
       "  0.3700000047683716,\n",
       "  0.3499999940395355,\n",
       "  0.3100000023841858,\n",
       "  0.3400000035762787,\n",
       "  0.3700000047683716,\n",
       "  0.3400000035762787,\n",
       "  0.3199999928474426,\n",
       "  0.33000001311302185,\n",
       "  0.36000001430511475,\n",
       "  0.3400000035762787,\n",
       "  0.30000001192092896,\n",
       "  0.30000001192092896,\n",
       "  0.3100000023841858,\n",
       "  0.3799999952316284,\n",
       "  0.3499999940395355,\n",
       "  0.36000001430511475,\n",
       "  0.3100000023841858,\n",
       "  0.3400000035762787,\n",
       "  0.3700000047683716,\n",
       "  0.33000001311302185,\n",
       "  0.3499999940395355,\n",
       "  0.3199999928474426,\n",
       "  0.3400000035762787,\n",
       "  0.3700000047683716]}"
      ]
     },
     "execution_count": 50,
     "metadata": {},
     "output_type": "execute_result"
    }
   ],
   "source": [
    "# insert code here\n",
    "history.history"
   ]
  },
  {
   "cell_type": "markdown",
   "metadata": {
    "id": "d1KBysuc1qou"
   },
   "source": [
    "## Results"
   ]
  },
  {
   "cell_type": "code",
   "execution_count": 53,
   "metadata": {
    "id": "r2Rqvn1i1qou"
   },
   "outputs": [
    {
     "data": {
      "image/png": "[encoded data removed]",
      "text/plain": [
       "<Figure size 1800x600 with 2 Axes>"
      ]
     },
     "metadata": {},
     "output_type": "display_data"
    }
   ],
   "source": [
    "# insert code here\n",
    "# drop model. from the demo\n",
    "fig, ax = plt.subplots(1, 2, figsize = (18, 6))\n",
    "fig.subplots_adjust(left = 0.02, right = 0.98, wspace = 0.2)\n",
    "plt.rcParams.update({'font.size': 18})\n",
    "# Plot training & validation accuracy values\n",
    "ax[0].plot(history.history['accuracy'])\n",
    "ax[0].plot(history.history['val_accuracy'])\n",
    "ax[0].set_title('Model accuracy')\n",
    "ax[0].set_ylabel('Accuracy')\n",
    "ax[0].set_xlabel('Epoch')\n",
    "ax[0].legend(['Train', 'Validation'])\n",
    "# Plot training & validation loss values\n",
    "ax[1].plot(history.history['loss'])\n",
    "ax[1].plot(history.history['val_loss'])\n",
    "ax[1].set_title('Model loss')\n",
    "ax[1].set_ylabel('Loss')\n",
    "ax[1].set_xlabel('Epoch')\n",
    "ax[1].legend(['Train', 'Validation'])\n",
    "plt.show()"
   ]
  },
  {
   "cell_type": "code",
   "execution_count": null,
   "metadata": {},
   "outputs": [],
   "source": [
    "check_ten(X_test, predictions, y_test)"
   ]
  },
  {
   "cell_type": "markdown",
   "metadata": {
    "id": "RERADKgNFq9T"
   },
   "source": [
    "\n",
    "\n",
    "---\n",
    "\n",
    "\n",
    "\n",
    "---\n",
    "\n",
    "\n",
    "\n",
    "> > > > > > > > > © 2023 Institute of Data\n",
    "\n",
    "\n",
    "---\n",
    "\n",
    "\n",
    "\n",
    "---\n",
    "\n",
    "\n",
    "\n"
   ]
  }
 ],
 "metadata": {
  "colab": {
   "provenance": []
  },
  "kernelspec": {
   "display_name": "Python 3 (ipykernel)",
   "language": "python",
   "name": "python3"
  },
  "language_info": {
   "codemirror_mode": {
    "name": "ipython",
    "version": 3
   },
   "file_extension": ".py",
   "mimetype": "text/x-python",
   "name": "python",
   "nbconvert_exporter": "python",
   "pygments_lexer": "ipython3",
   "version": "3.11.4"
  }
 },
 "nbformat": 4,
 "nbformat_minor": 1
}
