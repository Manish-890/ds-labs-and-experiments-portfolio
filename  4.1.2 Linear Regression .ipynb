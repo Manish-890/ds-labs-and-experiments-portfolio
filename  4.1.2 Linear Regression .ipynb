{
 "cells": [
  {
   "cell_type": "markdown",
   "metadata": {
    "id": "fpsJ8d42XWua"
   },
   "source": [
    "<div>\n",
    "<img src=https://www.institutedata.com/wp-content/uploads/2019/10/iod_h_tp_primary_c.svg width=\"300\">\n",
    "</div>"
   ]
  },
  {
   "cell_type": "markdown",
   "metadata": {
    "id": "CSHa05-1XWub"
   },
   "source": [
    "# Linear Regression"
   ]
  },
  {
   "cell_type": "markdown",
   "metadata": {
    "id": "lZ0RQEDgXWuc"
   },
   "source": [
    "## Prediction of House Price Using Linear Regression"
   ]
  },
  {
   "cell_type": "markdown",
   "metadata": {
    "id": "96_GqGXCXWud"
   },
   "source": [
    "### Data\n",
    "\n",
    "The Sacramento real estate transactions file is a list of 985 real estate transactions in the Sacramento area reported over a five-day period, as reported by the Sacramento Bee."
   ]
  },
  {
   "cell_type": "code",
   "execution_count": 24,
   "metadata": {
    "id": "l1leeqkAXWug"
   },
   "outputs": [],
   "source": [
    "import pandas as pd\n",
    "import numpy as np\n",
    "import pandas as pd\n",
    "import matplotlib.pyplot as plt\n",
    "\n",
    "%matplotlib inline"
   ]
  },
  {
   "cell_type": "markdown",
   "metadata": {
    "id": "S0zFU75NXWuj"
   },
   "source": [
    "### 1. Explore Data"
   ]
  },
  {
   "cell_type": "markdown",
   "metadata": {
    "id": "kaShnXBCXWuk"
   },
   "source": [
    "Perform EDA on this dataset. Find Dependent and Independent Variables to predict house price."
   ]
  },
  {
   "cell_type": "code",
   "execution_count": 12,
   "metadata": {
    "id": "oj3kd7vqXWul",
    "scrolled": true
   },
   "outputs": [
    {
     "data": {
      "text/html": [
       "<div>\n",
       "<style scoped>\n",
       "    .dataframe tbody tr th:only-of-type {\n",
       "        vertical-align: middle;\n",
       "    }\n",
       "\n",
       "    .dataframe tbody tr th {\n",
       "        vertical-align: top;\n",
       "    }\n",
       "\n",
       "    .dataframe thead th {\n",
       "        text-align: right;\n",
       "    }\n",
       "</style>\n",
       "<table border=\"1\" class=\"dataframe\">\n",
       "  <thead>\n",
       "    <tr style=\"text-align: right;\">\n",
       "      <th></th>\n",
       "      <th>street</th>\n",
       "      <th>city</th>\n",
       "      <th>zip</th>\n",
       "      <th>state</th>\n",
       "      <th>beds</th>\n",
       "      <th>baths</th>\n",
       "      <th>sq__ft</th>\n",
       "      <th>type</th>\n",
       "      <th>sale_date</th>\n",
       "      <th>price</th>\n",
       "      <th>latitude</th>\n",
       "      <th>longitude</th>\n",
       "    </tr>\n",
       "  </thead>\n",
       "  <tbody>\n",
       "    <tr>\n",
       "      <th>0</th>\n",
       "      <td>3526 HIGH ST</td>\n",
       "      <td>SACRAMENTO</td>\n",
       "      <td>95838</td>\n",
       "      <td>CA</td>\n",
       "      <td>2</td>\n",
       "      <td>1</td>\n",
       "      <td>836</td>\n",
       "      <td>Residential</td>\n",
       "      <td>Wed May 21 00:00:00 EDT 2008</td>\n",
       "      <td>59222</td>\n",
       "      <td>38.631913</td>\n",
       "      <td>-121.434879</td>\n",
       "    </tr>\n",
       "    <tr>\n",
       "      <th>1</th>\n",
       "      <td>51 OMAHA CT</td>\n",
       "      <td>SACRAMENTO</td>\n",
       "      <td>95823</td>\n",
       "      <td>CA</td>\n",
       "      <td>3</td>\n",
       "      <td>1</td>\n",
       "      <td>1167</td>\n",
       "      <td>Residential</td>\n",
       "      <td>Wed May 21 00:00:00 EDT 2008</td>\n",
       "      <td>68212</td>\n",
       "      <td>38.478902</td>\n",
       "      <td>-121.431028</td>\n",
       "    </tr>\n",
       "    <tr>\n",
       "      <th>2</th>\n",
       "      <td>2796 BRANCH ST</td>\n",
       "      <td>SACRAMENTO</td>\n",
       "      <td>95815</td>\n",
       "      <td>CA</td>\n",
       "      <td>2</td>\n",
       "      <td>1</td>\n",
       "      <td>796</td>\n",
       "      <td>Residential</td>\n",
       "      <td>Wed May 21 00:00:00 EDT 2008</td>\n",
       "      <td>68880</td>\n",
       "      <td>38.618305</td>\n",
       "      <td>-121.443839</td>\n",
       "    </tr>\n",
       "    <tr>\n",
       "      <th>3</th>\n",
       "      <td>2805 JANETTE WAY</td>\n",
       "      <td>SACRAMENTO</td>\n",
       "      <td>95815</td>\n",
       "      <td>CA</td>\n",
       "      <td>2</td>\n",
       "      <td>1</td>\n",
       "      <td>852</td>\n",
       "      <td>Residential</td>\n",
       "      <td>Wed May 21 00:00:00 EDT 2008</td>\n",
       "      <td>69307</td>\n",
       "      <td>38.616835</td>\n",
       "      <td>-121.439146</td>\n",
       "    </tr>\n",
       "    <tr>\n",
       "      <th>4</th>\n",
       "      <td>6001 MCMAHON DR</td>\n",
       "      <td>SACRAMENTO</td>\n",
       "      <td>95824</td>\n",
       "      <td>CA</td>\n",
       "      <td>2</td>\n",
       "      <td>1</td>\n",
       "      <td>797</td>\n",
       "      <td>Residential</td>\n",
       "      <td>Wed May 21 00:00:00 EDT 2008</td>\n",
       "      <td>81900</td>\n",
       "      <td>38.519470</td>\n",
       "      <td>-121.435768</td>\n",
       "    </tr>\n",
       "  </tbody>\n",
       "</table>\n",
       "</div>"
      ],
      "text/plain": [
       "             street        city    zip state  beds  baths  sq__ft  \\\n",
       "0      3526 HIGH ST  SACRAMENTO  95838    CA     2      1     836   \n",
       "1       51 OMAHA CT  SACRAMENTO  95823    CA     3      1    1167   \n",
       "2    2796 BRANCH ST  SACRAMENTO  95815    CA     2      1     796   \n",
       "3  2805 JANETTE WAY  SACRAMENTO  95815    CA     2      1     852   \n",
       "4   6001 MCMAHON DR  SACRAMENTO  95824    CA     2      1     797   \n",
       "\n",
       "          type                     sale_date  price   latitude   longitude  \n",
       "0  Residential  Wed May 21 00:00:00 EDT 2008  59222  38.631913 -121.434879  \n",
       "1  Residential  Wed May 21 00:00:00 EDT 2008  68212  38.478902 -121.431028  \n",
       "2  Residential  Wed May 21 00:00:00 EDT 2008  68880  38.618305 -121.443839  \n",
       "3  Residential  Wed May 21 00:00:00 EDT 2008  69307  38.616835 -121.439146  \n",
       "4  Residential  Wed May 21 00:00:00 EDT 2008  81900  38.519470 -121.435768  "
      ]
     },
     "execution_count": 12,
     "metadata": {},
     "output_type": "execute_result"
    }
   ],
   "source": [
    "# Read CSV\n",
    "house_csv = \"Sacramento_transactions.csv\"\n",
    "df=pd.read_csv(\"Sacramento_transactions.csv\")\n",
    "df.head()"
   ]
  },
  {
   "cell_type": "code",
   "execution_count": 13,
   "metadata": {},
   "outputs": [
    {
     "data": {
      "text/plain": [
       "(985, 12)"
      ]
     },
     "execution_count": 13,
     "metadata": {},
     "output_type": "execute_result"
    }
   ],
   "source": [
    "df.shape"
   ]
  },
  {
   "cell_type": "code",
   "execution_count": 14,
   "metadata": {
    "scrolled": true
   },
   "outputs": [
    {
     "data": {
      "text/html": [
       "<div>\n",
       "<style scoped>\n",
       "    .dataframe tbody tr th:only-of-type {\n",
       "        vertical-align: middle;\n",
       "    }\n",
       "\n",
       "    .dataframe tbody tr th {\n",
       "        vertical-align: top;\n",
       "    }\n",
       "\n",
       "    .dataframe thead th {\n",
       "        text-align: right;\n",
       "    }\n",
       "</style>\n",
       "<table border=\"1\" class=\"dataframe\">\n",
       "  <thead>\n",
       "    <tr style=\"text-align: right;\">\n",
       "      <th></th>\n",
       "      <th>zip</th>\n",
       "      <th>beds</th>\n",
       "      <th>baths</th>\n",
       "      <th>sq__ft</th>\n",
       "      <th>price</th>\n",
       "      <th>latitude</th>\n",
       "      <th>longitude</th>\n",
       "    </tr>\n",
       "  </thead>\n",
       "  <tbody>\n",
       "    <tr>\n",
       "      <th>count</th>\n",
       "      <td>985.000000</td>\n",
       "      <td>985.000000</td>\n",
       "      <td>985.000000</td>\n",
       "      <td>985.000000</td>\n",
       "      <td>985.000000</td>\n",
       "      <td>985.000000</td>\n",
       "      <td>985.000000</td>\n",
       "    </tr>\n",
       "    <tr>\n",
       "      <th>mean</th>\n",
       "      <td>95750.697462</td>\n",
       "      <td>2.911675</td>\n",
       "      <td>1.776650</td>\n",
       "      <td>1314.916751</td>\n",
       "      <td>234144.263959</td>\n",
       "      <td>38.607732</td>\n",
       "      <td>-121.355982</td>\n",
       "    </tr>\n",
       "    <tr>\n",
       "      <th>std</th>\n",
       "      <td>85.176072</td>\n",
       "      <td>1.307932</td>\n",
       "      <td>0.895371</td>\n",
       "      <td>853.048243</td>\n",
       "      <td>138365.839085</td>\n",
       "      <td>0.145433</td>\n",
       "      <td>0.138278</td>\n",
       "    </tr>\n",
       "    <tr>\n",
       "      <th>min</th>\n",
       "      <td>95603.000000</td>\n",
       "      <td>0.000000</td>\n",
       "      <td>0.000000</td>\n",
       "      <td>0.000000</td>\n",
       "      <td>1551.000000</td>\n",
       "      <td>38.241514</td>\n",
       "      <td>-121.551704</td>\n",
       "    </tr>\n",
       "    <tr>\n",
       "      <th>25%</th>\n",
       "      <td>95660.000000</td>\n",
       "      <td>2.000000</td>\n",
       "      <td>1.000000</td>\n",
       "      <td>952.000000</td>\n",
       "      <td>145000.000000</td>\n",
       "      <td>38.482717</td>\n",
       "      <td>-121.446127</td>\n",
       "    </tr>\n",
       "    <tr>\n",
       "      <th>50%</th>\n",
       "      <td>95762.000000</td>\n",
       "      <td>3.000000</td>\n",
       "      <td>2.000000</td>\n",
       "      <td>1304.000000</td>\n",
       "      <td>213750.000000</td>\n",
       "      <td>38.626582</td>\n",
       "      <td>-121.376220</td>\n",
       "    </tr>\n",
       "    <tr>\n",
       "      <th>75%</th>\n",
       "      <td>95828.000000</td>\n",
       "      <td>4.000000</td>\n",
       "      <td>2.000000</td>\n",
       "      <td>1718.000000</td>\n",
       "      <td>300000.000000</td>\n",
       "      <td>38.695589</td>\n",
       "      <td>-121.295778</td>\n",
       "    </tr>\n",
       "    <tr>\n",
       "      <th>max</th>\n",
       "      <td>95864.000000</td>\n",
       "      <td>8.000000</td>\n",
       "      <td>5.000000</td>\n",
       "      <td>5822.000000</td>\n",
       "      <td>884790.000000</td>\n",
       "      <td>39.020808</td>\n",
       "      <td>-120.597599</td>\n",
       "    </tr>\n",
       "  </tbody>\n",
       "</table>\n",
       "</div>"
      ],
      "text/plain": [
       "                zip        beds       baths       sq__ft          price  \\\n",
       "count    985.000000  985.000000  985.000000   985.000000     985.000000   \n",
       "mean   95750.697462    2.911675    1.776650  1314.916751  234144.263959   \n",
       "std       85.176072    1.307932    0.895371   853.048243  138365.839085   \n",
       "min    95603.000000    0.000000    0.000000     0.000000    1551.000000   \n",
       "25%    95660.000000    2.000000    1.000000   952.000000  145000.000000   \n",
       "50%    95762.000000    3.000000    2.000000  1304.000000  213750.000000   \n",
       "75%    95828.000000    4.000000    2.000000  1718.000000  300000.000000   \n",
       "max    95864.000000    8.000000    5.000000  5822.000000  884790.000000   \n",
       "\n",
       "         latitude   longitude  \n",
       "count  985.000000  985.000000  \n",
       "mean    38.607732 -121.355982  \n",
       "std      0.145433    0.138278  \n",
       "min     38.241514 -121.551704  \n",
       "25%     38.482717 -121.446127  \n",
       "50%     38.626582 -121.376220  \n",
       "75%     38.695589 -121.295778  \n",
       "max     39.020808 -120.597599  "
      ]
     },
     "execution_count": 14,
     "metadata": {},
     "output_type": "execute_result"
    }
   ],
   "source": [
    "df.describe()"
   ]
  },
  {
   "cell_type": "code",
   "execution_count": 15,
   "metadata": {},
   "outputs": [],
   "source": [
    "#Removing the \"0\" from the min valve of the df\n",
    "df.drop(df.index[df['sq__ft'] == 0], inplace=True)"
   ]
  },
  {
   "cell_type": "code",
   "execution_count": 16,
   "metadata": {
    "scrolled": true
   },
   "outputs": [
    {
     "data": {
      "text/plain": [
       "street       0\n",
       "city         0\n",
       "zip          0\n",
       "state        0\n",
       "beds         0\n",
       "baths        0\n",
       "sq__ft       0\n",
       "type         0\n",
       "sale_date    0\n",
       "price        0\n",
       "latitude     0\n",
       "longitude    0\n",
       "dtype: int64"
      ]
     },
     "execution_count": 16,
     "metadata": {},
     "output_type": "execute_result"
    }
   ],
   "source": [
    "df.isnull().sum() # Checking if there are any NaN in any of the columns in dataset seems there are none."
   ]
  },
  {
   "cell_type": "code",
   "execution_count": 17,
   "metadata": {
    "scrolled": true
   },
   "outputs": [
    {
     "name": "stdout",
     "output_type": "stream",
     "text": [
      "<class 'pandas.core.frame.DataFrame'>\n",
      "Int64Index: 814 entries, 0 to 984\n",
      "Data columns (total 12 columns):\n",
      " #   Column     Non-Null Count  Dtype  \n",
      "---  ------     --------------  -----  \n",
      " 0   street     814 non-null    object \n",
      " 1   city       814 non-null    object \n",
      " 2   zip        814 non-null    int64  \n",
      " 3   state      814 non-null    object \n",
      " 4   beds       814 non-null    int64  \n",
      " 5   baths      814 non-null    int64  \n",
      " 6   sq__ft     814 non-null    int64  \n",
      " 7   type       814 non-null    object \n",
      " 8   sale_date  814 non-null    object \n",
      " 9   price      814 non-null    int64  \n",
      " 10  latitude   814 non-null    float64\n",
      " 11  longitude  814 non-null    float64\n",
      "dtypes: float64(2), int64(5), object(5)\n",
      "memory usage: 82.7+ KB\n"
     ]
    }
   ],
   "source": [
    "df.info()"
   ]
  },
  {
   "cell_type": "code",
   "execution_count": 22,
   "metadata": {
    "scrolled": true
   },
   "outputs": [
    {
     "data": {
      "text/plain": [
       "array(['SACRAMENTO', 'RANCHO CORDOVA', 'RIO LINDA', 'CITRUS HEIGHTS',\n",
       "       'NORTH HIGHLANDS', 'ANTELOPE', 'ELK GROVE', 'ELVERTA', 'GALT',\n",
       "       'CARMICHAEL', 'ORANGEVALE', 'FOLSOM', 'MATHER', 'POLLOCK PINES',\n",
       "       'GOLD RIVER', 'RANCHO MURIETA', 'WILTON', 'GREENWOOD', 'FAIR OAKS',\n",
       "       'PLACERVILLE', 'MEADOW VISTA', 'ROSEVILLE', 'LINCOLN',\n",
       "       'CAMERON PARK', 'ROCKLIN', 'LOOMIS', 'AUBURN', 'EL DORADO HILLS',\n",
       "       'EL DORADO', 'PENRYN', 'GRANITE BAY', 'DIAMOND SPRINGS', 'COOL',\n",
       "       'WALNUT GROVE', 'SLOUGHHOUSE', 'WEST SACRAMENTO'], dtype=object)"
      ]
     },
     "execution_count": 22,
     "metadata": {},
     "output_type": "execute_result"
    }
   ],
   "source": [
    "df['city'].unique()"
   ]
  },
  {
   "cell_type": "code",
   "execution_count": 25,
   "metadata": {},
   "outputs": [
    {
     "data": {
      "text/plain": [
       "<matplotlib.collections.PathCollection at 0x1d981280c90>"
      ]
     },
     "execution_count": 25,
     "metadata": {},
     "output_type": "execute_result"
    },
    {
     "data": {
      "image/png": "[encoded data removed]",
      "text/plain": [
       "<Figure size 640x480 with 1 Axes>"
      ]
     },
     "metadata": {},
     "output_type": "display_data"
    }
   ],
   "source": [
    "plt.scatter(x=df['sq__ft'], y=df['price'])"
   ]
  },
  {
   "cell_type": "markdown",
   "metadata": {
    "id": "kQ_sd0-VXWuo"
   },
   "source": [
    "### 2. Predict Price"
   ]
  },
  {
   "cell_type": "markdown",
   "metadata": {
    "id": "BsxIS3qqXWuq"
   },
   "source": [
    "We are going to predict `price` from available information."
   ]
  },
  {
   "cell_type": "markdown",
   "metadata": {
    "id": "l9DkEfzHXWur"
   },
   "source": [
    "#### 2.1 What is the Target Variable? Why?"
   ]
  },
  {
   "cell_type": "markdown",
   "metadata": {
    "id": "HGONOtfFXWut"
   },
   "source": [
    "# ANSWER\n",
    "**The target variable is the variable whose values are modeled and predicted by other variables. A predictor variable is a variable whose values will be used to predict the value of the target variable.**\n"
   ]
  },
  {
   "cell_type": "markdown",
   "metadata": {
    "id": "MDAu8eeXXWuz"
   },
   "source": [
    "#### 2.2 List all possible variables which might be Independent/Predictor variable."
   ]
  },
  {
   "cell_type": "markdown",
   "metadata": {
    "id": "PEDRGP1EXWu1"
   },
   "source": [
    "# ANSWER\n",
    "**Independent variable= street, city, zip, state, type, sale_date, sq__ft, lattitude and longitude**\n",
    "\n",
    "**Predictor variable= beds, bath, price**\n",
    "\n",
    "\n"
   ]
  },
  {
   "cell_type": "markdown",
   "metadata": {
    "id": "w9x9iKhcXWu4"
   },
   "source": [
    "#### 2.3 Find correlation between variables\n",
    "\n",
    "Find correlation between variables. Which is the best predictor? Why? State your reason."
   ]
  },
  {
   "cell_type": "code",
   "execution_count": 26,
   "metadata": {
    "id": "5OZ6kJeyXWu5",
    "scrolled": true
   },
   "outputs": [
    {
     "data": {
      "text/html": [
       "<div>\n",
       "<style scoped>\n",
       "    .dataframe tbody tr th:only-of-type {\n",
       "        vertical-align: middle;\n",
       "    }\n",
       "\n",
       "    .dataframe tbody tr th {\n",
       "        vertical-align: top;\n",
       "    }\n",
       "\n",
       "    .dataframe thead th {\n",
       "        text-align: right;\n",
       "    }\n",
       "</style>\n",
       "<table border=\"1\" class=\"dataframe\">\n",
       "  <thead>\n",
       "    <tr style=\"text-align: right;\">\n",
       "      <th></th>\n",
       "      <th>beds</th>\n",
       "      <th>baths</th>\n",
       "      <th>sq__ft</th>\n",
       "      <th>price</th>\n",
       "    </tr>\n",
       "  </thead>\n",
       "  <tbody>\n",
       "    <tr>\n",
       "      <th>beds</th>\n",
       "      <td>1.000000</td>\n",
       "      <td>0.654746</td>\n",
       "      <td>0.695710</td>\n",
       "      <td>0.441988</td>\n",
       "    </tr>\n",
       "    <tr>\n",
       "      <th>baths</th>\n",
       "      <td>0.654746</td>\n",
       "      <td>1.000000</td>\n",
       "      <td>0.724631</td>\n",
       "      <td>0.501820</td>\n",
       "    </tr>\n",
       "    <tr>\n",
       "      <th>sq__ft</th>\n",
       "      <td>0.695710</td>\n",
       "      <td>0.724631</td>\n",
       "      <td>1.000000</td>\n",
       "      <td>0.693708</td>\n",
       "    </tr>\n",
       "    <tr>\n",
       "      <th>price</th>\n",
       "      <td>0.441988</td>\n",
       "      <td>0.501820</td>\n",
       "      <td>0.693708</td>\n",
       "      <td>1.000000</td>\n",
       "    </tr>\n",
       "  </tbody>\n",
       "</table>\n",
       "</div>"
      ],
      "text/plain": [
       "            beds     baths    sq__ft     price\n",
       "beds    1.000000  0.654746  0.695710  0.441988\n",
       "baths   0.654746  1.000000  0.724631  0.501820\n",
       "sq__ft  0.695710  0.724631  1.000000  0.693708\n",
       "price   0.441988  0.501820  0.693708  1.000000"
      ]
     },
     "execution_count": 26,
     "metadata": {},
     "output_type": "execute_result"
    }
   ],
   "source": [
    "# ANSWER\n",
    "my_corr=df[['beds', 'baths', 'sq__ft', 'price']].copy()\n",
    "my_corr.corr()"
   ]
  },
  {
   "cell_type": "markdown",
   "metadata": {},
   "source": [
    "The best predictor i belive is sq__ft because it is having the closest value to 1 having the higher correlation."
   ]
  },
  {
   "cell_type": "markdown",
   "metadata": {
    "id": "tgWfh5snXWu8"
   },
   "source": [
    "#### 2.4 Find Coefficient and Intercept using Linear Regression\n",
    "\n",
    "Using LinearRegression of sklearn.linear_model package find Coefficient and Intercept.\n",
    "\n",
    "Create an instance of LinearRegression.\n",
    "\n",
    "Explore following methods:\n",
    "\n",
    "- fit\n",
    "- predict\n",
    "- score"
   ]
  },
  {
   "cell_type": "code",
   "execution_count": 28,
   "metadata": {
    "id": "SbiQavKvXWu9"
   },
   "outputs": [],
   "source": [
    "from sklearn.linear_model import LinearRegression"
   ]
  },
  {
   "cell_type": "markdown",
   "metadata": {
    "id": "lVWhSV7BXWu_"
   },
   "source": [
    "##### 2.4.1 Fit predictor and target variables using linear regression "
   ]
  },
  {
   "cell_type": "code",
   "execution_count": 31,
   "metadata": {
    "id": "6cplIG9RXWvA"
   },
   "outputs": [
    {
     "data": {
      "text/html": [
       "<style>#sk-container-id-1 {color: black;background-color: white;}#sk-container-id-1 pre{padding: 0;}#sk-container-id-1 div.sk-toggleable {background-color: white;}#sk-container-id-1 label.sk-toggleable__label {cursor: pointer;display: block;width: 100%;margin-bottom: 0;padding: 0.3em;box-sizing: border-box;text-align: center;}#sk-container-id-1 label.sk-toggleable__label-arrow:before {content: \"▸\";float: left;margin-right: 0.25em;color: #696969;}#sk-container-id-1 label.sk-toggleable__label-arrow:hover:before {color: black;}#sk-container-id-1 div.sk-estimator:hover label.sk-toggleable__label-arrow:before {color: black;}#sk-container-id-1 div.sk-toggleable__content {max-height: 0;max-width: 0;overflow: hidden;text-align: left;background-color: #f0f8ff;}#sk-container-id-1 div.sk-toggleable__content pre {margin: 0.2em;color: black;border-radius: 0.25em;background-color: #f0f8ff;}#sk-container-id-1 input.sk-toggleable__control:checked~div.sk-toggleable__content {max-height: 200px;max-width: 100%;overflow: auto;}#sk-container-id-1 input.sk-toggleable__control:checked~label.sk-toggleable__label-arrow:before {content: \"▾\";}#sk-container-id-1 div.sk-estimator input.sk-toggleable__control:checked~label.sk-toggleable__label {background-color: #d4ebff;}#sk-container-id-1 div.sk-label input.sk-toggleable__control:checked~label.sk-toggleable__label {background-color: #d4ebff;}#sk-container-id-1 input.sk-hidden--visually {border: 0;clip: rect(1px 1px 1px 1px);clip: rect(1px, 1px, 1px, 1px);height: 1px;margin: -1px;overflow: hidden;padding: 0;position: absolute;width: 1px;}#sk-container-id-1 div.sk-estimator {font-family: monospace;background-color: #f0f8ff;border: 1px dotted black;border-radius: 0.25em;box-sizing: border-box;margin-bottom: 0.5em;}#sk-container-id-1 div.sk-estimator:hover {background-color: #d4ebff;}#sk-container-id-1 div.sk-parallel-item::after {content: \"\";width: 100%;border-bottom: 1px solid gray;flex-grow: 1;}#sk-container-id-1 div.sk-label:hover label.sk-toggleable__label {background-color: #d4ebff;}#sk-container-id-1 div.sk-serial::before {content: \"\";position: absolute;border-left: 1px solid gray;box-sizing: border-box;top: 0;bottom: 0;left: 50%;z-index: 0;}#sk-container-id-1 div.sk-serial {display: flex;flex-direction: column;align-items: center;background-color: white;padding-right: 0.2em;padding-left: 0.2em;position: relative;}#sk-container-id-1 div.sk-item {position: relative;z-index: 1;}#sk-container-id-1 div.sk-parallel {display: flex;align-items: stretch;justify-content: center;background-color: white;position: relative;}#sk-container-id-1 div.sk-item::before, #sk-container-id-1 div.sk-parallel-item::before {content: \"\";position: absolute;border-left: 1px solid gray;box-sizing: border-box;top: 0;bottom: 0;left: 50%;z-index: -1;}#sk-container-id-1 div.sk-parallel-item {display: flex;flex-direction: column;z-index: 1;position: relative;background-color: white;}#sk-container-id-1 div.sk-parallel-item:first-child::after {align-self: flex-end;width: 50%;}#sk-container-id-1 div.sk-parallel-item:last-child::after {align-self: flex-start;width: 50%;}#sk-container-id-1 div.sk-parallel-item:only-child::after {width: 0;}#sk-container-id-1 div.sk-dashed-wrapped {border: 1px dashed gray;margin: 0 0.4em 0.5em 0.4em;box-sizing: border-box;padding-bottom: 0.4em;background-color: white;}#sk-container-id-1 div.sk-label label {font-family: monospace;font-weight: bold;display: inline-block;line-height: 1.2em;}#sk-container-id-1 div.sk-label-container {text-align: center;}#sk-container-id-1 div.sk-container {/* jupyter's `normalize.less` sets `[hidden] { display: none; }` but bootstrap.min.css set `[hidden] { display: none !important; }` so we also need the `!important` here to be able to override the default hidden behavior on the sphinx rendered scikit-learn.org. See: https://github.com/scikit-learn/scikit-learn/issues/21755 */display: inline-block !important;position: relative;}#sk-container-id-1 div.sk-text-repr-fallback {display: none;}</style><div id=\"sk-container-id-1\" class=\"sk-top-container\"><div class=\"sk-text-repr-fallback\"><pre>LinearRegression()</pre><b>In a Jupyter environment, please rerun this cell to show the HTML representation or trust the notebook. <br />On GitHub, the HTML representation is unable to render, please try loading this page with nbviewer.org.</b></div><div class=\"sk-container\" hidden><div class=\"sk-item\"><div class=\"sk-estimator sk-toggleable\"><input class=\"sk-toggleable__control sk-hidden--visually\" id=\"sk-estimator-id-1\" type=\"checkbox\" checked><label for=\"sk-estimator-id-1\" class=\"sk-toggleable__label sk-toggleable__label-arrow\">LinearRegression</label><div class=\"sk-toggleable__content\"><pre>LinearRegression()</pre></div></div></div></div></div>"
      ],
      "text/plain": [
       "LinearRegression()"
      ]
     },
     "execution_count": 31,
     "metadata": {},
     "output_type": "execute_result"
    }
   ],
   "source": [
    "# ANSWER\n",
    "\n",
    "X = df['sq__ft'].values.reshape(-1,1)\n",
    "y = df['price']\n",
    "lr= LinearRegression().fit(X,y)\n",
    "lr"
   ]
  },
  {
   "cell_type": "markdown",
   "metadata": {
    "id": "0Qv0pyZNXWvC"
   },
   "source": [
    "##### 2.4.2 Find R Score"
   ]
  },
  {
   "cell_type": "markdown",
   "metadata": {
    "id": "j5Lix6tlXWvD"
   },
   "source": [
    "Find $R^2$ Using ```score``` method of Linear Regression."
   ]
  },
  {
   "cell_type": "code",
   "execution_count": 33,
   "metadata": {
    "id": "JrJDTlJrXWvF"
   },
   "outputs": [
    {
     "name": "stdout",
     "output_type": "stream",
     "text": [
      "0.4812307133326901\n"
     ]
    }
   ],
   "source": [
    "# ANSWER\n",
    "r_square= lr.score(X,y)\n",
    "print(r_square)"
   ]
  },
  {
   "cell_type": "markdown",
   "metadata": {
    "id": "BiVDrqFhXWvN"
   },
   "source": [
    "### 3. Splitting Data"
   ]
  },
  {
   "cell_type": "code",
   "execution_count": 34,
   "metadata": {
    "id": "I4tgG88GXWvQ"
   },
   "outputs": [],
   "source": [
    "from sklearn.model_selection import train_test_split"
   ]
  },
  {
   "cell_type": "markdown",
   "metadata": {
    "id": "hTgSdUpwXWvW"
   },
   "source": [
    "#### 3.1 Create training and testing subsets\n",
    "\n",
    "Hint: Using `train_test_split` Library.\n",
    "\n",
    "```\n",
    "X_train, X_test, y_train, y_test = train_test_split(X, y, test_size=0.33, random_state=42)\n",
    "```"
   ]
  },
  {
   "cell_type": "code",
   "execution_count": 37,
   "metadata": {
    "id": "iYSlAV_gXWvX"
   },
   "outputs": [],
   "source": [
    "# ANSWER\n",
    "## Create training and testing subsets\n",
    "X_train, X_test, y_train, y_test = train_test_split(X, y, test_size=0.33, random_state=42)\n"
   ]
  },
  {
   "cell_type": "markdown",
   "metadata": {
    "id": "P62hTi0IXWva"
   },
   "source": [
    "#### 3.2 Check Shape, Sample of Test Train Data"
   ]
  },
  {
   "cell_type": "code",
   "execution_count": 50,
   "metadata": {
    "id": "larfqlLQXWvb"
   },
   "outputs": [
    {
     "name": "stdout",
     "output_type": "stream",
     "text": [
      "Training set shape: (545, 1) (545,)\n",
      "Testing set shape: (269, 1) (269,)\n",
      "Training set sample:\n",
      "[[2555]\n",
      " [2484]\n",
      " [ 588]\n",
      " [1566]\n",
      " [ 881]\n",
      " [2235]\n",
      " [1130]\n",
      " [1697]\n",
      " [ 932]\n",
      " [1915]\n",
      " [1260]\n",
      " [1183]\n",
      " [1179]\n",
      " [ 864]\n",
      " [1315]\n",
      " [1713]\n",
      " [1200]\n",
      " [ 972]\n",
      " [1354]\n",
      " [1394]\n",
      " [1512]\n",
      " [1266]\n",
      " [1695]\n",
      " [1451]\n",
      " [1051]\n",
      " [1440]\n",
      " [1882]\n",
      " [1161]\n",
      " [1590]\n",
      " [1164]\n",
      " [1650]\n",
      " [3009]\n",
      " [2800]\n",
      " [2214]\n",
      " [1326]\n",
      " [1639]\n",
      " [2508]\n",
      " [1685]\n",
      " [1488]\n",
      " [1859]\n",
      " [ 904]\n",
      " [ 832]\n",
      " [1011]\n",
      " [1289]\n",
      " [2280]\n",
      " [1043]\n",
      " [1056]\n",
      " [1110]\n",
      " [ 956]\n",
      " [1828]\n",
      " [1176]\n",
      " [1202]\n",
      " [1483]\n",
      " [1103]\n",
      " [ 994]\n",
      " [1436]\n",
      " [1529]\n",
      " [2205]\n",
      " [1265]\n",
      " [3056]\n",
      " [1134]\n",
      " [ 852]\n",
      " [1370]\n",
      " [1981]\n",
      " [2096]\n",
      " [1555]\n",
      " [1158]\n",
      " [2660]\n",
      " [1830]\n",
      " [1009]\n",
      " [1204]\n",
      " [ 804]\n",
      " [1683]\n",
      " [1146]\n",
      " [1527]\n",
      " [1240]\n",
      " [1475]\n",
      " [1206]\n",
      " [1262]\n",
      " [1319]\n",
      " [2606]\n",
      " [1245]\n",
      " [2577]\n",
      " [1829]\n",
      " [1595]\n",
      " [1843]\n",
      " [1324]\n",
      " [1436]\n",
      " [1219]\n",
      " [1929]\n",
      " [1117]\n",
      " [2457]\n",
      " [1000]\n",
      " [1337]\n",
      " [1596]\n",
      " [1040]\n",
      " [1712]\n",
      " [1247]\n",
      " [2162]\n",
      " [1118]\n",
      " [1104]\n",
      " [3260]\n",
      " [2170]\n",
      " [ 958]\n",
      " [2787]\n",
      " [3516]\n",
      " [3134]\n",
      " [2258]\n",
      " [2846]\n",
      " [1567]\n",
      " [ 836]\n",
      " [1358]\n",
      " [1019]\n",
      " [1011]\n",
      " [ 838]\n",
      " [2581]\n",
      " [1857]\n",
      " [2367]\n",
      " [1503]\n",
      " [1327]\n",
      " [2175]\n",
      " [1559]\n",
      " [2724]\n",
      " [ 779]\n",
      " [1093]\n",
      " [2462]\n",
      " [1120]\n",
      " [1341]\n",
      " [1543]\n",
      " [5822]\n",
      " [1638]\n",
      " [1900]\n",
      " [2372]\n",
      " [ 918]\n",
      " [1404]\n",
      " [1810]\n",
      " [1580]\n",
      " [1370]\n",
      " [1152]\n",
      " [ 960]\n",
      " [ 539]\n",
      " [1439]\n",
      " [1362]\n",
      " [1073]\n",
      " [1993]\n",
      " [1851]\n",
      " [1074]\n",
      " [1248]\n",
      " [ 975]\n",
      " [3741]\n",
      " [ 962]\n",
      " [1300]\n",
      " [1711]\n",
      " [ 722]\n",
      " [1013]\n",
      " [1928]\n",
      " [3037]\n",
      " [1296]\n",
      " [ 800]\n",
      " [1961]\n",
      " [1382]\n",
      " [ 876]\n",
      " [1364]\n",
      " [1650]\n",
      " [1188]\n",
      " [2002]\n",
      " [1456]\n",
      " [1677]\n",
      " [1174]\n",
      " [1452]\n",
      " [1608]\n",
      " [3440]\n",
      " [1000]\n",
      " [2724]\n",
      " [ 756]\n",
      " [1108]\n",
      " [1100]\n",
      " [1356]\n",
      " [ 952]\n",
      " [1360]\n",
      " [ 888]\n",
      " [2142]\n",
      " [1638]\n",
      " [ 871]\n",
      " [2382]\n",
      " [1427]\n",
      " [1012]\n",
      " [ 990]\n",
      " [1088]\n",
      " [1462]\n",
      " [1120]\n",
      " [1146]\n",
      " [1080]\n",
      " [2494]\n",
      " [ 834]\n",
      " [2100]\n",
      " [2447]\n",
      " [1410]\n",
      " [2016]\n",
      " [2592]\n",
      " [ 868]\n",
      " [1915]\n",
      " [1410]\n",
      " [2306]\n",
      " [1416]\n",
      " [1457]\n",
      " [2222]\n",
      " [1520]\n",
      " [1428]\n",
      " [1211]\n",
      " [1280]\n",
      " [3788]\n",
      " [1172]\n",
      " [1770]\n",
      " [1216]\n",
      " [3992]\n",
      " [ 795]\n",
      " [2734]\n",
      " [1207]\n",
      " [1910]\n",
      " [1029]\n",
      " [1939]\n",
      " [2258]\n",
      " [2085]\n",
      " [1968]\n",
      " [1123]\n",
      " [2309]\n",
      " [1400]\n",
      " [1249]\n",
      " [1373]\n",
      " [1921]\n",
      " [1448]\n",
      " [ 795]\n",
      " [1520]\n",
      " [1351]\n",
      " [1776]\n",
      " [ 796]\n",
      " [1202]\n",
      " [1051]\n",
      " [1320]\n",
      " [1122]\n",
      " [1770]\n",
      " [1120]\n",
      " [1285]\n",
      " [1220]\n",
      " [2504]\n",
      " [ 957]\n",
      " [ 844]\n",
      " [1169]\n",
      " [1656]\n",
      " [1310]\n",
      " [1127]\n",
      " [1386]\n",
      " [1320]\n",
      " [1598]\n",
      " [1580]\n",
      " [1776]\n",
      " [ 963]\n",
      " [1623]\n",
      " [1510]\n",
      " [1520]\n",
      " [2491]\n",
      " [1472]\n",
      " [1089]\n",
      " [1329]\n",
      " [1744]\n",
      " [1189]\n",
      " [2824]\n",
      " [2254]\n",
      " [1392]\n",
      " [2053]\n",
      " [4400]\n",
      " [1292]\n",
      " [1371]\n",
      " [1795]\n",
      " [ 795]\n",
      " [1039]\n",
      " [1040]\n",
      " [1316]\n",
      " [1438]\n",
      " [1479]\n",
      " [1636]\n",
      " [2494]\n",
      " [2187]\n",
      " [1452]\n",
      " [1284]\n",
      " [1574]\n",
      " [1160]\n",
      " [1690]\n",
      " [1714]\n",
      " [1067]\n",
      " [1058]\n",
      " [ 960]\n",
      " [1174]\n",
      " [1304]\n",
      " [2605]\n",
      " [ 941]\n",
      " [2212]\n",
      " [1082]\n",
      " [2347]\n",
      " [2307]\n",
      " [ 984]\n",
      " [1789]\n",
      " [1578]\n",
      " [ 984]\n",
      " [1419]\n",
      " [2208]\n",
      " [ 796]\n",
      " [1844]\n",
      " [ 746]\n",
      " [1888]\n",
      " [1229]\n",
      " [1170]\n",
      " [3670]\n",
      " [1099]\n",
      " [ 795]\n",
      " [1261]\n",
      " [1104]\n",
      " [1686]\n",
      " [1676]\n",
      " [1596]\n",
      " [ 958]\n",
      " [1310]\n",
      " [1801]\n",
      " [3261]\n",
      " [3508]\n",
      " [1231]\n",
      " [1671]\n",
      " [2068]\n",
      " [ 484]\n",
      " [2026]\n",
      " [2185]\n",
      " [1320]\n",
      " [1685]\n",
      " [ 960]\n",
      " [1450]\n",
      " [1306]\n",
      " [1004]\n",
      " [3164]\n",
      " [1250]\n",
      " [1720]\n",
      " [1543]\n",
      " [ 884]\n",
      " [1465]\n",
      " [1392]\n",
      " [1676]\n",
      " [1670]\n",
      " [2049]\n",
      " [1506]\n",
      " [1856]\n",
      " [1262]\n",
      " [1410]\n",
      " [1838]\n",
      " [2212]\n",
      " [2992]\n",
      " [ 900]\n",
      " [1843]\n",
      " [1456]\n",
      " [ 933]\n",
      " [2111]\n",
      " [1353]\n",
      " [1498]\n",
      " [1485]\n",
      " [ 966]\n",
      " [1798]\n",
      " [1093]\n",
      " [1100]\n",
      " [1449]\n",
      " [1196]\n",
      " [2494]\n",
      " [3881]\n",
      " [1505]\n",
      " [1872]\n",
      " [1567]\n",
      " [1294]\n",
      " [1548]\n",
      " [1691]\n",
      " [1646]\n",
      " [1064]\n",
      " [1735]\n",
      " [ 960]\n",
      " [1344]\n",
      " [ 970]\n",
      " [1899]\n",
      " [2379]\n",
      " [1328]\n",
      " [2334]\n",
      " [1593]\n",
      " [ 972]\n",
      " [1193]\n",
      " [1531]\n",
      " [1643]\n",
      " [1060]\n",
      " [1418]\n",
      " [1240]\n",
      " [1080]\n",
      " [1502]\n",
      " [1348]\n",
      " [2278]\n",
      " [1497]\n",
      " [2790]\n",
      " [1328]\n",
      " [1768]\n",
      " [1150]\n",
      " [1871]\n",
      " [1157]\n",
      " [1139]\n",
      " [1137]\n",
      " [1739]\n",
      " [1871]\n",
      " [1493]\n",
      " [1522]\n",
      " [ 797]\n",
      " [2160]\n",
      " [1144]\n",
      " [1406]\n",
      " [2161]\n",
      " [1655]\n",
      " [1672]\n",
      " [1473]\n",
      " [1936]\n",
      " [ 800]\n",
      " [1955]\n",
      " [1380]\n",
      " [1007]\n",
      " [3440]\n",
      " [1119]\n",
      " [1040]\n",
      " [1269]\n",
      " [1166]\n",
      " [1144]\n",
      " [3838]\n",
      " [1182]\n",
      " [2877]\n",
      " [ 950]\n",
      " [1115]\n",
      " [ 906]\n",
      " [3433]\n",
      " [1603]\n",
      " [1788]\n",
      " [1144]\n",
      " [2110]\n",
      " [1450]\n",
      " [1890]\n",
      " [1420]\n",
      " [1022]\n",
      " [ 610]\n",
      " [1304]\n",
      " [1032]\n",
      " [ 930]\n",
      " [1006]\n",
      " [1360]\n",
      " [1463]\n",
      " [1209]\n",
      " [ 682]\n",
      " [1161]\n",
      " [ 623]\n",
      " [2356]\n",
      " [1411]\n",
      " [1462]\n",
      " [1800]\n",
      " [2155]\n",
      " [1216]\n",
      " [1718]\n",
      " [1716]\n",
      " [1080]\n",
      " [1174]\n",
      " [1570]\n",
      " [1375]\n",
      " [3579]\n",
      " [2274]\n",
      " [3612]\n",
      " [1082]\n",
      " [1758]\n",
      " [1167]\n",
      " [1582]\n",
      " [1139]\n",
      " [1287]\n",
      " [1120]\n",
      " [1039]\n",
      " [1320]\n",
      " [1808]\n",
      " [2442]\n",
      " [1120]\n",
      " [1591]\n",
      " [1690]\n",
      " [1273]\n",
      " [1407]\n",
      " [2030]\n",
      " [1020]\n",
      " [1014]\n",
      " [1441]\n",
      " [1939]\n",
      " [2607]\n",
      " [1050]\n",
      " [1715]\n",
      " [1982]\n",
      " [3357]\n",
      " [1302]\n",
      " [ 810]\n",
      " [1653]\n",
      " [1578]\n",
      " [1638]\n",
      " [2199]\n",
      " [ 810]\n",
      " [3229]\n",
      " [4246]\n",
      " [1727]\n",
      " [1115]\n",
      " [1152]\n",
      " [4303]\n",
      " [1124]\n",
      " [1302]\n",
      " [1284]\n",
      " [1329]\n",
      " [1120]\n",
      " [2166]\n",
      " [ 722]\n",
      " [3192]\n",
      " [ 904]\n",
      " [1112]\n",
      " [3076]\n",
      " [ 904]\n",
      " [1120]\n",
      " [1039]\n",
      " [1082]\n",
      " [3134]\n",
      " [3599]\n",
      " [1276]\n",
      " [1380]\n",
      " [1154]\n",
      " [1269]\n",
      " [1606]\n",
      " [1104]\n",
      " [1578]\n",
      " [3281]\n",
      " [2354]\n",
      " [1876]\n",
      " [1118]\n",
      " [3863]\n",
      " [1820]\n",
      " [2056]\n",
      " [3389]\n",
      " [1922]\n",
      " [1446]]\n",
      "779    300000\n",
      "333    699000\n",
      "18     120000\n",
      "710    220000\n",
      "916    165000\n",
      "        ...  \n",
      "71     200000\n",
      "109    285000\n",
      "301    370000\n",
      "481    284686\n",
      "105    275086\n",
      "Name: price, Length: 545, dtype: int64\n",
      "Training set sample:\n",
      "[[2169]\n",
      " [1376]\n",
      " [1291]\n",
      " [1624]\n",
      " [1410]\n",
      " [1627]\n",
      " [1740]\n",
      " [ 970]\n",
      " [1876]\n",
      " [1724]\n",
      " [1586]\n",
      " [1176]\n",
      " [1659]\n",
      " [1477]\n",
      " [1258]\n",
      " [1381]\n",
      " [2346]\n",
      " [1126]\n",
      " [ 696]\n",
      " [1358]\n",
      " [3615]\n",
      " [1362]\n",
      " [1094]\n",
      " [1112]\n",
      " [ 760]\n",
      " [1039]\n",
      " [1089]\n",
      " [1393]\n",
      " [1289]\n",
      " [1616]\n",
      " [2004]\n",
      " [1721]\n",
      " [1887]\n",
      " [1269]\n",
      " [ 611]\n",
      " [1601]\n",
      " [1152]\n",
      " [1669]\n",
      " [1479]\n",
      " [1156]\n",
      " [1280]\n",
      " [1092]\n",
      " [1010]\n",
      " [2052]\n",
      " [1905]\n",
      " [1953]\n",
      " [1428]\n",
      " [1418]\n",
      " [1302]\n",
      " [1736]\n",
      " [2875]\n",
      " [2652]\n",
      " [1032]\n",
      " [2960]\n",
      " [1513]\n",
      " [1255]\n",
      " [1811]\n",
      " [2163]\n",
      " [1800]\n",
      " [1199]\n",
      " [2484]\n",
      " [1621]\n",
      " [2725]\n",
      " [1264]\n",
      " [1892]\n",
      " [ 888]\n",
      " [3984]\n",
      " [1477]\n",
      " [1541]\n",
      " [ 924]\n",
      " [1616]\n",
      " [ 990]\n",
      " [1637]\n",
      " [2280]\n",
      " [1116]\n",
      " [1152]\n",
      " [1177]\n",
      " [3746]\n",
      " [1457]\n",
      " [1776]\n",
      " [1799]\n",
      " [2550]\n",
      " [1450]\n",
      " [ 936]\n",
      " [2136]\n",
      " [1080]\n",
      " [1272]\n",
      " [1351]\n",
      " [2126]\n",
      " [1366]\n",
      " [1092]\n",
      " [1187]\n",
      " [1590]\n",
      " [1443]\n",
      " [1159]\n",
      " [2025]\n",
      " [ 625]\n",
      " [1678]\n",
      " [1235]\n",
      " [ 723]\n",
      " [1430]\n",
      " [1185]\n",
      " [1204]\n",
      " [1212]\n",
      " [2575]\n",
      " [ 861]\n",
      " [1018]\n",
      " [2711]\n",
      " [1341]\n",
      " [1555]\n",
      " [2367]\n",
      " [1175]\n",
      " [ 948]\n",
      " [1232]\n",
      " [1416]\n",
      " [2789]\n",
      " [2093]\n",
      " [ 909]\n",
      " [1309]\n",
      " [2213]\n",
      " [1343]\n",
      " [2896]\n",
      " [1416]\n",
      " [1410]\n",
      " [1628]\n",
      " [1516]\n",
      " [1914]\n",
      " [ 998]\n",
      " [1317]\n",
      " [1248]\n",
      " [ 964]\n",
      " [1300]\n",
      " [2056]\n",
      " [1358]\n",
      " [1277]\n",
      " [1800]\n",
      " [2329]\n",
      " [1253]\n",
      " [3173]\n",
      " [ 836]\n",
      " [1401]\n",
      " [2169]\n",
      " [ 904]\n",
      " [1265]\n",
      " [1991]\n",
      " [1264]\n",
      " [1177]\n",
      " [1058]\n",
      " [2372]\n",
      " [1080]\n",
      " [2085]\n",
      " [1582]\n",
      " [1390]\n",
      " [ 796]\n",
      " [ 924]\n",
      " [1188]\n",
      " [1132]\n",
      " [ 888]\n",
      " [2172]\n",
      " [1624]\n",
      " [1232]\n",
      " [1120]\n",
      " [2962]\n",
      " [1253]\n",
      " [1851]\n",
      " [ 795]\n",
      " [1338]\n",
      " [2475]\n",
      " [1478]\n",
      " [ 840]\n",
      " [1162]\n",
      " [1904]\n",
      " [1424]\n",
      " [ 834]\n",
      " [1331]\n",
      " [ 840]\n",
      " [1627]\n",
      " [1367]\n",
      " [1751]\n",
      " [1252]\n",
      " [1406]\n",
      " [1468]\n",
      " [1329]\n",
      " [3468]\n",
      " [1217]\n",
      " [ 846]\n",
      " [1127]\n",
      " [ 924]\n",
      " [1258]\n",
      " [1215]\n",
      " [1953]\n",
      " [1940]\n",
      " [1159]\n",
      " [1140]\n",
      " [2218]\n",
      " [1549]\n",
      " [1356]\n",
      " [1329]\n",
      " [2159]\n",
      " [1250]\n",
      " [1305]\n",
      " [ 780]\n",
      " [1188]\n",
      " [1740]\n",
      " [1524]\n",
      " [1451]\n",
      " [ 722]\n",
      " [1266]\n",
      " [1477]\n",
      " [2054]\n",
      " [1587]\n",
      " [1715]\n",
      " [1540]\n",
      " [1280]\n",
      " [1354]\n",
      " [1516]\n",
      " [2846]\n",
      " [1448]\n",
      " [1098]\n",
      " [ 967]\n",
      " [1380]\n",
      " [1816]\n",
      " [1321]\n",
      " [ 901]\n",
      " [1466]\n",
      " [1995]\n",
      " [2359]\n",
      " [1577]\n",
      " [1448]\n",
      " [2687]\n",
      " [2503]\n",
      " [1104]\n",
      " [1075]\n",
      " [ 988]\n",
      " [1401]\n",
      " [1511]\n",
      " [1962]\n",
      " [3397]\n",
      " [1638]\n",
      " [2325]\n",
      " [1144]\n",
      " [1574]\n",
      " [1605]\n",
      " [ 795]\n",
      " [2295]\n",
      " [1830]\n",
      " [1766]\n",
      " [2295]\n",
      " [2109]\n",
      " [1340]\n",
      " [2724]\n",
      " [1207]\n",
      " [1089]\n",
      " [1857]\n",
      " [2109]\n",
      " [1943]\n",
      " [1127]\n",
      " [3070]\n",
      " [1517]\n",
      " [ 901]\n",
      " [1139]\n",
      " [1182]\n",
      " [1039]\n",
      " [1590]\n",
      " [1587]\n",
      " [1609]\n",
      " [1595]\n",
      " [1917]\n",
      " [ 911]]\n",
      "273    292000\n",
      "708    215000\n",
      "247    236250\n",
      "334    839000\n",
      "654    165000\n",
      "        ...  \n",
      "379    127500\n",
      "949    204750\n",
      "295    339000\n",
      "407    170000\n",
      "621    115000\n",
      "Name: price, Length: 269, dtype: int64\n"
     ]
    }
   ],
   "source": [
    "# ANSWER\n",
    "## Check training/test data\n",
    "print(\"Training set shape:\", X_train.shape, y_train.shape)\n",
    "print(\"Testing set shape:\", X_test.shape, y_test.shape)\n",
    "#Samples of Subsets\n",
    "print(\"Training set sample:\")\n",
    "print(X_train)\n",
    "print(y_train)\n",
    "print(\"Training set sample:\")\n",
    "print(X_test)\n",
    "print(y_test)"
   ]
  },
  {
   "cell_type": "markdown",
   "metadata": {
    "id": "FhemsdjyXWvd"
   },
   "source": [
    "#### 3.3 Using Linear Regression Find The Score\n",
    "\n",
    "1. Fit model using X_train, y_train\n",
    "2. Find score using X_test, y_test"
   ]
  },
  {
   "cell_type": "code",
   "execution_count": 52,
   "metadata": {
    "id": "yqNCjOW3XWve"
   },
   "outputs": [],
   "source": [
    "# ANSWER\n",
    "reg= LinearRegression().fit(X_train, y_train)"
   ]
  },
  {
   "cell_type": "code",
   "execution_count": 53,
   "metadata": {
    "id": "rT5Qvx_pXWvi"
   },
   "outputs": [
    {
     "name": "stdout",
     "output_type": "stream",
     "text": [
      "score: 0.44917703281062393\n"
     ]
    }
   ],
   "source": [
    "# ANSWER\n",
    "score=reg.score(X_test, y_test)\n",
    "print('score:',score)"
   ]
  },
  {
   "cell_type": "markdown",
   "metadata": {
    "id": "wSAtgNXXXWvk"
   },
   "source": [
    "### 4. Predict House Price\n",
    "\n",
    "Let's assume we have information of following house:\n",
    "\n",
    "- street:\t1140 EDMONTON DR\n",
    "- city:\tSACRAMENTO\n",
    "- zip:\t95833\n",
    "- state:\tCA\n",
    "- beds:\t3\n",
    "- baths:\t2\n",
    "- sq__ft:\t1204\n",
    "- type:\tResidential\n",
    "\n",
    "**Predict the price of this house using linear regression model.**"
   ]
  },
  {
   "cell_type": "code",
   "execution_count": 59,
   "metadata": {
    "id": "zwMk_GoVXWvk"
   },
   "outputs": [
    {
     "name": "stdout",
     "output_type": "stream",
     "text": [
      "predicted price: $ 37896.83151266089\n"
     ]
    }
   ],
   "source": [
    "# ANSWER\n",
    "X=df[['beds', 'baths', 'sq__ft']]\n",
    "y=df['price']\n",
    "#fit with linear regression model\n",
    "reg= LinearRegression().fit(X, y)\n",
    "house={'beds':3, 'baths':2, 'sq__ft':124}\n",
    "r_house=pd.DataFrame([house])\n",
    "predicted_price= reg.predict(r_house)\n",
    "print('predicted price: $', predicted_price[0])"
   ]
  },
  {
   "cell_type": "markdown",
   "metadata": {
    "id": "RBKhEYCZlXTJ"
   },
   "source": [
    "#### Find the error"
   ]
  },
  {
   "cell_type": "code",
   "execution_count": 67,
   "metadata": {
    "id": "j1eXj-9zlXTK"
   },
   "outputs": [
    {
     "name": "stdout",
     "output_type": "stream",
     "text": [
      "mean square error : 6873464361.755377\n"
     ]
    }
   ],
   "source": [
    "# Predict price from X_test\n",
    "from sklearn.metrics import mean_squared_error\n",
    "reg= LinearRegression().fit(X_train, y_train)\n",
    "predict= reg.predict(X_test)\n",
    "mse=mean_squared_error(y_test, predict)\n",
    "print('mean square error :', mse)"
   ]
  },
  {
   "cell_type": "markdown",
   "metadata": {
    "id": "fRx7LEfql5pu"
   },
   "source": [
    "\n",
    "\n",
    "---\n",
    "\n",
    "\n",
    "\n",
    "---\n",
    "\n",
    "\n",
    "\n",
    "> > > > > > > > > © 2023 Institute of Data\n",
    "\n",
    "\n",
    "---\n",
    "\n",
    "\n",
    "\n",
    "---\n",
    "\n",
    "\n",
    "\n"
   ]
  }
 ],
 "metadata": {
  "colab": {
   "provenance": []
  },
  "kernelspec": {
   "display_name": "Python 3 (ipykernel)",
   "language": "python",
   "name": "python3"
  },
  "language_info": {
   "codemirror_mode": {
    "name": "ipython",
    "version": 3
   },
   "file_extension": ".py",
   "mimetype": "text/x-python",
   "name": "python",
   "nbconvert_exporter": "python",
   "pygments_lexer": "ipython3",
   "version": "3.11.2"
  }
 },
 "nbformat": 4,
 "nbformat_minor": 1
}
