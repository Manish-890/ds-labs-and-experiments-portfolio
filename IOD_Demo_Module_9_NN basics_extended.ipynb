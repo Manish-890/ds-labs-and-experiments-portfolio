{
 "cells": [
  {
   "cell_type": "markdown",
   "metadata": {
    "id": "pIPm9vB0zJJr"
   },
   "source": [
    "<div>\n",
    "<img src=https://www.institutedata.com/wp-content/uploads/2019/10/iod_h_tp_primary_c.svg width=\"300\">\n",
    "</div>"
   ]
  },
  {
   "cell_type": "markdown",
   "metadata": {
    "id": "UIvDAg1hzJJv"
   },
   "source": [
    "# Demo 9: Neural Network Basics\n",
    "INSTRUCTIONS:\n",
    "- Run the cells\n",
    "- Observe and understand the results\n",
    "- Answer the questions\n",
    "\n",
    "\n",
    "NB: extended from the base version to further explain back propogation"
   ]
  },
  {
   "cell_type": "code",
   "execution_count": 1,
   "metadata": {
    "id": "e4lm0jNJzJJy"
   },
   "outputs": [],
   "source": [
    "import numpy as np\n",
    "\n",
    "%matplotlib inline\n",
    "import matplotlib.pyplot as plt"
   ]
  },
  {
   "cell_type": "markdown",
   "metadata": {
    "id": "DqNZIct0zJJ5"
   },
   "source": [
    "## Input data"
   ]
  },
  {
   "cell_type": "code",
   "execution_count": 2,
   "metadata": {
    "id": "S3o6mJagzJJ8"
   },
   "outputs": [],
   "source": [
    "# Input array\n",
    "X = np.array([\n",
    "  [1, 0, 1, 0],\n",
    "  [1, 0, 1, 1],\n",
    "  [0, 1, 0, 1]\n",
    "])\n",
    "\n",
    "# Output\n",
    "y = np.array([\n",
    "  [1],\n",
    "  [1],\n",
    "  [0]\n",
    "])\n",
    "\n",
    "# how many features are there?\n",
    "# how many observations are there?"
   ]
  },
  {
   "cell_type": "code",
   "execution_count": 3,
   "metadata": {
    "id": "vSmXPDoI1WpT"
   },
   "outputs": [],
   "source": [
    "#new set of data\n",
    "X = np.random.binomial(1, 0.7, (100, 2)) # values\n",
    "y = np.random.binomial(1, 0.5, (X.shape[0], 1)) # target\n",
    "\n",
    "input_layer_size = X.shape[1] # i.e. how many features are there?\n",
    "hidden_layer_1_size = 5"
   ]
  },
  {
   "cell_type": "markdown",
   "metadata": {
    "id": "tistFkGhzJKB"
   },
   "source": [
    "## Functions"
   ]
  },
  {
   "cell_type": "code",
   "execution_count": 4,
   "metadata": {
    "id": "hepFxOnazJKC"
   },
   "outputs": [],
   "source": [
    "# Sigmoid Function\n",
    "def sigmoid(x):\n",
    "    return 1 / (1 + np.exp(-x))\n",
    "\n",
    "# Derivative of Sigmoid Function\n",
    "def sigmoid_derivative(x):\n",
    "    return x * (1 - x)\n",
    "\n",
    "# ReLU Function\n",
    "def relu(x):\n",
    "    return max(0.0, x)\n",
    "\n",
    "# Derivative of ReLU Function\n",
    "def relu_derivative(x):\n",
    "    return 0 if x < 0 else 1"
   ]
  },
  {
   "cell_type": "markdown",
   "metadata": {
    "id": "dFwQNXRLzJKG"
   },
   "source": [
    "## Variable initialization"
   ]
  },
  {
   "cell_type": "code",
   "execution_count": 5,
   "metadata": {
    "id": "IoeDzszRzJKH"
   },
   "outputs": [],
   "source": [
    "# Setting training iterations\n",
    "epoch = 100  #one epoch represents forward and back propagation of all the data once\n",
    "# Setting learning rate \n",
    "lr = 0.1\n",
    "# number of features in data set\n",
    "input_layer_size = X.shape[1] \n",
    "# number of hidden layers neurons\n",
    "hidden_layer_1_size = 3 #3 neurons in the hidden layer \n",
    "# number of neurons at output layer\n",
    "output_layer_size = 1 #label"
   ]
  },
  {
   "cell_type": "markdown",
   "metadata": {
    "id": "uM_RRbVgzJKL"
   },
   "source": [
    "### Weights and Bias"
   ]
  },
  {
   "cell_type": "code",
   "execution_count": 6,
   "metadata": {
    "id": "kNlVDAqmzJKM"
   },
   "outputs": [],
   "source": [
    "# weight and bias initialization\n",
    "wh1 = np.random.uniform(size = (input_layer_size, hidden_layer_1_size)) # 7 features by 3 nodes, 1 weight for each\n",
    "bh1 = np.random.uniform(size = (1, hidden_layer_1_size)) # 1 bias term for each node, total of 3 weights\n",
    "wout = np.random.uniform(size = (hidden_layer_1_size, output_layer_size)) # 3 features from previous node, 1 output node\n",
    "bout = np.random.uniform(size = (1, output_layer_size)) # 1 bias term"
   ]
  },
  {
   "cell_type": "markdown",
   "metadata": {},
   "source": [
    "# Step Through a Batch"
   ]
  },
  {
   "cell_type": "code",
   "execution_count": 7,
   "metadata": {},
   "outputs": [
    {
     "name": "stdout",
     "output_type": "stream",
     "text": [
      "Here is our target for observation 1:  [0]\n",
      "Here are our features for observation 1:  [1 1]\n",
      "Here are our initial weights for input to hidden layer 1: \n",
      " [[0.51854868 0.64525547 0.07497496]\n",
      " [0.91011705 0.88022007 0.70574289]]\n",
      "Here are all the inputs to node 1 of hidden layer 1:  [0.51854868 0.91011705]\n",
      "Here is the output of the first hidden layer for the first sample:  [1.42866572 1.52547554 0.78071785]\n"
     ]
    }
   ],
   "source": [
    "cost = []\n",
    "# Forward Propagation\n",
    "print('Here is our target for observation 1: ',y[0])\n",
    "print('Here are our features for observation 1: ',X[0])\n",
    "print('Here are our initial weights for input to hidden layer 1: \\n',wh1)\n",
    "print('Here are all the inputs to node 1 of hidden layer 1: ',wh1[:,0])\n",
    "\n",
    "calc = np.dot(X[0], wh1)\n",
    "print('Here is the output of the first hidden layer for the first sample: ',calc)\n",
    "\n",
    "# do the nodes \"fire\"?"
   ]
  },
  {
   "cell_type": "code",
   "execution_count": 8,
   "metadata": {},
   "outputs": [
    {
     "name": "stdout",
     "output_type": "stream",
     "text": [
      "For node 1 in hidden layer 1....\n",
      "Sigmoid:  0.9088884848657961\n",
      "Relu:  2.3001382104242425\n",
      "For node 2 in hidden layer 1....\n",
      "Sigmoid:  0.8635369412341596\n",
      "Relu:  1.8449827312415832\n",
      "For node 3 in hidden layer 1....\n",
      "Sigmoid:  0.7075908157294714\n",
      "Relu:  0.8837118453985796\n"
     ]
    }
   ],
   "source": [
    "for i, val in enumerate(range(wh1.shape[1])):\n",
    "    print('For node {} in hidden layer 1....'.format(i+1))\n",
    "    node_h1_1 = sigmoid(calc[i]+bh1[0][i])\n",
    "    print('Sigmoid: ',node_h1_1)\n",
    "    \n",
    "    node_h1_1 = relu(calc[i]+bh1[0][i])\n",
    "    print('Relu: ',node_h1_1)\n",
    "    \n",
    "    # get the sigmoid activiation function result for sample 0\n",
    "    hidden_layer_1_activation = sigmoid(calc+bh1) # weight * feature + bias"
   ]
  },
  {
   "cell_type": "code",
   "execution_count": 9,
   "metadata": {},
   "outputs": [
    {
     "name": "stdout",
     "output_type": "stream",
     "text": [
      "Loss: [-0.67240512]\n",
      "Predicted class: 1.0\n"
     ]
    }
   ],
   "source": [
    "# next, output layer\n",
    "output_layer = np.dot(hidden_layer_1_activation, wout)\n",
    "output_layer = output_layer + bout\n",
    "output = sigmoid(output_layer)\n",
    "\n",
    "loss =  y[0]-output[0][0]\n",
    "print('Loss: {}'.format(loss))\n",
    "print('Predicted class: {}'.format(round(output[0][0],0)))\n"
   ]
  },
  {
   "cell_type": "markdown",
   "metadata": {},
   "source": [
    "# Back propogate loss\n",
    "\n",
    "Before we do this, lets consider some options for evaluating our weights and deciding how to improve them.\n",
    "\n",
    "1. Randomly adjust the weights by a small amount a measure progress. Reverse direction of the loss gets worse\n",
    "We might eventually hit upon a decent set of weights but we are just as likely to endlessly search for optimaly weights.\n",
    "\n",
    "1. Adjust the weights a little in both directions. Move in the direction that results in the lowest error\n",
    "We have at least two problems here. First, it requires doing two calculations for every weight, then make a prediction on change 1 (negative) then again on change 2 (positive) then deciding which way to go. Second, what if the best direction is a COMBINATION where some weights increase and some decrease?\n",
    "\n",
    "2. Take the derivative of  "
   ]
  },
  {
   "cell_type": "code",
   "execution_count": 10,
   "metadata": {},
   "outputs": [],
   "source": [
    "# use this example: https://mattmazur.com/2015/03/17/a-step-by-step-backpropagation-example/"
   ]
  },
  {
   "cell_type": "code",
   "execution_count": null,
   "metadata": {},
   "outputs": [],
   "source": []
  },
  {
   "cell_type": "code",
   "execution_count": 17,
   "metadata": {},
   "outputs": [
    {
     "data": {
      "image/png": "[encoded data removed]",
      "text/plain": [
       "<Figure size 640x480 with 1 Axes>"
      ]
     },
     "metadata": {},
     "output_type": "display_data"
    }
   ],
   "source": [
    "# Define the sigmoid activation function\n",
    "def sigmoid(x):\n",
    "    return 1 / (1 + np.exp(-x))\n",
    "\n",
    "# Define the derivative of the sigmoid function\n",
    "def sigmoid_derivative(x):\n",
    "    return sigmoid(x) * (1 - sigmoid(x))\n",
    "\n",
    "# Define the neural network\n",
    "class NeuralNetwork:\n",
    "    def __init__(self):\n",
    "        # Define the network architecture\n",
    "        self.input_size = 2\n",
    "        self.hidden_size = 3\n",
    "        self.output_size = 1\n",
    "\n",
    "        # Initialize the weights and biases randomly\n",
    "        self.W1 = np.random.randn(self.input_size, self.hidden_size)\n",
    "        self.b1 = np.random.randn(self.hidden_size)\n",
    "        self.W2 = np.random.randn(self.hidden_size, self.output_size)\n",
    "        self.b2 = np.random.randn(self.output_size)\n",
    "\n",
    "    def forward(self, X):\n",
    "        # Forward pass\n",
    "        self.z1 = np.dot(X, self.W1) + self.b1\n",
    "        self.a1 = sigmoid(self.z1)\n",
    "        self.z2 = np.dot(self.a1, self.W2) + self.b2\n",
    "        self.output = sigmoid(self.z2)\n",
    "\n",
    "    def backward(self, X, y):\n",
    "        # Backward pass\n",
    "        self.loss = np.mean((self.output - y) ** 2)\n",
    "\n",
    "        # Calculate gradients\n",
    "        delta2 = 2 * (self.output - y) * sigmoid_derivative(self.z2) # derivative of the output\n",
    "        dW2 = np.dot(self.a1.T, delta2) \n",
    "        db2 = np.sum(delta2, axis=0)\n",
    "        delta1 = np.dot(delta2, self.W2.T) * sigmoid_derivative(self.z1) # derivative of the hidden layer\n",
    "        dW1 = np.dot(X.T, delta1)  # derivative of the hidden layer\n",
    "        db1 = np.sum(delta1, axis=0)\n",
    "\n",
    "        # Update weights and biases\n",
    "        learning_rate = 0.1\n",
    "        self.W2 -= learning_rate * dW2 # \"-=\" in place subtraction like \"+=\"\n",
    "        self.b2 -= learning_rate * db2\n",
    "        self.W1 -= learning_rate * dW1\n",
    "        self.b1 -= learning_rate * db1\n",
    "\n",
    "    def train(self, X, y, num_epochs):\n",
    "        loss_history = []\n",
    "\n",
    "        for epoch in range(num_epochs):\n",
    "            self.forward(X)\n",
    "            self.backward(X, y)\n",
    "            loss_history.append(self.loss)\n",
    "\n",
    "        return loss_history\n",
    "\n",
    "# Create an instance of the neural network\n",
    "nn = NeuralNetwork()\n",
    "\n",
    "# Train the neural network\n",
    "num_epochs = 50\n",
    "loss_history = nn.train(X, y, num_epochs)\n",
    "\n",
    "# Plot the loss history\n",
    "plt.plot(loss_history)\n",
    "plt.xlabel('Epoch')\n",
    "plt.ylabel('Loss')\n",
    "plt.title('Loss History')\n",
    "plt.show()"
   ]
  },
  {
   "cell_type": "markdown",
   "metadata": {},
   "source": [
    "# Mnist example"
   ]
  },
  {
   "cell_type": "code",
   "execution_count": 18,
   "metadata": {},
   "outputs": [],
   "source": [
    "import tensorflow as tf\n",
    "from tensorflow import keras\n",
    "from keras.metrics import AUC\n",
    "from keras.losses import categorical_crossentropy # Common for multi class problems (vs multi label). \n",
    "                                                # Compares actual distribution over classes to predicted distribution\n",
    "# for converting features to images    \n",
    "from PIL import Image"
   ]
  },
  {
   "cell_type": "code",
   "execution_count": 19,
   "metadata": {},
   "outputs": [
    {
     "name": "stdout",
     "output_type": "stream",
     "text": [
      "Downloading data from https://storage.googleapis.com/tensorflow/tf-keras-datasets/mnist.npz\n",
      "11490434/11490434 [==============================] - 2s 0us/step\n"
     ]
    }
   ],
   "source": [
    "mnist = keras.datasets.mnist\n",
    "(x_train, y_train), (x_test, y_test) = mnist.load_data()"
   ]
  },
  {
   "cell_type": "code",
   "execution_count": 20,
   "metadata": {},
   "outputs": [],
   "source": [
    "# generate a few images\n",
    "num_samples = 5\n",
    "sample_indices = np.random.choice(x_train.shape[0], num_samples, replace=False)\n",
    "samples = x_train[sample_indices]\n",
    "\n",
    "# Reshape and save as .jpg files\n",
    "for i, sample in enumerate(samples):\n",
    "    # Reshape the flattened image to 28x28\n",
    "    image = sample.reshape((28, 28)).astype('uint8')\n",
    "\n",
    "    # Create a PIL Image object\n",
    "    pil_image = Image.fromarray(image)\n",
    "\n",
    "    # Save as .jpg file\n",
    "    filename = \"sample_{}.jpg\".format(i+1)\n",
    "    pil_image.save(filename)"
   ]
  },
  {
   "cell_type": "markdown",
   "metadata": {},
   "source": [
    "<!-- Displaying the first image -->\n",
    "![Sample 1](sample_1.jpg)\n",
    "\n",
    "<!-- Displaying the second image -->\n",
    "![Sample 2](sample_2.jpg)\n",
    "\n",
    "<!-- Displaying the third image -->\n",
    "![Sample 3](sample_3.jpg)\n",
    "\n",
    "<!-- Displaying the fourth image -->\n",
    "![Sample 4](sample_4.jpg)\n",
    "\n",
    "<!-- Displaying the fifth image -->\n",
    "![Sample 5](sample_5.jpg)"
   ]
  },
  {
   "cell_type": "markdown",
   "metadata": {},
   "source": [
    "## Prepare image data"
   ]
  },
  {
   "cell_type": "markdown",
   "metadata": {},
   "source": [
    "Reshape the data to be tabular by:\n",
    "\n",
    "1. Flattening the 28 by 28 pixel images into a single row of 784 features each representing 1 pixel\n",
    "1. Min Max scaling the pixel values: The pixel values range from 0 to 255, where 0 is black and 255 is white. Dividing each pixel value by 255 brings the values to a range between 0 and 1. Normalizing the input data helps in stabilizing the learning process of the neural network, as it ensures that the inputs are of a similar scale and prevents any particular feature from dominating the learning process.\n",
    "\n",
    "Note: this Min Max Scaling could also be called Normalizing as the approach is identical for all rows and all columns (/255)"
   ]
  },
  {
   "cell_type": "code",
   "execution_count": 21,
   "metadata": {},
   "outputs": [],
   "source": [
    "x_train = x_train.reshape((60000, 28 * 28))\n",
    "x_train = x_train.astype('float32') / 255\n",
    "\n",
    "x_test = x_test.reshape((10000, 28 * 28))\n",
    "x_test = x_test.astype('float32') / 255\n",
    "\n",
    "y_train = keras.utils.to_categorical(y_train)\n",
    "y_test = keras.utils.to_categorical(y_test)"
   ]
  },
  {
   "cell_type": "code",
   "execution_count": 22,
   "metadata": {},
   "outputs": [],
   "source": [
    "# define model\n",
    "model = keras.Sequential()\n",
    "model.add(keras.layers.Dense(512, activation='relu', input_shape=(x_train.shape[1],)))\n",
    "model.add(keras.layers.Dense(10, activation='softmax'))\n",
    "\n",
    "model.compile(optimizer='adam', loss=categorical_crossentropy, metrics=['accuracy','AUC'])"
   ]
  },
  {
   "cell_type": "code",
   "execution_count": 23,
   "metadata": {},
   "outputs": [
    {
     "name": "stdout",
     "output_type": "stream",
     "text": [
      "Epoch 1/5\n",
      "469/469 [==============================] - 7s 10ms/step - loss: 0.2679 - accuracy: 0.9246 - auc: 0.9946\n",
      "Epoch 2/5\n",
      "469/469 [==============================] - 4s 9ms/step - loss: 0.1093 - accuracy: 0.9681 - auc: 0.9986\n",
      "Epoch 3/5\n",
      "469/469 [==============================] - 4s 9ms/step - loss: 0.0707 - accuracy: 0.9790 - auc: 0.9992\n",
      "Epoch 4/5\n",
      "469/469 [==============================] - 5s 10ms/step - loss: 0.0498 - accuracy: 0.9853 - auc: 0.9996\n",
      "Epoch 5/5\n",
      "469/469 [==============================] - 4s 9ms/step - loss: 0.0367 - accuracy: 0.9895 - auc: 0.9998\n"
     ]
    },
    {
     "data": {
      "text/plain": [
       "<keras.callbacks.History at 0x2228b24f610>"
      ]
     },
     "execution_count": 23,
     "metadata": {},
     "output_type": "execute_result"
    }
   ],
   "source": [
    "# fit model using batch sizes of 128 and evaluate over 5 epochs (5 times through the whole training data)\n",
    "model.fit(x_train, y_train, epochs=5, batch_size=128)"
   ]
  },
  {
   "cell_type": "code",
   "execution_count": 24,
   "metadata": {},
   "outputs": [
    {
     "name": "stdout",
     "output_type": "stream",
     "text": [
      "313/313 [==============================] - 2s 5ms/step - loss: 0.0623 - accuracy: 0.9816 - auc: 0.9991\n"
     ]
    },
    {
     "ename": "ValueError",
     "evalue": "too many values to unpack (expected 2)",
     "output_type": "error",
     "traceback": [
      "\u001b[1;31m---------------------------------------------------------------------------\u001b[0m",
      "\u001b[1;31mValueError\u001b[0m                                Traceback (most recent call last)",
      "Cell \u001b[1;32mIn[24], line 1\u001b[0m\n\u001b[1;32m----> 1\u001b[0m loss, accuracy \u001b[38;5;241m=\u001b[39m model\u001b[38;5;241m.\u001b[39mevaluate(x_test, y_test)\n\u001b[0;32m      2\u001b[0m \u001b[38;5;28mprint\u001b[39m(\u001b[38;5;124m'\u001b[39m\u001b[38;5;124mTest loss: \u001b[39m\u001b[38;5;132;01m{:.4f}\u001b[39;00m\u001b[38;5;124m'\u001b[39m\u001b[38;5;241m.\u001b[39mformat(loss)) \u001b[38;5;66;03m# what is the difference between this and accuracy?\u001b[39;00m\n\u001b[0;32m      3\u001b[0m \u001b[38;5;28mprint\u001b[39m(\u001b[38;5;124m'\u001b[39m\u001b[38;5;124mTest accuracy: \u001b[39m\u001b[38;5;132;01m{:.4f}\u001b[39;00m\u001b[38;5;124m'\u001b[39m\u001b[38;5;241m.\u001b[39mformat(accuracy))\n",
      "\u001b[1;31mValueError\u001b[0m: too many values to unpack (expected 2)"
     ]
    }
   ],
   "source": [
    "loss, accuracy = model.evaluate(x_test, y_test)\n",
    "print('Test loss: {:.4f}'.format(loss)) # what is the difference between this and accuracy?\n",
    "print('Test accuracy: {:.4f}'.format(accuracy))"
   ]
  },
  {
   "cell_type": "code",
   "execution_count": null,
   "metadata": {},
   "outputs": [],
   "source": []
  }
 ],
 "metadata": {
  "colab": {
   "provenance": []
  },
  "kernelspec": {
   "display_name": "Python 3 (ipykernel)",
   "language": "python",
   "name": "python3"
  },
  "language_info": {
   "codemirror_mode": {
    "name": "ipython",
    "version": 3
   },
   "file_extension": ".py",
   "mimetype": "text/x-python",
   "name": "python",
   "nbconvert_exporter": "python",
   "pygments_lexer": "ipython3",
   "version": "3.9.16"
  }
 },
 "nbformat": 4,
 "nbformat_minor": 1
}
