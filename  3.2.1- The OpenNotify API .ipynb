{
 "cells": [
  {
   "cell_type": "markdown",
   "metadata": {
    "id": "fneIB8BIGtiY"
   },
   "source": [
    "<div>\n",
    "<img src=https://www.institutedata.com/wp-content/uploads/2019/10/iod_h_tp_primary_c.svg width=\"300\">\n",
    "</div>"
   ]
  },
  {
   "cell_type": "markdown",
   "metadata": {
    "id": "rdipUchUGtih"
   },
   "source": [
    " \n",
    "# *Querying the International Space Station*"
   ]
  },
  {
   "cell_type": "markdown",
   "metadata": {
    "id": "b2RLpeJNGtil"
   },
   "source": [
    "## The OpenNotify API"
   ]
  },
  {
   "cell_type": "markdown",
   "metadata": {
    "id": "rrunXmMNGtip"
   },
   "source": [
    "The OpenNotify API exposes a few attributes of the International Space Station (ISS) via a simple, authentication-free interface. The simplicity of this API precludes any need for a dedicated Python library. However, as with many APIs, it accepts requests according to HTTP standards and returns responses in JSON format, so the Python libraries request and json will make managing the I/O simpler still."
   ]
  },
  {
   "cell_type": "code",
   "execution_count": 24,
   "metadata": {
    "id": "xz4PaIIjGtis"
   },
   "outputs": [],
   "source": [
    "import numpy as np\n",
    "import requests\n",
    "import json\n",
    "from datetime import datetime, date, time"
   ]
  },
  {
   "cell_type": "markdown",
   "metadata": {
    "id": "tE2vsQo3Gti0"
   },
   "source": [
    "This request fetches the latest position of the international space station:"
   ]
  },
  {
   "cell_type": "code",
   "execution_count": 2,
   "metadata": {
    "id": "bXBJ6YSPGti3"
   },
   "outputs": [],
   "source": [
    "response = requests.get(\"http://api.open-notify.org/iss-now.json\")"
   ]
  },
  {
   "cell_type": "markdown",
   "metadata": {
    "id": "wTbnWjPGGti-"
   },
   "source": [
    "Print the status code and text of the response:"
   ]
  },
  {
   "cell_type": "code",
   "execution_count": 4,
   "metadata": {
    "colab": {
     "base_uri": "https://localhost:8080/"
    },
    "executionInfo": {
     "elapsed": 349,
     "status": "ok",
     "timestamp": 1656486719496,
     "user": {
      "displayName": "Muru Raj",
      "userId": "16263509272652930332"
     },
     "user_tz": -480
    },
    "id": "_I6hU3-AGtjA",
    "outputId": "063d1285-3a8f-409a-aed5-76511912fb1c"
   },
   "outputs": [
    {
     "data": {
      "text/plain": [
       "{'timestamp': 1682113597,\n",
       " 'iss_position': {'latitude': '4.5712', 'longitude': '74.7160'},\n",
       " 'message': 'success'}"
      ]
     },
     "execution_count": 4,
     "metadata": {},
     "output_type": "execute_result"
    }
   ],
   "source": [
    "#ANSWER\n",
    "response.json()"
   ]
  },
  {
   "cell_type": "code",
   "execution_count": 6,
   "metadata": {
    "colab": {
     "base_uri": "https://localhost:8080/"
    },
    "executionInfo": {
     "elapsed": 324,
     "status": "ok",
     "timestamp": 1656486759324,
     "user": {
      "displayName": "Muru Raj",
      "userId": "16263509272652930332"
     },
     "user_tz": -480
    },
    "id": "-WdeRA2iTYNy",
    "outputId": "ce58f787-ddf2-41e3-fa25-169380a569f6"
   },
   "outputs": [],
   "source": [
    "#ANSWER\n"
   ]
  },
  {
   "cell_type": "markdown",
   "metadata": {
    "id": "eiziNer-GtjF"
   },
   "source": [
    "We can use another API to request the current position of the ISS and the next few times at which it will be over a certain location. The latitude and longitude of Sydney are (-33.87, 151.21)."
   ]
  },
  {
   "cell_type": "code",
   "execution_count": 7,
   "metadata": {
    "id": "2XZ-ygFkGtjH"
   },
   "outputs": [],
   "source": [
    "response = requests.get(\"https://api.g7vrd.co.uk/v1/satellite-passes/25544/-33.87/151.21.json?minelevation=0&hours=24\")"
   ]
  },
  {
   "cell_type": "markdown",
   "metadata": {
    "id": "aEl3pwmHGtjN"
   },
   "source": [
    "Print the response header:"
   ]
  },
  {
   "cell_type": "code",
   "execution_count": 8,
   "metadata": {
    "id": "6rsz7gwbGtjP"
   },
   "outputs": [
    {
     "name": "stdout",
     "output_type": "stream",
     "text": [
      "{'Date': 'Sat, 22 Apr 2023 02:52:53 GMT', 'Server': 'Apache', 'Vary': 'Origin,Access-Control-Request-Method,Access-Control-Request-Headers', 'Access-Control-Allow-Origin': '*', 'X-Content-Type-Options': 'nosniff', 'X-XSS-Protection': '1; mode=block', 'Cache-Control': 'no-cache, no-store, max-age=0, must-revalidate', 'Pragma': 'no-cache', 'Expires': '0', 'X-Frame-Options': 'DENY', 'Content-Type': 'application/json', 'Keep-Alive': 'timeout=5, max=100', 'Connection': 'Keep-Alive', 'Transfer-Encoding': 'chunked'}\n"
     ]
    }
   ],
   "source": [
    "#ANSWER\n",
    "header=response.headers\n",
    "print(header)"
   ]
  },
  {
   "cell_type": "markdown",
   "metadata": {
    "id": "W6tqlzySGtjR"
   },
   "source": [
    "Print the content of the response (the data that the server returned):"
   ]
  },
  {
   "cell_type": "code",
   "execution_count": 10,
   "metadata": {
    "id": "HbxepzDZGtjS"
   },
   "outputs": [
    {
     "name": "stdout",
     "output_type": "stream",
     "text": [
      "b'{\"api_status\":\"ALPHA\",\"request_timestamp\":\"2023-04-22T02:52:53.275393051Z\",\"norad_id\":25544,\"satellite_name\":\"ISS\",\"tle_last_retrieved\":\"2023-04-21T20:50:51.542342724Z\",\"lat\":-33.87,\"lon\":151.21,\"hours\":24,\"min_elevation\":0,\"query_ms\":14,\"passes\":[{\"start\":\"2023-04-22T04:47:28.261Z\",\"tca\":\"2023-04-22T04:50:58.261Z\",\"end\":\"2023-04-22T04:54:58.261Z\",\"aos_azimuth\":12,\"los_azimuth\":100,\"max_elevation\":6.0},{\"start\":\"2023-04-22T06:22:03.261Z\",\"tca\":\"2023-04-22T06:27:33.261Z\",\"end\":\"2023-04-22T06:32:58.261Z\",\"aos_azimuth\":313,\"los_azimuth\":133,\"max_elevation\":79.0},{\"start\":\"2023-04-22T08:00:03.261Z\",\"tca\":\"2023-04-22T08:04:33.261Z\",\"end\":\"2023-04-22T08:09:13.261Z\",\"aos_azimuth\":263,\"los_azimuth\":149,\"max_elevation\":12.0},{\"start\":\"2023-04-22T09:39:53.261Z\",\"tca\":\"2023-04-22T09:42:53.261Z\",\"end\":\"2023-04-22T09:45:48.261Z\",\"aos_azimuth\":219,\"los_azimuth\":153,\"max_elevation\":3.0},{\"start\":\"2023-04-22T11:17:48.261Z\",\"tca\":\"2023-04-22T11:21:18.261Z\",\"end\":\"2023-04-22T11:24:48.261Z\",\"aos_azimuth\":204,\"los_azimuth\":125,\"max_elevation\":5.0},{\"start\":\"2023-04-22T12:54:03.261Z\",\"tca\":\"2023-04-22T12:59:03.261Z\",\"end\":\"2023-04-22T13:04:18.261Z\",\"aos_azimuth\":214,\"los_azimuth\":77,\"max_elevation\":21.0},{\"start\":\"2023-04-22T14:30:38.261Z\",\"tca\":\"2023-04-22T14:36:08.261Z\",\"end\":\"2023-04-22T14:41:18.261Z\",\"aos_azimuth\":235,\"los_azimuth\":27,\"max_elevation\":34.0},{\"start\":\"2023-04-23T04:01:08.261Z\",\"tca\":\"2023-04-23T04:03:08.261Z\",\"end\":\"2023-04-23T04:04:53.261Z\",\"aos_azimuth\":38,\"los_azimuth\":80,\"max_elevation\":1.0}]}'\n"
     ]
    }
   ],
   "source": [
    "#ANSWER\n",
    "content= response.content\n",
    "print(content)"
   ]
  },
  {
   "cell_type": "markdown",
   "metadata": {
    "id": "N7tHPQzDGtjU"
   },
   "source": [
    "Note that this is a Python byte string:"
   ]
  },
  {
   "cell_type": "code",
   "execution_count": 11,
   "metadata": {
    "id": "k8AMo0yWGtjV"
   },
   "outputs": [
    {
     "name": "stdout",
     "output_type": "stream",
     "text": [
      "<class 'bytes'>\n"
     ]
    }
   ],
   "source": [
    "print(type(response.content))"
   ]
  },
  {
   "cell_type": "markdown",
   "metadata": {
    "id": "5tvv9ht_GtjX"
   },
   "source": [
    "Print just the \"content-type\" value from the header:"
   ]
  },
  {
   "cell_type": "code",
   "execution_count": 12,
   "metadata": {
    "id": "nxWxxLI7GtjX"
   },
   "outputs": [
    {
     "name": "stdout",
     "output_type": "stream",
     "text": [
      "application/json\n"
     ]
    }
   ],
   "source": [
    "#ANSWER\n",
    "content_type= response.headers['content-type']\n",
    "print(content_type)"
   ]
  },
  {
   "cell_type": "markdown",
   "metadata": {
    "id": "7lPlgn_hGtjZ"
   },
   "source": [
    "JSON was designed to be easy for computers to read, not for people. The `requests` library can decode the JSON byte string:"
   ]
  },
  {
   "cell_type": "code",
   "execution_count": 13,
   "metadata": {
    "id": "nGVtgDaqGtja"
   },
   "outputs": [
    {
     "name": "stdout",
     "output_type": "stream",
     "text": [
      "{'api_status': 'ALPHA', 'request_timestamp': '2023-04-22T02:52:53.275393051Z', 'norad_id': 25544, 'satellite_name': 'ISS', 'tle_last_retrieved': '2023-04-21T20:50:51.542342724Z', 'lat': -33.87, 'lon': 151.21, 'hours': 24, 'min_elevation': 0, 'query_ms': 14, 'passes': [{'start': '2023-04-22T04:47:28.261Z', 'tca': '2023-04-22T04:50:58.261Z', 'end': '2023-04-22T04:54:58.261Z', 'aos_azimuth': 12, 'los_azimuth': 100, 'max_elevation': 6.0}, {'start': '2023-04-22T06:22:03.261Z', 'tca': '2023-04-22T06:27:33.261Z', 'end': '2023-04-22T06:32:58.261Z', 'aos_azimuth': 313, 'los_azimuth': 133, 'max_elevation': 79.0}, {'start': '2023-04-22T08:00:03.261Z', 'tca': '2023-04-22T08:04:33.261Z', 'end': '2023-04-22T08:09:13.261Z', 'aos_azimuth': 263, 'los_azimuth': 149, 'max_elevation': 12.0}, {'start': '2023-04-22T09:39:53.261Z', 'tca': '2023-04-22T09:42:53.261Z', 'end': '2023-04-22T09:45:48.261Z', 'aos_azimuth': 219, 'los_azimuth': 153, 'max_elevation': 3.0}, {'start': '2023-04-22T11:17:48.261Z', 'tca': '2023-04-22T11:21:18.261Z', 'end': '2023-04-22T11:24:48.261Z', 'aos_azimuth': 204, 'los_azimuth': 125, 'max_elevation': 5.0}, {'start': '2023-04-22T12:54:03.261Z', 'tca': '2023-04-22T12:59:03.261Z', 'end': '2023-04-22T13:04:18.261Z', 'aos_azimuth': 214, 'los_azimuth': 77, 'max_elevation': 21.0}, {'start': '2023-04-22T14:30:38.261Z', 'tca': '2023-04-22T14:36:08.261Z', 'end': '2023-04-22T14:41:18.261Z', 'aos_azimuth': 235, 'los_azimuth': 27, 'max_elevation': 34.0}, {'start': '2023-04-23T04:01:08.261Z', 'tca': '2023-04-23T04:03:08.261Z', 'end': '2023-04-23T04:04:53.261Z', 'aos_azimuth': 38, 'los_azimuth': 80, 'max_elevation': 1.0}]}\n"
     ]
    }
   ],
   "source": [
    "overheads = response.json()\n",
    "print(overheads)"
   ]
  },
  {
   "cell_type": "markdown",
   "metadata": {
    "id": "l9GOdNK5Gtjc"
   },
   "source": [
    "What kind of object did this give us?"
   ]
  },
  {
   "cell_type": "markdown",
   "metadata": {
    "id": "JBS4nRmSGtjd"
   },
   "source": [
    "#ANSWER:\n",
    "**This gave us the dictionaries**"
   ]
  },
  {
   "cell_type": "markdown",
   "metadata": {
    "id": "2ZYJabXQGtjg"
   },
   "source": [
    "Python dicts are easier to work with, but the data we want is still buried in that data structure, so we have to dig it out. First, extract the passes value to a separate list called passes' instead :"
   ]
  },
  {
   "cell_type": "code",
   "execution_count": 22,
   "metadata": {
    "id": "0u8LZg4dGtjh"
   },
   "outputs": [
    {
     "name": "stdout",
     "output_type": "stream",
     "text": [
      "[{'start': '2023-04-22T04:47:28.261Z', 'tca': '2023-04-22T04:50:58.261Z', 'end': '2023-04-22T04:54:58.261Z', 'aos_azimuth': 12, 'los_azimuth': 100, 'max_elevation': 6.0}, {'start': '2023-04-22T06:22:03.261Z', 'tca': '2023-04-22T06:27:33.261Z', 'end': '2023-04-22T06:32:58.261Z', 'aos_azimuth': 313, 'los_azimuth': 133, 'max_elevation': 79.0}, {'start': '2023-04-22T08:00:03.261Z', 'tca': '2023-04-22T08:04:33.261Z', 'end': '2023-04-22T08:09:13.261Z', 'aos_azimuth': 263, 'los_azimuth': 149, 'max_elevation': 12.0}, {'start': '2023-04-22T09:39:53.261Z', 'tca': '2023-04-22T09:42:53.261Z', 'end': '2023-04-22T09:45:48.261Z', 'aos_azimuth': 219, 'los_azimuth': 153, 'max_elevation': 3.0}, {'start': '2023-04-22T11:17:48.261Z', 'tca': '2023-04-22T11:21:18.261Z', 'end': '2023-04-22T11:24:48.261Z', 'aos_azimuth': 204, 'los_azimuth': 125, 'max_elevation': 5.0}, {'start': '2023-04-22T12:54:03.261Z', 'tca': '2023-04-22T12:59:03.261Z', 'end': '2023-04-22T13:04:18.261Z', 'aos_azimuth': 214, 'los_azimuth': 77, 'max_elevation': 21.0}, {'start': '2023-04-22T14:30:38.261Z', 'tca': '2023-04-22T14:36:08.261Z', 'end': '2023-04-22T14:41:18.261Z', 'aos_azimuth': 235, 'los_azimuth': 27, 'max_elevation': 34.0}, {'start': '2023-04-23T04:01:08.261Z', 'tca': '2023-04-23T04:03:08.261Z', 'end': '2023-04-23T04:04:53.261Z', 'aos_azimuth': 38, 'los_azimuth': 80, 'max_elevation': 1.0}]\n"
     ]
    }
   ],
   "source": [
    "#ANSWER:\n",
    "passes= overheads['passes']\n",
    "print(passes)"
   ]
  },
  {
   "cell_type": "markdown",
   "metadata": {
    "id": "hMHzLrfoGtjj"
   },
   "source": [
    "Now extract the `start` strings into an array called `srisetimes`:"
   ]
  },
  {
   "cell_type": "code",
   "execution_count": 26,
   "metadata": {
    "id": "nXqJ8_F2Gtjj"
   },
   "outputs": [
    {
     "name": "stdout",
     "output_type": "stream",
     "text": [
      "['2023-04-22T04:47:28.261Z', '2023-04-22T06:22:03.261Z', '2023-04-22T08:00:03.261Z', '2023-04-22T09:39:53.261Z', '2023-04-22T11:17:48.261Z', '2023-04-22T12:54:03.261Z', '2023-04-22T14:30:38.261Z', '2023-04-23T04:01:08.261Z']\n"
     ]
    }
   ],
   "source": [
    "#ANSWER:\n",
    "srisetimes=[x['start'] for x in passes]\n",
    "print(srisetimes)"
   ]
  },
  {
   "cell_type": "markdown",
   "metadata": {
    "id": "RItuBRt-Gtjl"
   },
   "source": [
    "These are strings. We convert these to an array of Python `datetime` values called `risetimes`:"
   ]
  },
  {
   "cell_type": "code",
   "execution_count": 32,
   "metadata": {
    "id": "8rzyAcLTGtjm"
   },
   "outputs": [],
   "source": [
    "risetimes = [datetime.strptime(xpass['start'], \"%Y-%m-%dT%H:%M:%S.%fZ\") for xpass in passes]\n"
   ]
  },
  {
   "cell_type": "markdown",
   "metadata": {
    "id": "l1EmKOFqGtjn"
   },
   "source": [
    "Finally, use `risetime.strftime` to print these in a format that people understand:\n",
    "\n",
    "```\n",
    "e.g.\n",
    "18/10/22 07:05\n",
    "18/10/22 08:41\n",
    "18/10/22 10:20\n",
    "18/10/22 12:00\n",
    "18/10/22 01:37\n",
    "18/10/22 03:13\n",
    "```\n",
    "\n"
   ]
  },
  {
   "cell_type": "code",
   "execution_count": 33,
   "metadata": {
    "id": "AkBE76VqGtjo"
   },
   "outputs": [
    {
     "name": "stdout",
     "output_type": "stream",
     "text": [
      "22/04/23 04:47 AM\n",
      "22/04/23 06:22 AM\n",
      "22/04/23 08:00 AM\n",
      "22/04/23 09:39 AM\n",
      "22/04/23 11:17 AM\n",
      "22/04/23 12:54 PM\n",
      "22/04/23 02:30 PM\n",
      "23/04/23 04:01 AM\n"
     ]
    }
   ],
   "source": [
    "#ANSWER:\n",
    "for rt in risetimes:\n",
    "    print(rt.strftime('%d/%m/%y %I:%M %p'))"
   ]
  },
  {
   "cell_type": "markdown",
   "metadata": {
    "id": "iNm6GjX3Gtjq"
   },
   "source": [
    "Finally, here is an endpoint that tells us who is on board:"
   ]
  },
  {
   "cell_type": "code",
   "execution_count": 30,
   "metadata": {
    "id": "12yXs_OgGtjs"
   },
   "outputs": [],
   "source": [
    "response = requests.get(\"http://api.open-notify.org/astros.json\")"
   ]
  },
  {
   "cell_type": "markdown",
   "metadata": {
    "id": "0Np4S0aAGtj0"
   },
   "source": [
    "Referring to the methods used above, extract the number of astronauts and their names:"
   ]
  },
  {
   "cell_type": "code",
   "execution_count": 45,
   "metadata": {
    "id": "Oqx5L19_Gtj1"
   },
   "outputs": [
    {
     "name": "stdout",
     "output_type": "stream",
     "text": [
      "Number of astronauts: 10\n",
      "Astronaut_name\n"
     ]
    }
   ],
   "source": [
    "#ANSWER:\n",
    "data=response.json()\n",
    "number_of_austronauts= data['number']\n",
    "austronaut_name=[austronaut['name'] for austronaut in data['people']]\n",
    "print(f\"Number of astronauts: {number_of_austronauts}\")\n",
    "print(\"Astronaut_name\")\n"
   ]
  },
  {
   "cell_type": "markdown",
   "metadata": {
    "id": "k0AWq0rIIPza"
   },
   "source": [
    ">"
   ]
  },
  {
   "cell_type": "markdown",
   "metadata": {
    "id": "561tVw5LITP8"
   },
   "source": [
    ">"
   ]
  },
  {
   "cell_type": "markdown",
   "metadata": {
    "id": "H8Z7AkhTIUi3"
   },
   "source": [
    ">"
   ]
  },
  {
   "cell_type": "markdown",
   "metadata": {
    "id": "2lHXfE7KIHQp"
   },
   "source": [
    "\n",
    "\n",
    "---\n",
    "\n",
    "\n",
    "\n",
    "---\n",
    "\n",
    "\n",
    "\n",
    "> > > > > > > > > © 2022 Institute of Data\n",
    "\n",
    "\n",
    "---\n",
    "\n",
    "\n",
    "\n",
    "---\n",
    "\n",
    "\n",
    "\n"
   ]
  }
 ],
 "metadata": {
  "colab": {
   "provenance": [
    {
     "file_id": "1RknypYS3TD4wPumGiPV69EWtkq-3UBwF",
     "timestamp": 1553136072736
    }
   ]
  },
  "kernelspec": {
   "display_name": "Python 3 (ipykernel)",
   "language": "python",
   "name": "python3"
  },
  "language_info": {
   "codemirror_mode": {
    "name": "ipython",
    "version": 3
   },
   "file_extension": ".py",
   "mimetype": "text/x-python",
   "name": "python",
   "nbconvert_exporter": "python",
   "pygments_lexer": "ipython3",
   "version": "3.11.2"
  }
 },
 "nbformat": 4,
 "nbformat_minor": 1
}
